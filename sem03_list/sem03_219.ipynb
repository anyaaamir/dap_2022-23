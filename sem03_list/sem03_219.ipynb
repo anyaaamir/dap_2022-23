{
 "cells": [
  {
   "cell_type": "markdown",
   "id": "6db39f65",
   "metadata": {},
   "source": [
    "# while"
   ]
  },
  {
   "cell_type": "code",
   "execution_count": 1,
   "id": "31f908c4",
   "metadata": {},
   "outputs": [
    {
     "name": "stdout",
     "output_type": "stream",
     "text": [
      "0\n",
      "1\n",
      "2\n",
      "3\n",
      "4\n"
     ]
    }
   ],
   "source": [
    "i = 0\n",
    "while i < 10:\n",
    "    print(i)\n",
    "    # i = i + 1\n",
    "    i += 1\n",
    "    if i == 5:\n",
    "        break"
   ]
  },
  {
   "cell_type": "code",
   "execution_count": 2,
   "id": "87948b74",
   "metadata": {},
   "outputs": [
    {
     "name": "stdout",
     "output_type": "stream",
     "text": [
      "9\n"
     ]
    }
   ],
   "source": [
    "x = 10\n",
    "y = 20\n",
    "days = 1\n",
    "while x <= y:\n",
    "    days += 1\n",
    "    x *= 1.1\n",
    "    # print(days, x)\n",
    "print(days)"
   ]
  },
  {
   "cell_type": "code",
   "execution_count": 3,
   "id": "d63ffb85",
   "metadata": {},
   "outputs": [
    {
     "name": "stdout",
     "output_type": "stream",
     "text": [
      "10\n",
      "1000\n",
      "50\n",
      "20\n",
      "6730.86\n"
     ]
    }
   ],
   "source": [
    "p = int(input())\n",
    "rubles = int(input())\n",
    "kopeyka = int(input())\n",
    "years = int(input())\n",
    "i = 1\n",
    "money = rubles+(kopeyka/100)\n",
    "while i<=years:\n",
    "    money*= (p/100+1)\n",
    "    #money = round(money, 2)\n",
    "    i+=1\n",
    "money *= 10000\n",
    "money = money // 100\n",
    "money /= 100\n",
    "print(money)\n",
    "# 36360285 50"
   ]
  },
  {
   "cell_type": "markdown",
   "id": "01e8f8dc",
   "metadata": {},
   "source": [
    "# range"
   ]
  },
  {
   "cell_type": "code",
   "execution_count": 4,
   "id": "913e9851",
   "metadata": {},
   "outputs": [
    {
     "name": "stdout",
     "output_type": "stream",
     "text": [
      "[0, 1, 2, 3, 4, 5, 6, 7, 8, 9]\n",
      "[5, 6, 7, 8, 9]\n",
      "[5, 7, 9]\n",
      "[10, 9, 8, 7, 6, 5, 4, 3, 2]\n",
      "[10, 8, 6, 4, 2]\n"
     ]
    }
   ],
   "source": [
    "print(list(range(10)))\n",
    "print(list(range(5,10)))\n",
    "print(list(range(5,10,2)))\n",
    "print(list(range(10,1,-1)))\n",
    "print(list(range(10,1,-2)))"
   ]
  },
  {
   "cell_type": "markdown",
   "id": "86faa323",
   "metadata": {},
   "source": [
    "# for"
   ]
  },
  {
   "cell_type": "code",
   "execution_count": 5,
   "id": "08864da2",
   "metadata": {},
   "outputs": [
    {
     "name": "stdout",
     "output_type": "stream",
     "text": [
      "0\n",
      "1\n",
      "2\n",
      "3\n",
      "4\n",
      "5\n",
      "6\n",
      "7\n",
      "8\n",
      "9\n"
     ]
    }
   ],
   "source": [
    "for i in range(10):\n",
    "    print(i)"
   ]
  },
  {
   "cell_type": "markdown",
   "id": "7abe9dbe",
   "metadata": {},
   "source": [
    "# lists"
   ]
  },
  {
   "cell_type": "code",
   "execution_count": 6,
   "id": "cce78690",
   "metadata": {},
   "outputs": [
    {
     "name": "stdout",
     "output_type": "stream",
     "text": [
      "под номером 0 идет студент маша 10\n",
      "под номером 1 идет студент паша 4\n",
      "под номером 2 идет студент саша 9\n"
     ]
    }
   ],
   "source": [
    "a = ['маша 10', \n",
    "     'паша 4', \n",
    "     'саша 9']\n",
    "\n",
    "for index in range(len(a)):\n",
    "    print(f'под номером {index} идет студент {a[index]}')"
   ]
  },
  {
   "cell_type": "code",
   "execution_count": 7,
   "id": "255cea0e",
   "metadata": {},
   "outputs": [
    {
     "name": "stdout",
     "output_type": "stream",
     "text": [
      "маша 10\n",
      "паша 4\n",
      "саша 9\n"
     ]
    }
   ],
   "source": [
    "for element in a:\n",
    "    print(element)"
   ]
  },
  {
   "cell_type": "code",
   "execution_count": 8,
   "id": "963a166d",
   "metadata": {},
   "outputs": [
    {
     "name": "stdout",
     "output_type": "stream",
     "text": [
      "0 маша 10\n",
      "1 паша 4\n",
      "2 саша 9\n"
     ]
    }
   ],
   "source": [
    "for index, element in enumerate(a):\n",
    "    print(index, element)"
   ]
  },
  {
   "cell_type": "code",
   "execution_count": 9,
   "id": "692f9324",
   "metadata": {},
   "outputs": [
    {
     "name": "stdout",
     "output_type": "stream",
     "text": [
      "1 2 3 4 5\n"
     ]
    }
   ],
   "source": [
    "a = input()"
   ]
  },
  {
   "cell_type": "code",
   "execution_count": 10,
   "id": "98ea9898",
   "metadata": {},
   "outputs": [
    {
     "data": {
      "text/plain": [
       "'1 2 3 4 5'"
      ]
     },
     "execution_count": 10,
     "metadata": {},
     "output_type": "execute_result"
    }
   ],
   "source": [
    "a"
   ]
  },
  {
   "cell_type": "code",
   "execution_count": 11,
   "id": "07a07300",
   "metadata": {},
   "outputs": [
    {
     "data": {
      "text/plain": [
       "[1, 2, 3, 4, 5]"
      ]
     },
     "execution_count": 11,
     "metadata": {},
     "output_type": "execute_result"
    }
   ],
   "source": [
    "a = list(map(int, a.split()))\n",
    "a"
   ]
  },
  {
   "cell_type": "code",
   "execution_count": 12,
   "id": "e00a0556",
   "metadata": {},
   "outputs": [
    {
     "name": "stdout",
     "output_type": "stream",
     "text": [
      "1\n"
     ]
    }
   ],
   "source": [
    "min_ = 1000\n",
    "for i in range(len(a)):\n",
    "    if a[i]>0 and a[i]<min_:\n",
    "        min_ = a[i]\n",
    "print(min_)"
   ]
  },
  {
   "cell_type": "code",
   "execution_count": 13,
   "id": "8bb24915",
   "metadata": {},
   "outputs": [
    {
     "name": "stdout",
     "output_type": "stream",
     "text": [
      "1\n"
     ]
    }
   ],
   "source": [
    "for element in a:\n",
    "    if element>0 and element<min_:\n",
    "        min_ = element\n",
    "print(min_)"
   ]
  },
  {
   "cell_type": "code",
   "execution_count": 14,
   "id": "6dc1648a",
   "metadata": {},
   "outputs": [
    {
     "data": {
      "text/plain": [
       "[1, 2, 3, 4, 5]"
      ]
     },
     "execution_count": 14,
     "metadata": {},
     "output_type": "execute_result"
    }
   ],
   "source": [
    "b = []\n",
    "for element in a: \n",
    "    if element>0:\n",
    "        b.append(element)\n",
    "b"
   ]
  },
  {
   "cell_type": "code",
   "execution_count": 15,
   "id": "ebd4257e",
   "metadata": {},
   "outputs": [
    {
     "data": {
      "text/plain": [
       "1"
      ]
     },
     "execution_count": 15,
     "metadata": {},
     "output_type": "execute_result"
    }
   ],
   "source": [
    "min(b)"
   ]
  }
 ],
 "metadata": {
  "kernelspec": {
   "display_name": "Python 3 (ipykernel)",
   "language": "python",
   "name": "python3"
  },
  "language_info": {
   "codemirror_mode": {
    "name": "ipython",
    "version": 3
   },
   "file_extension": ".py",
   "mimetype": "text/x-python",
   "name": "python",
   "nbconvert_exporter": "python",
   "pygments_lexer": "ipython3",
   "version": "3.10.4"
  },
  "toc": {
   "base_numbering": 1,
   "nav_menu": {},
   "number_sections": true,
   "sideBar": true,
   "skip_h1_title": false,
   "title_cell": "Table of Contents",
   "title_sidebar": "Contents",
   "toc_cell": false,
   "toc_position": {},
   "toc_section_display": true,
   "toc_window_display": false
  }
 },
 "nbformat": 4,
 "nbformat_minor": 5
}
