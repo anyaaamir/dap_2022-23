{
 "cells": [
  {
   "cell_type": "markdown",
   "id": "7d1f531d",
   "metadata": {},
   "source": [
    "# while"
   ]
  },
  {
   "cell_type": "code",
   "execution_count": 1,
   "id": "9f3bd4cc",
   "metadata": {},
   "outputs": [
    {
     "name": "stdout",
     "output_type": "stream",
     "text": [
      "5\n",
      "6\n",
      "7\n",
      "8\n",
      "9\n",
      "10\n"
     ]
    }
   ],
   "source": [
    "i = 5\n",
    "while i <= 10:\n",
    "    print(i)\n",
    "    i = i + 1\n",
    "    "
   ]
  },
  {
   "cell_type": "code",
   "execution_count": 2,
   "id": "be4366f2",
   "metadata": {},
   "outputs": [
    {
     "name": "stdout",
     "output_type": "stream",
     "text": [
      "2 11.0\n",
      "3 12.100000000000001\n",
      "4 13.310000000000002\n",
      "5 14.641000000000004\n",
      "6 16.105100000000004\n",
      "7 17.715610000000005\n",
      "8 19.487171000000007\n",
      "9 21.43588810000001\n",
      "9\n"
     ]
    }
   ],
   "source": [
    "x = 10\n",
    "y = 20\n",
    "day = 1\n",
    "while x<y:\n",
    "    x *= 1.1 # x = x*1.1\n",
    "    day += 1 # day = day + 1\n",
    "    print(day, x)\n",
    "print(day)"
   ]
  },
  {
   "cell_type": "code",
   "execution_count": 3,
   "id": "a97aa44c",
   "metadata": {},
   "outputs": [
    {
     "name": "stdout",
     "output_type": "stream",
     "text": [
      "1 1150.0\n",
      "2 1322.5\n",
      "3 1520.8749999999998\n"
     ]
    }
   ],
   "source": [
    "percent = 15\n",
    "money = 1000\n",
    "year = 3\n",
    "\n",
    "current = 0\n",
    "while current<year:\n",
    "    money *= 1+percent/100\n",
    "    current += 1\n",
    "    print(current, money)\n",
    "    \n"
   ]
  },
  {
   "cell_type": "code",
   "execution_count": 4,
   "id": "85932f28",
   "metadata": {},
   "outputs": [
    {
     "name": "stdout",
     "output_type": "stream",
     "text": [
      "15\n"
     ]
    }
   ],
   "source": [
    "number = int(input())\n"
   ]
  },
  {
   "cell_type": "code",
   "execution_count": 5,
   "id": "46a58fa2",
   "metadata": {},
   "outputs": [
    {
     "name": "stdout",
     "output_type": "stream",
     "text": [
      "2\n"
     ]
    }
   ],
   "source": [
    "denominator = 2\n",
    "while number%denominator==0:\n",
    "    denominator+=1\n",
    "print(denominator)"
   ]
  },
  {
   "cell_type": "code",
   "execution_count": 6,
   "id": "9c44b18b",
   "metadata": {},
   "outputs": [
    {
     "name": "stdout",
     "output_type": "stream",
     "text": [
      "3\n"
     ]
    }
   ],
   "source": [
    "denominator = 2\n",
    "while denominator<=number:\n",
    "    if number%denominator==0:\n",
    "        print(denominator)\n",
    "        break\n",
    "    denominator+=1"
   ]
  },
  {
   "cell_type": "markdown",
   "id": "089388e1",
   "metadata": {},
   "source": [
    "# for + lists"
   ]
  },
  {
   "cell_type": "code",
   "execution_count": 7,
   "id": "0b30d354",
   "metadata": {},
   "outputs": [],
   "source": [
    "a = ['Маша 15', 'Саша 10', 'Даша 11', 10, [11,12]]"
   ]
  },
  {
   "cell_type": "code",
   "execution_count": 8,
   "id": "d596345a",
   "metadata": {},
   "outputs": [
    {
     "data": {
      "text/plain": [
       "['Маша 15', 'Саша 10', 'Даша 11', 10, [11, 12]]"
      ]
     },
     "execution_count": 8,
     "metadata": {},
     "output_type": "execute_result"
    }
   ],
   "source": [
    "a"
   ]
  },
  {
   "cell_type": "code",
   "execution_count": 9,
   "id": "f13e3092",
   "metadata": {},
   "outputs": [
    {
     "data": {
      "text/plain": [
       "'Саша 10'"
      ]
     },
     "execution_count": 9,
     "metadata": {},
     "output_type": "execute_result"
    }
   ],
   "source": [
    "a[1]"
   ]
  },
  {
   "cell_type": "code",
   "execution_count": 10,
   "id": "5cdcf724",
   "metadata": {},
   "outputs": [
    {
     "name": "stdout",
     "output_type": "stream",
     "text": [
      "Маша 15\n",
      "Саша 10\n",
      "Даша 11\n",
      "10\n",
      "[11, 12]\n"
     ]
    }
   ],
   "source": [
    "for name in a:\n",
    "    print(name)"
   ]
  },
  {
   "cell_type": "code",
   "execution_count": 11,
   "id": "58110ea3",
   "metadata": {},
   "outputs": [
    {
     "data": {
      "text/plain": [
       "5"
      ]
     },
     "execution_count": 11,
     "metadata": {},
     "output_type": "execute_result"
    }
   ],
   "source": [
    "len(a)"
   ]
  },
  {
   "cell_type": "code",
   "execution_count": 12,
   "id": "e10b4bf4",
   "metadata": {},
   "outputs": [
    {
     "name": "stdout",
     "output_type": "stream",
     "text": [
      "0 Маша 15\n",
      "1 Саша 10\n",
      "2 Даша 11\n",
      "3 10\n",
      "4 [11, 12]\n"
     ]
    }
   ],
   "source": [
    "for i in range(5):\n",
    "    print(i, a[i])"
   ]
  },
  {
   "cell_type": "code",
   "execution_count": 13,
   "id": "ea773d37",
   "metadata": {},
   "outputs": [
    {
     "name": "stdout",
     "output_type": "stream",
     "text": [
      "0 Маша 15\n",
      "1 Саша 10\n",
      "2 Даша 11\n",
      "3 10\n",
      "4 [11, 12]\n"
     ]
    }
   ],
   "source": [
    "for i, element in enumerate(a):\n",
    "    print(i, element)"
   ]
  },
  {
   "cell_type": "markdown",
   "id": "297bb90a",
   "metadata": {},
   "source": [
    "# range"
   ]
  },
  {
   "cell_type": "code",
   "execution_count": 14,
   "id": "bbea3bc9",
   "metadata": {},
   "outputs": [
    {
     "name": "stdout",
     "output_type": "stream",
     "text": [
      "[5, 7, 9]\n",
      "[10, 9, 8, 7, 6]\n"
     ]
    }
   ],
   "source": [
    "print(list(range(5,10,2)))\n",
    "print(list(range(10,5,-1)))"
   ]
  },
  {
   "cell_type": "code",
   "execution_count": 15,
   "id": "92242286",
   "metadata": {},
   "outputs": [
    {
     "data": {
      "text/plain": [
       "['Маша 15', 'Саша 10', 'Даша 11', 10, [11, 12]]"
      ]
     },
     "execution_count": 15,
     "metadata": {},
     "output_type": "execute_result"
    }
   ],
   "source": [
    "a"
   ]
  },
  {
   "cell_type": "code",
   "execution_count": 16,
   "id": "d1ebc23a",
   "metadata": {},
   "outputs": [],
   "source": [
    "a = list(range(30))"
   ]
  },
  {
   "cell_type": "code",
   "execution_count": 17,
   "id": "311710e3",
   "metadata": {},
   "outputs": [
    {
     "data": {
      "text/plain": [
       "[5, 7, 9]"
      ]
     },
     "execution_count": 17,
     "metadata": {},
     "output_type": "execute_result"
    }
   ],
   "source": [
    "a[5:10:2]"
   ]
  },
  {
   "cell_type": "code",
   "execution_count": 18,
   "id": "6624ba5e",
   "metadata": {},
   "outputs": [
    {
     "data": {
      "text/plain": [
       "29"
      ]
     },
     "execution_count": 18,
     "metadata": {},
     "output_type": "execute_result"
    }
   ],
   "source": [
    "a[len(a)-1]"
   ]
  },
  {
   "cell_type": "code",
   "execution_count": 19,
   "id": "9349b1ff",
   "metadata": {},
   "outputs": [
    {
     "data": {
      "text/plain": [
       "[1, 2, 3]"
      ]
     },
     "execution_count": 19,
     "metadata": {},
     "output_type": "execute_result"
    }
   ],
   "source": [
    "a[1:4]"
   ]
  },
  {
   "cell_type": "code",
   "execution_count": 20,
   "id": "b1a35427",
   "metadata": {},
   "outputs": [
    {
     "data": {
      "text/plain": [
       "[26, 27, 28]"
      ]
     },
     "execution_count": 20,
     "metadata": {},
     "output_type": "execute_result"
    }
   ],
   "source": [
    "a[-4:-1]"
   ]
  },
  {
   "cell_type": "code",
   "execution_count": 21,
   "id": "fce7c9a6",
   "metadata": {},
   "outputs": [],
   "source": [
    "s= 'qwertyuio'"
   ]
  },
  {
   "cell_type": "code",
   "execution_count": 22,
   "id": "382ede2c",
   "metadata": {},
   "outputs": [
    {
     "data": {
      "text/plain": [
       "'wer'"
      ]
     },
     "execution_count": 22,
     "metadata": {},
     "output_type": "execute_result"
    }
   ],
   "source": [
    "s[1:4]"
   ]
  },
  {
   "cell_type": "code",
   "execution_count": 23,
   "id": "76037ecf",
   "metadata": {
    "scrolled": true
   },
   "outputs": [],
   "source": [
    "b = []\n",
    "for element in a:\n",
    "    if element%2==0:\n",
    "        b.append(element)"
   ]
  },
  {
   "cell_type": "code",
   "execution_count": 24,
   "id": "13fb79d5",
   "metadata": {},
   "outputs": [
    {
     "data": {
      "text/plain": [
       "[0, 2, 4, 6, 8, 10, 12, 14, 16, 18, 20, 22, 24, 26, 28]"
      ]
     },
     "execution_count": 24,
     "metadata": {},
     "output_type": "execute_result"
    }
   ],
   "source": [
    "b"
   ]
  },
  {
   "cell_type": "code",
   "execution_count": 25,
   "id": "a17e4851",
   "metadata": {},
   "outputs": [
    {
     "name": "stdout",
     "output_type": "stream",
     "text": [
      "1\n",
      "10\n",
      "1 2 3 4 5 6 7 8 9 10 "
     ]
    }
   ],
   "source": [
    "a=int(input())\n",
    "b=int(input())\n",
    "\n",
    "for i in range(a, b+1):\n",
    "    print(i, end=' ')\n"
   ]
  },
  {
   "cell_type": "code",
   "execution_count": 26,
   "id": "9b4340b5",
   "metadata": {},
   "outputs": [
    {
     "name": "stdout",
     "output_type": "stream",
     "text": [
      "1 2 3 4 5 6 7 8 9 10\n"
     ]
    }
   ],
   "source": [
    "print(*list(range(a, b+1)))#, sep='....')"
   ]
  },
  {
   "cell_type": "code",
   "execution_count": 27,
   "id": "cf186fc9",
   "metadata": {},
   "outputs": [
    {
     "name": "stdout",
     "output_type": "stream",
     "text": [
      "10\n",
      "1\n",
      "10\n",
      "9\n",
      "8\n",
      "7\n",
      "6\n",
      "5\n",
      "4\n",
      "3\n",
      "2\n",
      "1\n"
     ]
    }
   ],
   "source": [
    "a = int(input())\n",
    "b = int(input())\n",
    "if (a<b):\n",
    "    for i in range(a,b+1):\n",
    "        print(i)\n",
    "else:\n",
    "    for i in range(a,b-1,-1):\n",
    "        print(i)"
   ]
  },
  {
   "cell_type": "code",
   "execution_count": 28,
   "id": "70d7bdac",
   "metadata": {},
   "outputs": [
    {
     "name": "stdout",
     "output_type": "stream",
     "text": [
      "1 2 3 4 5\n"
     ]
    }
   ],
   "source": [
    "a = list(map(int, input().split()))\n",
    "n = len(a)"
   ]
  },
  {
   "cell_type": "code",
   "execution_count": 29,
   "id": "33a01fbf",
   "metadata": {},
   "outputs": [],
   "source": [
    "# '1 2 3 4 5' -> [1, 2, 3, 4, 5]"
   ]
  },
  {
   "cell_type": "code",
   "execution_count": 30,
   "id": "c7530aa9",
   "metadata": {},
   "outputs": [
    {
     "data": {
      "text/plain": [
       "5"
      ]
     },
     "execution_count": 30,
     "metadata": {},
     "output_type": "execute_result"
    }
   ],
   "source": [
    "n"
   ]
  },
  {
   "cell_type": "code",
   "execution_count": 31,
   "id": "ae66b7de",
   "metadata": {
    "scrolled": true
   },
   "outputs": [
    {
     "name": "stdout",
     "output_type": "stream",
     "text": [
      "1 3 5 "
     ]
    }
   ],
   "source": [
    "for i in range(n):\n",
    "    if i%2==0:\n",
    "        print(a[i], end=' ')"
   ]
  },
  {
   "cell_type": "code",
   "execution_count": 32,
   "id": "39ffa644",
   "metadata": {},
   "outputs": [
    {
     "name": "stdout",
     "output_type": "stream",
     "text": [
      "1 3 5 "
     ]
    }
   ],
   "source": [
    "for i in range(0, n, 2):\n",
    "    print(a[i], end=' ')"
   ]
  },
  {
   "cell_type": "code",
   "execution_count": 33,
   "id": "93c1e406",
   "metadata": {},
   "outputs": [
    {
     "name": "stdout",
     "output_type": "stream",
     "text": [
      "1 2 3 -1 -2 -3\n"
     ]
    }
   ],
   "source": [
    "a = list(map(int, input().split()))\n",
    "n = len(a)"
   ]
  },
  {
   "cell_type": "code",
   "execution_count": 34,
   "id": "37f0f376",
   "metadata": {},
   "outputs": [],
   "source": [
    "count = 0\n",
    "for element in a:\n",
    "    if element>0:\n",
    "        count += 1"
   ]
  },
  {
   "cell_type": "code",
   "execution_count": 35,
   "id": "f28a2111",
   "metadata": {},
   "outputs": [
    {
     "data": {
      "text/plain": [
       "3"
      ]
     },
     "execution_count": 35,
     "metadata": {},
     "output_type": "execute_result"
    }
   ],
   "source": [
    "count"
   ]
  },
  {
   "cell_type": "code",
   "execution_count": null,
   "id": "8c73b4de",
   "metadata": {},
   "outputs": [],
   "source": []
  }
 ],
 "metadata": {
  "kernelspec": {
   "display_name": "Python 3 (ipykernel)",
   "language": "python",
   "name": "python3"
  },
  "language_info": {
   "codemirror_mode": {
    "name": "ipython",
    "version": 3
   },
   "file_extension": ".py",
   "mimetype": "text/x-python",
   "name": "python",
   "nbconvert_exporter": "python",
   "pygments_lexer": "ipython3",
   "version": "3.10.4"
  },
  "toc": {
   "base_numbering": 1,
   "nav_menu": {},
   "number_sections": true,
   "sideBar": true,
   "skip_h1_title": false,
   "title_cell": "Table of Contents",
   "title_sidebar": "Contents",
   "toc_cell": false,
   "toc_position": {},
   "toc_section_display": true,
   "toc_window_display": false
  }
 },
 "nbformat": 4,
 "nbformat_minor": 5
}
