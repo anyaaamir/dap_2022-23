{
 "cells": [
  {
   "cell_type": "code",
   "execution_count": 3,
   "metadata": {},
   "outputs": [],
   "source": [
    "from random import random"
   ]
  },
  {
   "cell_type": "code",
   "execution_count": 19,
   "metadata": {},
   "outputs": [
    {
     "name": "stdout",
     "output_type": "stream",
     "text": [
      "3\n"
     ]
    }
   ],
   "source": [
    "cnt = 0 \n",
    "baget = 1\n",
    "\n",
    "while baget > 0:\n",
    "    ukus = random()\n",
    "    baget -= ukus\n",
    "    cnt += 1\n",
    "    \n",
    "print(cnt)"
   ]
  },
  {
   "cell_type": "markdown",
   "metadata": {},
   "source": [
    "### История №1: Работа со строками"
   ]
  },
  {
   "cell_type": "code",
   "execution_count": 22,
   "metadata": {},
   "outputs": [
    {
     "data": {
      "text/plain": [
       "'mur der fo raj a rof redruM'"
      ]
     },
     "execution_count": 22,
     "metadata": {},
     "output_type": "execute_result"
    }
   ],
   "source": [
    "s = 'Murder for a jar of red rum'\n",
    "\n",
    "s[::-1]"
   ]
  },
  {
   "cell_type": "code",
   "execution_count": 25,
   "metadata": {},
   "outputs": [],
   "source": [
    "for el in s:\n",
    "    pass\n",
    "    #print(el)"
   ]
  },
  {
   "cell_type": "code",
   "execution_count": 33,
   "metadata": {},
   "outputs": [
    {
     "data": {
      "text/plain": [
       "'Murderforajarofredrum'"
      ]
     },
     "execution_count": 33,
     "metadata": {},
     "output_type": "execute_result"
    }
   ],
   "source": [
    "s.replace(' ', '')"
   ]
  },
  {
   "cell_type": "code",
   "execution_count": 36,
   "metadata": {},
   "outputs": [
    {
     "data": {
      "text/plain": [
       "['Murder', 'for', 'a', 'jar', 'of', 'red', 'rum']"
      ]
     },
     "execution_count": 36,
     "metadata": {},
     "output_type": "execute_result"
    }
   ],
   "source": [
    "s = s.split()\n",
    "s"
   ]
  },
  {
   "cell_type": "code",
   "execution_count": 41,
   "metadata": {},
   "outputs": [
    {
     "data": {
      "text/plain": [
       "'Murder for a jar of red rum'"
      ]
     },
     "execution_count": 41,
     "metadata": {},
     "output_type": "execute_result"
    }
   ],
   "source": [
    "s = ' '.join(s)\n",
    "s"
   ]
  },
  {
   "cell_type": "code",
   "execution_count": 40,
   "metadata": {},
   "outputs": [
    {
     "data": {
      "text/plain": [
       "['Murder', 'for', 'a', 'jar', 'of', 'red', 'rum']"
      ]
     },
     "execution_count": 40,
     "metadata": {},
     "output_type": "execute_result"
    }
   ],
   "source": []
  },
  {
   "cell_type": "code",
   "execution_count": 52,
   "metadata": {},
   "outputs": [
    {
     "name": "stdout",
     "output_type": "stream",
     "text": [
      "True\n"
     ]
    }
   ],
   "source": [
    "s = 'Murder for a jar of red rum'\n",
    "\n",
    "s = s.replace(' ', '')\n",
    "s = s.lower()\n",
    "\n",
    "print(s == s[::-1])"
   ]
  },
  {
   "cell_type": "code",
   "execution_count": 61,
   "metadata": {},
   "outputs": [
    {
     "name": "stdout",
     "output_type": "stream",
     "text": [
      "['Luke', 'I', 'am', 'your', 'father']\n"
     ]
    },
    {
     "data": {
      "text/plain": [
       "'am'"
      ]
     },
     "execution_count": 61,
     "metadata": {},
     "output_type": "execute_result"
    }
   ],
   "source": [
    "s = 'Luke I am your father'\n",
    "\n",
    "s = s.split()\n",
    "print(s)\n",
    "idx = len(s) // 2\n",
    "\n",
    "s[idx]"
   ]
  },
  {
   "cell_type": "code",
   "execution_count": 60,
   "metadata": {},
   "outputs": [
    {
     "ename": "SyntaxError",
     "evalue": "EOL while scanning string literal (<ipython-input-60-44707ec86712>, line 1)",
     "output_type": "error",
     "traceback": [
      "\u001b[0;36m  File \u001b[0;32m\"<ipython-input-60-44707ec86712>\"\u001b[0;36m, line \u001b[0;32m1\u001b[0m\n\u001b[0;31m    s = \"Танцевальная битва? Что ж, чудесно. .\\\u001b[0m\n\u001b[0m                                                ^\u001b[0m\n\u001b[0;31mSyntaxError\u001b[0m\u001b[0;31m:\u001b[0m EOL while scanning string literal\n"
     ]
    }
   ],
   "source": [
    "s = \"Танцевальная битва. Что ж, чудесно. \\ \n",
    "        Раз у вас танцевальная битва, значит, сегодня я тебя затанцую до смерти.\""
   ]
  },
  {
   "cell_type": "code",
   "execution_count": 75,
   "metadata": {},
   "outputs": [
    {
     "name": "stdout",
     "output_type": "stream",
     "text": [
      "['Танцевальная битва', ' Что ж, чудесно', ' Раз у вас танцевальная битва, значит, сегодня я тебя затанцую до смерти']\n",
      "['Танцевальная битва', 'Что ж, чудесно', 'Раз у вас танцевальная битва, значит, сегодня я тебя затанцую до смерти', '']\n"
     ]
    }
   ],
   "source": [
    "s = \"Танцевальная битва. Что ж, чудесно. Раз у вас танцевальная битва, значит, сегодня я тебя затанцую до смерти.\"\n",
    "\n",
    "s = s.split('.')\n",
    "\n",
    "print(s[:-1])\n",
    "\n",
    "for i, sentence in enumerate(s):\n",
    "    s[i] = sentence.strip()\n",
    "    \n",
    "print(s)"
   ]
  },
  {
   "cell_type": "code",
   "execution_count": 76,
   "metadata": {},
   "outputs": [
    {
     "data": {
      "text/plain": [
       "[(0, 'Танцевальная битва'),\n",
       " (1, 'Что ж, чудесно'),\n",
       " (2,\n",
       "  'Раз у вас танцевальная битва, значит, сегодня я тебя затанцую до смерти'),\n",
       " (3, '')]"
      ]
     },
     "execution_count": 76,
     "metadata": {},
     "output_type": "execute_result"
    }
   ],
   "source": [
    "list(enumerate(s))"
   ]
  },
  {
   "cell_type": "markdown",
   "metadata": {},
   "source": [
    "### История 2: Работа python с памятью"
   ]
  },
  {
   "cell_type": "code",
   "execution_count": 77,
   "metadata": {},
   "outputs": [
    {
     "name": "stdout",
     "output_type": "stream",
     "text": [
      "6\n"
     ]
    }
   ],
   "source": [
    "a = 5\n",
    "a += 1\n",
    "\n",
    "print(a)"
   ]
  },
  {
   "cell_type": "code",
   "execution_count": 102,
   "metadata": {},
   "outputs": [],
   "source": [
    "a = 5"
   ]
  },
  {
   "cell_type": "code",
   "execution_count": 103,
   "metadata": {},
   "outputs": [],
   "source": [
    "a += 1"
   ]
  },
  {
   "cell_type": "code",
   "execution_count": null,
   "metadata": {},
   "outputs": [],
   "source": []
  },
  {
   "cell_type": "code",
   "execution_count": 79,
   "metadata": {},
   "outputs": [
    {
     "data": {
      "text/plain": [
       "4513163744"
      ]
     },
     "execution_count": 79,
     "metadata": {},
     "output_type": "execute_result"
    }
   ],
   "source": [
    "a = 5 \n",
    "\n",
    "id(a)"
   ]
  },
  {
   "cell_type": "code",
   "execution_count": 81,
   "metadata": {},
   "outputs": [
    {
     "data": {
      "text/plain": [
       "4513163776"
      ]
     },
     "execution_count": 81,
     "metadata": {},
     "output_type": "execute_result"
    }
   ],
   "source": [
    "a += 1\n",
    "\n",
    "id(a)"
   ]
  },
  {
   "cell_type": "code",
   "execution_count": 82,
   "metadata": {},
   "outputs": [
    {
     "data": {
      "text/plain": [
       "140333628734656"
      ]
     },
     "execution_count": 82,
     "metadata": {},
     "output_type": "execute_result"
    }
   ],
   "source": [
    "l = [1, 2, 3]\n",
    "\n",
    "id(l)"
   ]
  },
  {
   "cell_type": "code",
   "execution_count": 83,
   "metadata": {},
   "outputs": [],
   "source": [
    "l.append(100)"
   ]
  },
  {
   "cell_type": "code",
   "execution_count": 84,
   "metadata": {},
   "outputs": [
    {
     "data": {
      "text/plain": [
       "[1, 2, 3, 100]"
      ]
     },
     "execution_count": 84,
     "metadata": {},
     "output_type": "execute_result"
    }
   ],
   "source": [
    "l"
   ]
  },
  {
   "cell_type": "code",
   "execution_count": 85,
   "metadata": {},
   "outputs": [
    {
     "data": {
      "text/plain": [
       "140333628734656"
      ]
     },
     "execution_count": 85,
     "metadata": {},
     "output_type": "execute_result"
    }
   ],
   "source": [
    "id(l)"
   ]
  },
  {
   "cell_type": "code",
   "execution_count": 91,
   "metadata": {},
   "outputs": [
    {
     "name": "stdout",
     "output_type": "stream",
     "text": [
      "в a лежит 5 и номер 4513163744\n",
      "в b лежит 5 и номер 4513163744\n"
     ]
    }
   ],
   "source": [
    "a = 5\n",
    "b = a\n",
    "\n",
    "print(f'в a лежит {a} и номер {id(a)}')\n",
    "print(f'в b лежит {b} и номер {id(b)}')"
   ]
  },
  {
   "cell_type": "code",
   "execution_count": 92,
   "metadata": {},
   "outputs": [
    {
     "data": {
      "text/plain": [
       "True"
      ]
     },
     "execution_count": 92,
     "metadata": {},
     "output_type": "execute_result"
    }
   ],
   "source": [
    "a is b"
   ]
  },
  {
   "cell_type": "code",
   "execution_count": 94,
   "metadata": {},
   "outputs": [
    {
     "name": "stdout",
     "output_type": "stream",
     "text": [
      "в a лежит 6 и номер 4513163776\n",
      "в b лежит 5 и номер 4513163744\n"
     ]
    }
   ],
   "source": [
    "a = 6\n",
    "\n",
    "print(f'в a лежит {a} и номер {id(a)}')\n",
    "print(f'в b лежит {b} и номер {id(b)}')"
   ]
  },
  {
   "cell_type": "code",
   "execution_count": 95,
   "metadata": {},
   "outputs": [
    {
     "data": {
      "text/plain": [
       "False"
      ]
     },
     "execution_count": 95,
     "metadata": {},
     "output_type": "execute_result"
    }
   ],
   "source": [
    "a is b"
   ]
  },
  {
   "cell_type": "code",
   "execution_count": 96,
   "metadata": {},
   "outputs": [
    {
     "name": "stdout",
     "output_type": "stream",
     "text": [
      "в l лежит [1, 2, 3] и номер 140334165198016\n",
      "в l2 лежит [1, 2, 3] и номер 140334165198016\n"
     ]
    }
   ],
   "source": [
    "l = [1, 2, 3]\n",
    "l2 = l\n",
    "\n",
    "print(f'в l лежит {l} и номер {id(l)}')\n",
    "print(f'в l2 лежит {l2} и номер {id(l2)}')"
   ]
  },
  {
   "cell_type": "code",
   "execution_count": 97,
   "metadata": {},
   "outputs": [],
   "source": [
    "l.append(100)"
   ]
  },
  {
   "cell_type": "code",
   "execution_count": 98,
   "metadata": {},
   "outputs": [
    {
     "name": "stdout",
     "output_type": "stream",
     "text": [
      "в l лежит [1, 2, 3, 100] и номер 140334165198016\n",
      "в l2 лежит [1, 2, 3, 100] и номер 140334165198016\n"
     ]
    }
   ],
   "source": [
    "print(f'в l лежит {l} и номер {id(l)}')\n",
    "print(f'в l2 лежит {l2} и номер {id(l2)}')"
   ]
  },
  {
   "cell_type": "code",
   "execution_count": 99,
   "metadata": {},
   "outputs": [
    {
     "name": "stdout",
     "output_type": "stream",
     "text": [
      "в l лежит [1, 2, 3] и номер 140334165187904\n",
      "в l2 лежит [1, 2, 3] и номер 140334165186944\n"
     ]
    }
   ],
   "source": [
    "l = [1, 2, 3]\n",
    "l2 = l.copy()\n",
    "\n",
    "print(f'в l лежит {l} и номер {id(l)}')\n",
    "print(f'в l2 лежит {l2} и номер {id(l2)}')"
   ]
  },
  {
   "cell_type": "code",
   "execution_count": 100,
   "metadata": {},
   "outputs": [],
   "source": [
    "l.append(100)"
   ]
  },
  {
   "cell_type": "code",
   "execution_count": 101,
   "metadata": {},
   "outputs": [
    {
     "name": "stdout",
     "output_type": "stream",
     "text": [
      "в l лежит [1, 2, 3, 100] и номер 140334165187904\n",
      "в l2 лежит [1, 2, 3] и номер 140334165186944\n"
     ]
    }
   ],
   "source": [
    "print(f'в l лежит {l} и номер {id(l)}')\n",
    "print(f'в l2 лежит {l2} и номер {id(l2)}')"
   ]
  },
  {
   "cell_type": "code",
   "execution_count": null,
   "metadata": {},
   "outputs": [],
   "source": []
  }
 ],
 "metadata": {
  "kernelspec": {
   "display_name": "Python 3",
   "language": "python",
   "name": "python3"
  },
  "language_info": {
   "codemirror_mode": {
    "name": "ipython",
    "version": 3
   },
   "file_extension": ".py",
   "mimetype": "text/x-python",
   "name": "python",
   "nbconvert_exporter": "python",
   "pygments_lexer": "ipython3",
   "version": "3.8.5"
  }
 },
 "nbformat": 4,
 "nbformat_minor": 4
}
