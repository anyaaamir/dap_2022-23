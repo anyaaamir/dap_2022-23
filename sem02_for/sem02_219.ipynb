{
 "cells": [
  {
   "cell_type": "markdown",
   "id": "7e16eb5e",
   "metadata": {
    "toc": true
   },
   "source": [
    "<h1>Table of Contents<span class=\"tocSkip\"></span></h1>\n",
    "<div class=\"toc\"><ul class=\"toc-item\"></ul></div>"
   ]
  },
  {
   "cell_type": "code",
   "execution_count": 3,
   "id": "6b6bb850",
   "metadata": {},
   "outputs": [
    {
     "name": "stdout",
     "output_type": "stream",
     "text": [
      "10\n",
      "Отлично\n"
     ]
    }
   ],
   "source": [
    "# пример 1\n",
    "mark = int(input())\n",
    "\n",
    "if mark<10:\n",
    "    print('Это нормально!')\n",
    "else:\n",
    "    print('Отлично')"
   ]
  },
  {
   "cell_type": "code",
   "execution_count": 10,
   "id": "988fb30e",
   "metadata": {},
   "outputs": [
    {
     "name": "stdout",
     "output_type": "stream",
     "text": [
      "3\n",
      "Недовлетворительно\n"
     ]
    }
   ],
   "source": [
    "# пример 2\n",
    "mark = int(input())\n",
    "\n",
    "if mark>=8:\n",
    "    text = 'Отлично'\n",
    "else:\n",
    "    if mark>=6:\n",
    "        text = 'Хорошо'\n",
    "    else:\n",
    "        if mark>=4:\n",
    "            text = 'Удовлетворительно'\n",
    "        else:\n",
    "            text = 'Неудовлетворительно'\n",
    "            \n",
    "print(text)"
   ]
  },
  {
   "cell_type": "code",
   "execution_count": 14,
   "id": "4ad518fa",
   "metadata": {},
   "outputs": [
    {
     "name": "stdout",
     "output_type": "stream",
     "text": [
      "8\n",
      "Отлично\n"
     ]
    }
   ],
   "source": [
    "# пример 3\n",
    "mark = int(input())\n",
    "if mark>=8:\n",
    "    text = 'Отлично'\n",
    "elif mark>=6:\n",
    "    text = 'Хорошо'\n",
    "elif mark>=4:\n",
    "    text = 'Удовлетворительно'\n",
    "else:\n",
    "    text = 'Неудовлетворительно'\n",
    "print(text)"
   ]
  },
  {
   "cell_type": "code",
   "execution_count": 16,
   "id": "34425680",
   "metadata": {},
   "outputs": [
    {
     "name": "stdout",
     "output_type": "stream",
     "text": [
      "1\n",
      "2\n",
      "2\n"
     ]
    }
   ],
   "source": [
    "# Задача A\n",
    "\n",
    "a = int(input())\n",
    "b = int(input())\n",
    "\n",
    "if a>b:\n",
    "    print(1)\n",
    "elif a<b:\n",
    "    print(2)\n",
    "else:\n",
    "    print(0)"
   ]
  },
  {
   "cell_type": "code",
   "execution_count": 18,
   "id": "9732f376",
   "metadata": {},
   "outputs": [
    {
     "data": {
      "text/plain": [
       "True"
      ]
     },
     "execution_count": 18,
     "metadata": {},
     "output_type": "execute_result"
    }
   ],
   "source": [
    "True or False # True, когда хотя бы одна переменная True "
   ]
  },
  {
   "cell_type": "code",
   "execution_count": 19,
   "id": "17b1b6e4",
   "metadata": {},
   "outputs": [
    {
     "data": {
      "text/plain": [
       "False"
      ]
     },
     "execution_count": 19,
     "metadata": {},
     "output_type": "execute_result"
    }
   ],
   "source": [
    "True and False # True, когда все переменные True "
   ]
  },
  {
   "cell_type": "code",
   "execution_count": 20,
   "id": "3ffa4e6b",
   "metadata": {},
   "outputs": [
    {
     "data": {
      "text/plain": [
       "False"
      ]
     },
     "execution_count": 20,
     "metadata": {},
     "output_type": "execute_result"
    }
   ],
   "source": [
    "not True # отрицание"
   ]
  },
  {
   "cell_type": "code",
   "execution_count": 21,
   "id": "ddee55f9",
   "metadata": {},
   "outputs": [
    {
     "name": "stdout",
     "output_type": "stream",
     "text": [
      "1\n",
      "2\n",
      "3\n"
     ]
    }
   ],
   "source": [
    "# Задача B\n",
    "a = int(input())\n",
    "b = int(input())\n",
    "c = int(input())\n",
    "\n",
    "if a>=b and a>=c:\n",
    "    print(a)\n",
    "elif b>=a and b>=c:\n",
    "    print(b)\n",
    "else:\n",
    "    print(c)"
   ]
  },
  {
   "cell_type": "code",
   "execution_count": 24,
   "id": "b89c5ab6",
   "metadata": {},
   "outputs": [
    {
     "name": "stdout",
     "output_type": "stream",
     "text": [
      "2022\n",
      "NO\n"
     ]
    }
   ],
   "source": [
    "# Задача C\n",
    "year = int(input())\n",
    "# кратен 4, но не кратен 100, а также если он кратен 400\n",
    "\n",
    "if (year%4==0 and year%100!=0) or (year%400==0):\n",
    "    print('YES')\n",
    "else:\n",
    "    print('NO')"
   ]
  },
  {
   "cell_type": "code",
   "execution_count": 26,
   "id": "918039c9",
   "metadata": {},
   "outputs": [
    {
     "name": "stdout",
     "output_type": "stream",
     "text": [
      "2021\n",
      "NO\n"
     ]
    }
   ],
   "source": [
    "year = int(input())\n",
    "condition = (year%4==0 and year%100!=0) or (year%400==0)\n",
    "# тенарный оператор: if-else конструкция в одну строку\n",
    "print('YES'if condition else 'NO')"
   ]
  },
  {
   "cell_type": "markdown",
   "id": "90b21714",
   "metadata": {},
   "source": [
    "![](https://cf2.ppt-online.org/files2/slide/f/F6eok1BJwKau4SjUrtAyHZMbq8sxRLWDdVQIc2/slide-7.jpg)"
   ]
  },
  {
   "cell_type": "code",
   "execution_count": 32,
   "id": "b905630b",
   "metadata": {},
   "outputs": [
    {
     "name": "stdout",
     "output_type": "stream",
     "text": [
      "1\n",
      "1\n",
      "10000\n",
      "impossible\n"
     ]
    }
   ],
   "source": [
    "a = int(input())\n",
    "b = int(input())\n",
    "c = int(input())\n",
    "\n",
    "if a+b>c and a+c>b and b+c>a:\n",
    "    if (b**2 + c**2 == a**2) or (b**2 + a**2 == b**2) or (b**2 + a**2 == c**2):\n",
    "        print('rectangular')\n",
    "    elif (b**2 + c**2 > a**2) or (b**2 + a**2 > b**2) or (b**2 + a**2 > c**2):\n",
    "        print('acute')\n",
    "    elif (b**2 + c**2 < a**2) or (b**2 + a**2 < b**2) or (b**2 + a**2 < c**2):\n",
    "        print('obtuse')\n",
    "else:\n",
    "    print('impossible')"
   ]
  },
  {
   "cell_type": "code",
   "execution_count": null,
   "id": "1b8f021a",
   "metadata": {},
   "outputs": [],
   "source": []
  }
 ],
 "metadata": {
  "kernelspec": {
   "display_name": "Python 3",
   "language": "python",
   "name": "python3"
  },
  "language_info": {
   "codemirror_mode": {
    "name": "ipython",
    "version": 3
   },
   "file_extension": ".py",
   "mimetype": "text/x-python",
   "name": "python",
   "nbconvert_exporter": "python",
   "pygments_lexer": "ipython3",
   "version": "3.9.4"
  },
  "toc": {
   "base_numbering": 1,
   "nav_menu": {},
   "number_sections": true,
   "sideBar": true,
   "skip_h1_title": false,
   "title_cell": "Table of Contents",
   "title_sidebar": "Contents",
   "toc_cell": true,
   "toc_position": {},
   "toc_section_display": true,
   "toc_window_display": false
  }
 },
 "nbformat": 4,
 "nbformat_minor": 5
}
