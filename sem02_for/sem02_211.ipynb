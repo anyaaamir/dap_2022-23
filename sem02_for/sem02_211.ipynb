{
  "nbformat": 4,
  "nbformat_minor": 0,
  "metadata": {
    "colab": {
      "name": "sem02_211.ipynb",
      "provenance": []
    },
    "kernelspec": {
      "name": "python3",
      "display_name": "Python 3"
    },
    "language_info": {
      "name": "python"
    }
  },
  "cells": [
    {
      "cell_type": "markdown",
      "source": [
        "# Семинар 2 (ИП)"
      ],
      "metadata": {
        "id": "Ht87krZ1PaoQ"
      }
    },
    {
      "cell_type": "markdown",
      "source": [
        "# 1. Условия"
      ],
      "metadata": {
        "id": "eEjS3C_KPhcX"
      }
    },
    {
      "cell_type": "code",
      "source": [
        "42 % 2 == 0"
      ],
      "metadata": {
        "colab": {
          "base_uri": "https://localhost:8080/"
        },
        "id": "Fgmjo8KxPaDE",
        "outputId": "008db7f4-4811-430c-fe6c-0bfb1aeb3817"
      },
      "execution_count": 2,
      "outputs": [
        {
          "output_type": "execute_result",
          "data": {
            "text/plain": [
              "True"
            ]
          },
          "metadata": {},
          "execution_count": 2
        }
      ]
    },
    {
      "cell_type": "code",
      "source": [
        "a = 8\n",
        "a < 9"
      ],
      "metadata": {
        "colab": {
          "base_uri": "https://localhost:8080/"
        },
        "id": "LAp-SLF-P-qx",
        "outputId": "e6ec8b9c-e939-4c7e-def2-9667df040dbb"
      },
      "execution_count": 4,
      "outputs": [
        {
          "output_type": "execute_result",
          "data": {
            "text/plain": [
              "True"
            ]
          },
          "metadata": {},
          "execution_count": 4
        }
      ]
    },
    {
      "cell_type": "code",
      "source": [
        "a >= 8"
      ],
      "metadata": {
        "colab": {
          "base_uri": "https://localhost:8080/"
        },
        "id": "fNCfavw9Qi6w",
        "outputId": "43198a29-f1a3-4145-ad77-ae8b7239fb51"
      },
      "execution_count": 5,
      "outputs": [
        {
          "output_type": "execute_result",
          "data": {
            "text/plain": [
              "True"
            ]
          },
          "metadata": {},
          "execution_count": 5
        }
      ]
    },
    {
      "cell_type": "code",
      "source": [
        "a != 8"
      ],
      "metadata": {
        "colab": {
          "base_uri": "https://localhost:8080/"
        },
        "id": "q92SuJdlQl25",
        "outputId": "284eabe0-e45e-403a-d48b-4aae61bb3301"
      },
      "execution_count": 6,
      "outputs": [
        {
          "output_type": "execute_result",
          "data": {
            "text/plain": [
              "False"
            ]
          },
          "metadata": {},
          "execution_count": 6
        }
      ]
    },
    {
      "cell_type": "code",
      "source": [
        "x = 41\n",
        "\n",
        "if x % 2 == 0:\n",
        "    print('ура!')\n",
        "else:\n",
        "    print('Не ура :(')"
      ],
      "metadata": {
        "colab": {
          "base_uri": "https://localhost:8080/"
        },
        "id": "dNgsFakUP-00",
        "outputId": "dcb7937b-6c66-492d-d487-9c8b9dc033c0"
      },
      "execution_count": 3,
      "outputs": [
        {
          "output_type": "stream",
          "name": "stdout",
          "text": [
            "Не ура :(\n"
          ]
        }
      ]
    },
    {
      "cell_type": "code",
      "source": [
        "f = True\n",
        "f"
      ],
      "metadata": {
        "colab": {
          "base_uri": "https://localhost:8080/"
        },
        "id": "DPRghBBCQpiu",
        "outputId": "01f2bbcc-97d8-4289-d6d2-3ab55ab7279a"
      },
      "execution_count": 7,
      "outputs": [
        {
          "output_type": "execute_result",
          "data": {
            "text/plain": [
              "True"
            ]
          },
          "metadata": {},
          "execution_count": 7
        }
      ]
    },
    {
      "cell_type": "code",
      "source": [
        "True + True "
      ],
      "metadata": {
        "colab": {
          "base_uri": "https://localhost:8080/"
        },
        "id": "0XV4dUNEQsdl",
        "outputId": "97efcf98-4ba1-4144-8626-c6abbc22f2b9"
      },
      "execution_count": 8,
      "outputs": [
        {
          "output_type": "execute_result",
          "data": {
            "text/plain": [
              "2"
            ]
          },
          "metadata": {},
          "execution_count": 8
        }
      ]
    },
    {
      "cell_type": "code",
      "source": [
        "False * 42"
      ],
      "metadata": {
        "colab": {
          "base_uri": "https://localhost:8080/"
        },
        "id": "iMO3_i1jQG71",
        "outputId": "28552623-11d6-4455-e1a5-f23c9286419b"
      },
      "execution_count": 9,
      "outputs": [
        {
          "output_type": "execute_result",
          "data": {
            "text/plain": [
              "0"
            ]
          },
          "metadata": {},
          "execution_count": 9
        }
      ]
    },
    {
      "cell_type": "code",
      "source": [
        "not 4 == 4"
      ],
      "metadata": {
        "colab": {
          "base_uri": "https://localhost:8080/"
        },
        "id": "xz7mdL9bQz0s",
        "outputId": "d41c61ce-4517-4d0f-ff05-42366788f4bb"
      },
      "execution_count": 11,
      "outputs": [
        {
          "output_type": "execute_result",
          "data": {
            "text/plain": [
              "False"
            ]
          },
          "metadata": {},
          "execution_count": 11
        }
      ]
    },
    {
      "cell_type": "code",
      "source": [
        "True and False"
      ],
      "metadata": {
        "colab": {
          "base_uri": "https://localhost:8080/"
        },
        "id": "ctXwoQ5wQz8G",
        "outputId": "d9577989-b79d-4ba6-fc40-982e04293f94"
      },
      "execution_count": 12,
      "outputs": [
        {
          "output_type": "execute_result",
          "data": {
            "text/plain": [
              "False"
            ]
          },
          "metadata": {},
          "execution_count": 12
        }
      ]
    },
    {
      "cell_type": "code",
      "source": [
        "True or False"
      ],
      "metadata": {
        "colab": {
          "base_uri": "https://localhost:8080/"
        },
        "id": "nHWyT3HcRAJW",
        "outputId": "bb042158-80f3-4f2d-d829-503e69974a1d"
      },
      "execution_count": 13,
      "outputs": [
        {
          "output_type": "execute_result",
          "data": {
            "text/plain": [
              "True"
            ]
          },
          "metadata": {},
          "execution_count": 13
        }
      ]
    },
    {
      "cell_type": "code",
      "source": [
        "to_be = False \n",
        "to_be or not to_be"
      ],
      "metadata": {
        "colab": {
          "base_uri": "https://localhost:8080/"
        },
        "id": "qrQ54DERRE87",
        "outputId": "36c5e99d-df7e-4a03-86cb-e9b15d398f01"
      },
      "execution_count": 15,
      "outputs": [
        {
          "output_type": "execute_result",
          "data": {
            "text/plain": [
              "True"
            ]
          },
          "metadata": {},
          "execution_count": 15
        }
      ]
    },
    {
      "cell_type": "code",
      "source": [
        "to_be = True\n",
        "to_be or not to_be"
      ],
      "metadata": {
        "colab": {
          "base_uri": "https://localhost:8080/"
        },
        "id": "rVuKw59CRFEg",
        "outputId": "8c11e1ec-e015-4c71-8e3e-666561076929"
      },
      "execution_count": 16,
      "outputs": [
        {
          "output_type": "execute_result",
          "data": {
            "text/plain": [
              "True"
            ]
          },
          "metadata": {},
          "execution_count": 16
        }
      ]
    },
    {
      "cell_type": "markdown",
      "source": [
        "> Вне зависимости от того, что лежит в переменной `to_be`, надо `True`."
      ],
      "metadata": {
        "id": "gXIy51ZkRQ85"
      }
    },
    {
      "cell_type": "markdown",
      "source": [
        "__Упражнение:__ \n",
        "\n",
        "Даны три целых числа. Найдите наибольшее из них (программа должна вывести ровно одно целое число).\n",
        "\n",
        "Какое наименьшее число операторов сравнения (>, <, >=, <=) необходимо для решения этой задачи?"
      ],
      "metadata": {
        "id": "gyY9YAe2RiRL"
      }
    },
    {
      "cell_type": "code",
      "source": [
        "x = 8\n",
        "y = 7\n",
        "z = 2"
      ],
      "metadata": {
        "id": "SV9t52jJRpbM"
      },
      "execution_count": 17,
      "outputs": []
    },
    {
      "cell_type": "code",
      "source": [
        "x, y, z = 8, 7, 2\n",
        "\n",
        "if x > y:\n",
        "    if x > z:\n",
        "        print(x)\n",
        "    else:\n",
        "        print(z)\n",
        "else:\n",
        "    if y > z:\n",
        "        print(y)\n",
        "    else:\n",
        "        print(z)"
      ],
      "metadata": {
        "colab": {
          "base_uri": "https://localhost:8080/"
        },
        "id": "UlOK5oYtRXXv",
        "outputId": "09db348e-ff01-4492-d619-552ba014316f"
      },
      "execution_count": 20,
      "outputs": [
        {
          "output_type": "stream",
          "name": "stdout",
          "text": [
            "8\n"
          ]
        }
      ]
    },
    {
      "cell_type": "code",
      "source": [
        "x, y, z = 8, 7, 2\n",
        "\n",
        "if (x > y) and (x > z):\n",
        "    print(x)\n",
        "elif y > z:\n",
        "    print(y)\n",
        "else:\n",
        "    print(z) "
      ],
      "metadata": {
        "colab": {
          "base_uri": "https://localhost:8080/"
        },
        "id": "GaHWlq3wSG8n",
        "outputId": "98e9ef74-4faa-4226-9000-e446479e1f75"
      },
      "execution_count": 22,
      "outputs": [
        {
          "output_type": "stream",
          "name": "stdout",
          "text": [
            "8\n"
          ]
        }
      ]
    },
    {
      "cell_type": "code",
      "source": [
        "# Переделываем так чтобы ушло в контест\n",
        "\n",
        "x = int(input())\n",
        "y = int(input())\n",
        "z = int(input())\n",
        "\n",
        "if (x > y) and (x > z):\n",
        "    print(x)\n",
        "elif y > z:\n",
        "    print(y)\n",
        "else:\n",
        "    print(z) "
      ],
      "metadata": {
        "id": "6EA6DjdKRXaY"
      },
      "execution_count": null,
      "outputs": []
    },
    {
      "cell_type": "markdown",
      "source": [
        "__Упражнение:__ \n",
        "\n",
        "Выведем да, если число кратно 5 или 3, если оно кратно 15 или выполняется чет другое, выведем нет. "
      ],
      "metadata": {
        "id": "TNjlGS1US5OU"
      }
    },
    {
      "cell_type": "code",
      "source": [
        "x = 15\n",
        "\n",
        "if x % 15 == 0:\n",
        "    print('нет')\n",
        "elif (x % 5 == 0) or (x % 3 ==0):\n",
        "    print('да')\n",
        "else:\n",
        "    print('нет')"
      ],
      "metadata": {
        "colab": {
          "base_uri": "https://localhost:8080/"
        },
        "id": "DeDNExHcRXcy",
        "outputId": "dac0b84a-b76f-479e-fc27-8b240c5a0d5e"
      },
      "execution_count": 26,
      "outputs": [
        {
          "output_type": "stream",
          "name": "stdout",
          "text": [
            "нет\n"
          ]
        }
      ]
    },
    {
      "cell_type": "markdown",
      "source": [
        "# 2. Цикл for\n",
        "\n",
        "__Упражнение:__\n",
        "\n",
        "По данному натуральном $n$ вычислите сумму $$1! + 2! + 3! + \\ldots + n!$$ В решении этой задачи можно использовать только один цикл."
      ],
      "metadata": {
        "id": "Ql8rjagxPkJg"
      }
    },
    {
      "cell_type": "code",
      "source": [
        "from math import factorial\n",
        "\n",
        "s = 0\n",
        "\n",
        "s = s + factorial(1)\n",
        "s = s + factorial(2)\n",
        "s = s + factorial(3)\n",
        "s = s + factorial(4)\n",
        "s = s + factorial(5)\n",
        "s"
      ],
      "metadata": {
        "colab": {
          "base_uri": "https://localhost:8080/"
        },
        "id": "1u8AArnPT-Qe",
        "outputId": "4b51d722-dd2d-4506-bf2c-7834d39297ca"
      },
      "execution_count": 27,
      "outputs": [
        {
          "output_type": "execute_result",
          "data": {
            "text/plain": [
              "153"
            ]
          },
          "metadata": {},
          "execution_count": 27
        }
      ]
    },
    {
      "cell_type": "code",
      "source": [
        "# Такие обещания чет сделать в будущем называются генераторами\n",
        "\n",
        "range(5) # обещане питона дать нам по очереди числа от 0 до 4"
      ],
      "metadata": {
        "colab": {
          "base_uri": "https://localhost:8080/"
        },
        "id": "dXUuxzKLUawb",
        "outputId": "b8ccfeb5-1edd-4218-b28b-e781a400cdac"
      },
      "execution_count": 30,
      "outputs": [
        {
          "output_type": "execute_result",
          "data": {
            "text/plain": [
              "range(0, 5)"
            ]
          },
          "metadata": {},
          "execution_count": 30
        }
      ]
    },
    {
      "cell_type": "code",
      "source": [
        "type(range(5))"
      ],
      "metadata": {
        "colab": {
          "base_uri": "https://localhost:8080/"
        },
        "id": "jTdsfxiXUjtA",
        "outputId": "6d088345-33ee-4a6d-a3d8-e05b915a387f"
      },
      "execution_count": 31,
      "outputs": [
        {
          "output_type": "execute_result",
          "data": {
            "text/plain": [
              "range"
            ]
          },
          "metadata": {},
          "execution_count": 31
        }
      ]
    },
    {
      "cell_type": "code",
      "source": [
        " list(range(5))"
      ],
      "metadata": {
        "colab": {
          "base_uri": "https://localhost:8080/"
        },
        "id": "kqeh-8opUnEb",
        "outputId": "46aa4df0-ae4d-476c-a174-bede47736bc4"
      },
      "execution_count": 46,
      "outputs": [
        {
          "output_type": "execute_result",
          "data": {
            "text/plain": [
              "[0, 1, 2, 3, 4]"
            ]
          },
          "metadata": {},
          "execution_count": 46
        }
      ]
    },
    {
      "cell_type": "code",
      "source": [
        "list(range(1, 100, 10))"
      ],
      "metadata": {
        "colab": {
          "base_uri": "https://localhost:8080/"
        },
        "id": "wOWNZFpCVogA",
        "outputId": "f9876a91-2393-4c8f-e6ef-76852f02ef32"
      },
      "execution_count": 47,
      "outputs": [
        {
          "output_type": "execute_result",
          "data": {
            "text/plain": [
              "[1, 11, 21, 31, 41, 51, 61, 71, 81, 91]"
            ]
          },
          "metadata": {},
          "execution_count": 47
        }
      ]
    },
    {
      "cell_type": "code",
      "source": [
        "list(range(100, 0, -10))"
      ],
      "metadata": {
        "colab": {
          "base_uri": "https://localhost:8080/"
        },
        "id": "dbgfBqi-UnKr",
        "outputId": "d168dca4-33a7-408e-9c81-a00e9754f701"
      },
      "execution_count": 48,
      "outputs": [
        {
          "output_type": "execute_result",
          "data": {
            "text/plain": [
              "[100, 90, 80, 70, 60, 50, 40, 30, 20, 10]"
            ]
          },
          "metadata": {},
          "execution_count": 48
        }
      ]
    },
    {
      "cell_type": "code",
      "source": [
        "range(100, 0, -10)"
      ],
      "metadata": {
        "colab": {
          "base_uri": "https://localhost:8080/"
        },
        "id": "tEtk-_WoWAi_",
        "outputId": "9f7386ae-eecd-4ca7-8c55-59aaa7f2f17a"
      },
      "execution_count": 49,
      "outputs": [
        {
          "output_type": "execute_result",
          "data": {
            "text/plain": [
              "range(100, 0, -10)"
            ]
          },
          "metadata": {},
          "execution_count": 49
        }
      ]
    },
    {
      "cell_type": "code",
      "source": [
        "n = 5\n",
        "\n",
        "s = 0\n",
        "for i in range(1, n + 1):\n",
        "    # s = s + factorial(i)\n",
        "    s += factorial(i) # удобное сокращение предыдущей строки\n",
        "\n",
        "print(s)"
      ],
      "metadata": {
        "colab": {
          "base_uri": "https://localhost:8080/"
        },
        "id": "4D0366j5PaF0",
        "outputId": "97a9f560-ff7d-4d59-a8f1-72133eb9b9df"
      },
      "execution_count": 32,
      "outputs": [
        {
          "output_type": "stream",
          "name": "stdout",
          "text": [
            "153\n"
          ]
        }
      ]
    },
    {
      "cell_type": "code",
      "source": [
        "1! + 2! + 3! + 4! + 5! = 1 + 1*2 + 1*2*3 + 1*2*3*4 + 1*2*3*4*5"
      ],
      "metadata": {
        "id": "KX-8BRAhWaOz"
      },
      "execution_count": null,
      "outputs": []
    },
    {
      "cell_type": "code",
      "source": [
        "n = int(input())\n",
        "\n",
        "s, cur_fac = 0, 1\n",
        "for i in range(1, n + 1):\n",
        "    cur_fac *= i\n",
        "    s += cur_fac\n",
        "    print(cur_fac, s)"
      ],
      "metadata": {
        "colab": {
          "base_uri": "https://localhost:8080/"
        },
        "id": "nVrhMKqiWPVU",
        "outputId": "21f1f1b1-30c2-454e-8c78-1bec582d4083"
      },
      "execution_count": 51,
      "outputs": [
        {
          "output_type": "stream",
          "name": "stdout",
          "text": [
            "5\n",
            "1 1\n",
            "2 3\n",
            "6 9\n",
            "24 33\n",
            "120 153\n"
          ]
        }
      ]
    },
    {
      "cell_type": "markdown",
      "source": [
        "# 3. Итераторы и списки"
      ],
      "metadata": {
        "id": "vXRTnHY2PnF7"
      }
    },
    {
      "cell_type": "code",
      "source": [
        "# Лист - это какой-то чулан с хламом\n",
        "\n",
        "a = [1, 54, [72, 'hfhgh'], 'Иван']\n",
        "a"
      ],
      "metadata": {
        "colab": {
          "base_uri": "https://localhost:8080/"
        },
        "id": "0R12HzBPUz6c",
        "outputId": "7211dbbe-43ab-49d1-e9cb-dbda85ba2d3a"
      },
      "execution_count": 34,
      "outputs": [
        {
          "output_type": "execute_result",
          "data": {
            "text/plain": [
              "[1, 54, [72, 'hfhgh'], 'Иван']"
            ]
          },
          "metadata": {},
          "execution_count": 34
        }
      ]
    },
    {
      "cell_type": "code",
      "source": [
        "type(a)"
      ],
      "metadata": {
        "colab": {
          "base_uri": "https://localhost:8080/"
        },
        "id": "Ne4iD7oyU7hs",
        "outputId": "5c0568f5-35b0-4966-808e-f32cf06ecbc6"
      },
      "execution_count": 35,
      "outputs": [
        {
          "output_type": "execute_result",
          "data": {
            "text/plain": [
              "list"
            ]
          },
          "metadata": {},
          "execution_count": 35
        }
      ]
    },
    {
      "cell_type": "code",
      "source": [
        "a[1]"
      ],
      "metadata": {
        "colab": {
          "base_uri": "https://localhost:8080/"
        },
        "id": "n-km-nHBU98Y",
        "outputId": "0d23c1a3-1a88-45a7-9e9e-eb3b82dd48fe"
      },
      "execution_count": 45,
      "outputs": [
        {
          "output_type": "execute_result",
          "data": {
            "text/plain": [
              "54"
            ]
          },
          "metadata": {},
          "execution_count": 45
        }
      ]
    },
    {
      "cell_type": "code",
      "source": [
        "a[0]"
      ],
      "metadata": {
        "colab": {
          "base_uri": "https://localhost:8080/"
        },
        "id": "MQ3N6s9LU-DI",
        "outputId": "85c8e523-9b04-453f-e72f-e94c9bc575e5"
      },
      "execution_count": 37,
      "outputs": [
        {
          "output_type": "execute_result",
          "data": {
            "text/plain": [
              "1"
            ]
          },
          "metadata": {},
          "execution_count": 37
        }
      ]
    },
    {
      "cell_type": "code",
      "source": [
        "a[-1]  # первый с конца элемент"
      ],
      "metadata": {
        "colab": {
          "base_uri": "https://localhost:8080/",
          "height": 36
        },
        "id": "hClqPEKBVGjK",
        "outputId": "411f9d4f-56e1-473f-f4b2-5e2e5f745b5a"
      },
      "execution_count": 38,
      "outputs": [
        {
          "output_type": "execute_result",
          "data": {
            "text/plain": [
              "'Иван'"
            ],
            "application/vnd.google.colaboratory.intrinsic+json": {
              "type": "string"
            }
          },
          "metadata": {},
          "execution_count": 38
        }
      ]
    },
    {
      "cell_type": "code",
      "source": [
        "a[-2][1]"
      ],
      "metadata": {
        "colab": {
          "base_uri": "https://localhost:8080/",
          "height": 36
        },
        "id": "Xp9fH_qPVGpR",
        "outputId": "43d992b2-74cb-4df5-9877-333fe1ddf9c5"
      },
      "execution_count": 43,
      "outputs": [
        {
          "output_type": "execute_result",
          "data": {
            "text/plain": [
              "'hfhgh'"
            ],
            "application/vnd.google.colaboratory.intrinsic+json": {
              "type": "string"
            }
          },
          "metadata": {},
          "execution_count": 43
        }
      ]
    },
    {
      "cell_type": "code",
      "source": [
        "a[2:4] # дай мне все элементы со 2 по 4 не включая 4"
      ],
      "metadata": {
        "colab": {
          "base_uri": "https://localhost:8080/"
        },
        "id": "NhcjsvlhVNlS",
        "outputId": "b6e32456-44dc-4ed2-ba28-4bb96b2771e0"
      },
      "execution_count": 41,
      "outputs": [
        {
          "output_type": "execute_result",
          "data": {
            "text/plain": [
              "[[72, 'hfhgh'], 'Иван']"
            ]
          },
          "metadata": {},
          "execution_count": 41
        }
      ]
    },
    {
      "cell_type": "code",
      "source": [
        "# Давайте научимся ходить по спискам! \n",
        "\n",
        "a = [4, 6.2, 'зайчик', 'Яроslave', False, [1, 2.3], range(4)]\n",
        "a"
      ],
      "metadata": {
        "colab": {
          "base_uri": "https://localhost:8080/"
        },
        "id": "LXXbZECOXSMP",
        "outputId": "6ec5c9be-4aa3-40aa-dfe2-1a202f51d4eb"
      },
      "execution_count": 53,
      "outputs": [
        {
          "output_type": "execute_result",
          "data": {
            "text/plain": [
              "[4, 6.2, 'зайчик', 'Яроslave', False, [1, 2.3], range(0, 4)]"
            ]
          },
          "metadata": {},
          "execution_count": 53
        }
      ]
    },
    {
      "cell_type": "code",
      "source": [
        "for artem in a:\n",
        "    print(artem)"
      ],
      "metadata": {
        "colab": {
          "base_uri": "https://localhost:8080/"
        },
        "id": "1gKLAOsLXgf-",
        "outputId": "a3956a1b-8525-4a30-ca5f-665bd161ca0b"
      },
      "execution_count": 55,
      "outputs": [
        {
          "output_type": "stream",
          "name": "stdout",
          "text": [
            "4\n",
            "6.2\n",
            "зайчик\n",
            "Яроslave\n",
            "False\n",
            "[1, 2.3]\n",
            "range(0, 4)\n"
          ]
        }
      ]
    },
    {
      "cell_type": "code",
      "source": [
        "for artem in a:\n",
        "    if isinstance(artem, list) or isinstance(artem, range):\n",
        "       for item in artem:\n",
        "           print(item)\n",
        "    else:\n",
        "       print(artem)"
      ],
      "metadata": {
        "colab": {
          "base_uri": "https://localhost:8080/"
        },
        "id": "v8kZUwbPYP_2",
        "outputId": "921d3b85-7dbd-47ed-8efc-5c4fb0a1919b"
      },
      "execution_count": 57,
      "outputs": [
        {
          "output_type": "stream",
          "name": "stdout",
          "text": [
            "4\n",
            "6.2\n",
            "зайчик\n",
            "Яроslave\n",
            "False\n",
            "1\n",
            "2.3\n",
            "0\n",
            "1\n",
            "2\n",
            "3\n"
          ]
        }
      ]
    },
    {
      "cell_type": "markdown",
      "source": [
        "__Упражнение:__ \n",
        "\n",
        "Дан список чисел. Выведите значение наибольшего элемента в списке, а затем индекс этого элемента в списке. Если наибольших элементов несколько, выведите индекс первого из них."
      ],
      "metadata": {
        "id": "bv26NwrGYHE0"
      }
    },
    {
      "cell_type": "code",
      "source": [
        "input().split(' ')"
      ],
      "metadata": {
        "colab": {
          "base_uri": "https://localhost:8080/"
        },
        "id": "WjajtB31Y2Nb",
        "outputId": "841f6e49-2c73-4d61-fbfe-a671c1a13cbe"
      },
      "execution_count": 65,
      "outputs": [
        {
          "name": "stdout",
          "output_type": "stream",
          "text": [
            "1 2 3 2 1\n"
          ]
        },
        {
          "output_type": "execute_result",
          "data": {
            "text/plain": [
              "['1', '2', '3', '2', '1']"
            ]
          },
          "metadata": {},
          "execution_count": 65
        }
      ]
    },
    {
      "cell_type": "code",
      "source": [
        "# map это генератор, он обешает применить функцию int к входу\n",
        "map(int, input().split(' '))"
      ],
      "metadata": {
        "colab": {
          "base_uri": "https://localhost:8080/"
        },
        "id": "f7wHOCKbY7x8",
        "outputId": "c5252e36-b66d-43a1-e765-1d73abe98590"
      },
      "execution_count": 66,
      "outputs": [
        {
          "name": "stdout",
          "output_type": "stream",
          "text": [
            "1 2 3 2 1\n"
          ]
        },
        {
          "output_type": "execute_result",
          "data": {
            "text/plain": [
              "<map at 0x7fbd9fad0110>"
            ]
          },
          "metadata": {},
          "execution_count": 66
        }
      ]
    },
    {
      "cell_type": "code",
      "source": [
        "list(map(int, input().split(' ')))"
      ],
      "metadata": {
        "colab": {
          "base_uri": "https://localhost:8080/"
        },
        "id": "L195e83-XSSq",
        "outputId": "e108a3b9-0477-436c-e880-8f783e571adf"
      },
      "execution_count": 67,
      "outputs": [
        {
          "name": "stdout",
          "output_type": "stream",
          "text": [
            "1 2 3 2 1\n"
          ]
        },
        {
          "output_type": "execute_result",
          "data": {
            "text/plain": [
              "[1, 2, 3, 2, 1]"
            ]
          },
          "metadata": {},
          "execution_count": 67
        }
      ]
    },
    {
      "cell_type": "code",
      "source": [
        "None # пустота, она означает что внутри ничего нет "
      ],
      "metadata": {
        "id": "JVvAqnBIaTvy"
      },
      "execution_count": null,
      "outputs": []
    },
    {
      "cell_type": "code",
      "source": [
        "type(None)"
      ],
      "metadata": {
        "colab": {
          "base_uri": "https://localhost:8080/"
        },
        "id": "rdtj1fz3aF9b",
        "outputId": "a23f014e-b473-4b5b-a6e2-f41eae62f908"
      },
      "execution_count": 68,
      "outputs": [
        {
          "output_type": "execute_result",
          "data": {
            "text/plain": [
              "NoneType"
            ]
          },
          "metadata": {},
          "execution_count": 68
        }
      ]
    },
    {
      "cell_type": "code",
      "source": [
        "4 + None"
      ],
      "metadata": {
        "colab": {
          "base_uri": "https://localhost:8080/",
          "height": 174
        },
        "id": "R27izPgYaIG7",
        "outputId": "f7f48a89-8ec4-4708-f6eb-b21f507ef8b0"
      },
      "execution_count": 69,
      "outputs": [
        {
          "output_type": "error",
          "ename": "TypeError",
          "evalue": "ignored",
          "traceback": [
            "\u001b[0;31m---------------------------------------------------------------------------\u001b[0m",
            "\u001b[0;31mTypeError\u001b[0m                                 Traceback (most recent call last)",
            "\u001b[0;32m<ipython-input-69-fdfb3fbab40a>\u001b[0m in \u001b[0;36m<module>\u001b[0;34m()\u001b[0m\n\u001b[0;32m----> 1\u001b[0;31m \u001b[0;36m4\u001b[0m \u001b[0;34m+\u001b[0m \u001b[0;32mNone\u001b[0m\u001b[0;34m\u001b[0m\u001b[0;34m\u001b[0m\u001b[0m\n\u001b[0m",
            "\u001b[0;31mTypeError\u001b[0m: unsupported operand type(s) for +: 'int' and 'NoneType'"
          ]
        }
      ]
    },
    {
      "cell_type": "code",
      "source": [
        "4 > None"
      ],
      "metadata": {
        "colab": {
          "base_uri": "https://localhost:8080/",
          "height": 174
        },
        "id": "jzt-ERG1aQxc",
        "outputId": "eeab15cf-4fdc-47ca-8124-5c004c09eb18"
      },
      "execution_count": 70,
      "outputs": [
        {
          "output_type": "error",
          "ename": "TypeError",
          "evalue": "ignored",
          "traceback": [
            "\u001b[0;31m---------------------------------------------------------------------------\u001b[0m",
            "\u001b[0;31mTypeError\u001b[0m                                 Traceback (most recent call last)",
            "\u001b[0;32m<ipython-input-70-d7f130dd7d46>\u001b[0m in \u001b[0;36m<module>\u001b[0;34m()\u001b[0m\n\u001b[0;32m----> 1\u001b[0;31m \u001b[0;36m4\u001b[0m \u001b[0;34m>\u001b[0m \u001b[0;32mNone\u001b[0m\u001b[0;34m\u001b[0m\u001b[0;34m\u001b[0m\u001b[0m\n\u001b[0m",
            "\u001b[0;31mTypeError\u001b[0m: '>' not supported between instances of 'int' and 'NoneType'"
          ]
        }
      ]
    },
    {
      "cell_type": "code",
      "source": [
        "x = list(map(int, input().split(' ')))\n",
        "\n",
        "ind = 0\n",
        "# mxm = x[0]\n",
        "\n",
        "n = len(x)\n",
        "for i in range(n):\n",
        "    if x[i] > mxm:\n",
        "        mxm = x[i]\n",
        "        ind = i\n",
        "\n",
        "print(ind, mxm)"
      ],
      "metadata": {
        "colab": {
          "base_uri": "https://localhost:8080/",
          "height": 268
        },
        "id": "AW281_z8PaIf",
        "outputId": "4b5eda6a-0042-4163-8f46-f4cae9db6a5b"
      },
      "execution_count": 72,
      "outputs": [
        {
          "name": "stdout",
          "output_type": "stream",
          "text": [
            "1 2 3 4 5\n"
          ]
        },
        {
          "output_type": "error",
          "ename": "NameError",
          "evalue": "ignored",
          "traceback": [
            "\u001b[0;31m---------------------------------------------------------------------------\u001b[0m",
            "\u001b[0;31mNameError\u001b[0m                                 Traceback (most recent call last)",
            "\u001b[0;32m<ipython-input-72-b3316e0fc851>\u001b[0m in \u001b[0;36m<module>\u001b[0;34m()\u001b[0m\n\u001b[1;32m      6\u001b[0m \u001b[0mn\u001b[0m \u001b[0;34m=\u001b[0m \u001b[0mlen\u001b[0m\u001b[0;34m(\u001b[0m\u001b[0mx\u001b[0m\u001b[0;34m)\u001b[0m\u001b[0;34m\u001b[0m\u001b[0;34m\u001b[0m\u001b[0m\n\u001b[1;32m      7\u001b[0m \u001b[0;32mfor\u001b[0m \u001b[0mi\u001b[0m \u001b[0;32min\u001b[0m \u001b[0mrange\u001b[0m\u001b[0;34m(\u001b[0m\u001b[0mn\u001b[0m\u001b[0;34m)\u001b[0m\u001b[0;34m:\u001b[0m\u001b[0;34m\u001b[0m\u001b[0;34m\u001b[0m\u001b[0m\n\u001b[0;32m----> 8\u001b[0;31m     \u001b[0;32mif\u001b[0m \u001b[0mx\u001b[0m\u001b[0;34m[\u001b[0m\u001b[0mi\u001b[0m\u001b[0;34m]\u001b[0m \u001b[0;34m>\u001b[0m \u001b[0mmxm\u001b[0m\u001b[0;34m:\u001b[0m\u001b[0;34m\u001b[0m\u001b[0;34m\u001b[0m\u001b[0m\n\u001b[0m\u001b[1;32m      9\u001b[0m         \u001b[0mmxm\u001b[0m \u001b[0;34m=\u001b[0m \u001b[0mx\u001b[0m\u001b[0;34m[\u001b[0m\u001b[0mi\u001b[0m\u001b[0;34m]\u001b[0m\u001b[0;34m\u001b[0m\u001b[0;34m\u001b[0m\u001b[0m\n\u001b[1;32m     10\u001b[0m         \u001b[0mind\u001b[0m \u001b[0;34m=\u001b[0m \u001b[0mi\u001b[0m\u001b[0;34m\u001b[0m\u001b[0;34m\u001b[0m\u001b[0m\n",
            "\u001b[0;31mNameError\u001b[0m: name 'mxm' is not defined"
          ]
        }
      ]
    },
    {
      "cell_type": "code",
      "source": [
        "x = list(map(int, input().split(' ')))\n",
        "\n",
        "ind = 0\n",
        "mxm = x[ind]\n",
        "\n",
        "for i, item in enumerate(x):\n",
        "    if item > mxm:\n",
        "        mxm = item\n",
        "        ind = i\n",
        "\n",
        "print(ind, mxm)"
      ],
      "metadata": {
        "colab": {
          "base_uri": "https://localhost:8080/"
        },
        "id": "vvJGSJv-bMhp",
        "outputId": "d6d200a6-b446-482a-bcc3-5a256c5e4c90"
      },
      "execution_count": 76,
      "outputs": [
        {
          "output_type": "stream",
          "name": "stdout",
          "text": [
            "5 63 -4 8 99 7 2\n",
            "4 99\n"
          ]
        }
      ]
    },
    {
      "cell_type": "code",
      "source": [
        "enumerate([1,2,3,4])"
      ],
      "metadata": {
        "colab": {
          "base_uri": "https://localhost:8080/"
        },
        "id": "5Qn0__tMZ3si",
        "outputId": "5b0a1232-97eb-43eb-ac66-59cf46b682ca"
      },
      "execution_count": 73,
      "outputs": [
        {
          "output_type": "execute_result",
          "data": {
            "text/plain": [
              "<enumerate at 0x7fbd9fa2cb90>"
            ]
          },
          "metadata": {},
          "execution_count": 73
        }
      ]
    },
    {
      "cell_type": "code",
      "source": [
        "list(enumerate([5,63,-4]))"
      ],
      "metadata": {
        "colab": {
          "base_uri": "https://localhost:8080/"
        },
        "id": "FbnDnI1uban-",
        "outputId": "5f685a13-5ea6-4996-ba44-30c04de95f28"
      },
      "execution_count": 75,
      "outputs": [
        {
          "output_type": "execute_result",
          "data": {
            "text/plain": [
              "[(0, 5), (1, 63), (2, -4)]"
            ]
          },
          "metadata": {},
          "execution_count": 75
        }
      ]
    },
    {
      "cell_type": "markdown",
      "source": [
        "# 4. Цикл while "
      ],
      "metadata": {
        "id": "fXzMdzmsPqzg"
      }
    },
    {
      "cell_type": "markdown",
      "source": [
        "__Упражнение:__ \n",
        "\n",
        "Определите сумму всех элементов последовательности, завершающейся числом 0.\n",
        "\n",
        "Вводится последовательность целых чисел, оканчивающаяся числом 0 (само число 0 в последовательность не входит, а служит как признак ее окончания.\n",
        "\n"
      ],
      "metadata": {
        "id": "FBehAX2zb8gy"
      }
    },
    {
      "cell_type": "code",
      "source": [
        "s = 0\n",
        "u = None \n",
        "\n",
        "while u != 0: \n",
        "    u = int(input())\n",
        "    s = s + u\n",
        "\n",
        "print(s)"
      ],
      "metadata": {
        "colab": {
          "base_uri": "https://localhost:8080/"
        },
        "id": "wcg-2N1Rb768",
        "outputId": "134f51be-d0e8-4208-b652-6db8d8fcf333"
      },
      "execution_count": 80,
      "outputs": [
        {
          "output_type": "stream",
          "name": "stdout",
          "text": [
            "7\n",
            "6\n",
            "8\n",
            "0\n",
            "21\n"
          ]
        }
      ]
    },
    {
      "cell_type": "markdown",
      "source": [
        "Хочу посчитать сумму всех элементов до $n$"
      ],
      "metadata": {
        "id": "0HmsTl1jc2Xr"
      }
    },
    {
      "cell_type": "code",
      "source": [
        "n = 7\n",
        "\n",
        "s = 0\n",
        "for i in range(1, n + 1):\n",
        "    s += i\n",
        "s"
      ],
      "metadata": {
        "colab": {
          "base_uri": "https://localhost:8080/"
        },
        "id": "GvuIPAl4c1n_",
        "outputId": "e0cf1fe4-af25-4e8e-eae5-32d42de803d2"
      },
      "execution_count": 81,
      "outputs": [
        {
          "output_type": "execute_result",
          "data": {
            "text/plain": [
              "28"
            ]
          },
          "metadata": {},
          "execution_count": 81
        }
      ]
    },
    {
      "cell_type": "code",
      "source": [
        "s = 0\n",
        "cnt = 1\n",
        "\n",
        "while cnt < n:\n",
        "   s += cnt\n",
        "   cnt += 1\n",
        "s"
      ],
      "metadata": {
        "colab": {
          "base_uri": "https://localhost:8080/"
        },
        "id": "N4nHbk_MPwEk",
        "outputId": "11e02232-b5b1-47c4-d9bf-eb21a698b294"
      },
      "execution_count": 82,
      "outputs": [
        {
          "output_type": "execute_result",
          "data": {
            "text/plain": [
              "21"
            ]
          },
          "metadata": {},
          "execution_count": 82
        }
      ]
    },
    {
      "cell_type": "code",
      "source": [
        "s = 0\n",
        "cnt = 1\n",
        "\n",
        "while cnt < n:\n",
        "   s += cnt\n",
        "   # мы забыли тут увеличивать счётчик и напоролись на вечный цикл :(\n",
        "   # с этим надо быть осторожнее\n",
        "   # В юпитере можно убить ядро которые делает вычисления кнопками \n",
        "   # kernel -> restart and clear output"
      ],
      "metadata": {
        "colab": {
          "base_uri": "https://localhost:8080/",
          "height": 249
        },
        "id": "j3g4wqYvdLEa",
        "outputId": "1219ab3d-90dd-4096-85f0-3a2e60cd895c"
      },
      "execution_count": 84,
      "outputs": [
        {
          "output_type": "error",
          "ename": "KeyboardInterrupt",
          "evalue": "ignored",
          "traceback": [
            "\u001b[0;31m---------------------------------------------------------------------------\u001b[0m",
            "\u001b[0;31mKeyboardInterrupt\u001b[0m                         Traceback (most recent call last)",
            "\u001b[0;32m<ipython-input-84-0a768827acf3>\u001b[0m in \u001b[0;36m<module>\u001b[0;34m()\u001b[0m\n\u001b[1;32m      2\u001b[0m \u001b[0mcnt\u001b[0m \u001b[0;34m=\u001b[0m \u001b[0;36m1\u001b[0m\u001b[0;34m\u001b[0m\u001b[0;34m\u001b[0m\u001b[0m\n\u001b[1;32m      3\u001b[0m \u001b[0;34m\u001b[0m\u001b[0m\n\u001b[0;32m----> 4\u001b[0;31m \u001b[0;32mwhile\u001b[0m \u001b[0mcnt\u001b[0m \u001b[0;34m<\u001b[0m \u001b[0mn\u001b[0m\u001b[0;34m:\u001b[0m\u001b[0;34m\u001b[0m\u001b[0;34m\u001b[0m\u001b[0m\n\u001b[0m\u001b[1;32m      5\u001b[0m    \u001b[0ms\u001b[0m \u001b[0;34m+=\u001b[0m \u001b[0mcnt\u001b[0m\u001b[0;34m\u001b[0m\u001b[0;34m\u001b[0m\u001b[0m\n\u001b[1;32m      6\u001b[0m    \u001b[0;31m# мы забыли тут увеличивать счётчик и напоролись на вечный цикл :(s\u001b[0m\u001b[0;34m\u001b[0m\u001b[0;34m\u001b[0m\u001b[0;34m\u001b[0m\u001b[0m\n",
            "\u001b[0;31mKeyboardInterrupt\u001b[0m: "
          ]
        }
      ]
    },
    {
      "cell_type": "markdown",
      "source": [
        "__Упражнение:__ Хочу написать игру угадайку. "
      ],
      "metadata": {
        "id": "ZZdgNXrDd-PA"
      }
    },
    {
      "cell_type": "code",
      "source": [
        "import random \n",
        "\n",
        "x = random.randint(0, 101)\n",
        "ans = None\n",
        "\n",
        "while True:\n",
        "    ans = int(input())\n",
        "    if  ans == x:\n",
        "        print('Вы угадали!')\n",
        "        break\n",
        "    elif ans > x:\n",
        "        print('Слишком большое!')\n",
        "    else:\n",
        "        print('Слишком маленькое!')"
      ],
      "metadata": {
        "colab": {
          "base_uri": "https://localhost:8080/"
        },
        "id": "c13KRpSxd9jO",
        "outputId": "038e5738-c5dc-46db-a5ad-ea853c102236"
      },
      "execution_count": 90,
      "outputs": [
        {
          "output_type": "stream",
          "name": "stdout",
          "text": [
            "25\n",
            "Слишком большое!\n",
            "10\n",
            "Слишком маленькое!\n",
            "15\n",
            "Слишком маленькое!\n",
            "20\n",
            "Слишком маленькое!\n",
            "22\n",
            "Слишком большое!\n",
            "21\n",
            "Вы угадали!\n"
          ]
        }
      ]
    },
    {
      "cell_type": "code",
      "source": [
        "# Задание:  \n",
        "# понять сколько минимально отгадываний надо сделать \n",
        "# в среднем чтобы выиграть в оптимальной стратегии"
      ],
      "metadata": {
        "id": "guM4fq2-d9qf"
      },
      "execution_count": null,
      "outputs": []
    },
    {
      "cell_type": "markdown",
      "source": [
        "# 5.Строки"
      ],
      "metadata": {
        "id": "EvKVx7R-PwmM"
      }
    },
    {
      "cell_type": "code",
      "source": [
        "a = 'мама мыла раму'\n",
        "a.split(' ')"
      ],
      "metadata": {
        "colab": {
          "base_uri": "https://localhost:8080/"
        },
        "id": "Kn9xOvsBPyRp",
        "outputId": "8245fd8f-a83b-42f5-8c40-d06f3748d297"
      },
      "execution_count": 60,
      "outputs": [
        {
          "output_type": "execute_result",
          "data": {
            "text/plain": [
              "['мама', 'мыла', 'раму']"
            ]
          },
          "metadata": {},
          "execution_count": 60
        }
      ]
    },
    {
      "cell_type": "code",
      "source": [
        "a.split('а')"
      ],
      "metadata": {
        "colab": {
          "base_uri": "https://localhost:8080/"
        },
        "id": "77EytIj3ZBqU",
        "outputId": "31f088b3-8817-4b4d-ff8f-1049742f24b0"
      },
      "execution_count": 61,
      "outputs": [
        {
          "output_type": "execute_result",
          "data": {
            "text/plain": [
              "['м', 'м', ' мыл', ' р', 'му']"
            ]
          },
          "metadata": {},
          "execution_count": 61
        }
      ]
    },
    {
      "cell_type": "code",
      "source": [
        "a.count('а')"
      ],
      "metadata": {
        "colab": {
          "base_uri": "https://localhost:8080/"
        },
        "id": "0TksjA0dZC5k",
        "outputId": "3764db87-c0f5-486f-a699-d0e550772ff4"
      },
      "execution_count": 62,
      "outputs": [
        {
          "output_type": "execute_result",
          "data": {
            "text/plain": [
              "4"
            ]
          },
          "metadata": {},
          "execution_count": 62
        }
      ]
    },
    {
      "cell_type": "code",
      "source": [
        "a.upper()"
      ],
      "metadata": {
        "colab": {
          "base_uri": "https://localhost:8080/",
          "height": 36
        },
        "id": "EqEhKr_5ZC_I",
        "outputId": "ce64fa3f-df44-4cbf-c7d8-30baa5d6265b"
      },
      "execution_count": 63,
      "outputs": [
        {
          "output_type": "execute_result",
          "data": {
            "text/plain": [
              "'МАМА МЫЛА РАМУ'"
            ],
            "application/vnd.google.colaboratory.intrinsic+json": {
              "type": "string"
            }
          },
          "metadata": {},
          "execution_count": 63
        }
      ]
    },
    {
      "cell_type": "code",
      "source": [
        "'?'.join(['м', 'м', ' мыл', ' р', 'му'])"
      ],
      "metadata": {
        "colab": {
          "base_uri": "https://localhost:8080/",
          "height": 36
        },
        "id": "Qo1FFmrcZNMu",
        "outputId": "8799522c-079b-4abb-aa11-d736efc2f5e9"
      },
      "execution_count": 64,
      "outputs": [
        {
          "output_type": "execute_result",
          "data": {
            "text/plain": [
              "'м?м? мыл? р?му'"
            ],
            "application/vnd.google.colaboratory.intrinsic+json": {
              "type": "string"
            }
          },
          "metadata": {},
          "execution_count": 64
        }
      ]
    },
    {
      "cell_type": "code",
      "source": [
        "x = 'Кристина'\n",
        "\n",
        "for item in x:\n",
        "    print(item)"
      ],
      "metadata": {
        "colab": {
          "base_uri": "https://localhost:8080/"
        },
        "id": "VMb9OVDwfNuR",
        "outputId": "b8b8f4cc-cbfb-4824-c0ec-6690ac7ac6a9"
      },
      "execution_count": 92,
      "outputs": [
        {
          "output_type": "stream",
          "name": "stdout",
          "text": [
            "К\n",
            "р\n",
            "и\n",
            "с\n",
            "т\n",
            "и\n",
            "н\n",
            "а\n"
          ]
        }
      ]
    },
    {
      "cell_type": "code",
      "source": [
        "x[4]"
      ],
      "metadata": {
        "colab": {
          "base_uri": "https://localhost:8080/",
          "height": 36
        },
        "id": "EYgbWkUAfUmA",
        "outputId": "83eb4b32-b014-41de-dc8b-5c65feddf4cb"
      },
      "execution_count": 93,
      "outputs": [
        {
          "output_type": "execute_result",
          "data": {
            "text/plain": [
              "'т'"
            ],
            "application/vnd.google.colaboratory.intrinsic+json": {
              "type": "string"
            }
          },
          "metadata": {},
          "execution_count": 93
        }
      ]
    },
    {
      "cell_type": "markdown",
      "source": [
        "__Упражнение:__ Дана строка. Замените в этой строке все цифры 1 на слово one.\n",
        "\n"
      ],
      "metadata": {
        "id": "C5xXt7vwfH9W"
      }
    },
    {
      "cell_type": "code",
      "source": [
        "a = input()\n",
        "print('one'.join(a.split('1')))"
      ],
      "metadata": {
        "colab": {
          "base_uri": "https://localhost:8080/"
        },
        "id": "gHLfPE9CfJ-3",
        "outputId": "1b994610-c481-4626-f805-987f822d8133"
      },
      "execution_count": 96,
      "outputs": [
        {
          "output_type": "stream",
          "name": "stdout",
          "text": [
            "1 + 1 = 2\n",
            "one + one = 2\n"
          ]
        }
      ]
    }
  ]
}