{
 "cells": [
  {
   "cell_type": "markdown",
   "id": "286c93db",
   "metadata": {},
   "source": [
    "## A. Арифметика"
   ]
  },
  {
   "cell_type": "code",
   "execution_count": 1,
   "id": "0c2b30ff",
   "metadata": {},
   "outputs": [
    {
     "name": "stdout",
     "output_type": "stream",
     "text": [
      "10\n",
      "3\n",
      "3 1\n"
     ]
    }
   ],
   "source": [
    "N = int(input())\n",
    "m = int(input())\n",
    "\n",
    "print(N//m, N%m)"
   ]
  },
  {
   "cell_type": "markdown",
   "id": "d6940107",
   "metadata": {},
   "source": [
    "## B. Приффки"
   ]
  },
  {
   "cell_type": "code",
   "execution_count": 2,
   "id": "e05919e4",
   "metadata": {},
   "outputs": [],
   "source": [
    "s = 'Петя, ты ШТО делаеШь?'\n",
    "s = s.lower()\n",
    "n = len(s)\n",
    "j = 0 # счетчик букв (символы пропускаются)\n",
    "a = [] # сюда будут собираться преобразованные символы"
   ]
  },
  {
   "cell_type": "code",
   "execution_count": 3,
   "id": "01b349ae",
   "metadata": {},
   "outputs": [
    {
     "name": "stdout",
     "output_type": "stream",
     "text": [
      "ПеТя, Ты ШтО дЕлАеШь?\n"
     ]
    }
   ],
   "source": [
    "for i in range(n):\n",
    "    char = s[i]\n",
    "    if char.isalpha():\n",
    "        if j%2==0:\n",
    "            a.append(char.upper())\n",
    "        else:\n",
    "            a.append(char)\n",
    "        j += 1 # обновляю, как по счету буква\n",
    "    else:\n",
    "        a.append(char)\n",
    "print(*a, sep='')"
   ]
  },
  {
   "cell_type": "markdown",
   "id": "e107bfaa",
   "metadata": {},
   "source": [
    "## C. Коордианты"
   ]
  },
  {
   "cell_type": "code",
   "execution_count": 4,
   "id": "8956a381",
   "metadata": {},
   "outputs": [
    {
     "name": "stdout",
     "output_type": "stream",
     "text": [
      "45.32 41.12 54.23 32.31 28.24 48.38\n"
     ]
    }
   ],
   "source": [
    "a = list(map(float, input().split()))\n",
    "# 45.32 41.12 54.23 32.31 28.24 48.38"
   ]
  },
  {
   "cell_type": "code",
   "execution_count": 5,
   "id": "31d93dd2",
   "metadata": {},
   "outputs": [
    {
     "name": "stdout",
     "output_type": "stream",
     "text": [
      "(45.32, 32.31)\n",
      "(41.12, 28.24)\n",
      "(54.23, 48.38)\n"
     ]
    }
   ],
   "source": [
    "n = len(a)\n",
    "for i in range(n//2):\n",
    "    print(f'({a[i]}, {a[i+n//2]})')\n",
    "    # print('(' + str(a[i]) + ', '+ str(a[i+n//2]) + ')')"
   ]
  },
  {
   "cell_type": "markdown",
   "id": "ed2401f7",
   "metadata": {},
   "source": [
    "## D. Лё Шиффр"
   ]
  },
  {
   "cell_type": "code",
   "execution_count": 10,
   "id": "0e5f5b67",
   "metadata": {},
   "outputs": [
    {
     "name": "stdout",
     "output_type": "stream",
     "text": [
      "tca\n",
      "2 0 1\n"
     ]
    }
   ],
   "source": [
    "s = input() # tca\n",
    "a = list(map(int, input().split())) # 2 0 1"
   ]
  },
  {
   "cell_type": "markdown",
   "id": "6a89e853",
   "metadata": {},
   "source": [
    "### решение 1"
   ]
  },
  {
   "cell_type": "code",
   "execution_count": 11,
   "id": "54eac847",
   "metadata": {},
   "outputs": [
    {
     "name": "stdout",
     "output_type": "stream",
     "text": [
      "cat"
     ]
    }
   ],
   "source": [
    "# решение 1\n",
    "r = []\n",
    "n = len(s)\n",
    "for i in range(n):\n",
    "    r.append((a[i],s[i]))\n",
    "    \n",
    "for idx, char in sorted(r):\n",
    "    print(char, end='')"
   ]
  },
  {
   "cell_type": "markdown",
   "id": "a4473351",
   "metadata": {},
   "source": [
    "### решение 2"
   ]
  },
  {
   "cell_type": "code",
   "execution_count": 12,
   "id": "ac87edad",
   "metadata": {},
   "outputs": [
    {
     "name": "stdout",
     "output_type": "stream",
     "text": [
      "(0, 'c') (1, 'a') (2, 't')\n"
     ]
    }
   ],
   "source": [
    "print(*sorted(r))"
   ]
  },
  {
   "cell_type": "code",
   "execution_count": 13,
   "id": "2c27c6f4",
   "metadata": {},
   "outputs": [
    {
     "name": "stdout",
     "output_type": "stream",
     "text": [
      "0 c\n",
      "1 a\n",
      "2 t\n"
     ]
    }
   ],
   "source": [
    "for elem in sorted(r):\n",
    "    print(elem[0], elem[1])"
   ]
  },
  {
   "cell_type": "code",
   "execution_count": 14,
   "id": "f0ef69fb",
   "metadata": {},
   "outputs": [
    {
     "name": "stdout",
     "output_type": "stream",
     "text": [
      "0 c\n",
      "1 a\n",
      "2 t\n"
     ]
    }
   ],
   "source": [
    "for idx, char in sorted(r):\n",
    "    print(idx, char)"
   ]
  },
  {
   "cell_type": "code",
   "execution_count": 15,
   "id": "92ff1c7c",
   "metadata": {},
   "outputs": [
    {
     "data": {
      "text/plain": [
       "'b'"
      ]
     },
     "execution_count": 15,
     "metadata": {},
     "output_type": "execute_result"
    }
   ],
   "source": [
    "def f1(x):\n",
    "    return x[1]\n",
    "\n",
    "f2 = lambda x: x[1]\n",
    "\n",
    "tup = ('a', 'b')\n",
    "f2(tup)"
   ]
  },
  {
   "cell_type": "code",
   "execution_count": 16,
   "id": "c3f62c70",
   "metadata": {},
   "outputs": [
    {
     "data": {
      "text/plain": [
       "[(1, 'a'), (0, 'c'), (2, 't')]"
      ]
     },
     "execution_count": 16,
     "metadata": {},
     "output_type": "execute_result"
    }
   ],
   "source": [
    "sorted(list(zip(a,s)), key=lambda x: x[1])"
   ]
  },
  {
   "cell_type": "code",
   "execution_count": 17,
   "id": "600e64fe",
   "metadata": {},
   "outputs": [
    {
     "data": {
      "text/plain": [
       "[(0, 'c'), (1, 'a'), (2, 't')]"
      ]
     },
     "execution_count": 17,
     "metadata": {},
     "output_type": "execute_result"
    }
   ],
   "source": [
    "r = sorted(list(zip(a,s)))\n",
    "r"
   ]
  },
  {
   "cell_type": "code",
   "execution_count": 18,
   "id": "71b5777b",
   "metadata": {},
   "outputs": [
    {
     "data": {
      "text/plain": [
       "['c', 'a', 't']"
      ]
     },
     "execution_count": 18,
     "metadata": {},
     "output_type": "execute_result"
    }
   ],
   "source": [
    "# задача: достать по второму элементу из каждого элемента в списке\n",
    "# тут делается через дополнительный список\n",
    "ans = [] # дополнительный список\n",
    "for elem in r:\n",
    "    ans.append(elem[1]) # тут я достаю второй элемент\n",
    "ans"
   ]
  },
  {
   "cell_type": "code",
   "execution_count": 19,
   "id": "c5f3ed06",
   "metadata": {},
   "outputs": [
    {
     "data": {
      "text/plain": [
       "['c', 'a', 't']"
      ]
     },
     "execution_count": 19,
     "metadata": {},
     "output_type": "execute_result"
    }
   ],
   "source": [
    "# списковое выражение\n",
    "[elem[1] for elem in r]"
   ]
  },
  {
   "cell_type": "code",
   "execution_count": 20,
   "id": "225b0acd",
   "metadata": {},
   "outputs": [
    {
     "name": "stdout",
     "output_type": "stream",
     "text": [
      "cat\n"
     ]
    }
   ],
   "source": [
    "print(*[elem[1] for elem in r], sep='')"
   ]
  },
  {
   "cell_type": "code",
   "execution_count": 21,
   "id": "d7ca775d",
   "metadata": {},
   "outputs": [
    {
     "name": "stdout",
     "output_type": "stream",
     "text": [
      "['c', 'a', 't']\n",
      "c a t\n",
      "cat\n",
      "c,a,t\n"
     ]
    }
   ],
   "source": [
    "a = ['c', 'a', 't']\n",
    "print(a)\n",
    "print(*a)\n",
    "print(*a, sep='')\n",
    "print(*a, sep=',')"
   ]
  },
  {
   "cell_type": "code",
   "execution_count": 22,
   "id": "430c2edb",
   "metadata": {},
   "outputs": [
    {
     "name": "stdout",
     "output_type": "stream",
     "text": [
      "cta\n"
     ]
    }
   ],
   "source": [
    "# итого в одну строку\n",
    "print(*[x[1] for x in sorted(zip(a,s))], sep='')"
   ]
  },
  {
   "cell_type": "markdown",
   "id": "978df9d6",
   "metadata": {},
   "source": [
    "## E. 6ix9ine "
   ]
  },
  {
   "cell_type": "code",
   "execution_count": 24,
   "id": "2d766b9b",
   "metadata": {},
   "outputs": [
    {
     "name": "stdout",
     "output_type": "stream",
     "text": [
      "9999\n",
      "9996\n"
     ]
    }
   ],
   "source": [
    "s = list(input())\n",
    "n = len(s)\n",
    "a = []\n",
    "for i in range(n):\n",
    "    start = s[:i]\n",
    "    replace = '6' if s[i]=='9' else '9'\n",
    "    end = s[i+1:]\n",
    "    number = int(''.join(start + [replace] + end))\n",
    "    a.append(number)\n",
    "print(max(a))"
   ]
  },
  {
   "cell_type": "code",
   "execution_count": 26,
   "id": "3aa877c4",
   "metadata": {},
   "outputs": [
    {
     "name": "stdout",
     "output_type": "stream",
     "text": [
      "9999\n",
      "9996\n"
     ]
    }
   ],
   "source": [
    "s = list(input())\n",
    "n = len(s)\n",
    "a = []\n",
    "for i in range(n):\n",
    "    a.append(int(''.join(s[:i]  + [('6' if s[i]=='9' else '9')] + s[i+1:])))\n",
    "print(max(a))"
   ]
  },
  {
   "cell_type": "code",
   "execution_count": 27,
   "id": "a3f7315b",
   "metadata": {},
   "outputs": [
    {
     "data": {
      "text/plain": [
       "[6999, 9699, 9969, 9996]"
      ]
     },
     "execution_count": 27,
     "metadata": {},
     "output_type": "execute_result"
    }
   ],
   "source": [
    "a"
   ]
  },
  {
   "cell_type": "markdown",
   "id": "0f82680d",
   "metadata": {},
   "source": [
    "## F. Бермудский треугольник"
   ]
  },
  {
   "cell_type": "code",
   "execution_count": 28,
   "id": "eff4f44d",
   "metadata": {},
   "outputs": [
    {
     "name": "stdout",
     "output_type": "stream",
     "text": [
      "5\n"
     ]
    }
   ],
   "source": [
    "k = int(input())\n",
    "\n"
   ]
  },
  {
   "cell_type": "code",
   "execution_count": 29,
   "id": "e7588c24",
   "metadata": {},
   "outputs": [
    {
     "name": "stdout",
     "output_type": "stream",
     "text": [
      "[1]\n",
      "[1, 3]\n",
      "[1, 3, 3]\n",
      "[1, 3, 3, 1]\n",
      "\n",
      "[[1], [1, 1], [1, 2, 1], [1, 3, 3, 1]]\n",
      "\n",
      "[1]\n",
      "[1, 4]\n",
      "[1, 4, 6]\n",
      "[1, 4, 6, 4]\n",
      "[1, 4, 6, 4, 1]\n",
      "\n",
      "[[1], [1, 1], [1, 2, 1], [1, 3, 3, 1], [1, 4, 6, 4, 1]]\n",
      "\n",
      "1 4 6 4 1\n"
     ]
    }
   ],
   "source": [
    "a = [\n",
    "    [1],\n",
    "    [1,1],\n",
    "    [1,2,1]\n",
    "]\n",
    "\n",
    "for i in range(2,k-1):\n",
    "    b = []\n",
    "    b.append(a[i][0]) # кладем первую единицу\n",
    "    print(b)\n",
    "    for j in range(len(a[i]) - 1):\n",
    "        b.append(a[i][j] + a[i][j+1]) # кладем числа между единицами\n",
    "        print(b)\n",
    "    b.append(a[i][-1]) # кладем последнюю единицу единицу\n",
    "    print(b)\n",
    "    a.append(b)\n",
    "    print()\n",
    "    print(a)\n",
    "    print()\n",
    "print(*a[k-1])\n"
   ]
  },
  {
   "cell_type": "code",
   "execution_count": null,
   "id": "ea12eef9",
   "metadata": {},
   "outputs": [],
   "source": []
  }
 ],
 "metadata": {
  "kernelspec": {
   "display_name": "Python 3 (ipykernel)",
   "language": "python",
   "name": "python3"
  },
  "language_info": {
   "codemirror_mode": {
    "name": "ipython",
    "version": 3
   },
   "file_extension": ".py",
   "mimetype": "text/x-python",
   "name": "python",
   "nbconvert_exporter": "python",
   "pygments_lexer": "ipython3",
   "version": "3.10.4"
  },
  "toc": {
   "base_numbering": 1,
   "nav_menu": {},
   "number_sections": false,
   "sideBar": true,
   "skip_h1_title": false,
   "title_cell": "Table of Contents",
   "title_sidebar": "Contents",
   "toc_cell": false,
   "toc_position": {
    "height": "calc(100% - 180px)",
    "left": "10px",
    "top": "150px",
    "width": "288px"
   },
   "toc_section_display": true,
   "toc_window_display": true
  }
 },
 "nbformat": 4,
 "nbformat_minor": 5
}
