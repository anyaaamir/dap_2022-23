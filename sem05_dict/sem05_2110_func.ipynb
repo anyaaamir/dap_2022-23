{
 "cells": [
  {
   "cell_type": "markdown",
   "id": "8dddcc18",
   "metadata": {},
   "source": [
    "## Факториал и функция"
   ]
  },
  {
   "cell_type": "markdown",
   "id": "e61c333f",
   "metadata": {},
   "source": [
    "$n! = 1\\cdot2\\cdot3\\cdot \\ldots \\cdot n$"
   ]
  },
  {
   "cell_type": "code",
   "execution_count": 1,
   "id": "cd944575",
   "metadata": {},
   "outputs": [
    {
     "name": "stdout",
     "output_type": "stream",
     "text": [
      "1 1\n",
      "2 2\n",
      "3 6\n",
      "4 24\n",
      "5 120\n",
      "6 720\n",
      "7 5040\n",
      "8 40320\n",
      "9 362880\n",
      "10 3628800\n"
     ]
    }
   ],
   "source": [
    "# посчитаем факториал\n",
    "k = 10\n",
    "f = 1\n",
    "for i in range(1,k+1):\n",
    "    f *= i\n",
    "    print(i,f)"
   ]
  },
  {
   "cell_type": "code",
   "execution_count": 2,
   "id": "15f29b22",
   "metadata": {},
   "outputs": [],
   "source": [
    "# используем для этого функцию!\n",
    "def factorial(x):\n",
    "    F = 1\n",
    "    for i in range(1,x+1):\n",
    "        F *= i\n",
    "        # print(F)\n",
    "    return F"
   ]
  },
  {
   "cell_type": "code",
   "execution_count": 3,
   "id": "60f6f555",
   "metadata": {
    "scrolled": true
   },
   "outputs": [
    {
     "data": {
      "text/plain": [
       "120"
      ]
     },
     "execution_count": 3,
     "metadata": {},
     "output_type": "execute_result"
    }
   ],
   "source": [
    "result = factorial(5)\n",
    "result"
   ]
  },
  {
   "cell_type": "code",
   "execution_count": 4,
   "id": "89450377",
   "metadata": {},
   "outputs": [
    {
     "name": "stdout",
     "output_type": "stream",
     "text": [
      "5\n",
      "120\n"
     ]
    }
   ],
   "source": [
    "# что нужно было бы добавить для контеста\n",
    "inp = int(input())\n",
    "print(factorial(inp))"
   ]
  },
  {
   "cell_type": "markdown",
   "id": "30f99663",
   "metadata": {},
   "source": [
    "## Биномиальный коэффициент"
   ]
  },
  {
   "cell_type": "markdown",
   "id": "682dfaf5",
   "metadata": {},
   "source": [
    "![](https://wikimedia.org/api/rest_v1/media/math/render/svg/a73cf8428fc85510cade14325f0d8a3f460ed0c6)"
   ]
  },
  {
   "cell_type": "code",
   "execution_count": 5,
   "id": "efba9fb6",
   "metadata": {},
   "outputs": [],
   "source": [
    "# теперь 2 аргумента и использование функции выше!\n",
    "def binom(n, k):\n",
    "    return factorial(n)//(factorial(k)*factorial(n-k))"
   ]
  },
  {
   "cell_type": "code",
   "execution_count": 6,
   "id": "88bc37e3",
   "metadata": {},
   "outputs": [
    {
     "data": {
      "text/plain": [
       "3"
      ]
     },
     "execution_count": 6,
     "metadata": {},
     "output_type": "execute_result"
    }
   ],
   "source": [
    "binom(3,2)\n",
    "# abc -> ab ac bc"
   ]
  },
  {
   "cell_type": "markdown",
   "id": "30ac9f31",
   "metadata": {},
   "source": [
    "## Число Фиббоначи и рекурсия"
   ]
  },
  {
   "cell_type": "markdown",
   "id": "db5dab97",
   "metadata": {},
   "source": [
    "$F(n) = F(n-1) + F(n-2)$\n",
    "\n",
    "$F(1)=F(2)=1$\n",
    "\n",
    "Числа Фиббоначи: $1,1,2,3,5,8,13,...$\n"
   ]
  },
  {
   "cell_type": "code",
   "execution_count": 7,
   "id": "7e48bd07",
   "metadata": {},
   "outputs": [],
   "source": [
    "def fib(k):\n",
    "    a = [1, 1]\n",
    "    for i in range(k-2):\n",
    "        a.append(a[-1]+a[-2])\n",
    "    return a[-1]"
   ]
  },
  {
   "cell_type": "code",
   "execution_count": 8,
   "id": "7dd160f1",
   "metadata": {},
   "outputs": [],
   "source": [
    "# рекурсивная функция\n",
    "def fib_recursive(k):\n",
    "    if k==1 or k==2:\n",
    "        return 1\n",
    "    else:\n",
    "        return fib_recursive(k-1)+fib_recursive(k-2)"
   ]
  },
  {
   "cell_type": "code",
   "execution_count": 9,
   "id": "e9ed3758",
   "metadata": {},
   "outputs": [
    {
     "data": {
      "text/plain": [
       "2"
      ]
     },
     "execution_count": 9,
     "metadata": {},
     "output_type": "execute_result"
    }
   ],
   "source": [
    "fib_recursive(3)\n",
    "# fib_recursive(3-1)+fib_recursive(3-2) = \n",
    "# = fib_recursive(2)+fib_recursive(1) = 1+1 = 2"
   ]
  },
  {
   "cell_type": "markdown",
   "id": "dfee1674",
   "metadata": {},
   "source": [
    "<img src=\"https://i.ibb.co/vqS3m3N/image.png\" alt=\"image\" border=\"0\" width=400></a>"
   ]
  },
  {
   "cell_type": "code",
   "execution_count": 10,
   "id": "052fcffb",
   "metadata": {},
   "outputs": [
    {
     "data": {
      "text/plain": [
       "3"
      ]
     },
     "execution_count": 10,
     "metadata": {},
     "output_type": "execute_result"
    }
   ],
   "source": [
    "fib_recursive(4)\n",
    "# fib_recursive(4-1)+fib_recursive(4-2) = \n",
    "# = fib_recursive(3)+fib_recursive(2) = \n",
    "# = fib_recursive(3) + 1 = \n",
    "# = fib_recursive(2)+fib_recursive(1) + 1 = \n",
    "# = 1 + 1 + 1 = 3"
   ]
  },
  {
   "cell_type": "code",
   "execution_count": 11,
   "id": "ed87146a",
   "metadata": {},
   "outputs": [],
   "source": [
    "# факториал тоже можно переписать рекурсивно!\n",
    "def factorial_recursive(x):\n",
    "    if x == 1:\n",
    "        return 1\n",
    "    else:\n",
    "        return x*factorial_recursive(x-1)"
   ]
  },
  {
   "cell_type": "markdown",
   "id": "3c9aeb90",
   "metadata": {},
   "source": [
    "## БСР"
   ]
  },
  {
   "cell_type": "markdown",
   "id": "3e37d290",
   "metadata": {},
   "source": [
    "## Координаты"
   ]
  },
  {
   "cell_type": "code",
   "execution_count": 12,
   "id": "80575ccf",
   "metadata": {},
   "outputs": [
    {
     "name": "stdout",
     "output_type": "stream",
     "text": [
      "5.32 41.12 54.23 32.31 28.24 48.38\n"
     ]
    }
   ],
   "source": [
    "a = list(map(float, input().split()))\n",
    "# 45.32 41.12 54.23 32.31 28.24 48.38"
   ]
  },
  {
   "cell_type": "code",
   "execution_count": 13,
   "id": "3ebc8e63",
   "metadata": {
    "scrolled": true
   },
   "outputs": [
    {
     "name": "stdout",
     "output_type": "stream",
     "text": [
      "(5.32, 32.31)\n",
      "(41.12, 28.24)\n",
      "(54.23, 48.38)\n"
     ]
    }
   ],
   "source": [
    "n = len(a)//2\n",
    "for i in range(n):\n",
    "    # print(a[i], a[i+n])\n",
    "    print(f'({a[i]}, {a[i+n]})')"
   ]
  },
  {
   "cell_type": "markdown",
   "id": "02280a8f",
   "metadata": {},
   "source": [
    "### Треугольник"
   ]
  },
  {
   "cell_type": "code",
   "execution_count": 14,
   "id": "be716e96",
   "metadata": {},
   "outputs": [],
   "source": [
    "# задаем первые строки\n",
    "a = [\n",
    "    [1],       #1 \n",
    "    [1, 1],    #2\n",
    "    [1, 2, 1], #3\n",
    "    \n",
    "]"
   ]
  },
  {
   "cell_type": "code",
   "execution_count": 15,
   "id": "d0b384ed",
   "metadata": {},
   "outputs": [
    {
     "name": "stdout",
     "output_type": "stream",
     "text": [
      "[1]\n",
      "[1, 3]\n",
      "[1, 3, 3]\n",
      "[1, 3, 3, 1]\n",
      "\n",
      "[[1], [1, 1], [1, 2, 1], [1, 3, 3, 1]]\n",
      "\n",
      "[1]\n",
      "[1, 4]\n",
      "[1, 4, 6]\n",
      "[1, 4, 6, 4]\n",
      "[1, 4, 6, 4, 1]\n",
      "\n",
      "[[1], [1, 1], [1, 2, 1], [1, 3, 3, 1], [1, 4, 6, 4, 1]]\n",
      "\n"
     ]
    }
   ],
   "source": [
    "# добавляем новые\n",
    "k = 5-1\n",
    "for i in range(2,k):\n",
    "    line = a[i]\n",
    "    n = len(line)\n",
    "    b = [1]\n",
    "    print(b)\n",
    "    for j in range(n-1):\n",
    "        middle_number = line[j]+line[j+1]\n",
    "        b.append(middle_number)\n",
    "        print(b)\n",
    "    b.append(1)\n",
    "    print(b)\n",
    "    a.append(b)\n",
    "    print()\n",
    "    print(a)\n",
    "    print()"
   ]
  },
  {
   "cell_type": "code",
   "execution_count": 16,
   "id": "32567fe9",
   "metadata": {},
   "outputs": [
    {
     "name": "stdout",
     "output_type": "stream",
     "text": [
      "5\n",
      "1 4 6 4 1\n"
     ]
    }
   ],
   "source": [
    "# убираем принты\n",
    "k = int(input())-1\n",
    "for i in range(2,k):\n",
    "    line = a[i]\n",
    "    n = len(line)\n",
    "    b = [1]\n",
    "    for j in range(n-1):\n",
    "        middle_number = line[j]+line[j+1]\n",
    "        b.append(middle_number)\n",
    "    b.append(1)\n",
    "    a.append(b)\n",
    "print(*a[k])"
   ]
  },
  {
   "cell_type": "code",
   "execution_count": null,
   "id": "68c3bbf0",
   "metadata": {},
   "outputs": [],
   "source": []
  }
 ],
 "metadata": {
  "kernelspec": {
   "display_name": "Python 3 (ipykernel)",
   "language": "python",
   "name": "python3"
  },
  "language_info": {
   "codemirror_mode": {
    "name": "ipython",
    "version": 3
   },
   "file_extension": ".py",
   "mimetype": "text/x-python",
   "name": "python",
   "nbconvert_exporter": "python",
   "pygments_lexer": "ipython3",
   "version": "3.10.4"
  },
  "toc": {
   "base_numbering": 1,
   "nav_menu": {},
   "number_sections": false,
   "sideBar": true,
   "skip_h1_title": false,
   "title_cell": "Table of Contents",
   "title_sidebar": "Contents",
   "toc_cell": false,
   "toc_position": {},
   "toc_section_display": true,
   "toc_window_display": true
  }
 },
 "nbformat": 4,
 "nbformat_minor": 5
}
