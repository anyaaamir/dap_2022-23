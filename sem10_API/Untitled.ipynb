{
 "cells": [
  {
   "cell_type": "markdown",
   "id": "hollywood-foundation",
   "metadata": {},
   "source": [
    "# REST API"
   ]
  },
  {
   "cell_type": "markdown",
   "id": "electoral-grammar",
   "metadata": {},
   "source": [
    "Весь мир наполнен компьютерами. Интернет по сути является лишь набором протоколов, по которому компьютеры общаются между собой. Схематично почти весь интернет представлен на схеме. Компьютеры пользователей посылают запросы на другие компьютеры (они же серверы, высокопроизводительные компьютеры для обработки запросов). На сервере крутится обработчик запросов, который умеет общаться с базой данных, а также отсылать ответ пользователю.\n",
    "\n",
    "![title](images/scheme.png)"
   ]
  },
  {
   "cell_type": "markdown",
   "id": "saving-gibson",
   "metadata": {},
   "source": [
    "Подавляющее большинство сайтов и приложений в интернете устроены по архитектуре клиент-сервер. Клиен -- это любой сайт или приложение, которое разворачивается в браузере, т.е. на машине пользователя. Клиент посылает запросы и обменивается данными с сервером. \n",
    "\n",
    "![title](images/client-server.png)\n",
    "\n"
   ]
  },
  {
   "cell_type": "markdown",
   "id": "emerging-findings",
   "metadata": {},
   "source": [
    "По сути, сервера предоставляют так называемый API (Application Programming Interface). Это специальный набор команд, которые предоставляет сервер, и которые будут валидно обработаны при запросе от клиента на сервер.\n",
    "\n",
    "Приведём простой пример. Пусть вы хотите зарегистрироваться на каком-то сайте. Вы вводите логин, пароль, дату рождения и т.д. Далее происходят следующие действия.\n",
    "\n",
    "1. Клиент (копия сайта, развёрнутая на вашем компьютере) обрабатывает данные. Например, проверяет пароль на сложность\n",
    "\n",
    "2. Клиент запихивает данные в json-формат (редко -- что-то другое) и посылает на сервер запрос (request) с помощью HTTP. Запрос типизирован и имеет определённое содержание\n",
    "\n",
    "3. Сервер проверяет валидность запроса. Потом вытаскивает данные из json, записывает пользователя в базу данных\n",
    "\n",
    "4. Сервер формирует ответ (response)\n",
    "\n",
    "5. Клиент получает ответ, пользователю высвечивается что-то в духе \"Вы успешно зарегистрированы!\"\n",
    "\n",
    "\n",
    "В текущем семинаре мы сами руками напишем некоторые запросы, которые сайты пишут к серверам, а также напишем свой первый сервер!\n",
    "\n",
    "Зачем это нужно? Многие базы данных и приложения внутреннего пользования могут не иметь клиентской части. Следовательно, получить данные из них можно только с помощью запроса. Ну и, конечно, умение написать самому сервер может пригодиться для разработки почти любого приложения/проекта. (С клиентской частью всё несколько сложнее, там своя кухня)\n"
   ]
  },
  {
   "cell_type": "code",
   "execution_count": 4,
   "id": "ongoing-colleague",
   "metadata": {},
   "outputs": [],
   "source": [
    "# Библиотека requests позволяет писать HTTP-запросы\n",
    "import requests"
   ]
  },
  {
   "cell_type": "markdown",
   "id": "overall-practitioner",
   "metadata": {},
   "source": [
    "Основные типы запросов:\n",
    "\n",
    "1. GET -- Запрос данных (Например, когда пользователь логинится)\n",
    "2. POST -- Отправка новых данных на сервер (Регистрация пользователя)\n",
    "3. DELETE -- Удаление данных с сервера (Удаление пользователя)\n",
    "4. PUT -- Модификация данных (Смена пароля)\n",
    "\n",
    "Вообще есть ещё пяток других, но они используются достаточно редко. К тому же, разделение весьма условное и скорее используется для лучшей читабельности. Все задачи можно решать только POST-запросом, но имейте в виду, что любой бэкенд-разработчик (а именно они пишут серверы), попробует вас избить."
   ]
  },
  {
   "cell_type": "markdown",
   "id": "unlikely-flood",
   "metadata": {},
   "source": [
    "На этой точке семинарист должен героически открыть консоль разработчика своего браузера и показать, какие запросы шлёт гугл при поиске"
   ]
  },
  {
   "cell_type": "markdown",
   "id": "impressed-arrangement",
   "metadata": {},
   "source": [
    "Теперь напишем свой запрос к какому-нибудь серверу. Однако всё было бы слишком просто, если бы это можно было делать просто так. Конечно, нужна авторизация. Обычно API просят присылать с каждым запросом специальный ключ, который бы идентифицировал пользователя. Есть прекрасный сервис, который собрал в себя кучу бесплатных (и не только) API: https://rapidapi.com. Пусть ваш семинарист по своей гуглопочте подпишется на бесплатный трайал API гугл-транслейта. Более того, этот сайт позволяет генерировать HTTP-запросы для популярных языков."
   ]
  },
  {
   "cell_type": "code",
   "execution_count": 9,
   "id": "wooden-yeast",
   "metadata": {},
   "outputs": [
    {
     "name": "stdout",
     "output_type": "stream",
     "text": [
      "{\"data\":{\"detections\":[[{\"language\":\"en\",\"isReliable\":false,\"confidence\":1}]]}}\n"
     ]
    }
   ],
   "source": [
    "import requests\n",
    "\n",
    "url = \"https://google-translate1.p.rapidapi.com/language/translate/v2/detect\"\n",
    "\n",
    "# https://google-translate1.p.rapidapi.com -- адрес сервера.\n",
    "# language/translate/v2/detect - маршрут на сервере. Можно представлять это как папочки на компьютере.\n",
    "# Такой подход позволяет структурировать систему запросов на сервере.\n",
    "# Например, всё, что касается логина пользователя можно внести в /auth/\n",
    "\n",
    "payload = \"q=English%20is%20hard%2C%20but%20detectably%20so\"\n",
    "# Два вида передачи данных:\n",
    "# query -- со строкой запроса\n",
    "# payload -- \n",
    "\n",
    "# https://google-translate1.p.rapidapi.com/language/translate/v2/detect?\n",
    "\n",
    "headers = {\n",
    "\t\"content-type\": \"application/x-www-form-urlencoded\",\n",
    "\t\"Accept-Encoding\": \"application/gzip\",\n",
    "\t\"X-RapidAPI-Host\": \"google-translate1.p.rapidapi.com\",\n",
    "\t\"X-RapidAPI-Key\": Тут ваш семинарист должен вставить свой ключ авторизации\n",
    "}\n",
    "\n",
    "response = requests.request(\"POST\", url, data=payload, headers=headers)\n",
    "\n",
    "print(response.text)"
   ]
  },
  {
   "cell_type": "code",
   "execution_count": null,
   "id": "guilty-reverse",
   "metadata": {},
   "outputs": [],
   "source": []
  },
  {
   "cell_type": "markdown",
   "id": "coupled-textbook",
   "metadata": {},
   "source": [
    "# Flask"
   ]
  },
  {
   "cell_type": "markdown",
   "id": "random-subject",
   "metadata": {},
   "source": [
    "Теперь напишем собственный сервер. Маленький, но гордый. Да, он не будет доступен людям вовне, но мы сможем с ним поиграть. "
   ]
  },
  {
   "cell_type": "code",
   "execution_count": 12,
   "id": "respective-pressure",
   "metadata": {},
   "outputs": [
    {
     "name": "stdout",
     "output_type": "stream",
     "text": [
      " * Serving Flask app '__main__' (lazy loading)\n",
      " * Environment: production\n",
      "\u001b[31m   WARNING: This is a development server. Do not use it in a production deployment.\u001b[0m\n",
      "\u001b[2m   Use a production WSGI server instead.\u001b[0m\n",
      " * Debug mode: off\n"
     ]
    },
    {
     "name": "stderr",
     "output_type": "stream",
     "text": [
      " * Running on http://127.0.0.1:5000/ (Press CTRL+C to quit)\n"
     ]
    }
   ],
   "source": [
    "from flask import Flask\n",
    "\n",
    "app = Flask(__name__)\n",
    "\n",
    "\n",
    "@app.route(\"/\")\n",
    "def hello():\n",
    "    return \"Hello World!\"\n",
    "\n",
    "\n",
    "if __name__ == \"__main__\":\n",
    "    app.run()"
   ]
  },
  {
   "cell_type": "markdown",
   "id": "private-cause",
   "metadata": {},
   "source": [
    "Запустив код выше, ваш семинарист должен запустить другой ноутбук (или штуку типа Postman), чтобы послать запрос на свежесозданный сервер"
   ]
  }
 ],
 "metadata": {
  "kernelspec": {
   "display_name": "Python 3",
   "language": "python",
   "name": "python3"
  },
  "language_info": {
   "codemirror_mode": {
    "name": "ipython",
    "version": 3
   },
   "file_extension": ".py",
   "mimetype": "text/x-python",
   "name": "python",
   "nbconvert_exporter": "python",
   "pygments_lexer": "ipython3",
   "version": "3.9.2"
  }
 },
 "nbformat": 4,
 "nbformat_minor": 5
}
