{
 "cells": [
  {
   "cell_type": "markdown",
   "id": "hollywood-foundation",
   "metadata": {},
   "source": [
    "# REST API"
   ]
  },
  {
   "cell_type": "markdown",
   "id": "electoral-grammar",
   "metadata": {},
   "source": [
    "Весь мир наполнен компьютерами. Интернет по сути является лишь набором протоколов, по которому компьютеры общаются между собой. Схематично почти весь интернет представлен на схеме. Компьютеры пользователей посылают запросы на другие компьютеры (они же серверы, высокопроизводительные компьютеры для обработки запросов). На сервере крутится обработчик запросов, который умеет общаться с базой данных, а также отсылать ответ пользователю.\n",
    "\n",
    "![title](images/scheme.png)"
   ]
  },
  {
   "cell_type": "markdown",
   "id": "saving-gibson",
   "metadata": {},
   "source": [
    "Подавляющее большинство сайтов и приложений в интернете устроены по архитектуре клиент-сервер. Клиен -- это любой сайт или приложение, которое разворачивается в браузере, т.е. на машине пользователя. Клиент посылает запросы и обменивается данными с сервером. \n",
    "\n",
    "![title](images/client-server.png)\n",
    "\n"
   ]
  },
  {
   "cell_type": "markdown",
   "id": "emerging-findings",
   "metadata": {},
   "source": [
    "По сути, сервера предоставляют так называемый API (Application Programming Interface). Это специальный набор команд, которые предоставляет сервер, и которые будут валидно обработаны при запросе от клиента на сервер.\n",
    "\n",
    "Приведём простой пример. Пусть вы хотите зарегистрироваться на каком-то сайте. Вы вводите логин, пароль, дату рождения и т.д. Далее происходят следующие действия.\n",
    "\n",
    "1. Клиент (копия сайта, развёрнутая на вашем компьютере) обрабатывает данные. Например, проверяет пароль на сложность\n",
    "\n",
    "2. Клиент запихивает данные в json-формат (редко -- что-то другое) и посылает на сервер запрос (request) с помощью HTTP. Запрос типизирован и имеет определённое содержание\n",
    "\n",
    "3. Сервер проверяет валидность запроса. Потом вытаскивает данные из json, записывает пользователя в базу данных\n",
    "\n",
    "4. Сервер формирует ответ (response)\n",
    "\n",
    "5. Клиент получает ответ, пользователю высвечивается что-то в духе \"Вы успешно зарегистрированы!\"\n",
    "\n",
    "\n",
    "В текущем семинаре мы сами руками напишем некоторые запросы, которые сайты пишут к серверам, а также напишем свой первый сервер!\n",
    "\n",
    "Зачем это нужно? Многие базы данных и приложения внутреннего пользования могут не иметь клиентской части. Следовательно, получить данные из них можно только с помощью запроса. Ну и, конечно, умение написать самому сервер может пригодиться для разработки почти любого приложения/проекта. (С клиентской частью всё несколько сложнее, там своя кухня)\n"
   ]
  },
  {
   "cell_type": "code",
   "execution_count": 7,
   "id": "ongoing-colleague",
   "metadata": {},
   "outputs": [],
   "source": [
    "# Библиотека requests позволяет писать HTTP-запросы\n",
    "import requests"
   ]
  },
  {
   "cell_type": "code",
   "execution_count": 8,
   "id": "2f984768",
   "metadata": {},
   "outputs": [],
   "source": [
    "url = 'https://duckduckgo.com/'"
   ]
  },
  {
   "cell_type": "code",
   "execution_count": 9,
   "id": "a59188ff",
   "metadata": {},
   "outputs": [],
   "source": [
    "params = {'q': 'ducks'}"
   ]
  },
  {
   "cell_type": "code",
   "execution_count": 13,
   "id": "9c39913e",
   "metadata": {},
   "outputs": [],
   "source": [
    "headers = {'User-Agent': 'Mozilla/5.0 (Macintosh; Intel Mac OS X 10_15_7) AppleWebKit/537.36 (KHTML, like Gecko) Chrome/102.0.5005.61 Safari/537.36'}"
   ]
  },
  {
   "cell_type": "code",
   "execution_count": 14,
   "id": "f90e501c",
   "metadata": {},
   "outputs": [
    {
     "name": "stdout",
     "output_type": "stream",
     "text": [
      "{'User-Agent': 'Mozilla/5.0 (Macintosh; Intel Mac OS X 10_15_7) AppleWebKit/537.36 (KHTML, like Gecko) Chrome/102.0.5005.61 Safari/537.36'}\n"
     ]
    }
   ],
   "source": [
    "print(headers)"
   ]
  },
  {
   "cell_type": "code",
   "execution_count": 15,
   "id": "b30f57e8",
   "metadata": {},
   "outputs": [],
   "source": [
    "response = requests.get(url, params=params, headers=headers)"
   ]
  },
  {
   "cell_type": "code",
   "execution_count": 16,
   "id": "0bd9c1d6",
   "metadata": {},
   "outputs": [
    {
     "data": {
      "text/plain": [
       "<Response [200]>"
      ]
     },
     "execution_count": 16,
     "metadata": {},
     "output_type": "execute_result"
    }
   ],
   "source": [
    "response"
   ]
  },
  {
   "cell_type": "code",
   "execution_count": 17,
   "id": "94ffc555",
   "metadata": {},
   "outputs": [
    {
     "data": {
      "text/plain": [
       "200"
      ]
     },
     "execution_count": 17,
     "metadata": {},
     "output_type": "execute_result"
    }
   ],
   "source": [
    "response.status_code"
   ]
  },
  {
   "cell_type": "code",
   "execution_count": 19,
   "id": "326b19db",
   "metadata": {},
   "outputs": [
    {
     "data": {
      "text/plain": [
       "'<!DOCTYPE html><html lang=\"en-US\" class=\"no-js has-zcm  no-theme is-link-style-exp is-link-order-exp'"
      ]
     },
     "execution_count": 19,
     "metadata": {},
     "output_type": "execute_result"
    }
   ],
   "source": [
    "response.text[:100]"
   ]
  },
  {
   "cell_type": "code",
   "execution_count": null,
   "id": "a01b87e9",
   "metadata": {},
   "outputs": [],
   "source": []
  },
  {
   "cell_type": "markdown",
   "id": "overall-practitioner",
   "metadata": {},
   "source": [
    "Основные типы запросов:\n",
    "\n",
    "1. GET -- Запрос данных (Например, когда пользователь логинится)\n",
    "2. POST -- Отправка новых данных на сервер (Регистрация пользователя)\n",
    "3. DELETE -- Удаление данных с сервера (Удаление пользователя)\n",
    "4. PUT -- Модификация данных (Смена пароля)\n",
    "\n",
    "Вообще есть ещё пяток других, но они используются достаточно редко. К тому же, разделение весьма условное и скорее используется для лучшей читабельности. Все задачи можно решать только POST-запросом, но имейте в виду, что любой бэкенд-разработчик (а именно они пишут серверы), попробует вас избить."
   ]
  },
  {
   "cell_type": "markdown",
   "id": "unlikely-flood",
   "metadata": {},
   "source": [
    "На этой точке семинарист должен героически открыть консоль разработчика своего браузера и показать, какие запросы шлёт гугл при поиске"
   ]
  },
  {
   "cell_type": "markdown",
   "id": "impressed-arrangement",
   "metadata": {},
   "source": [
    "Теперь напишем свой запрос к какому-нибудь серверу. Однако всё было бы слишком просто, если бы это можно было делать просто так. Конечно, нужна авторизация. Обычно API просят присылать с каждым запросом специальный ключ, который бы идентифицировал пользователя. Есть прекрасный сервис, который собрал в себя кучу бесплатных (и не только) API: https://rapidapi.com. Пусть ваш семинарист по своей гуглопочте подпишется на бесплатный трайал API гугл-транслейта. Более того, этот сайт позволяет генерировать HTTP-запросы для популярных языков."
   ]
  },
  {
   "cell_type": "code",
   "execution_count": 24,
   "id": "d7358ce9",
   "metadata": {},
   "outputs": [],
   "source": [
    "from urllib.request import quote"
   ]
  },
  {
   "cell_type": "code",
   "execution_count": 25,
   "id": "20b7aecb",
   "metadata": {},
   "outputs": [
    {
     "data": {
      "text/plain": [
       "'%D0%B7%D0%B4%D1%80%D0%B0%D1%81%D1%8C%D1%82%D0%B5'"
      ]
     },
     "execution_count": 25,
     "metadata": {},
     "output_type": "execute_result"
    }
   ],
   "source": [
    "quote('здрасьте')"
   ]
  },
  {
   "cell_type": "code",
   "execution_count": 30,
   "id": "3c90b037",
   "metadata": {},
   "outputs": [
    {
     "name": "stdout",
     "output_type": "stream",
     "text": [
      "{\"data\":{\"translations\":[{\"translatedText\":\"última conferencia, ¡hurra!\",\"detectedSourceLanguage\":\"ru\"}]}}\n"
     ]
    }
   ],
   "source": [
    "import requests\n",
    "\n",
    "url = \"https://google-translate1.p.rapidapi.com/language/translate/v2\"\n",
    "\n",
    "payload = \"q=\" + quote('последняя лекция, ура!') + \"&target=es\"\n",
    "headers = {\n",
    "\t\"content-type\": \"application/x-www-form-urlencoded\",\n",
    "\t\"Accept-Encoding\": \"application/gzip\",\n",
    "\t\"X-RapidAPI-Host\": \"google-translate1.p.rapidapi.com\",\n",
    "\t\"X-RapidAPI-Key\": \"e5b781254amsh3f03a7c4cc5b555p1ac419jsn7624297fc8d2\"\n",
    "}\n",
    "\n",
    "response = requests.request(\"POST\", url, data=payload, headers=headers)\n",
    "\n",
    "print(response.text)"
   ]
  },
  {
   "cell_type": "code",
   "execution_count": 27,
   "id": "41d0e2d3",
   "metadata": {},
   "outputs": [
    {
     "name": "stdout",
     "output_type": "stream",
     "text": [
      "{\"data\":{\"languages\":[{\"language\":\"az\",\"name\":\"азербайджанский\"},{\"language\":\"sq\",\"name\":\"албанский\"},{\"language\":\"am\",\"name\":\"амхарский\"},{\"language\":\"en\",\"name\":\"английский\"},{\"language\":\"ar\",\"name\":\"арабский\"},{\"language\":\"hy\",\"name\":\"армянский\"},{\"language\":\"af\",\"name\":\"африкаанс\"},{\"language\":\"eu\",\"name\":\"баскский\"},{\"language\":\"be\",\"name\":\"белорусский\"},{\"language\":\"bn\",\"name\":\"бенгальский\"},{\"language\":\"my\",\"name\":\"бирманский\"},{\"language\":\"bg\",\"name\":\"болгарский\"},{\"language\":\"bs\",\"name\":\"боснийский\"},{\"language\":\"cy\",\"name\":\"валлийский\"},{\"language\":\"hu\",\"name\":\"венгерский\"},{\"language\":\"vi\",\"name\":\"вьетнамский\"},{\"language\":\"haw\",\"name\":\"гавайский\"},{\"language\":\"gl\",\"name\":\"галисийский\"},{\"language\":\"el\",\"name\":\"греческий\"},{\"language\":\"ka\",\"name\":\"грузинский\"},{\"language\":\"gu\",\"name\":\"гуджарати\"},{\"language\":\"da\",\"name\":\"датский\"},{\"language\":\"zu\",\"name\":\"зулу\"},{\"language\":\"iw\",\"name\":\"иврит\"},{\"language\":\"ig\",\"name\":\"игбо\"},{\"language\":\"yi\",\"name\":\"идиш\"},{\"language\":\"id\",\"name\":\"индонезийский\"},{\"language\":\"ga\",\"name\":\"ирландский\"},{\"language\":\"is\",\"name\":\"исландский\"},{\"language\":\"es\",\"name\":\"испанский\"},{\"language\":\"it\",\"name\":\"итальянский\"},{\"language\":\"yo\",\"name\":\"йоруба\"},{\"language\":\"kk\",\"name\":\"казахский\"},{\"language\":\"kn\",\"name\":\"каннада\"},{\"language\":\"ca\",\"name\":\"каталанский\"},{\"language\":\"ky\",\"name\":\"киргизский\"},{\"language\":\"zh-TW\",\"name\":\"китайский (традиционный)\"},{\"language\":\"zh-CN\",\"name\":\"китайский (упрощенный)\"},{\"language\":\"ko\",\"name\":\"корейский\"},{\"language\":\"co\",\"name\":\"корсиканский\"},{\"language\":\"ht\",\"name\":\"креольский (Гаити)\"},{\"language\":\"ku\",\"name\":\"курдский (курманджи)\"},{\"language\":\"km\",\"name\":\"кхмерский\"},{\"language\":\"xh\",\"name\":\"кхоса\"},{\"language\":\"lo\",\"name\":\"лаосский\"},{\"language\":\"la\",\"name\":\"латинский\"},{\"language\":\"lv\",\"name\":\"латышский\"},{\"language\":\"lt\",\"name\":\"литовский\"},{\"language\":\"lb\",\"name\":\"люксембургский\"},{\"language\":\"mk\",\"name\":\"македонский\"},{\"language\":\"mg\",\"name\":\"малагасийский\"},{\"language\":\"ms\",\"name\":\"малайский\"},{\"language\":\"ml\",\"name\":\"малаялам\"},{\"language\":\"mt\",\"name\":\"мальтийский\"},{\"language\":\"mi\",\"name\":\"маори\"},{\"language\":\"mr\",\"name\":\"маратхи\"},{\"language\":\"mn\",\"name\":\"монгольский\"},{\"language\":\"de\",\"name\":\"немецкий\"},{\"language\":\"ne\",\"name\":\"непальский\"},{\"language\":\"nl\",\"name\":\"нидерландский\"},{\"language\":\"no\",\"name\":\"норвежский\"},{\"language\":\"or\",\"name\":\"ория\"},{\"language\":\"pa\",\"name\":\"панджаби\"},{\"language\":\"fa\",\"name\":\"персидский\"},{\"language\":\"pl\",\"name\":\"польский\"},{\"language\":\"pt\",\"name\":\"португальский\"},{\"language\":\"ps\",\"name\":\"пушту\"},{\"language\":\"rw\",\"name\":\"руанда\"},{\"language\":\"ro\",\"name\":\"румынский\"},{\"language\":\"ru\",\"name\":\"русский\"},{\"language\":\"sm\",\"name\":\"самоанский\"},{\"language\":\"ceb\",\"name\":\"себуанский\"},{\"language\":\"sr\",\"name\":\"сербский\"},{\"language\":\"st\",\"name\":\"сесото\"},{\"language\":\"si\",\"name\":\"сингальский\"},{\"language\":\"sd\",\"name\":\"синдхи\"},{\"language\":\"sk\",\"name\":\"словацкий\"},{\"language\":\"sl\",\"name\":\"словенский\"},{\"language\":\"so\",\"name\":\"сомалийский\"},{\"language\":\"sw\",\"name\":\"суахили\"},{\"language\":\"su\",\"name\":\"суданский\"},{\"language\":\"tg\",\"name\":\"таджикский\"},{\"language\":\"th\",\"name\":\"тайский\"},{\"language\":\"ta\",\"name\":\"тамильский\"},{\"language\":\"tt\",\"name\":\"татарский\"},{\"language\":\"te\",\"name\":\"телугу\"},{\"language\":\"tr\",\"name\":\"турецкий\"},{\"language\":\"tk\",\"name\":\"туркменский\"},{\"language\":\"uz\",\"name\":\"узбекский\"},{\"language\":\"ug\",\"name\":\"уйгурский\"},{\"language\":\"uk\",\"name\":\"украинский\"},{\"language\":\"ur\",\"name\":\"урду\"},{\"language\":\"tl\",\"name\":\"филиппинский\"},{\"language\":\"fi\",\"name\":\"финский\"},{\"language\":\"fr\",\"name\":\"французский\"},{\"language\":\"fy\",\"name\":\"фризский\"},{\"language\":\"ha\",\"name\":\"хауса\"},{\"language\":\"hi\",\"name\":\"хинди\"},{\"language\":\"hmn\",\"name\":\"хмонг\"},{\"language\":\"hr\",\"name\":\"хорватский\"},{\"language\":\"ny\",\"name\":\"чева\"},{\"language\":\"cs\",\"name\":\"чешский\"},{\"language\":\"sv\",\"name\":\"шведский\"},{\"language\":\"sn\",\"name\":\"шона\"},{\"language\":\"gd\",\"name\":\"шотландский (гэльский)\"},{\"language\":\"eo\",\"name\":\"эсперанто\"},{\"language\":\"et\",\"name\":\"эстонский\"},{\"language\":\"jw\",\"name\":\"яванский\"},{\"language\":\"ja\",\"name\":\"японский\"},{\"language\":\"he\",\"name\":\"иврит\"},{\"language\":\"zh\",\"name\":\"китайский (упрощенный)\"}]}}\n"
     ]
    }
   ],
   "source": [
    "import requests\n",
    "\n",
    "url = \"https://google-translate1.p.rapidapi.com/language/translate/v2/languages\"\n",
    "\n",
    "querystring = {\"target\":\"ru\"}\n",
    "\n",
    "headers = {\n",
    "\t\"Accept-Encoding\": \"application/gzip\",\n",
    "\t\"X-RapidAPI-Host\": \"google-translate1.p.rapidapi.com\",\n",
    "\t\"X-RapidAPI-Key\": \"e5b781254amsh3f03a7c4cc5b555p1ac419jsn7624297fc8d2\"\n",
    "}\n",
    "\n",
    "response = requests.request(\"GET\", url, headers=headers, params=querystring)\n",
    "\n",
    "print(response.text)"
   ]
  },
  {
   "cell_type": "code",
   "execution_count": null,
   "id": "41aa8ad2",
   "metadata": {},
   "outputs": [],
   "source": []
  },
  {
   "cell_type": "code",
   "execution_count": 26,
   "id": "5f9dbd98",
   "metadata": {},
   "outputs": [
    {
     "name": "stdout",
     "output_type": "stream",
     "text": [
      "{\"data\":{\"detections\":[[{\"confidence\":0.8433834910392761,\"isReliable\":false,\"language\":\"ru\"}]]}}\n"
     ]
    }
   ],
   "source": [
    "import requests\n",
    "\n",
    "url = \"https://google-translate1.p.rapidapi.com/language/translate/v2/detect\"\n",
    "\n",
    "payload = \"q=\" + quote('здрасьте')\n",
    "headers = {\n",
    "\t\"content-type\": \"application/x-www-form-urlencoded\",\n",
    "\t\"Accept-Encoding\": \"application/gzip\",\n",
    "\t\"X-RapidAPI-Host\": \"google-translate1.p.rapidapi.com\",\n",
    "\t\"X-RapidAPI-Key\": \"e5b781254amsh3f03a7c4cc5b555p1ac419jsn7624297fc8d2\"\n",
    "}\n",
    "\n",
    "response = requests.request(\"POST\", url, data=payload, headers=headers)\n",
    "\n",
    "print(response.text)"
   ]
  },
  {
   "cell_type": "code",
   "execution_count": null,
   "id": "c695f3d7",
   "metadata": {},
   "outputs": [],
   "source": []
  },
  {
   "cell_type": "code",
   "execution_count": 5,
   "id": "wooden-yeast",
   "metadata": {},
   "outputs": [
    {
     "name": "stdout",
     "output_type": "stream",
     "text": [
      "{\"data\":{\"detections\":[[{\"confidence\":1,\"isReliable\":false,\"language\":\"en\"}]]}}\n"
     ]
    }
   ],
   "source": [
    "import requests\n",
    "\n",
    "url = \"https://google-translate1.p.rapidapi.com/language/translate/v2/detect\"\n",
    "\n",
    "# https://google-translate1.p.rapidapi.com -- адрес сервера.\n",
    "# language/translate/v2/detect - маршрут на сервере. Можно представлять это как папочки на компьютере.\n",
    "# Такой подход позволяет структурировать систему запросов на сервере.\n",
    "# Например, всё, что касается логина пользователя можно внести в /auth/\n",
    "\n",
    "payload = \"q=English%20is%20hard%2C%20but%20detectably%20so\"\n",
    "# Два вида передачи данных:\n",
    "# query -- со строкой запроса\n",
    "# payload -- \n",
    "\n",
    "# https://google-translate1.p.rapidapi.com/language/translate/v2/detect?\n",
    "\n",
    "headers = {\n",
    "\t\"content-type\": \"application/x-www-form-urlencoded\",\n",
    "\t\"Accept-Encoding\": \"application/gzip\",\n",
    "\t\"X-RapidAPI-Host\": \"google-translate1.p.rapidapi.com\",\n",
    "\t\"X-RapidAPI-Key\": \"e5b781254amsh3f03a7c4cc5b555p1ac419jsn7624297fc8d2\"\n",
    "}\n",
    "\n",
    "response = requests.request(\"POST\", url, data=payload, headers=headers)\n",
    "\n",
    "print(response.text)"
   ]
  },
  {
   "cell_type": "code",
   "execution_count": null,
   "id": "guilty-reverse",
   "metadata": {},
   "outputs": [],
   "source": []
  },
  {
   "cell_type": "markdown",
   "id": "coupled-textbook",
   "metadata": {},
   "source": [
    "# Flask"
   ]
  },
  {
   "cell_type": "markdown",
   "id": "random-subject",
   "metadata": {},
   "source": [
    "Теперь напишем собственный сервер. Маленький, но гордый. Да, он не будет доступен людям вовне, но мы сможем с ним поиграть. "
   ]
  },
  {
   "cell_type": "code",
   "execution_count": 4,
   "id": "957cbd0f",
   "metadata": {},
   "outputs": [],
   "source": [
    "# !pip3 install flask"
   ]
  },
  {
   "cell_type": "code",
   "execution_count": 35,
   "id": "respective-pressure",
   "metadata": {},
   "outputs": [
    {
     "name": "stdout",
     "output_type": "stream",
     "text": [
      " * Serving Flask app '__main__' (lazy loading)\n",
      " * Environment: production\n",
      "\u001b[31m   WARNING: This is a development server. Do not use it in a production deployment.\u001b[0m\n",
      "\u001b[2m   Use a production WSGI server instead.\u001b[0m\n",
      " * Debug mode: off\n"
     ]
    },
    {
     "name": "stderr",
     "output_type": "stream",
     "text": [
      " * Running on http://127.0.0.1:5000 (Press CTRL+C to quit)\n",
      "127.0.0.1 - - [07/Jun/2022 18:47:50] \"GET / HTTP/1.1\" 200 -\n"
     ]
    }
   ],
   "source": [
    "from flask import Flask\n",
    "\n",
    "app = Flask(__name__)\n",
    "\n",
    "\n",
    "@app.route(\"/\")\n",
    "def hello():\n",
    "    return \"Hello World!\"\n",
    "\n",
    "\n",
    "if __name__ == \"__main__\":\n",
    "    app.run()"
   ]
  },
  {
   "cell_type": "markdown",
   "id": "1ed1d089",
   "metadata": {},
   "source": [
    "https://docs.microsoft.com/ru-ru/azure/app-service/deploy-zip?tabs=cli"
   ]
  },
  {
   "cell_type": "code",
   "execution_count": 3,
   "id": "ec519735",
   "metadata": {},
   "outputs": [
    {
     "name": "stdout",
     "output_type": "stream",
     "text": [
      " * Serving Flask app '__main__' (lazy loading)\n",
      " * Environment: production\n",
      "\u001b[31m   WARNING: This is a development server. Do not use it in a production deployment.\u001b[0m\n",
      "\u001b[2m   Use a production WSGI server instead.\u001b[0m\n",
      " * Debug mode: off\n"
     ]
    },
    {
     "name": "stderr",
     "output_type": "stream",
     "text": [
      " * Running on http://127.0.0.1:5000 (Press CTRL+C to quit)\n",
      "127.0.0.1 - - [07/Jun/2022 18:59:22] \"GET / HTTP/1.1\" 200 -\n",
      "127.0.0.1 - - [07/Jun/2022 18:59:26] \"POST / HTTP/1.1\" 200 -\n"
     ]
    }
   ],
   "source": [
    "from flask import Flask, request, render_template\n",
    "\n",
    "app = Flask(__name__)\n",
    "\n",
    "@app.route('/')\n",
    "def my_form():\n",
    "    return render_template('form.html')\n",
    "\n",
    "@app.route('/', methods=['POST'])\n",
    "def my_form_post():\n",
    "    a = request.form['text']\n",
    "    b = list(a.split('.'))\n",
    "    del b[len(b) - 1]\n",
    "    res = ''\n",
    "    for i in range (0, len(b)):\n",
    "        d = list((b[i]).split(' '))\n",
    "        d = d[::-1]\n",
    "        first = ''.join(d[0])\n",
    "        first = first.capitalize()\n",
    "        d[0] = str(first)\n",
    "        sent = ' '.join(d)\n",
    "        sent = sent.strip() + '.'\n",
    "        res += sent + ' ' \n",
    "    return res.strip()\n",
    "\n",
    "if __name__ == \"__main__\":\n",
    "    app.run()"
   ]
  },
  {
   "cell_type": "markdown",
   "id": "private-cause",
   "metadata": {},
   "source": [
    "Запустив код выше, ваш семинарист должен запустить другой ноутбук (или штуку типа Postman), чтобы послать запрос на свежесозданный сервер"
   ]
  }
 ],
 "metadata": {
  "kernelspec": {
   "display_name": "Python 3 (ipykernel)",
   "language": "python",
   "name": "python3"
  },
  "language_info": {
   "codemirror_mode": {
    "name": "ipython",
    "version": 3
   },
   "file_extension": ".py",
   "mimetype": "text/x-python",
   "name": "python",
   "nbconvert_exporter": "python",
   "pygments_lexer": "ipython3",
   "version": "3.10.2"
  },
  "toc": {
   "base_numbering": 1,
   "nav_menu": {},
   "number_sections": true,
   "sideBar": true,
   "skip_h1_title": false,
   "title_cell": "Table of Contents",
   "title_sidebar": "Contents",
   "toc_cell": false,
   "toc_position": {},
   "toc_section_display": true,
   "toc_window_display": false
  }
 },
 "nbformat": 4,
 "nbformat_minor": 5
}
