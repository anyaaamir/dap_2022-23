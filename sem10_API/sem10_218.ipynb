{
 "cells": [
  {
   "cell_type": "markdown",
   "id": "936d0780",
   "metadata": {},
   "source": [
    "# Вопросы"
   ]
  },
  {
   "cell_type": "markdown",
   "id": "90d68bc8",
   "metadata": {},
   "source": [
    "- А как сохранит ответ в таблицу .tsv?"
   ]
  },
  {
   "cell_type": "code",
   "execution_count": 15,
   "id": "9c9a1192",
   "metadata": {},
   "outputs": [
    {
     "name": "stdout",
     "output_type": "stream",
     "text": [
      "col1\tcol2\tcol3\n",
      "0\t0\t0\n",
      "0\t1\t2\n",
      "0\t2\t4\n",
      "0\t3\t6\n",
      "0\t4\t8\n"
     ]
    }
   ],
   "source": [
    "x = ['col1\\tcol2\\tcol3']\n",
    "\n",
    "for i in range(5):\n",
    "    z = [str(i*j) for j in range(3)]\n",
    "    h = '\\t'.join(z)\n",
    "    x.append(h)\n",
    "\n",
    "s = '\\n'.join(x)\n",
    "print(s) "
   ]
  },
  {
   "cell_type": "code",
   "execution_count": 18,
   "id": "927c4302",
   "metadata": {},
   "outputs": [],
   "source": [
    "with open('table.tsv', 'w') as f:\n",
    "    f.write(s)"
   ]
  },
  {
   "cell_type": "code",
   "execution_count": 19,
   "id": "0ac2293b",
   "metadata": {},
   "outputs": [
    {
     "name": "stdout",
     "output_type": "stream",
     "text": [
      "col1\tcol2\tcol3\r\n",
      "0\t0\t0\r\n",
      "0\t1\t2\r\n",
      "0\t2\t4\r\n",
      "0\t3\t6\r\n",
      "0\t4\t8"
     ]
    }
   ],
   "source": [
    "!cat table.tsv"
   ]
  },
  {
   "cell_type": "code",
   "execution_count": null,
   "id": "a2e23cd4",
   "metadata": {},
   "outputs": [],
   "source": [
    "# В целом для удобной работы с таблицами есть \n",
    "# библиотека pandas, но ей пока нельзя пользоваться"
   ]
  },
  {
   "cell_type": "markdown",
   "id": "e8656e9a",
   "metadata": {},
   "source": [
    "__Вопрос:__ а реши задачу про тэги плиз"
   ]
  },
  {
   "cell_type": "code",
   "execution_count": 29,
   "id": "60ad1e25",
   "metadata": {},
   "outputs": [],
   "source": [
    "with open('tweets.txt', 'r') as f:\n",
    "    x = f.readlines()\n",
    "    \n",
    "dct = dict()\n",
    "\n",
    "for s in x:\n",
    "    for word in s.strip().split(' '):\n",
    "        if word[0] == '#':\n",
    "            if word in dct:\n",
    "                dct[word] += 1\n",
    "            else:\n",
    "                dct[word] = 1\n",
    "\n",
    "ans_file = open('own_tag.txt', 'w')\n",
    "for k,v in sorted(dct.items(), key=lambda w: w[1], reverse=True):\n",
    "    ans_str = f\"тег: {k}, упоминаний: {v}\\n\"\n",
    "    ans_file.write(ans_str)\n",
    "ans_file.close()"
   ]
  },
  {
   "cell_type": "code",
   "execution_count": 30,
   "id": "b80945f8",
   "metadata": {},
   "outputs": [
    {
     "name": "stdout",
     "output_type": "stream",
     "text": [
      "тег: #lorem, упоминаний: 7\r\n",
      "тег: #dolor, упоминаний: 6\r\n",
      "тег: #hendrerit, упоминаний: 5\r\n",
      "тег: #risus, упоминаний: 4\r\n",
      "тег: #ipsum, упоминаний: 3\r\n",
      "тег: #diam, упоминаний: 2\r\n",
      "тег: #felis, упоминаний: 1\r\n"
     ]
    }
   ],
   "source": [
    "!cat own_tag.txt"
   ]
  },
  {
   "cell_type": "code",
   "execution_count": 32,
   "id": "8eb8535c",
   "metadata": {},
   "outputs": [
    {
     "name": "stdout",
     "output_type": "stream",
     "text": [
      "тег: #lorem, упоминаний: 7\r\n",
      "тег: #dolor, упоминаний: 6\r\n",
      "тег: #hendrerit, упоминаний: 5\r\n",
      "тег: #risus, упоминаний: 4\r\n",
      "тег: #ipsum, упоминаний: 3\r\n",
      "тег: #diam, упоминаний: 2\r\n",
      "тег: #felis, упоминаний: 1"
     ]
    }
   ],
   "source": [
    "!cat tags.txt"
   ]
  },
  {
   "cell_type": "markdown",
   "id": "3aafc2d8",
   "metadata": {},
   "source": [
    "__Вопрос:__ задача про Бабушкинскую"
   ]
  },
  {
   "cell_type": "code",
   "execution_count": 10,
   "id": "7933c94d",
   "metadata": {},
   "outputs": [
    {
     "name": "stdout",
     "output_type": "stream",
     "text": [
      "7777,3,Бабушкинская,1500\r\n",
      "777,3,Бабушкинская,100\r\n",
      "7778,3,Маяковская,2200\r\n",
      "7779,3,Бабушкинская,500\r\n",
      "774,3,Маяковская,1000\r\n",
      "727,3,Пушкинская,2500\r\n",
      "7227,3,Белорусская,100\r\n",
      "717,3,Белорусская,300\r\n",
      "888,3,Белорусская,100\r\n",
      "322,3,Бабушкинская,4400"
     ]
    }
   ],
   "source": [
    "appartments = \"\"\"7777,3,Бабушкинская,1500\n",
    "777,3,Бабушкинская,100\n",
    "7778,3,Маяковская,2200\n",
    "7779,3,Бабушкинская,500\n",
    "774,3,Маяковская,1000\n",
    "727,3,Пушкинская,2500\n",
    "7227,3,Белорусская,100\n",
    "717,3,Белорусская,300\n",
    "888,3,Белорусская,100\n",
    "322,3,Бабушкинская,4400\"\"\"\n",
    "\n",
    "with open('appartments.csv', 'w') as f:\n",
    "    f.write(appartments)\n",
    "    \n",
    "!cat appartments.csv"
   ]
  },
  {
   "cell_type": "code",
   "execution_count": 25,
   "id": "344a8fed",
   "metadata": {},
   "outputs": [
    {
     "name": "stdout",
     "output_type": "stream",
     "text": [
      "Белорусская\n"
     ]
    }
   ],
   "source": [
    "metro = input()\n",
    "\n",
    "with open('appartments.csv', 'r') as f:\n",
    "    x = f.readlines()\n",
    "\n",
    "ans = []\n",
    "for row in x:\n",
    "    item = row.strip().split(',')\n",
    "    if item[2] == metro:\n",
    "        ans.append(item)\n",
    "\n",
    "ans = sorted(ans, key=lambda w: float(w[-1]), reverse=True)\n",
    "\n",
    "with open('filtred_appartmentss.csv', 'w') as f:\n",
    "    f.write('\\n'.join([','.join(row) for row in ans]))"
   ]
  },
  {
   "cell_type": "code",
   "execution_count": 26,
   "id": "5478983f",
   "metadata": {},
   "outputs": [
    {
     "name": "stdout",
     "output_type": "stream",
     "text": [
      "717,3,Белорусская,300\r\n",
      "7227,3,Белорусская,100\r\n",
      "888,3,Белорусская,100"
     ]
    }
   ],
   "source": [
    "!cat filtred_appartmentss.csv"
   ]
  },
  {
   "cell_type": "markdown",
   "id": "839fe27e",
   "metadata": {},
   "source": [
    "__Вопрос:__ задача про фигуристов"
   ]
  },
  {
   "cell_type": "code",
   "execution_count": 36,
   "id": "a6552377",
   "metadata": {},
   "outputs": [
    {
     "name": "stdout",
     "output_type": "stream",
     "text": [
      "8 место - Ксения Монько / Кирилл Халявин, Россия\r\n",
      "18 место - Каролина Москени / Адам Лукач, Венгрия\r\n",
      "15 место - Федерика Теста / Лукаш Цолли, Словакия\r\n",
      "20 место - Элисон Рид / Василий Рогов, Израиль\r\n",
      "10 место - Мэдисон Хаббелл / Закари Донохью, США\r\n",
      "19 место - Ван Шиюэ / Лю Синьюй, КНР\r\n",
      "17 место - Александра Назарова / Максим Никитин, Украина\r\n",
      "11 место - Лоуренс Фурнье-Бодри / Николай Сёренсен, Дания\r\n",
      "7 место - Елена Ильиных / Руслан Жиганшин, Россия\r\n",
      "5 место - Майя Шибутани / Алекс Шибутани, США\r\n",
      "6 место - Пайпер Гиллес / Поль Пуарье, Канада\r\n",
      "12 место - Шарлен Гиньяр / Марко Фаббри, Италия\r\n",
      "3 место - Кэйтлин Уивер / Эндрю Поже, Канада\r\n",
      "2 место - Мэдисон Чок / Эван Бейтс, США\r\n",
      "14 место - Сара Уртадо / Адрия Диас, Испания\r\n",
      "16 место - Алиса Агафонова / Альпер Учар, Турция\r\n",
      "4 место - Анна Каппеллини / Лука Ланотте, Италия\r\n",
      "13 место - Александра Пол / Митчелл Ислам, Канада\r\n",
      "1 место - Габриэла Пападакис / Гийом Сизерон, Франция\r\n",
      "10 место - Александра Степанова / Иван Букин, Россия"
     ]
    }
   ],
   "source": [
    "appartments = \"\"\"8 место - Ксения Монько / Кирилл Халявин, Россия\n",
    "18 место - Каролина Москени / Адам Лукач, Венгрия\n",
    "15 место - Федерика Теста / Лукаш Цолли, Словакия\n",
    "20 место - Элисон Рид / Василий Рогов, Израиль\n",
    "10 место - Мэдисон Хаббелл / Закари Донохью, США\n",
    "19 место - Ван Шиюэ / Лю Синьюй, КНР\n",
    "17 место - Александра Назарова / Максим Никитин, Украина\n",
    "11 место - Лоуренс Фурнье-Бодри / Николай Сёренсен, Дания\n",
    "7 место - Елена Ильиных / Руслан Жиганшин, Россия\n",
    "5 место - Майя Шибутани / Алекс Шибутани, США\n",
    "6 место - Пайпер Гиллес / Поль Пуарье, Канада\n",
    "12 место - Шарлен Гиньяр / Марко Фаббри, Италия\n",
    "3 место - Кэйтлин Уивер / Эндрю Поже, Канада\n",
    "2 место - Мэдисон Чок / Эван Бейтс, США\n",
    "14 место - Сара Уртадо / Адрия Диас, Испания\n",
    "16 место - Алиса Агафонова / Альпер Учар, Турция\n",
    "4 место - Анна Каппеллини / Лука Ланотте, Италия\n",
    "13 место - Александра Пол / Митчелл Ислам, Канада\n",
    "1 место - Габриэла Пападакис / Гийом Сизерон, Франция\n",
    "10 место - Александра Степанова / Иван Букин, Россия\"\"\"\n",
    "\n",
    "with open('skating.txt', 'w') as f:\n",
    "    f.write(appartments)\n",
    "    \n",
    "!cat skating.txt"
   ]
  },
  {
   "cell_type": "code",
   "execution_count": 47,
   "id": "436c329b",
   "metadata": {},
   "outputs": [
    {
     "name": "stdout",
     "output_type": "stream",
     "text": [
      "7 место - Елена Ильиных / Руслан Жиганшин, Россия\r\n",
      "8 место - Ксения Монько / Кирилл Халявин, Россия\r\n",
      "10 место - Александра Степанова / Иван Букин, Россия"
     ]
    }
   ],
   "source": [
    "country = 'Россия' # input()\n",
    "\n",
    "with open('skating.txt', 'r', encoding='utf-8') as f:\n",
    "    x = f.readlines()\n",
    "\n",
    "ans = []\n",
    "for item in x:\n",
    "    row = item.strip().split(', ')\n",
    "    if row[-1] == country:\n",
    "        ans.append(item.strip())\n",
    "        \n",
    "ans = '\\n'.join(sorted(ans, key=lambda w: float(w.split(' ')[0]), reverse=False))\n",
    "\n",
    "with open('results.txt', 'w', encoding='utf-8') as f:\n",
    "    f.write(ans)\n",
    "    \n",
    "!cat results.txt"
   ]
  },
  {
   "cell_type": "markdown",
   "id": "5cd3d6b3",
   "metadata": {},
   "source": [
    "__Вопрос:__ а что такое utf-8? "
   ]
  },
  {
   "cell_type": "code",
   "execution_count": 27,
   "id": "89c99a0d",
   "metadata": {},
   "outputs": [
    {
     "data": {
      "text/plain": [
       "256"
      ]
     },
     "execution_count": 27,
     "metadata": {},
     "output_type": "execute_result"
    }
   ],
   "source": [
    "2**8  # количество символов в 1 байте"
   ]
  },
  {
   "cell_type": "code",
   "execution_count": 28,
   "id": "e751ec02",
   "metadata": {},
   "outputs": [
    {
     "data": {
      "text/plain": [
       "1103"
      ]
     },
     "execution_count": 28,
     "metadata": {},
     "output_type": "execute_result"
    }
   ],
   "source": [
    "ord('я')"
   ]
  },
  {
   "cell_type": "code",
   "execution_count": 30,
   "id": "c4f1b47f",
   "metadata": {},
   "outputs": [
    {
     "data": {
      "text/plain": [
       "1102"
      ]
     },
     "execution_count": 30,
     "metadata": {},
     "output_type": "execute_result"
    }
   ],
   "source": [
    "ord('ю')"
   ]
  },
  {
   "cell_type": "code",
   "execution_count": 34,
   "id": "a512de42",
   "metadata": {},
   "outputs": [
    {
     "data": {
      "text/plain": [
       "1105"
      ]
     },
     "execution_count": 34,
     "metadata": {},
     "output_type": "execute_result"
    }
   ],
   "source": [
    "ord('ё')"
   ]
  },
  {
   "cell_type": "code",
   "execution_count": 32,
   "id": "74ea5363",
   "metadata": {},
   "outputs": [
    {
     "data": {
      "text/plain": [
       "True"
      ]
     },
     "execution_count": 32,
     "metadata": {},
     "output_type": "execute_result"
    }
   ],
   "source": [
    "'ю' < 'я'"
   ]
  },
  {
   "cell_type": "code",
   "execution_count": 33,
   "id": "6536f54d",
   "metadata": {},
   "outputs": [
    {
     "data": {
      "text/plain": [
       "False"
      ]
     },
     "execution_count": 33,
     "metadata": {},
     "output_type": "execute_result"
    }
   ],
   "source": [
    "'ё' < 'я'"
   ]
  },
  {
   "cell_type": "markdown",
   "id": "30b2794e",
   "metadata": {},
   "source": [
    "Вопрос про функцию"
   ]
  },
  {
   "cell_type": "code",
   "execution_count": null,
   "id": "e8b37bbe",
   "metadata": {},
   "outputs": [],
   "source": [
    "def check_first_letter(word, letter):\n",
    "    return word[0] == letter"
   ]
  },
  {
   "cell_type": "code",
   "execution_count": null,
   "id": "ad1b02f5",
   "metadata": {},
   "outputs": [],
   "source": []
  },
  {
   "cell_type": "markdown",
   "id": "c1a8a59e",
   "metadata": {},
   "source": [
    "  "
   ]
  }
 ],
 "metadata": {
  "kernelspec": {
   "display_name": "Python 3 (ipykernel)",
   "language": "python",
   "name": "python3"
  },
  "language_info": {
   "codemirror_mode": {
    "name": "ipython",
    "version": 3
   },
   "file_extension": ".py",
   "mimetype": "text/x-python",
   "name": "python",
   "nbconvert_exporter": "python",
   "pygments_lexer": "ipython3",
   "version": "3.9.13"
  }
 },
 "nbformat": 4,
 "nbformat_minor": 5
}
