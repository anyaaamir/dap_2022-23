{
 "cells": [
  {
   "cell_type": "markdown",
   "metadata": {
    "toc": true
   },
   "source": [
    "<h1>Table of Contents<span class=\"tocSkip\"></span></h1>\n",
    "<div class=\"toc\"><ul class=\"toc-item\"><li><span><a href=\"#База\" data-toc-modified-id=\"База-1\"><span class=\"toc-item-num\">1&nbsp;&nbsp;</span>База</a></span></li><li><span><a href=\"#Проход-по-страницам\" data-toc-modified-id=\"Проход-по-страницам-2\"><span class=\"toc-item-num\">2&nbsp;&nbsp;</span>Проход по страницам</a></span></li><li><span><a href=\"#Проход-по-страницам-объектов\" data-toc-modified-id=\"Проход-по-страницам-объектов-3\"><span class=\"toc-item-num\">3&nbsp;&nbsp;</span>Проход по страницам объектов</a></span></li><li><span><a href=\"#Умные-трюки-для-парсинга\" data-toc-modified-id=\"Умные-трюки-для-парсинга-4\"><span class=\"toc-item-num\">4&nbsp;&nbsp;</span>Умные трюки для парсинга</a></span></li><li><span><a href=\"#Еще-какой-то-код\" data-toc-modified-id=\"Еще-какой-то-код-5\"><span class=\"toc-item-num\">5&nbsp;&nbsp;</span>Еще какой-то код</a></span><ul class=\"toc-item\"><li><span><a href=\"#авито\" data-toc-modified-id=\"авито-5.1\"><span class=\"toc-item-num\">5.1&nbsp;&nbsp;</span>авито</a></span></li><li><span><a href=\"#циан\" data-toc-modified-id=\"циан-5.2\"><span class=\"toc-item-num\">5.2&nbsp;&nbsp;</span>циан</a></span></li></ul></li></ul></div>"
   ]
  },
  {
   "cell_type": "markdown",
   "metadata": {
    "id": "FDgC_1VeNNKa"
   },
   "source": [
    "## База"
   ]
  },
  {
   "cell_type": "code",
   "execution_count": 1,
   "metadata": {
    "colab": {
     "base_uri": "https://localhost:8080/"
    },
    "id": "Np9l2b486WUn",
    "outputId": "afe08e25-5c2c-4722-89c3-82ef333a9e9b"
   },
   "outputs": [
    {
     "name": "stdout",
     "output_type": "stream",
     "text": [
      "Looking in indexes: https://pypi.org/simple, https://us-python.pkg.dev/colab-wheels/public/simple/\n",
      "Collecting fake_useragent\n",
      "  Downloading fake-useragent-0.1.11.tar.gz (13 kB)\n",
      "Building wheels for collected packages: fake-useragent\n",
      "  Building wheel for fake-useragent (setup.py) ... \u001b[?25l\u001b[?25hdone\n",
      "  Created wheel for fake-useragent: filename=fake_useragent-0.1.11-py3-none-any.whl size=13502 sha256=eb364872f55e3918f8b108f9c80acb16ab2a284cc0ffe67d9c1a73c7e126e233\n",
      "  Stored in directory: /root/.cache/pip/wheels/ed/f7/62/50ab6c9a0b5567267ab76a9daa9d06315704209b2c5d032031\n",
      "Successfully built fake-useragent\n",
      "Installing collected packages: fake-useragent\n",
      "Successfully installed fake-useragent-0.1.11\n"
     ]
    }
   ],
   "source": [
    "# пригодится далее\n",
    "! pip install fake_useragent"
   ]
  },
  {
   "cell_type": "code",
   "execution_count": 1,
   "metadata": {
    "id": "WotNcVsockzf"
   },
   "outputs": [],
   "source": [
    "# основные библиотеки для парсинга\n",
    "import requests  \n",
    "from bs4 import BeautifulSoup"
   ]
  },
  {
   "cell_type": "code",
   "execution_count": 3,
   "metadata": {
    "colab": {
     "base_uri": "https://localhost:8080/"
    },
    "id": "MxD0b3owclyF",
    "outputId": "1bcbef74-2aef-4312-e184-d502264a2ed7"
   },
   "outputs": [
    {
     "data": {
      "text/plain": [
       "<Response [200]>"
      ]
     },
     "execution_count": 3,
     "metadata": {},
     "output_type": "execute_result"
    }
   ],
   "source": [
    "# делаем запрос на сайт\n",
    "url = 'http://books.toscrape.com/catalogue/page-1.html'\n",
    "response = requests.get(url)\n",
    "response\n"
   ]
  },
  {
   "cell_type": "code",
   "execution_count": 4,
   "metadata": {
    "colab": {
     "base_uri": "https://localhost:8080/"
    },
    "id": "E583pGhucpw3",
    "outputId": "4a47ac65-84c4-4650-fce5-74f97d609eaf"
   },
   "outputs": [
    {
     "data": {
      "text/plain": [
       "b'\\n\\n<!DOCTYPE html>\\n<!--[if lt IE 7]>      <html lang=\"en-us\" class=\"no-js lt-ie9 lt-ie8 lt-ie7\"> <![endif]-->\\n<!--[if IE 7]>         <html lang=\"en-us\" class=\"no-js lt-ie9 lt-ie8\"> <![endif]-->\\n<!--[if IE 8]>         <html lang=\"en-us\" class=\"no-js lt-ie9\"> <![endif]-->\\n<!--[if gt IE 8]><!--> <html lang=\"en-us\" class=\"no-js\"> <!--<![endif]-->\\n    <head>\\n        <title>\\n    All products | Books to Scrape - Sandbox\\n</title>\\n\\n        <meta http-equiv=\"content-type\" content=\"text/html; charset=UTF-8\" />\\n        <meta name=\"created\" content=\"24th Jun 2016 09:30\" />\\n        <meta name=\"description\" content=\"\" />\\n        <meta name=\"viewport\" content=\"width=device-width\" />\\n        <meta name=\"robots\" content=\"NOARCHIVE,NOCACHE\" />\\n\\n        <!-- Le HTML5 shim, for IE6-8 support of HTML elements -->\\n        <!--[if lt IE 9]>\\n        <script src=\"//html5shim.googlecode.com/svn/trunk/html5.js\"></script>\\n        <![endif]-->\\n\\n        \\n            <link rel=\"shortcut icon\" href=\"../static/oscar/fav'"
      ]
     },
     "execution_count": 4,
     "metadata": {},
     "output_type": "execute_result"
    }
   ],
   "source": [
    "# вот так выглядит HTML код сайта\n",
    "response.content[:1000]"
   ]
  },
  {
   "cell_type": "code",
   "execution_count": 5,
   "metadata": {
    "id": "KyDPntGLtm8F"
   },
   "outputs": [],
   "source": [
    "# достаем структуру сайта\n",
    "tree = BeautifulSoup(response.content, 'html.parser')\n",
    "# tree"
   ]
  },
  {
   "cell_type": "code",
   "execution_count": 6,
   "metadata": {
    "colab": {
     "base_uri": "https://localhost:8080/",
     "height": 35
    },
    "id": "wm8cbjy5t9GN",
    "outputId": "03dacdc5-0dc1-4a5b-e719-4c063f94caf4"
   },
   "outputs": [
    {
     "data": {
      "application/vnd.google.colaboratory.intrinsic+json": {
       "type": "string"
      },
      "text/plain": [
       "'All products | Books to Scrape - Sandbox'"
      ]
     },
     "execution_count": 6,
     "metadata": {},
     "output_type": "execute_result"
    }
   ],
   "source": [
    "# нашли по тегу title название книги\n",
    "tree.title.text.strip()"
   ]
  },
  {
   "cell_type": "code",
   "execution_count": 7,
   "metadata": {
    "colab": {
     "base_uri": "https://localhost:8080/"
    },
    "id": "0W2Kc5GHFm82",
    "outputId": "c2c5d985-37d1-4082-9927-64330add95d0"
   },
   "outputs": [
    {
     "data": {
      "text/plain": [
       "<h3><a href=\"a-light-in-the-attic_1000/index.html\" title=\"A Light in the Attic\">A Light in the ...</a></h3>"
      ]
     },
     "execution_count": 7,
     "metadata": {},
     "output_type": "execute_result"
    }
   ],
   "source": [
    "# нашли первый h3 \n",
    "tree.find('h3')"
   ]
  },
  {
   "cell_type": "code",
   "execution_count": 8,
   "metadata": {
    "colab": {
     "base_uri": "https://localhost:8080/"
    },
    "id": "6tPgSqY7Fhnt",
    "outputId": "a9c06af8-6f75-4bfd-d045-6dbe80a71103"
   },
   "outputs": [
    {
     "data": {
      "text/plain": [
       "[<h3><a href=\"a-light-in-the-attic_1000/index.html\" title=\"A Light in the Attic\">A Light in the ...</a></h3>,\n",
       " <h3><a href=\"tipping-the-velvet_999/index.html\" title=\"Tipping the Velvet\">Tipping the Velvet</a></h3>,\n",
       " <h3><a href=\"soumission_998/index.html\" title=\"Soumission\">Soumission</a></h3>,\n",
       " <h3><a href=\"sharp-objects_997/index.html\" title=\"Sharp Objects\">Sharp Objects</a></h3>,\n",
       " <h3><a href=\"sapiens-a-brief-history-of-humankind_996/index.html\" title=\"Sapiens: A Brief History of Humankind\">Sapiens: A Brief History ...</a></h3>,\n",
       " <h3><a href=\"the-requiem-red_995/index.html\" title=\"The Requiem Red\">The Requiem Red</a></h3>,\n",
       " <h3><a href=\"the-dirty-little-secrets-of-getting-your-dream-job_994/index.html\" title=\"The Dirty Little Secrets of Getting Your Dream Job\">The Dirty Little Secrets ...</a></h3>,\n",
       " <h3><a href=\"the-coming-woman-a-novel-based-on-the-life-of-the-infamous-feminist-victoria-woodhull_993/index.html\" title=\"The Coming Woman: A Novel Based on the Life of the Infamous Feminist, Victoria Woodhull\">The Coming Woman: A ...</a></h3>,\n",
       " <h3><a href=\"the-boys-in-the-boat-nine-americans-and-their-epic-quest-for-gold-at-the-1936-berlin-olympics_992/index.html\" title=\"The Boys in the Boat: Nine Americans and Their Epic Quest for Gold at the 1936 Berlin Olympics\">The Boys in the ...</a></h3>,\n",
       " <h3><a href=\"the-black-maria_991/index.html\" title=\"The Black Maria\">The Black Maria</a></h3>,\n",
       " <h3><a href=\"starving-hearts-triangular-trade-trilogy-1_990/index.html\" title=\"Starving Hearts (Triangular Trade Trilogy, #1)\">Starving Hearts (Triangular Trade ...</a></h3>,\n",
       " <h3><a href=\"shakespeares-sonnets_989/index.html\" title=\"Shakespeare's Sonnets\">Shakespeare's Sonnets</a></h3>,\n",
       " <h3><a href=\"set-me-free_988/index.html\" title=\"Set Me Free\">Set Me Free</a></h3>,\n",
       " <h3><a href=\"scott-pilgrims-precious-little-life-scott-pilgrim-1_987/index.html\" title=\"Scott Pilgrim's Precious Little Life (Scott Pilgrim #1)\">Scott Pilgrim's Precious Little ...</a></h3>,\n",
       " <h3><a href=\"rip-it-up-and-start-again_986/index.html\" title=\"Rip it Up and Start Again\">Rip it Up and ...</a></h3>,\n",
       " <h3><a href=\"our-band-could-be-your-life-scenes-from-the-american-indie-underground-1981-1991_985/index.html\" title=\"Our Band Could Be Your Life: Scenes from the American Indie Underground, 1981-1991\">Our Band Could Be ...</a></h3>,\n",
       " <h3><a href=\"olio_984/index.html\" title=\"Olio\">Olio</a></h3>,\n",
       " <h3><a href=\"mesaerion-the-best-science-fiction-stories-1800-1849_983/index.html\" title=\"Mesaerion: The Best Science Fiction Stories 1800-1849\">Mesaerion: The Best Science ...</a></h3>,\n",
       " <h3><a href=\"libertarianism-for-beginners_982/index.html\" title=\"Libertarianism for Beginners\">Libertarianism for Beginners</a></h3>,\n",
       " <h3><a href=\"its-only-the-himalayas_981/index.html\" title=\"It's Only the Himalayas\">It's Only the Himalayas</a></h3>]"
      ]
     },
     "execution_count": 8,
     "metadata": {},
     "output_type": "execute_result"
    }
   ],
   "source": [
    "# здесь по тегу h3 нашли все книги на странице\n",
    "tree.find_all('h3')"
   ]
  },
  {
   "cell_type": "code",
   "execution_count": 9,
   "metadata": {
    "colab": {
     "base_uri": "https://localhost:8080/"
    },
    "id": "wlMGsfAuvI22",
    "outputId": "c5107b2f-2066-40db-952a-da1e365e88fd"
   },
   "outputs": [
    {
     "data": {
      "text/plain": [
       "20"
      ]
     },
     "execution_count": 9,
     "metadata": {},
     "output_type": "execute_result"
    }
   ],
   "source": [
    "len(tree.find_all('h3'))"
   ]
  },
  {
   "cell_type": "code",
   "execution_count": 10,
   "metadata": {
    "colab": {
     "base_uri": "https://localhost:8080/",
     "height": 35
    },
    "id": "RawUBhA8uh2T",
    "outputId": "1edf3f55-38e2-4763-d0a5-e4c5da0f20a7"
   },
   "outputs": [
    {
     "data": {
      "application/vnd.google.colaboratory.intrinsic+json": {
       "type": "string"
      },
      "text/plain": [
       "'a-light-in-the-attic_1000/index.html'"
      ]
     },
     "execution_count": 10,
     "metadata": {},
     "output_type": "execute_result"
    }
   ],
   "source": [
    "# взяли первую книгу и достали её ссылку через тег a и атрибут href\n",
    "tree.find_all('h3')[0].a.get('href')"
   ]
  },
  {
   "cell_type": "code",
   "execution_count": 11,
   "metadata": {
    "colab": {
     "base_uri": "https://localhost:8080/",
     "height": 35
    },
    "id": "DZqmTctZu0Vd",
    "outputId": "cdeec6fb-f1ee-4fc1-d31d-b6fe5b1e306c"
   },
   "outputs": [
    {
     "data": {
      "application/vnd.google.colaboratory.intrinsic+json": {
       "type": "string"
      },
      "text/plain": [
       "'A Light in the Attic'"
      ]
     },
     "execution_count": 11,
     "metadata": {},
     "output_type": "execute_result"
    }
   ],
   "source": [
    "# взяли первую книгу и достали её название через тег a и атрибут title\n",
    "tree.find_all('h3')[0].a.get('title')"
   ]
  },
  {
   "cell_type": "markdown",
   "metadata": {
    "id": "_Ysj8Hw6NIdn"
   },
   "source": [
    "## Проход по страницам"
   ]
  },
  {
   "cell_type": "code",
   "execution_count": 12,
   "metadata": {
    "id": "kvXF3HKmGqiU"
   },
   "outputs": [],
   "source": [
    "# все книжки на одной странице\n",
    "books_on_one_page = tree.find_all('h3')"
   ]
  },
  {
   "cell_type": "code",
   "execution_count": 13,
   "metadata": {
    "id": "j4uXArU3H-bS"
   },
   "outputs": [],
   "source": [
    "# загрузим полезные модули\n",
    "from collections import defaultdict as dd\n",
    "\n",
    "# из pandas берем удобные функции для таблиц. можно не использовать её\n",
    "import pandas as pd\n",
    "\n",
    "# визуализация циклов\n",
    "from tqdm.notebook import tqdm\n",
    "\n",
    "import time\n",
    "import os\n",
    "from fake_useragent import UserAgent"
   ]
  },
  {
   "cell_type": "code",
   "execution_count": 14,
   "metadata": {
    "colab": {
     "base_uri": "https://localhost:8080/"
    },
    "id": "VFyzp95FHMHM",
    "outputId": "dcef936c-eba6-44dc-fe44-21a539af7902"
   },
   "outputs": [
    {
     "data": {
      "text/plain": [
       "{'a-light-in-the-attic_1000/index.html': {'title': 'A Light in the Attic'},\n",
       " 'its-only-the-himalayas_981/index.html': {'title': \"It's Only the Himalayas\"},\n",
       " 'libertarianism-for-beginners_982/index.html': {'title': 'Libertarianism for Beginners'},\n",
       " 'mesaerion-the-best-science-fiction-stories-1800-1849_983/index.html': {'title': 'Mesaerion: The Best Science Fiction Stories 1800-1849'},\n",
       " 'olio_984/index.html': {'title': 'Olio'},\n",
       " 'our-band-could-be-your-life-scenes-from-the-american-indie-underground-1981-1991_985/index.html': {'title': 'Our Band Could Be Your Life: Scenes from the American Indie Underground, 1981-1991'},\n",
       " 'rip-it-up-and-start-again_986/index.html': {'title': 'Rip it Up and Start Again'},\n",
       " 'sapiens-a-brief-history-of-humankind_996/index.html': {'title': 'Sapiens: A Brief History of Humankind'},\n",
       " 'scott-pilgrims-precious-little-life-scott-pilgrim-1_987/index.html': {'title': \"Scott Pilgrim's Precious Little Life (Scott Pilgrim #1)\"},\n",
       " 'set-me-free_988/index.html': {'title': 'Set Me Free'},\n",
       " 'shakespeares-sonnets_989/index.html': {'title': \"Shakespeare's Sonnets\"},\n",
       " 'sharp-objects_997/index.html': {'title': 'Sharp Objects'},\n",
       " 'soumission_998/index.html': {'title': 'Soumission'},\n",
       " 'starving-hearts-triangular-trade-trilogy-1_990/index.html': {'title': 'Starving Hearts (Triangular Trade Trilogy, #1)'},\n",
       " 'the-black-maria_991/index.html': {'title': 'The Black Maria'},\n",
       " 'the-boys-in-the-boat-nine-americans-and-their-epic-quest-for-gold-at-the-1936-berlin-olympics_992/index.html': {'title': 'The Boys in the Boat: Nine Americans and Their Epic Quest for Gold at the 1936 Berlin Olympics'},\n",
       " 'the-coming-woman-a-novel-based-on-the-life-of-the-infamous-feminist-victoria-woodhull_993/index.html': {'title': 'The Coming Woman: A Novel Based on the Life of the Infamous Feminist, Victoria Woodhull'},\n",
       " 'the-dirty-little-secrets-of-getting-your-dream-job_994/index.html': {'title': 'The Dirty Little Secrets of Getting Your Dream Job'},\n",
       " 'the-requiem-red_995/index.html': {'title': 'The Requiem Red'},\n",
       " 'tipping-the-velvet_999/index.html': {'title': 'Tipping the Velvet'}}"
      ]
     },
     "execution_count": 14,
     "metadata": {},
     "output_type": "execute_result"
    }
   ],
   "source": [
    "# парсим одну страницу\n",
    "d = dd(lambda:{})\n",
    "for book in books_on_one_page:\n",
    "    href = book.a.get('href')\n",
    "    title = book.a.get('title')\n",
    "    d[href] = {'title':title}\n",
    "dict(d)"
   ]
  },
  {
   "cell_type": "code",
   "execution_count": 15,
   "metadata": {
    "id": "JS0oDafTGuh2"
   },
   "outputs": [],
   "source": [
    "# парсим 50 страниц\n",
    "d = dd(lambda:{})\n",
    "for page in range(1,51):\n",
    "    url = f'http://books.toscrape.com/catalogue/page-{page}.html'\n",
    "    response = requests.get(url)\n",
    "    tree = BeautifulSoup(response.content, 'html.parser')\n",
    "    books_on_one_page = tree.find_all('h3')\n",
    "    for book in books_on_one_page:\n",
    "        href = book.a.get('href')\n",
    "        title = book.a.get('title')\n",
    "        d[href] = {'title':title}"
   ]
  },
  {
   "cell_type": "code",
   "execution_count": 16,
   "metadata": {
    "colab": {
     "base_uri": "https://localhost:8080/",
     "height": 424
    },
    "id": "wc6RoyWpGqf8",
    "outputId": "6b23abc6-feef-4ac1-dc63-0c18e6bcd400"
   },
   "outputs": [
    {
     "data": {
      "text/html": [
       "\n",
       "  <div id=\"df-df23dfcd-4e5a-4a3b-a59c-0139d3d695be\">\n",
       "    <div class=\"colab-df-container\">\n",
       "      <div>\n",
       "<style scoped>\n",
       "    .dataframe tbody tr th:only-of-type {\n",
       "        vertical-align: middle;\n",
       "    }\n",
       "\n",
       "    .dataframe tbody tr th {\n",
       "        vertical-align: top;\n",
       "    }\n",
       "\n",
       "    .dataframe thead th {\n",
       "        text-align: right;\n",
       "    }\n",
       "</style>\n",
       "<table border=\"1\" class=\"dataframe\">\n",
       "  <thead>\n",
       "    <tr style=\"text-align: right;\">\n",
       "      <th></th>\n",
       "      <th>title</th>\n",
       "    </tr>\n",
       "  </thead>\n",
       "  <tbody>\n",
       "    <tr>\n",
       "      <th>a-light-in-the-attic_1000/index.html</th>\n",
       "      <td>A Light in the Attic</td>\n",
       "    </tr>\n",
       "    <tr>\n",
       "      <th>tipping-the-velvet_999/index.html</th>\n",
       "      <td>Tipping the Velvet</td>\n",
       "    </tr>\n",
       "    <tr>\n",
       "      <th>soumission_998/index.html</th>\n",
       "      <td>Soumission</td>\n",
       "    </tr>\n",
       "    <tr>\n",
       "      <th>sharp-objects_997/index.html</th>\n",
       "      <td>Sharp Objects</td>\n",
       "    </tr>\n",
       "    <tr>\n",
       "      <th>sapiens-a-brief-history-of-humankind_996/index.html</th>\n",
       "      <td>Sapiens: A Brief History of Humankind</td>\n",
       "    </tr>\n",
       "    <tr>\n",
       "      <th>...</th>\n",
       "      <td>...</td>\n",
       "    </tr>\n",
       "    <tr>\n",
       "      <th>alice-in-wonderland-alices-adventures-in-wonderland-1_5/index.html</th>\n",
       "      <td>Alice in Wonderland (Alice's Adventures in Won...</td>\n",
       "    </tr>\n",
       "    <tr>\n",
       "      <th>ajin-demi-human-volume-1-ajin-demi-human-1_4/index.html</th>\n",
       "      <td>Ajin: Demi-Human, Volume 1 (Ajin: Demi-Human #1)</td>\n",
       "    </tr>\n",
       "    <tr>\n",
       "      <th>a-spys-devotion-the-regency-spies-of-london-1_3/index.html</th>\n",
       "      <td>A Spy's Devotion (The Regency Spies of London #1)</td>\n",
       "    </tr>\n",
       "    <tr>\n",
       "      <th>1st-to-die-womens-murder-club-1_2/index.html</th>\n",
       "      <td>1st to Die (Women's Murder Club #1)</td>\n",
       "    </tr>\n",
       "    <tr>\n",
       "      <th>1000-places-to-see-before-you-die_1/index.html</th>\n",
       "      <td>1,000 Places to See Before You Die</td>\n",
       "    </tr>\n",
       "  </tbody>\n",
       "</table>\n",
       "<p>1000 rows × 1 columns</p>\n",
       "</div>\n",
       "      <button class=\"colab-df-convert\" onclick=\"convertToInteractive('df-df23dfcd-4e5a-4a3b-a59c-0139d3d695be')\"\n",
       "              title=\"Convert this dataframe to an interactive table.\"\n",
       "              style=\"display:none;\">\n",
       "        \n",
       "  <svg xmlns=\"http://www.w3.org/2000/svg\" height=\"24px\"viewBox=\"0 0 24 24\"\n",
       "       width=\"24px\">\n",
       "    <path d=\"M0 0h24v24H0V0z\" fill=\"none\"/>\n",
       "    <path d=\"M18.56 5.44l.94 2.06.94-2.06 2.06-.94-2.06-.94-.94-2.06-.94 2.06-2.06.94zm-11 1L8.5 8.5l.94-2.06 2.06-.94-2.06-.94L8.5 2.5l-.94 2.06-2.06.94zm10 10l.94 2.06.94-2.06 2.06-.94-2.06-.94-.94-2.06-.94 2.06-2.06.94z\"/><path d=\"M17.41 7.96l-1.37-1.37c-.4-.4-.92-.59-1.43-.59-.52 0-1.04.2-1.43.59L10.3 9.45l-7.72 7.72c-.78.78-.78 2.05 0 2.83L4 21.41c.39.39.9.59 1.41.59.51 0 1.02-.2 1.41-.59l7.78-7.78 2.81-2.81c.8-.78.8-2.07 0-2.86zM5.41 20L4 18.59l7.72-7.72 1.47 1.35L5.41 20z\"/>\n",
       "  </svg>\n",
       "      </button>\n",
       "      \n",
       "  <style>\n",
       "    .colab-df-container {\n",
       "      display:flex;\n",
       "      flex-wrap:wrap;\n",
       "      gap: 12px;\n",
       "    }\n",
       "\n",
       "    .colab-df-convert {\n",
       "      background-color: #E8F0FE;\n",
       "      border: none;\n",
       "      border-radius: 50%;\n",
       "      cursor: pointer;\n",
       "      display: none;\n",
       "      fill: #1967D2;\n",
       "      height: 32px;\n",
       "      padding: 0 0 0 0;\n",
       "      width: 32px;\n",
       "    }\n",
       "\n",
       "    .colab-df-convert:hover {\n",
       "      background-color: #E2EBFA;\n",
       "      box-shadow: 0px 1px 2px rgba(60, 64, 67, 0.3), 0px 1px 3px 1px rgba(60, 64, 67, 0.15);\n",
       "      fill: #174EA6;\n",
       "    }\n",
       "\n",
       "    [theme=dark] .colab-df-convert {\n",
       "      background-color: #3B4455;\n",
       "      fill: #D2E3FC;\n",
       "    }\n",
       "\n",
       "    [theme=dark] .colab-df-convert:hover {\n",
       "      background-color: #434B5C;\n",
       "      box-shadow: 0px 1px 3px 1px rgba(0, 0, 0, 0.15);\n",
       "      filter: drop-shadow(0px 1px 2px rgba(0, 0, 0, 0.3));\n",
       "      fill: #FFFFFF;\n",
       "    }\n",
       "  </style>\n",
       "\n",
       "      <script>\n",
       "        const buttonEl =\n",
       "          document.querySelector('#df-df23dfcd-4e5a-4a3b-a59c-0139d3d695be button.colab-df-convert');\n",
       "        buttonEl.style.display =\n",
       "          google.colab.kernel.accessAllowed ? 'block' : 'none';\n",
       "\n",
       "        async function convertToInteractive(key) {\n",
       "          const element = document.querySelector('#df-df23dfcd-4e5a-4a3b-a59c-0139d3d695be');\n",
       "          const dataTable =\n",
       "            await google.colab.kernel.invokeFunction('convertToInteractive',\n",
       "                                                     [key], {});\n",
       "          if (!dataTable) return;\n",
       "\n",
       "          const docLinkHtml = 'Like what you see? Visit the ' +\n",
       "            '<a target=\"_blank\" href=https://colab.research.google.com/notebooks/data_table.ipynb>data table notebook</a>'\n",
       "            + ' to learn more about interactive tables.';\n",
       "          element.innerHTML = '';\n",
       "          dataTable['output_type'] = 'display_data';\n",
       "          await google.colab.output.renderOutput(dataTable, element);\n",
       "          const docLink = document.createElement('div');\n",
       "          docLink.innerHTML = docLinkHtml;\n",
       "          element.appendChild(docLink);\n",
       "        }\n",
       "      </script>\n",
       "    </div>\n",
       "  </div>\n",
       "  "
      ],
      "text/plain": [
       "                                                                                                title\n",
       "a-light-in-the-attic_1000/index.html                                             A Light in the Attic\n",
       "tipping-the-velvet_999/index.html                                                  Tipping the Velvet\n",
       "soumission_998/index.html                                                                  Soumission\n",
       "sharp-objects_997/index.html                                                            Sharp Objects\n",
       "sapiens-a-brief-history-of-humankind_996/index....              Sapiens: A Brief History of Humankind\n",
       "...                                                                                               ...\n",
       "alice-in-wonderland-alices-adventures-in-wonder...  Alice in Wonderland (Alice's Adventures in Won...\n",
       "ajin-demi-human-volume-1-ajin-demi-human-1_4/in...   Ajin: Demi-Human, Volume 1 (Ajin: Demi-Human #1)\n",
       "a-spys-devotion-the-regency-spies-of-london-1_3...  A Spy's Devotion (The Regency Spies of London #1)\n",
       "1st-to-die-womens-murder-club-1_2/index.html                      1st to Die (Women's Murder Club #1)\n",
       "1000-places-to-see-before-you-die_1/index.html                     1,000 Places to See Before You Die\n",
       "\n",
       "[1000 rows x 1 columns]"
      ]
     },
     "execution_count": 16,
     "metadata": {},
     "output_type": "execute_result"
    }
   ],
   "source": [
    "# получаем табличку\n",
    "pd.DataFrame(d).T"
   ]
  },
  {
   "cell_type": "markdown",
   "metadata": {
    "id": "pqiNT1spNK5m"
   },
   "source": [
    "## Проход по страницам объектов"
   ]
  },
  {
   "cell_type": "code",
   "execution_count": 17,
   "metadata": {
    "id": "U1T6eGtWGqd2"
   },
   "outputs": [],
   "source": [
    "url = 'https://books.toscrape.com/catalogue/how-music-works_979/index.html'\n",
    "response = requests.get(url)\n",
    "tree = BeautifulSoup(response.content, 'html.parser')"
   ]
  },
  {
   "cell_type": "code",
   "execution_count": 18,
   "metadata": {
    "colab": {
     "base_uri": "https://localhost:8080/",
     "height": 35
    },
    "id": "1K-pczPXI3Kg",
    "outputId": "d87b0470-b00f-4568-d61e-0c3c1ea6432b"
   },
   "outputs": [
    {
     "data": {
      "application/vnd.google.colaboratory.intrinsic+json": {
       "type": "string"
      },
      "text/plain": [
       "'£37.32'"
      ]
     },
     "execution_count": 18,
     "metadata": {},
     "output_type": "execute_result"
    }
   ],
   "source": [
    "# <p class=\"price_color\">£37.32</p>\n",
    "# ищем цену\n",
    "tree.find('p', {'class':'price_color'}).text"
   ]
  },
  {
   "cell_type": "code",
   "execution_count": 19,
   "metadata": {
    "colab": {
     "base_uri": "https://localhost:8080/",
     "height": 35
    },
    "id": "MnuxxvaPGqbh",
    "outputId": "424cea18-439d-4570-8f30-a69131f4a9aa"
   },
   "outputs": [
    {
     "data": {
      "application/vnd.google.colaboratory.intrinsic+json": {
       "type": "string"
      },
      "text/plain": [
       "'In stock (19 available)'"
      ]
     },
     "execution_count": 19,
     "metadata": {},
     "output_type": "execute_result"
    }
   ],
   "source": [
    "# <p class=\"instock availability\">\n",
    "# ищем сколько в наличии\n",
    "tree.find('p', {'class':'instock availability'}).text.strip()"
   ]
  },
  {
   "cell_type": "code",
   "execution_count": 20,
   "metadata": {
    "colab": {
     "base_uri": "https://localhost:8080/",
     "height": 35
    },
    "id": "sCrHS_NLGqW0",
    "outputId": "d6554fba-e58e-48d0-8cff-67e53e6d4c06"
   },
   "outputs": [
    {
     "data": {
      "application/vnd.google.colaboratory.intrinsic+json": {
       "type": "string"
      },
      "text/plain": [
       "'Two'"
      ]
     },
     "execution_count": 20,
     "metadata": {},
     "output_type": "execute_result"
    }
   ],
   "source": [
    "# <div class=\"col-sm-6 product_main\">\n",
    "# рейтинг\n",
    "main_info_subtree = tree.find('div', {'class':'col-sm-6 product_main'})\n",
    "main_info_subtree.find_all('p')[2].get('class')[1]"
   ]
  },
  {
   "cell_type": "code",
   "execution_count": 21,
   "metadata": {
    "colab": {
     "base_uri": "https://localhost:8080/",
     "height": 195
    },
    "id": "WGrzBMD1GqUK",
    "outputId": "3dc950d0-9339-42b3-e939-66776c0a23d9"
   },
   "outputs": [
    {
     "data": {
      "application/vnd.google.colaboratory.intrinsic+json": {
       "type": "string"
      },
      "text/plain": [
       "'How Music Works is David Byrne’s remarkable and buoyant celebration of a subject he has spent a lifetime thinking about. In it he explores how profoundly music is shaped by its time and place, and he explains how the advent of recording technology in the twentieth century forever changed our relationship to playing, performing, and listening to music.Acting as historian an How Music Works is David Byrne’s remarkable and buoyant celebration of a subject he has spent a lifetime thinking about. In it he explores how profoundly music is shaped by its time and place, and he explains how the advent of recording technology in the twentieth century forever changed our relationship to playing, performing, and listening to music.Acting as historian and anthropologist, raconteur and social scientist, he searches for patterns—and shows how those patterns have affected his own work over the years with Talking Heads and his many collaborators, from Brian Eno to Caetano Veloso. Byrne sees music as part of a larger, almost Darwinian pattern of adaptations and responses to its cultural and physical context. His range is panoptic, taking us from Wagnerian opera houses to African villages, from his earliest high school reel-to-reel recordings to his latest work in a home music studio (and all the big studios in between).Touching on the joy, the physics, and even the business of making music, How Music Works is a brainy, irresistible adventure and an impassioned argument about music’s liberating, life-affirming power. ...more'"
      ]
     },
     "execution_count": 21,
     "metadata": {},
     "output_type": "execute_result"
    }
   ],
   "source": [
    "# описание книги\n",
    "tree.find_all('p')[3].text"
   ]
  },
  {
   "cell_type": "code",
   "execution_count": 22,
   "metadata": {
    "colab": {
     "base_uri": "https://localhost:8080/"
    },
    "id": "KL_IfnUfLoob",
    "outputId": "0dee56c7-0dfe-4a6d-a2a9-98d3249fe1d0"
   },
   "outputs": [
    {
     "data": {
      "text/plain": [
       "{'Availability': 'In stock (19 available)',\n",
       " 'Number of reviews': '0',\n",
       " 'Price (excl. tax)': '£37.32',\n",
       " 'Price (incl. tax)': '£37.32',\n",
       " 'Product Type': 'Books',\n",
       " 'Tax': '£0.00',\n",
       " 'UPC': '327f68a59745c102'}"
      ]
     },
     "execution_count": 22,
     "metadata": {},
     "output_type": "execute_result"
    }
   ],
   "source": [
    "# выгружаем табличку\n",
    "# tree.find('table') # тут таблица\n",
    "# передаем её в код ниже и просто получаем словарь...\n",
    "pd.read_html(str(tree.find('table')))[0].set_index(0).to_dict()[1]"
   ]
  },
  {
   "cell_type": "code",
   "execution_count": 23,
   "metadata": {
    "colab": {
     "base_uri": "https://localhost:8080/"
    },
    "id": "srNopO2_Lmok",
    "outputId": "42d2773a-e6d4-4bbb-b960-a11248faf854"
   },
   "outputs": [
    {
     "data": {
      "text/plain": [
       "{'Availability': 'In stock (19 available)',\n",
       " 'Number of reviews': '0',\n",
       " 'Price (excl. tax)': '£37.32',\n",
       " 'Price (incl. tax)': '£37.32',\n",
       " 'Product Type': 'Books',\n",
       " 'Tax': '£0.00',\n",
       " 'UPC': '327f68a59745c102',\n",
       " 'description': 'How Music Works is David Byrne’s remarkable and buoyant celebration of a subject he has spent a lifetime thinking about. In it he explores how profoundly music is shaped by its time and place, and he explains how the advent of recording technology in the twentieth century forever changed our relationship to playing, performing, and listening to music.Acting as historian an How Music Works is David Byrne’s remarkable and buoyant celebration of a subject he has spent a lifetime thinking about. In it he explores how profoundly music is shaped by its time and place, and he explains how the advent of recording technology in the twentieth century forever changed our relationship to playing, performing, and listening to music.Acting as historian and anthropologist, raconteur and social scientist, he searches for patterns—and shows how those patterns have affected his own work over the years with Talking Heads and his many collaborators, from Brian Eno to Caetano Veloso. Byrne sees music as part of a larger, almost Darwinian pattern of adaptations and responses to its cultural and physical context. His range is panoptic, taking us from Wagnerian opera houses to African villages, from his earliest high school reel-to-reel recordings to his latest work in a home music studio (and all the big studios in between).Touching on the joy, the physics, and even the business of making music, How Music Works is a brainy, irresistible adventure and an impassioned argument about music’s liberating, life-affirming power. ...more',\n",
       " 'instock_count': 19,\n",
       " 'price': 37.32,\n",
       " 'stars': 'Two'}"
      ]
     },
     "execution_count": 23,
     "metadata": {},
     "output_type": "execute_result"
    }
   ],
   "source": [
    "# собираем всё в кучку\n",
    "price = tree.find('p', {'class':'price_color'}).text\n",
    "price = float(price[1:])\n",
    "\n",
    "instock_count = tree.find('p', {'class':'instock availability'}).text\n",
    "instock_count = int(instock_count.strip().split('(')[1].split(' ')[0])\n",
    "\n",
    "main_info_subtree = tree.find('div', {'class':'col-sm-6 product_main'})\n",
    "stars = main_info_subtree.find_all('p')[2].get('class')[1]\n",
    "\n",
    "description = tree.find_all('p')[3].text\n",
    "\n",
    "info = pd.read_html(str(tree.find('table')))[0].set_index(0).to_dict()[1]\n",
    "\n",
    "info['price']=price\n",
    "info['instock_count']=instock_count\n",
    "info['stars']=stars\n",
    "info['description']=description\n",
    "\n",
    "info"
   ]
  },
  {
   "cell_type": "code",
   "execution_count": 24,
   "metadata": {
    "id": "P7cQTgU_MBKO"
   },
   "outputs": [],
   "source": [
    "# собираем всё в фунцию\n",
    "def parse_one_book(tree):\n",
    "    price = tree.find('p', {'class':'price_color'}).text\n",
    "    price = float(price[1:])\n",
    "\n",
    "    instock_count = tree.find('p', {'class':'instock availability'}).text\n",
    "    instock_count = int(instock_count.strip().split('(')[1].split(' ')[0])\n",
    "\n",
    "    main_info_subtree = tree.find('div', {'class':'col-sm-6 product_main'})\n",
    "    stars = main_info_subtree.find_all('p')[2].get('class')[1]\n",
    "\n",
    "    description = tree.find_all('p')[3].text\n",
    "\n",
    "    info = pd.read_html(str(tree.find('table')))[0].set_index(0).to_dict()[1]\n",
    "\n",
    "    info['price']=price\n",
    "    info['instock_count']=instock_count\n",
    "    info['stars']=stars\n",
    "    info['description']=description\n",
    "    \n",
    "    return info"
   ]
  },
  {
   "cell_type": "code",
   "execution_count": 25,
   "metadata": {
    "colab": {
     "base_uri": "https://localhost:8080/",
     "height": 49,
     "referenced_widgets": [
      "d5026903f51649a394ab462e83229df5",
      "1be1748307d64a73bb45e58712d05a1f",
      "817529da15444ed893783e5d6e8dbf14",
      "451fa4b3d2b14c32bc26b43197e3f251",
      "b33cd72a26e34baf9de713b416c9871b",
      "5c586d1df1e846d4aa81248925944a3e",
      "59723fa3ade04cbb90f14327002bf43a",
      "5555b191910b440b9594804069dd14c2",
      "b77b098edb6349489171a3fb2979a4af",
      "78e3fc0acc6c410984434f8bcbb6905b",
      "df54ef2d8df545bc8a1d65fb56473a9b"
     ]
    },
    "id": "80SRgr4tMBOY",
    "outputId": "2cedf77a-dae9-4d53-84dc-84e607e3d54e"
   },
   "outputs": [
    {
     "data": {
      "application/vnd.jupyter.widget-view+json": {
       "model_id": "d5026903f51649a394ab462e83229df5",
       "version_major": 2,
       "version_minor": 0
      },
      "text/plain": [
       "  0%|          | 0/1000 [00:00<?, ?it/s]"
      ]
     },
     "metadata": {},
     "output_type": "display_data"
    }
   ],
   "source": [
    "base_url = 'https://books.toscrape.com/catalogue/'\n",
    "\n",
    "# начинаем проход по всем страницам\n",
    "# список страницы мы опредилили ранее\n",
    "for book_url in tqdm(d):\n",
    "    url = base_url+book_url\n",
    "    response = requests.get(url)\n",
    "    tree = BeautifulSoup(response.content, 'html.parser')\n",
    "    results = parse_one_book(tree)\n",
    "    d[book_url].update(results)"
   ]
  },
  {
   "cell_type": "code",
   "execution_count": 26,
   "metadata": {
    "colab": {
     "base_uri": "https://localhost:8080/",
     "height": 1000
    },
    "id": "Zo6FIjMWOXOf",
    "outputId": "d7d182a8-561f-4c33-dd53-b1f7c8ea684d"
   },
   "outputs": [
    {
     "data": {
      "text/html": [
       "\n",
       "  <div id=\"df-be2d708d-429b-4f1e-ba4c-9c88cb746c33\">\n",
       "    <div class=\"colab-df-container\">\n",
       "      <div>\n",
       "<style scoped>\n",
       "    .dataframe tbody tr th:only-of-type {\n",
       "        vertical-align: middle;\n",
       "    }\n",
       "\n",
       "    .dataframe tbody tr th {\n",
       "        vertical-align: top;\n",
       "    }\n",
       "\n",
       "    .dataframe thead th {\n",
       "        text-align: right;\n",
       "    }\n",
       "</style>\n",
       "<table border=\"1\" class=\"dataframe\">\n",
       "  <thead>\n",
       "    <tr style=\"text-align: right;\">\n",
       "      <th></th>\n",
       "      <th>title</th>\n",
       "      <th>UPC</th>\n",
       "      <th>Product Type</th>\n",
       "      <th>Price (excl. tax)</th>\n",
       "      <th>Price (incl. tax)</th>\n",
       "      <th>Tax</th>\n",
       "      <th>Availability</th>\n",
       "      <th>Number of reviews</th>\n",
       "      <th>price</th>\n",
       "      <th>instock_count</th>\n",
       "      <th>stars</th>\n",
       "      <th>description</th>\n",
       "    </tr>\n",
       "  </thead>\n",
       "  <tbody>\n",
       "    <tr>\n",
       "      <th>a-light-in-the-attic_1000/index.html</th>\n",
       "      <td>A Light in the Attic</td>\n",
       "      <td>a897fe39b1053632</td>\n",
       "      <td>Books</td>\n",
       "      <td>£51.77</td>\n",
       "      <td>£51.77</td>\n",
       "      <td>£0.00</td>\n",
       "      <td>In stock (22 available)</td>\n",
       "      <td>0</td>\n",
       "      <td>51.77</td>\n",
       "      <td>22</td>\n",
       "      <td>Three</td>\n",
       "      <td>It's hard to imagine a world without A Light i...</td>\n",
       "    </tr>\n",
       "    <tr>\n",
       "      <th>tipping-the-velvet_999/index.html</th>\n",
       "      <td>Tipping the Velvet</td>\n",
       "      <td>90fa61229261140a</td>\n",
       "      <td>Books</td>\n",
       "      <td>£53.74</td>\n",
       "      <td>£53.74</td>\n",
       "      <td>£0.00</td>\n",
       "      <td>In stock (20 available)</td>\n",
       "      <td>0</td>\n",
       "      <td>53.74</td>\n",
       "      <td>20</td>\n",
       "      <td>One</td>\n",
       "      <td>\"Erotic and absorbing...Written with starling ...</td>\n",
       "    </tr>\n",
       "    <tr>\n",
       "      <th>soumission_998/index.html</th>\n",
       "      <td>Soumission</td>\n",
       "      <td>6957f44c3847a760</td>\n",
       "      <td>Books</td>\n",
       "      <td>£50.10</td>\n",
       "      <td>£50.10</td>\n",
       "      <td>£0.00</td>\n",
       "      <td>In stock (20 available)</td>\n",
       "      <td>0</td>\n",
       "      <td>50.1</td>\n",
       "      <td>20</td>\n",
       "      <td>One</td>\n",
       "      <td>Dans une France assez proche de la nôtre, un h...</td>\n",
       "    </tr>\n",
       "    <tr>\n",
       "      <th>sharp-objects_997/index.html</th>\n",
       "      <td>Sharp Objects</td>\n",
       "      <td>e00eb4fd7b871a48</td>\n",
       "      <td>Books</td>\n",
       "      <td>£47.82</td>\n",
       "      <td>£47.82</td>\n",
       "      <td>£0.00</td>\n",
       "      <td>In stock (20 available)</td>\n",
       "      <td>0</td>\n",
       "      <td>47.82</td>\n",
       "      <td>20</td>\n",
       "      <td>Four</td>\n",
       "      <td>WICKED above her hipbone, GIRL across her hear...</td>\n",
       "    </tr>\n",
       "    <tr>\n",
       "      <th>sapiens-a-brief-history-of-humankind_996/index.html</th>\n",
       "      <td>Sapiens: A Brief History of Humankind</td>\n",
       "      <td>4165285e1663650f</td>\n",
       "      <td>Books</td>\n",
       "      <td>£54.23</td>\n",
       "      <td>£54.23</td>\n",
       "      <td>£0.00</td>\n",
       "      <td>In stock (20 available)</td>\n",
       "      <td>0</td>\n",
       "      <td>54.23</td>\n",
       "      <td>20</td>\n",
       "      <td>Five</td>\n",
       "      <td>From a renowned historian comes a groundbreaki...</td>\n",
       "    </tr>\n",
       "    <tr>\n",
       "      <th>...</th>\n",
       "      <td>...</td>\n",
       "      <td>...</td>\n",
       "      <td>...</td>\n",
       "      <td>...</td>\n",
       "      <td>...</td>\n",
       "      <td>...</td>\n",
       "      <td>...</td>\n",
       "      <td>...</td>\n",
       "      <td>...</td>\n",
       "      <td>...</td>\n",
       "      <td>...</td>\n",
       "      <td>...</td>\n",
       "    </tr>\n",
       "    <tr>\n",
       "      <th>alice-in-wonderland-alices-adventures-in-wonderland-1_5/index.html</th>\n",
       "      <td>Alice in Wonderland (Alice's Adventures in Won...</td>\n",
       "      <td>cd2a2a70dd5d176d</td>\n",
       "      <td>Books</td>\n",
       "      <td>£55.53</td>\n",
       "      <td>£55.53</td>\n",
       "      <td>£0.00</td>\n",
       "      <td>In stock (1 available)</td>\n",
       "      <td>0</td>\n",
       "      <td>55.53</td>\n",
       "      <td>1</td>\n",
       "      <td>One</td>\n",
       "      <td>\\n\\n\\n\\n\\n\\n</td>\n",
       "    </tr>\n",
       "    <tr>\n",
       "      <th>ajin-demi-human-volume-1-ajin-demi-human-1_4/index.html</th>\n",
       "      <td>Ajin: Demi-Human, Volume 1 (Ajin: Demi-Human #1)</td>\n",
       "      <td>bfd5e1701c862ac3</td>\n",
       "      <td>Books</td>\n",
       "      <td>£57.06</td>\n",
       "      <td>£57.06</td>\n",
       "      <td>£0.00</td>\n",
       "      <td>In stock (1 available)</td>\n",
       "      <td>0</td>\n",
       "      <td>57.06</td>\n",
       "      <td>1</td>\n",
       "      <td>Four</td>\n",
       "      <td>High school student Kei Nagai is struck dead i...</td>\n",
       "    </tr>\n",
       "    <tr>\n",
       "      <th>a-spys-devotion-the-regency-spies-of-london-1_3/index.html</th>\n",
       "      <td>A Spy's Devotion (The Regency Spies of London #1)</td>\n",
       "      <td>19fec36a1dfb4c16</td>\n",
       "      <td>Books</td>\n",
       "      <td>£16.97</td>\n",
       "      <td>£16.97</td>\n",
       "      <td>£0.00</td>\n",
       "      <td>In stock (1 available)</td>\n",
       "      <td>0</td>\n",
       "      <td>16.97</td>\n",
       "      <td>1</td>\n",
       "      <td>Five</td>\n",
       "      <td>In England’s Regency era, manners and elegance...</td>\n",
       "    </tr>\n",
       "    <tr>\n",
       "      <th>1st-to-die-womens-murder-club-1_2/index.html</th>\n",
       "      <td>1st to Die (Women's Murder Club #1)</td>\n",
       "      <td>f684a82adc49f011</td>\n",
       "      <td>Books</td>\n",
       "      <td>£53.98</td>\n",
       "      <td>£53.98</td>\n",
       "      <td>£0.00</td>\n",
       "      <td>In stock (1 available)</td>\n",
       "      <td>0</td>\n",
       "      <td>53.98</td>\n",
       "      <td>1</td>\n",
       "      <td>One</td>\n",
       "      <td>James Patterson, bestselling author of the Ale...</td>\n",
       "    </tr>\n",
       "    <tr>\n",
       "      <th>1000-places-to-see-before-you-die_1/index.html</th>\n",
       "      <td>1,000 Places to See Before You Die</td>\n",
       "      <td>228ba5e7577e1d49</td>\n",
       "      <td>Books</td>\n",
       "      <td>£26.08</td>\n",
       "      <td>£26.08</td>\n",
       "      <td>£0.00</td>\n",
       "      <td>In stock (1 available)</td>\n",
       "      <td>0</td>\n",
       "      <td>26.08</td>\n",
       "      <td>1</td>\n",
       "      <td>Five</td>\n",
       "      <td>Around the World, continent by continent, here...</td>\n",
       "    </tr>\n",
       "  </tbody>\n",
       "</table>\n",
       "<p>1000 rows × 12 columns</p>\n",
       "</div>\n",
       "      <button class=\"colab-df-convert\" onclick=\"convertToInteractive('df-be2d708d-429b-4f1e-ba4c-9c88cb746c33')\"\n",
       "              title=\"Convert this dataframe to an interactive table.\"\n",
       "              style=\"display:none;\">\n",
       "        \n",
       "  <svg xmlns=\"http://www.w3.org/2000/svg\" height=\"24px\"viewBox=\"0 0 24 24\"\n",
       "       width=\"24px\">\n",
       "    <path d=\"M0 0h24v24H0V0z\" fill=\"none\"/>\n",
       "    <path d=\"M18.56 5.44l.94 2.06.94-2.06 2.06-.94-2.06-.94-.94-2.06-.94 2.06-2.06.94zm-11 1L8.5 8.5l.94-2.06 2.06-.94-2.06-.94L8.5 2.5l-.94 2.06-2.06.94zm10 10l.94 2.06.94-2.06 2.06-.94-2.06-.94-.94-2.06-.94 2.06-2.06.94z\"/><path d=\"M17.41 7.96l-1.37-1.37c-.4-.4-.92-.59-1.43-.59-.52 0-1.04.2-1.43.59L10.3 9.45l-7.72 7.72c-.78.78-.78 2.05 0 2.83L4 21.41c.39.39.9.59 1.41.59.51 0 1.02-.2 1.41-.59l7.78-7.78 2.81-2.81c.8-.78.8-2.07 0-2.86zM5.41 20L4 18.59l7.72-7.72 1.47 1.35L5.41 20z\"/>\n",
       "  </svg>\n",
       "      </button>\n",
       "      \n",
       "  <style>\n",
       "    .colab-df-container {\n",
       "      display:flex;\n",
       "      flex-wrap:wrap;\n",
       "      gap: 12px;\n",
       "    }\n",
       "\n",
       "    .colab-df-convert {\n",
       "      background-color: #E8F0FE;\n",
       "      border: none;\n",
       "      border-radius: 50%;\n",
       "      cursor: pointer;\n",
       "      display: none;\n",
       "      fill: #1967D2;\n",
       "      height: 32px;\n",
       "      padding: 0 0 0 0;\n",
       "      width: 32px;\n",
       "    }\n",
       "\n",
       "    .colab-df-convert:hover {\n",
       "      background-color: #E2EBFA;\n",
       "      box-shadow: 0px 1px 2px rgba(60, 64, 67, 0.3), 0px 1px 3px 1px rgba(60, 64, 67, 0.15);\n",
       "      fill: #174EA6;\n",
       "    }\n",
       "\n",
       "    [theme=dark] .colab-df-convert {\n",
       "      background-color: #3B4455;\n",
       "      fill: #D2E3FC;\n",
       "    }\n",
       "\n",
       "    [theme=dark] .colab-df-convert:hover {\n",
       "      background-color: #434B5C;\n",
       "      box-shadow: 0px 1px 3px 1px rgba(0, 0, 0, 0.15);\n",
       "      filter: drop-shadow(0px 1px 2px rgba(0, 0, 0, 0.3));\n",
       "      fill: #FFFFFF;\n",
       "    }\n",
       "  </style>\n",
       "\n",
       "      <script>\n",
       "        const buttonEl =\n",
       "          document.querySelector('#df-be2d708d-429b-4f1e-ba4c-9c88cb746c33 button.colab-df-convert');\n",
       "        buttonEl.style.display =\n",
       "          google.colab.kernel.accessAllowed ? 'block' : 'none';\n",
       "\n",
       "        async function convertToInteractive(key) {\n",
       "          const element = document.querySelector('#df-be2d708d-429b-4f1e-ba4c-9c88cb746c33');\n",
       "          const dataTable =\n",
       "            await google.colab.kernel.invokeFunction('convertToInteractive',\n",
       "                                                     [key], {});\n",
       "          if (!dataTable) return;\n",
       "\n",
       "          const docLinkHtml = 'Like what you see? Visit the ' +\n",
       "            '<a target=\"_blank\" href=https://colab.research.google.com/notebooks/data_table.ipynb>data table notebook</a>'\n",
       "            + ' to learn more about interactive tables.';\n",
       "          element.innerHTML = '';\n",
       "          dataTable['output_type'] = 'display_data';\n",
       "          await google.colab.output.renderOutput(dataTable, element);\n",
       "          const docLink = document.createElement('div');\n",
       "          docLink.innerHTML = docLinkHtml;\n",
       "          element.appendChild(docLink);\n",
       "        }\n",
       "      </script>\n",
       "    </div>\n",
       "  </div>\n",
       "  "
      ],
      "text/plain": [
       "                                                                                                title  \\\n",
       "a-light-in-the-attic_1000/index.html                                             A Light in the Attic   \n",
       "tipping-the-velvet_999/index.html                                                  Tipping the Velvet   \n",
       "soumission_998/index.html                                                                  Soumission   \n",
       "sharp-objects_997/index.html                                                            Sharp Objects   \n",
       "sapiens-a-brief-history-of-humankind_996/index....              Sapiens: A Brief History of Humankind   \n",
       "...                                                                                               ...   \n",
       "alice-in-wonderland-alices-adventures-in-wonder...  Alice in Wonderland (Alice's Adventures in Won...   \n",
       "ajin-demi-human-volume-1-ajin-demi-human-1_4/in...   Ajin: Demi-Human, Volume 1 (Ajin: Demi-Human #1)   \n",
       "a-spys-devotion-the-regency-spies-of-london-1_3...  A Spy's Devotion (The Regency Spies of London #1)   \n",
       "1st-to-die-womens-murder-club-1_2/index.html                      1st to Die (Women's Murder Club #1)   \n",
       "1000-places-to-see-before-you-die_1/index.html                     1,000 Places to See Before You Die   \n",
       "\n",
       "                                                                 UPC  \\\n",
       "a-light-in-the-attic_1000/index.html                a897fe39b1053632   \n",
       "tipping-the-velvet_999/index.html                   90fa61229261140a   \n",
       "soumission_998/index.html                           6957f44c3847a760   \n",
       "sharp-objects_997/index.html                        e00eb4fd7b871a48   \n",
       "sapiens-a-brief-history-of-humankind_996/index....  4165285e1663650f   \n",
       "...                                                              ...   \n",
       "alice-in-wonderland-alices-adventures-in-wonder...  cd2a2a70dd5d176d   \n",
       "ajin-demi-human-volume-1-ajin-demi-human-1_4/in...  bfd5e1701c862ac3   \n",
       "a-spys-devotion-the-regency-spies-of-london-1_3...  19fec36a1dfb4c16   \n",
       "1st-to-die-womens-murder-club-1_2/index.html        f684a82adc49f011   \n",
       "1000-places-to-see-before-you-die_1/index.html      228ba5e7577e1d49   \n",
       "\n",
       "                                                   Product Type  \\\n",
       "a-light-in-the-attic_1000/index.html                      Books   \n",
       "tipping-the-velvet_999/index.html                         Books   \n",
       "soumission_998/index.html                                 Books   \n",
       "sharp-objects_997/index.html                              Books   \n",
       "sapiens-a-brief-history-of-humankind_996/index....        Books   \n",
       "...                                                         ...   \n",
       "alice-in-wonderland-alices-adventures-in-wonder...        Books   \n",
       "ajin-demi-human-volume-1-ajin-demi-human-1_4/in...        Books   \n",
       "a-spys-devotion-the-regency-spies-of-london-1_3...        Books   \n",
       "1st-to-die-womens-murder-club-1_2/index.html              Books   \n",
       "1000-places-to-see-before-you-die_1/index.html            Books   \n",
       "\n",
       "                                                   Price (excl. tax)  \\\n",
       "a-light-in-the-attic_1000/index.html                          £51.77   \n",
       "tipping-the-velvet_999/index.html                             £53.74   \n",
       "soumission_998/index.html                                     £50.10   \n",
       "sharp-objects_997/index.html                                  £47.82   \n",
       "sapiens-a-brief-history-of-humankind_996/index....            £54.23   \n",
       "...                                                              ...   \n",
       "alice-in-wonderland-alices-adventures-in-wonder...            £55.53   \n",
       "ajin-demi-human-volume-1-ajin-demi-human-1_4/in...            £57.06   \n",
       "a-spys-devotion-the-regency-spies-of-london-1_3...            £16.97   \n",
       "1st-to-die-womens-murder-club-1_2/index.html                  £53.98   \n",
       "1000-places-to-see-before-you-die_1/index.html                £26.08   \n",
       "\n",
       "                                                   Price (incl. tax)    Tax  \\\n",
       "a-light-in-the-attic_1000/index.html                          £51.77  £0.00   \n",
       "tipping-the-velvet_999/index.html                             £53.74  £0.00   \n",
       "soumission_998/index.html                                     £50.10  £0.00   \n",
       "sharp-objects_997/index.html                                  £47.82  £0.00   \n",
       "sapiens-a-brief-history-of-humankind_996/index....            £54.23  £0.00   \n",
       "...                                                              ...    ...   \n",
       "alice-in-wonderland-alices-adventures-in-wonder...            £55.53  £0.00   \n",
       "ajin-demi-human-volume-1-ajin-demi-human-1_4/in...            £57.06  £0.00   \n",
       "a-spys-devotion-the-regency-spies-of-london-1_3...            £16.97  £0.00   \n",
       "1st-to-die-womens-murder-club-1_2/index.html                  £53.98  £0.00   \n",
       "1000-places-to-see-before-you-die_1/index.html                £26.08  £0.00   \n",
       "\n",
       "                                                               Availability  \\\n",
       "a-light-in-the-attic_1000/index.html                In stock (22 available)   \n",
       "tipping-the-velvet_999/index.html                   In stock (20 available)   \n",
       "soumission_998/index.html                           In stock (20 available)   \n",
       "sharp-objects_997/index.html                        In stock (20 available)   \n",
       "sapiens-a-brief-history-of-humankind_996/index....  In stock (20 available)   \n",
       "...                                                                     ...   \n",
       "alice-in-wonderland-alices-adventures-in-wonder...   In stock (1 available)   \n",
       "ajin-demi-human-volume-1-ajin-demi-human-1_4/in...   In stock (1 available)   \n",
       "a-spys-devotion-the-regency-spies-of-london-1_3...   In stock (1 available)   \n",
       "1st-to-die-womens-murder-club-1_2/index.html         In stock (1 available)   \n",
       "1000-places-to-see-before-you-die_1/index.html       In stock (1 available)   \n",
       "\n",
       "                                                   Number of reviews  price  \\\n",
       "a-light-in-the-attic_1000/index.html                               0  51.77   \n",
       "tipping-the-velvet_999/index.html                                  0  53.74   \n",
       "soumission_998/index.html                                          0   50.1   \n",
       "sharp-objects_997/index.html                                       0  47.82   \n",
       "sapiens-a-brief-history-of-humankind_996/index....                 0  54.23   \n",
       "...                                                              ...    ...   \n",
       "alice-in-wonderland-alices-adventures-in-wonder...                 0  55.53   \n",
       "ajin-demi-human-volume-1-ajin-demi-human-1_4/in...                 0  57.06   \n",
       "a-spys-devotion-the-regency-spies-of-london-1_3...                 0  16.97   \n",
       "1st-to-die-womens-murder-club-1_2/index.html                       0  53.98   \n",
       "1000-places-to-see-before-you-die_1/index.html                     0  26.08   \n",
       "\n",
       "                                                   instock_count  stars  \\\n",
       "a-light-in-the-attic_1000/index.html                          22  Three   \n",
       "tipping-the-velvet_999/index.html                             20    One   \n",
       "soumission_998/index.html                                     20    One   \n",
       "sharp-objects_997/index.html                                  20   Four   \n",
       "sapiens-a-brief-history-of-humankind_996/index....            20   Five   \n",
       "...                                                          ...    ...   \n",
       "alice-in-wonderland-alices-adventures-in-wonder...             1    One   \n",
       "ajin-demi-human-volume-1-ajin-demi-human-1_4/in...             1   Four   \n",
       "a-spys-devotion-the-regency-spies-of-london-1_3...             1   Five   \n",
       "1st-to-die-womens-murder-club-1_2/index.html                   1    One   \n",
       "1000-places-to-see-before-you-die_1/index.html                 1   Five   \n",
       "\n",
       "                                                                                          description  \n",
       "a-light-in-the-attic_1000/index.html                It's hard to imagine a world without A Light i...  \n",
       "tipping-the-velvet_999/index.html                   \"Erotic and absorbing...Written with starling ...  \n",
       "soumission_998/index.html                           Dans une France assez proche de la nôtre, un h...  \n",
       "sharp-objects_997/index.html                        WICKED above her hipbone, GIRL across her hear...  \n",
       "sapiens-a-brief-history-of-humankind_996/index....  From a renowned historian comes a groundbreaki...  \n",
       "...                                                                                               ...  \n",
       "alice-in-wonderland-alices-adventures-in-wonder...                                       \\n\\n\\n\\n\\n\\n  \n",
       "ajin-demi-human-volume-1-ajin-demi-human-1_4/in...  High school student Kei Nagai is struck dead i...  \n",
       "a-spys-devotion-the-regency-spies-of-london-1_3...  In England’s Regency era, manners and elegance...  \n",
       "1st-to-die-womens-murder-club-1_2/index.html        James Patterson, bestselling author of the Ale...  \n",
       "1000-places-to-see-before-you-die_1/index.html      Around the World, continent by continent, here...  \n",
       "\n",
       "[1000 rows x 12 columns]"
      ]
     },
     "execution_count": 26,
     "metadata": {},
     "output_type": "execute_result"
    }
   ],
   "source": [
    "# получаем вот такую таблицу\n",
    "pd.DataFrame(d).T"
   ]
  },
  {
   "cell_type": "code",
   "execution_count": 27,
   "metadata": {
    "id": "9i6-QZ6dMBQf"
   },
   "outputs": [],
   "source": [
    "# сохраняем результаты\n",
    "pd.DataFrame(d).T.to_csv('books.toscrape.csv')"
   ]
  },
  {
   "cell_type": "markdown",
   "metadata": {
    "id": "ss2CL6J1Ob8h"
   },
   "source": [
    "## Умные трюки для парсинга"
   ]
  },
  {
   "cell_type": "code",
   "execution_count": 28,
   "metadata": {
    "colab": {
     "base_uri": "https://localhost:8080/"
    },
    "id": "qlhiVPM8PZkP",
    "outputId": "e783301e-36b2-4a33-8220-d7f096f1b23f"
   },
   "outputs": [
    {
     "name": "stdout",
     "output_type": "stream",
     "text": [
      "1 0.0\n",
      "2 0.6931471805599453\n",
      "3 1.0986122886681098\n",
      "0 not in domain of log\n",
      "-1 not in domain of log\n",
      "-2 not in domain of log\n",
      "5 1.6094379124341003\n",
      "6 1.791759469228055\n"
     ]
    }
   ],
   "source": [
    "import math\n",
    "a = [1,2,3,0,-1,-2,5,6]\n",
    "for num in a:\n",
    "    try:\n",
    "        print(num, math.log(num))\n",
    "    except:\n",
    "        print(num, 'not in domain of log')"
   ]
  },
  {
   "cell_type": "code",
   "execution_count": 29,
   "metadata": {
    "id": "vpjvDuUd5Jmn"
   },
   "outputs": [],
   "source": [
    "if 'results' not in os.listdir():\n",
    "    os.mkdir('results')"
   ]
  },
  {
   "cell_type": "code",
   "execution_count": 30,
   "metadata": {
    "colab": {
     "base_uri": "https://localhost:8080/",
     "height": 194,
     "referenced_widgets": [
      "e60e97f17a9d4f858cd82a54e8c63532",
      "dd8a7396c3c84b64846a1ec844e9a072",
      "f99f6aec345f48309499dba77ab6d374",
      "567e1bc2944446c7b8bda7ea6347c588",
      "f504a36bcea5463db86a049207c838e7",
      "4d198003d48e4b6da5d3ec35f36ac05f",
      "6e59f92ad2714239b9cb0d6e63d92444",
      "0c426e4f2dfa4797852c7a94c9297c9e",
      "92fff28a91d7404789f4dfce35d16d6a",
      "7231fc2ef26b4b0ebf64bdb3b184819e",
      "cbf2e716a6cc4752bea4143180da24e7"
     ]
    },
    "id": "gwXe8EWuPZh4",
    "outputId": "17257315-de23-4f22-a425-6cceef5d4055"
   },
   "outputs": [
    {
     "data": {
      "application/vnd.jupyter.widget-view+json": {
       "model_id": "e60e97f17a9d4f858cd82a54e8c63532",
       "version_major": 2,
       "version_minor": 0
      },
      "text/plain": [
       "  0%|          | 0/10 [00:00<?, ?it/s]"
      ]
     },
     "metadata": {},
     "output_type": "display_data"
    },
    {
     "name": "stderr",
     "output_type": "stream",
     "text": [
      "Error occurred during loading data. Trying to use cache server https://fake-useragent.herokuapp.com/browsers/0.1.11\n",
      "Traceback (most recent call last):\n",
      "  File \"/usr/local/lib/python3.7/dist-packages/fake_useragent/utils.py\", line 154, in load\n",
      "    for item in get_browsers(verify_ssl=verify_ssl):\n",
      "  File \"/usr/local/lib/python3.7/dist-packages/fake_useragent/utils.py\", line 99, in get_browsers\n",
      "    html = html.split('<table class=\"w3-table-all notranslate\">')[1]\n",
      "IndexError: list index out of range\n"
     ]
    }
   ],
   "source": [
    "d_short = dict(list(d.items())[:10])\n",
    "\n",
    "for i,book_url in enumerate(tqdm(d_short)): # d_short d\n",
    "    # задержка в полсекунды, чтобы сайт не злился\n",
    "    time.sleep(0.5)\n",
    "    try:\n",
    "        url = base_url+book_url\n",
    "        # добавляем фейковую информацию о том, кто делает запрос через UserAgent из fake_useragent\n",
    "        response = requests.get(url, headers = {'User-Agent': UserAgent().chrome})\n",
    "        tree = BeautifulSoup(response.content, 'html.parser')\n",
    "        results = parse_one_book(tree)\n",
    "        d[book_url].update(results)\n",
    "        if i%5==0: # каждые 5 итераций будем сохранять результаты\n",
    "            # сколько сейчас времени\n",
    "            now = time.strftime(\"%Y-%m-%d %H:%M:%S\", time.gmtime())\n",
    "            # сохраняем результаты\n",
    "            pd.DataFrame(d).T.to_csv(f'results/books.toscrape_{now}.csv')\n",
    "    except:\n",
    "        # всё, что не спарсилось, запишем, чтобы потом посмотреть\n",
    "        with open('results/failures.txt', 'a') as f:\n",
    "            print(book_url, file=f)\n",
    "\n",
    "# финальные результаты\n",
    "pd.DataFrame(d).T.to_csv(f'results/books.toscrape_FINAL.csv')"
   ]
  },
  {
   "cell_type": "markdown",
   "metadata": {
    "id": "4vqFpFpmPbEX"
   },
   "source": [
    "## Еще какой-то код"
   ]
  },
  {
   "cell_type": "markdown",
   "metadata": {
    "id": "ODbj3r9vP0BL"
   },
   "source": [
    "### авито"
   ]
  },
  {
   "cell_type": "code",
   "execution_count": 5,
   "metadata": {
    "id": "OQ9EbPIi7kdz"
   },
   "outputs": [
    {
     "data": {
      "text/plain": [
       "<Response [403]>"
      ]
     },
     "execution_count": 5,
     "metadata": {},
     "output_type": "execute_result"
    }
   ],
   "source": [
    "# эту страницу сохранили в ручную\n",
    "url = 'https://www.avito.ru/moskva/avtomobili/chevrolet_corvette_2014_2415607278'\n",
    "\n",
    "response = requests.get(url, timeout=5)#, headers = {'User-Agent': UserAgent().chrome})\n",
    "tree = BeautifulSoup(response.content, 'html.parser')\n",
    "\n",
    "response"
   ]
  },
  {
   "cell_type": "code",
   "execution_count": 6,
   "metadata": {
    "colab": {
     "base_uri": "https://localhost:8080/",
     "height": 258
    },
    "id": "DtydICyE8kfq",
    "outputId": "1a044704-24be-490a-ac28-d5a9d7ad7eda"
   },
   "outputs": [],
   "source": [
    "# открыли html и распарсили\n",
    "filename = 'Chevrolet Corvette, 2014 купить в Москве _ Автомобили _ Авито.html'\n",
    "with open(filename) as f:\n",
    "    s = f.read()\n",
    "tree = BeautifulSoup(s, 'html.parser')\n"
   ]
  },
  {
   "cell_type": "code",
   "execution_count": 7,
   "metadata": {
    "id": "lt2wWjhy9lx5"
   },
   "outputs": [
    {
     "data": {
      "text/plain": [
       "'6900000'"
      ]
     },
     "execution_count": 7,
     "metadata": {},
     "output_type": "execute_result"
    }
   ],
   "source": [
    "tree.find('span', dict(itemprop=\"price\")).get('content')"
   ]
  },
  {
   "cell_type": "code",
   "execution_count": 8,
   "metadata": {
    "id": "lbyS6JNr97Sp"
   },
   "outputs": [
    {
     "data": {
      "text/plain": [
       "'Chevrolet Corvette, 2014'"
      ]
     },
     "execution_count": 8,
     "metadata": {},
     "output_type": "execute_result"
    }
   ],
   "source": [
    "tree.find('span', {'class':\"title-info-title-text\"}).text"
   ]
  },
  {
   "cell_type": "code",
   "execution_count": 9,
   "metadata": {
    "id": "pDLlVWTY-hEV"
   },
   "outputs": [],
   "source": [
    "params = tree.find('div', {'data-marker':'item-view/item-params'})"
   ]
  },
  {
   "cell_type": "code",
   "execution_count": 10,
   "metadata": {
    "id": "Kh7-1mvm-zC1"
   },
   "outputs": [
    {
     "data": {
      "text/plain": [
       "[<span class=\"params-item-params-title-2gf6N\">Характеристики</span>,\n",
       " <span class=\"css-1r29yiv\">Год выпуска<!-- -->: </span>,\n",
       " <span class=\"css-1r29yiv\">Поколение<!-- -->: </span>,\n",
       " <span class=\"css-1r29yiv\">Пробег<!-- -->: </span>,\n",
       " <span class=\"css-1r29yiv\">История пробега<!-- -->: </span>,\n",
       " <span class=\"css-1r29yiv\">Владельцев по ПТС<!-- -->: </span>,\n",
       " <span class=\"css-1r29yiv\">Состояние<!-- -->: </span>,\n",
       " <span class=\"css-1r29yiv\">Модификация<!-- -->: </span>,\n",
       " <span class=\"css-1r29yiv\">Тип двигателя<!-- -->: </span>,\n",
       " <span class=\"css-1r29yiv\">Коробка передач<!-- -->: </span>,\n",
       " <span class=\"css-1r29yiv\">Привод<!-- -->: </span>,\n",
       " <span class=\"css-1r29yiv\">Комплектация<!-- -->: </span>,\n",
       " <span class=\"css-1r29yiv\">Тип кузова<!-- -->: </span>,\n",
       " <span class=\"css-1r29yiv\">Цвет<!-- -->: </span>,\n",
       " <span class=\"css-1r29yiv\">Руль<!-- -->: </span>,\n",
       " <span class=\"css-1r29yiv\">VIN или номер кузова<!-- -->: </span>]"
      ]
     },
     "execution_count": 10,
     "metadata": {},
     "output_type": "execute_result"
    }
   ],
   "source": [
    "params.find_all('span')"
   ]
  },
  {
   "cell_type": "code",
   "execution_count": 11,
   "metadata": {
    "id": "z5N_EJ_X-9h6"
   },
   "outputs": [
    {
     "data": {
      "text/plain": [
       "[<li class=\"params-paramsList__item-1Xeok\"><style data-emotion-css=\"1r29yiv\">.css-1r29yiv{margin:0;font-weight:normal;box-sizing:border-box;line-height:20px;font-size:16px;color:#8F8F8F;display:inline;}li.css-1r29yiv{list-style:none;}a.css-1r29yiv{-webkit-text-decoration:none;text-decoration:none;}</style><span class=\"css-1r29yiv\">Год выпуска<!-- -->: </span>2014</li>,\n",
       " <li class=\"params-paramsList__item-1Xeok\"><style data-emotion-css=\"1r29yiv\">.css-1r29yiv{margin:0;font-weight:normal;box-sizing:border-box;line-height:20px;font-size:16px;color:#8F8F8F;display:inline;}li.css-1r29yiv{list-style:none;}a.css-1r29yiv{-webkit-text-decoration:none;text-decoration:none;}</style><span class=\"css-1r29yiv\">Поколение<!-- -->: </span>C7 (2013—н. в.)</li>,\n",
       " <li class=\"params-paramsList__item-1Xeok\"><style data-emotion-css=\"1r29yiv\">.css-1r29yiv{margin:0;font-weight:normal;box-sizing:border-box;line-height:20px;font-size:16px;color:#8F8F8F;display:inline;}li.css-1r29yiv{list-style:none;}a.css-1r29yiv{-webkit-text-decoration:none;text-decoration:none;}</style><span class=\"css-1r29yiv\">Пробег<!-- -->: </span>38000 км</li>,\n",
       " <li class=\"params-paramsList__item-1Xeok\"><style data-emotion-css=\"1r29yiv\">.css-1r29yiv{margin:0;font-weight:normal;box-sizing:border-box;line-height:20px;font-size:16px;color:#8F8F8F;display:inline;}li.css-1r29yiv{list-style:none;}a.css-1r29yiv{-webkit-text-decoration:none;text-decoration:none;}</style><span class=\"css-1r29yiv\">История пробега<!-- -->: </span><br/><a class=\"link-link-39EVK link-design-default-2sPEv js-scroll-to-autoteka-teaser\" data-marker=\"scroll-to-link\" href=\"https://autoteka.ru/report_by_ad/2415607278?acu=ODU69e8wqjhzl24EjkmfSNm4k0ldEw5B2f7K6O9WlFmTjdlORPLybfIDUEP4KTFuRR8BzGNqxeYXZMA9EfocMKQ8jCCd9GSs1.3u2FBWCVBCBh1Pn5fxebXLBbTID51uQlfC_X4Gruqg5XsFzRz0Z1k2Rg--\" target=\"_blank\">14 записей в отчёте Автотеки</a></li>,\n",
       " <li class=\"params-paramsList__item-1Xeok\"><style data-emotion-css=\"1r29yiv\">.css-1r29yiv{margin:0;font-weight:normal;box-sizing:border-box;line-height:20px;font-size:16px;color:#8F8F8F;display:inline;}li.css-1r29yiv{list-style:none;}a.css-1r29yiv{-webkit-text-decoration:none;text-decoration:none;}</style><span class=\"css-1r29yiv\">Владельцев по ПТС<!-- -->: </span>4+</li>,\n",
       " <li class=\"params-paramsList__item-1Xeok\"><style data-emotion-css=\"1r29yiv\">.css-1r29yiv{margin:0;font-weight:normal;box-sizing:border-box;line-height:20px;font-size:16px;color:#8F8F8F;display:inline;}li.css-1r29yiv{list-style:none;}a.css-1r29yiv{-webkit-text-decoration:none;text-decoration:none;}</style><span class=\"css-1r29yiv\">Состояние<!-- -->: </span>Не битый</li>,\n",
       " <li class=\"params-paramsList__item-1Xeok\"><style data-emotion-css=\"1r29yiv\">.css-1r29yiv{margin:0;font-weight:normal;box-sizing:border-box;line-height:20px;font-size:16px;color:#8F8F8F;display:inline;}li.css-1r29yiv{list-style:none;}a.css-1r29yiv{-webkit-text-decoration:none;text-decoration:none;}</style><span class=\"css-1r29yiv\">Модификация<!-- -->: </span>6.2 MT (466 л.с.)</li>,\n",
       " <li class=\"params-paramsList__item-1Xeok\"><style data-emotion-css=\"1r29yiv\">.css-1r29yiv{margin:0;font-weight:normal;box-sizing:border-box;line-height:20px;font-size:16px;color:#8F8F8F;display:inline;}li.css-1r29yiv{list-style:none;}a.css-1r29yiv{-webkit-text-decoration:none;text-decoration:none;}</style><span class=\"css-1r29yiv\">Тип двигателя<!-- -->: </span>Бензин</li>,\n",
       " <li class=\"params-paramsList__item-1Xeok\"><style data-emotion-css=\"1r29yiv\">.css-1r29yiv{margin:0;font-weight:normal;box-sizing:border-box;line-height:20px;font-size:16px;color:#8F8F8F;display:inline;}li.css-1r29yiv{list-style:none;}a.css-1r29yiv{-webkit-text-decoration:none;text-decoration:none;}</style><span class=\"css-1r29yiv\">Коробка передач<!-- -->: </span>Механика</li>,\n",
       " <li class=\"params-paramsList__item-1Xeok\"><style data-emotion-css=\"1r29yiv\">.css-1r29yiv{margin:0;font-weight:normal;box-sizing:border-box;line-height:20px;font-size:16px;color:#8F8F8F;display:inline;}li.css-1r29yiv{list-style:none;}a.css-1r29yiv{-webkit-text-decoration:none;text-decoration:none;}</style><span class=\"css-1r29yiv\">Привод<!-- -->: </span>Задний</li>,\n",
       " <li class=\"params-paramsList__item-1Xeok\"><style data-emotion-css=\"1r29yiv\">.css-1r29yiv{margin:0;font-weight:normal;box-sizing:border-box;line-height:20px;font-size:16px;color:#8F8F8F;display:inline;}li.css-1r29yiv{list-style:none;}a.css-1r29yiv{-webkit-text-decoration:none;text-decoration:none;}</style><span class=\"css-1r29yiv\">Комплектация<!-- -->: </span>Stingray</li>,\n",
       " <li class=\"params-paramsList__item-1Xeok\"><style data-emotion-css=\"1r29yiv\">.css-1r29yiv{margin:0;font-weight:normal;box-sizing:border-box;line-height:20px;font-size:16px;color:#8F8F8F;display:inline;}li.css-1r29yiv{list-style:none;}a.css-1r29yiv{-webkit-text-decoration:none;text-decoration:none;}</style><span class=\"css-1r29yiv\">Тип кузова<!-- -->: </span>Кабриолет</li>,\n",
       " <li class=\"params-paramsList__item-1Xeok\"><style data-emotion-css=\"1r29yiv\">.css-1r29yiv{margin:0;font-weight:normal;box-sizing:border-box;line-height:20px;font-size:16px;color:#8F8F8F;display:inline;}li.css-1r29yiv{list-style:none;}a.css-1r29yiv{-webkit-text-decoration:none;text-decoration:none;}</style><span class=\"css-1r29yiv\">Цвет<!-- -->: </span>Жёлтый</li>,\n",
       " <li class=\"params-paramsList__item-1Xeok\"><style data-emotion-css=\"1r29yiv\">.css-1r29yiv{margin:0;font-weight:normal;box-sizing:border-box;line-height:20px;font-size:16px;color:#8F8F8F;display:inline;}li.css-1r29yiv{list-style:none;}a.css-1r29yiv{-webkit-text-decoration:none;text-decoration:none;}</style><span class=\"css-1r29yiv\">Руль<!-- -->: </span>Левый</li>,\n",
       " <li class=\"params-paramsList__item-1Xeok\"><style data-emotion-css=\"1r29yiv\">.css-1r29yiv{margin:0;font-weight:normal;box-sizing:border-box;line-height:20px;font-size:16px;color:#8F8F8F;display:inline;}li.css-1r29yiv{list-style:none;}a.css-1r29yiv{-webkit-text-decoration:none;text-decoration:none;}</style><span class=\"css-1r29yiv\">VIN или номер кузова<!-- -->: </span>1G1Y*************</li>]"
      ]
     },
     "execution_count": 11,
     "metadata": {},
     "output_type": "execute_result"
    }
   ],
   "source": [
    "params.find_all('li')"
   ]
  },
  {
   "cell_type": "markdown",
   "metadata": {
    "id": "hHMhKBbDP14c"
   },
   "source": [
    "### циан"
   ]
  },
  {
   "cell_type": "code",
   "execution_count": 12,
   "metadata": {
    "id": "SFFq0n7AVial"
   },
   "outputs": [
    {
     "data": {
      "text/plain": [
       "<Response [200]>"
      ]
     },
     "execution_count": 12,
     "metadata": {},
     "output_type": "execute_result"
    }
   ],
   "source": [
    "# тут мы вручную сохранили некоторые страницы\n",
    "url = 'https://www.cian.ru/cat.php?deal_type=rent&engine_version=2&metro%5B0%5D=47&offer_type=flat&room1=1&room2=1&type=4'\n",
    "response = requests.get(url)\n",
    "response"
   ]
  },
  {
   "cell_type": "code",
   "execution_count": 23,
   "metadata": {
    "id": "zIcBN7b4VkiU"
   },
   "outputs": [],
   "source": [
    "# находим их в папке help рядом с ноутбуком\n",
    "pages = [x for x in os.listdir('help') if 'page' in x]\n",
    "pages_ = {}\n",
    "for page in pages:\n",
    "    with open(f'help/{page}') as f:\n",
    "        pages_[page] = BeautifulSoup(f.read())"
   ]
  },
  {
   "cell_type": "code",
   "execution_count": 27,
   "metadata": {
    "id": "APswlvqJuJjL"
   },
   "outputs": [
    {
     "data": {
      "text/plain": [
       "28"
      ]
     },
     "execution_count": 27,
     "metadata": {},
     "output_type": "execute_result"
    }
   ],
   "source": [
    "# на сайте их 28\n",
    "flats = pages_[page].find_all('article', {'data-name':'CardComponent'})\n",
    "len(flats)"
   ]
  },
  {
   "cell_type": "code",
   "execution_count": 28,
   "metadata": {
    "id": "wouB-41QuNEt"
   },
   "outputs": [
    {
     "data": {
      "text/plain": [
       "'https://www.cian.ru/rent/flat/271151225/'"
      ]
     },
     "execution_count": 28,
     "metadata": {},
     "output_type": "execute_result"
    }
   ],
   "source": [
    "# это первая из списка\n",
    "flats[0].find_all('a')[0].get('href')"
   ]
  }
 ],
 "metadata": {
  "colab": {
   "collapsed_sections": [],
   "name": "sem09_219_2110",
   "provenance": [],
   "toc_visible": true
  },
  "kernelspec": {
   "display_name": "Python 3 (ipykernel)",
   "language": "python",
   "name": "python3"
  },
  "language_info": {
   "codemirror_mode": {
    "name": "ipython",
    "version": 3
   },
   "file_extension": ".py",
   "mimetype": "text/x-python",
   "name": "python",
   "nbconvert_exporter": "python",
   "pygments_lexer": "ipython3",
   "version": "3.10.4"
  },
  "toc": {
   "base_numbering": 1,
   "nav_menu": {},
   "number_sections": true,
   "sideBar": true,
   "skip_h1_title": false,
   "title_cell": "Table of Contents",
   "title_sidebar": "Contents",
   "toc_cell": true,
   "toc_position": {},
   "toc_section_display": true,
   "toc_window_display": true
  },
  "widgets": {
   "application/vnd.jupyter.widget-state+json": {
    "0c426e4f2dfa4797852c7a94c9297c9e": {
     "model_module": "@jupyter-widgets/base",
     "model_module_version": "1.2.0",
     "model_name": "LayoutModel",
     "state": {
      "_model_module": "@jupyter-widgets/base",
      "_model_module_version": "1.2.0",
      "_model_name": "LayoutModel",
      "_view_count": null,
      "_view_module": "@jupyter-widgets/base",
      "_view_module_version": "1.2.0",
      "_view_name": "LayoutView",
      "align_content": null,
      "align_items": null,
      "align_self": null,
      "border": null,
      "bottom": null,
      "display": null,
      "flex": null,
      "flex_flow": null,
      "grid_area": null,
      "grid_auto_columns": null,
      "grid_auto_flow": null,
      "grid_auto_rows": null,
      "grid_column": null,
      "grid_gap": null,
      "grid_row": null,
      "grid_template_areas": null,
      "grid_template_columns": null,
      "grid_template_rows": null,
      "height": null,
      "justify_content": null,
      "justify_items": null,
      "left": null,
      "margin": null,
      "max_height": null,
      "max_width": null,
      "min_height": null,
      "min_width": null,
      "object_fit": null,
      "object_position": null,
      "order": null,
      "overflow": null,
      "overflow_x": null,
      "overflow_y": null,
      "padding": null,
      "right": null,
      "top": null,
      "visibility": null,
      "width": null
     }
    },
    "1be1748307d64a73bb45e58712d05a1f": {
     "model_module": "@jupyter-widgets/controls",
     "model_module_version": "1.5.0",
     "model_name": "HTMLModel",
     "state": {
      "_dom_classes": [],
      "_model_module": "@jupyter-widgets/controls",
      "_model_module_version": "1.5.0",
      "_model_name": "HTMLModel",
      "_view_count": null,
      "_view_module": "@jupyter-widgets/controls",
      "_view_module_version": "1.5.0",
      "_view_name": "HTMLView",
      "description": "",
      "description_tooltip": null,
      "layout": "IPY_MODEL_5c586d1df1e846d4aa81248925944a3e",
      "placeholder": "​",
      "style": "IPY_MODEL_59723fa3ade04cbb90f14327002bf43a",
      "value": "100%"
     }
    },
    "451fa4b3d2b14c32bc26b43197e3f251": {
     "model_module": "@jupyter-widgets/controls",
     "model_module_version": "1.5.0",
     "model_name": "HTMLModel",
     "state": {
      "_dom_classes": [],
      "_model_module": "@jupyter-widgets/controls",
      "_model_module_version": "1.5.0",
      "_model_name": "HTMLModel",
      "_view_count": null,
      "_view_module": "@jupyter-widgets/controls",
      "_view_module_version": "1.5.0",
      "_view_name": "HTMLView",
      "description": "",
      "description_tooltip": null,
      "layout": "IPY_MODEL_78e3fc0acc6c410984434f8bcbb6905b",
      "placeholder": "​",
      "style": "IPY_MODEL_df54ef2d8df545bc8a1d65fb56473a9b",
      "value": " 1000/1000 [00:46&lt;00:00, 25.34it/s]"
     }
    },
    "4d198003d48e4b6da5d3ec35f36ac05f": {
     "model_module": "@jupyter-widgets/base",
     "model_module_version": "1.2.0",
     "model_name": "LayoutModel",
     "state": {
      "_model_module": "@jupyter-widgets/base",
      "_model_module_version": "1.2.0",
      "_model_name": "LayoutModel",
      "_view_count": null,
      "_view_module": "@jupyter-widgets/base",
      "_view_module_version": "1.2.0",
      "_view_name": "LayoutView",
      "align_content": null,
      "align_items": null,
      "align_self": null,
      "border": null,
      "bottom": null,
      "display": null,
      "flex": null,
      "flex_flow": null,
      "grid_area": null,
      "grid_auto_columns": null,
      "grid_auto_flow": null,
      "grid_auto_rows": null,
      "grid_column": null,
      "grid_gap": null,
      "grid_row": null,
      "grid_template_areas": null,
      "grid_template_columns": null,
      "grid_template_rows": null,
      "height": null,
      "justify_content": null,
      "justify_items": null,
      "left": null,
      "margin": null,
      "max_height": null,
      "max_width": null,
      "min_height": null,
      "min_width": null,
      "object_fit": null,
      "object_position": null,
      "order": null,
      "overflow": null,
      "overflow_x": null,
      "overflow_y": null,
      "padding": null,
      "right": null,
      "top": null,
      "visibility": null,
      "width": null
     }
    },
    "5555b191910b440b9594804069dd14c2": {
     "model_module": "@jupyter-widgets/base",
     "model_module_version": "1.2.0",
     "model_name": "LayoutModel",
     "state": {
      "_model_module": "@jupyter-widgets/base",
      "_model_module_version": "1.2.0",
      "_model_name": "LayoutModel",
      "_view_count": null,
      "_view_module": "@jupyter-widgets/base",
      "_view_module_version": "1.2.0",
      "_view_name": "LayoutView",
      "align_content": null,
      "align_items": null,
      "align_self": null,
      "border": null,
      "bottom": null,
      "display": null,
      "flex": null,
      "flex_flow": null,
      "grid_area": null,
      "grid_auto_columns": null,
      "grid_auto_flow": null,
      "grid_auto_rows": null,
      "grid_column": null,
      "grid_gap": null,
      "grid_row": null,
      "grid_template_areas": null,
      "grid_template_columns": null,
      "grid_template_rows": null,
      "height": null,
      "justify_content": null,
      "justify_items": null,
      "left": null,
      "margin": null,
      "max_height": null,
      "max_width": null,
      "min_height": null,
      "min_width": null,
      "object_fit": null,
      "object_position": null,
      "order": null,
      "overflow": null,
      "overflow_x": null,
      "overflow_y": null,
      "padding": null,
      "right": null,
      "top": null,
      "visibility": null,
      "width": null
     }
    },
    "567e1bc2944446c7b8bda7ea6347c588": {
     "model_module": "@jupyter-widgets/controls",
     "model_module_version": "1.5.0",
     "model_name": "HTMLModel",
     "state": {
      "_dom_classes": [],
      "_model_module": "@jupyter-widgets/controls",
      "_model_module_version": "1.5.0",
      "_model_name": "HTMLModel",
      "_view_count": null,
      "_view_module": "@jupyter-widgets/controls",
      "_view_module_version": "1.5.0",
      "_view_name": "HTMLView",
      "description": "",
      "description_tooltip": null,
      "layout": "IPY_MODEL_7231fc2ef26b4b0ebf64bdb3b184819e",
      "placeholder": "​",
      "style": "IPY_MODEL_cbf2e716a6cc4752bea4143180da24e7",
      "value": " 10/10 [00:06&lt;00:00,  1.75it/s]"
     }
    },
    "59723fa3ade04cbb90f14327002bf43a": {
     "model_module": "@jupyter-widgets/controls",
     "model_module_version": "1.5.0",
     "model_name": "DescriptionStyleModel",
     "state": {
      "_model_module": "@jupyter-widgets/controls",
      "_model_module_version": "1.5.0",
      "_model_name": "DescriptionStyleModel",
      "_view_count": null,
      "_view_module": "@jupyter-widgets/base",
      "_view_module_version": "1.2.0",
      "_view_name": "StyleView",
      "description_width": ""
     }
    },
    "5c586d1df1e846d4aa81248925944a3e": {
     "model_module": "@jupyter-widgets/base",
     "model_module_version": "1.2.0",
     "model_name": "LayoutModel",
     "state": {
      "_model_module": "@jupyter-widgets/base",
      "_model_module_version": "1.2.0",
      "_model_name": "LayoutModel",
      "_view_count": null,
      "_view_module": "@jupyter-widgets/base",
      "_view_module_version": "1.2.0",
      "_view_name": "LayoutView",
      "align_content": null,
      "align_items": null,
      "align_self": null,
      "border": null,
      "bottom": null,
      "display": null,
      "flex": null,
      "flex_flow": null,
      "grid_area": null,
      "grid_auto_columns": null,
      "grid_auto_flow": null,
      "grid_auto_rows": null,
      "grid_column": null,
      "grid_gap": null,
      "grid_row": null,
      "grid_template_areas": null,
      "grid_template_columns": null,
      "grid_template_rows": null,
      "height": null,
      "justify_content": null,
      "justify_items": null,
      "left": null,
      "margin": null,
      "max_height": null,
      "max_width": null,
      "min_height": null,
      "min_width": null,
      "object_fit": null,
      "object_position": null,
      "order": null,
      "overflow": null,
      "overflow_x": null,
      "overflow_y": null,
      "padding": null,
      "right": null,
      "top": null,
      "visibility": null,
      "width": null
     }
    },
    "6e59f92ad2714239b9cb0d6e63d92444": {
     "model_module": "@jupyter-widgets/controls",
     "model_module_version": "1.5.0",
     "model_name": "DescriptionStyleModel",
     "state": {
      "_model_module": "@jupyter-widgets/controls",
      "_model_module_version": "1.5.0",
      "_model_name": "DescriptionStyleModel",
      "_view_count": null,
      "_view_module": "@jupyter-widgets/base",
      "_view_module_version": "1.2.0",
      "_view_name": "StyleView",
      "description_width": ""
     }
    },
    "7231fc2ef26b4b0ebf64bdb3b184819e": {
     "model_module": "@jupyter-widgets/base",
     "model_module_version": "1.2.0",
     "model_name": "LayoutModel",
     "state": {
      "_model_module": "@jupyter-widgets/base",
      "_model_module_version": "1.2.0",
      "_model_name": "LayoutModel",
      "_view_count": null,
      "_view_module": "@jupyter-widgets/base",
      "_view_module_version": "1.2.0",
      "_view_name": "LayoutView",
      "align_content": null,
      "align_items": null,
      "align_self": null,
      "border": null,
      "bottom": null,
      "display": null,
      "flex": null,
      "flex_flow": null,
      "grid_area": null,
      "grid_auto_columns": null,
      "grid_auto_flow": null,
      "grid_auto_rows": null,
      "grid_column": null,
      "grid_gap": null,
      "grid_row": null,
      "grid_template_areas": null,
      "grid_template_columns": null,
      "grid_template_rows": null,
      "height": null,
      "justify_content": null,
      "justify_items": null,
      "left": null,
      "margin": null,
      "max_height": null,
      "max_width": null,
      "min_height": null,
      "min_width": null,
      "object_fit": null,
      "object_position": null,
      "order": null,
      "overflow": null,
      "overflow_x": null,
      "overflow_y": null,
      "padding": null,
      "right": null,
      "top": null,
      "visibility": null,
      "width": null
     }
    },
    "78e3fc0acc6c410984434f8bcbb6905b": {
     "model_module": "@jupyter-widgets/base",
     "model_module_version": "1.2.0",
     "model_name": "LayoutModel",
     "state": {
      "_model_module": "@jupyter-widgets/base",
      "_model_module_version": "1.2.0",
      "_model_name": "LayoutModel",
      "_view_count": null,
      "_view_module": "@jupyter-widgets/base",
      "_view_module_version": "1.2.0",
      "_view_name": "LayoutView",
      "align_content": null,
      "align_items": null,
      "align_self": null,
      "border": null,
      "bottom": null,
      "display": null,
      "flex": null,
      "flex_flow": null,
      "grid_area": null,
      "grid_auto_columns": null,
      "grid_auto_flow": null,
      "grid_auto_rows": null,
      "grid_column": null,
      "grid_gap": null,
      "grid_row": null,
      "grid_template_areas": null,
      "grid_template_columns": null,
      "grid_template_rows": null,
      "height": null,
      "justify_content": null,
      "justify_items": null,
      "left": null,
      "margin": null,
      "max_height": null,
      "max_width": null,
      "min_height": null,
      "min_width": null,
      "object_fit": null,
      "object_position": null,
      "order": null,
      "overflow": null,
      "overflow_x": null,
      "overflow_y": null,
      "padding": null,
      "right": null,
      "top": null,
      "visibility": null,
      "width": null
     }
    },
    "817529da15444ed893783e5d6e8dbf14": {
     "model_module": "@jupyter-widgets/controls",
     "model_module_version": "1.5.0",
     "model_name": "FloatProgressModel",
     "state": {
      "_dom_classes": [],
      "_model_module": "@jupyter-widgets/controls",
      "_model_module_version": "1.5.0",
      "_model_name": "FloatProgressModel",
      "_view_count": null,
      "_view_module": "@jupyter-widgets/controls",
      "_view_module_version": "1.5.0",
      "_view_name": "ProgressView",
      "bar_style": "success",
      "description": "",
      "description_tooltip": null,
      "layout": "IPY_MODEL_5555b191910b440b9594804069dd14c2",
      "max": 1000,
      "min": 0,
      "orientation": "horizontal",
      "style": "IPY_MODEL_b77b098edb6349489171a3fb2979a4af",
      "value": 1000
     }
    },
    "92fff28a91d7404789f4dfce35d16d6a": {
     "model_module": "@jupyter-widgets/controls",
     "model_module_version": "1.5.0",
     "model_name": "ProgressStyleModel",
     "state": {
      "_model_module": "@jupyter-widgets/controls",
      "_model_module_version": "1.5.0",
      "_model_name": "ProgressStyleModel",
      "_view_count": null,
      "_view_module": "@jupyter-widgets/base",
      "_view_module_version": "1.2.0",
      "_view_name": "StyleView",
      "bar_color": null,
      "description_width": ""
     }
    },
    "b33cd72a26e34baf9de713b416c9871b": {
     "model_module": "@jupyter-widgets/base",
     "model_module_version": "1.2.0",
     "model_name": "LayoutModel",
     "state": {
      "_model_module": "@jupyter-widgets/base",
      "_model_module_version": "1.2.0",
      "_model_name": "LayoutModel",
      "_view_count": null,
      "_view_module": "@jupyter-widgets/base",
      "_view_module_version": "1.2.0",
      "_view_name": "LayoutView",
      "align_content": null,
      "align_items": null,
      "align_self": null,
      "border": null,
      "bottom": null,
      "display": null,
      "flex": null,
      "flex_flow": null,
      "grid_area": null,
      "grid_auto_columns": null,
      "grid_auto_flow": null,
      "grid_auto_rows": null,
      "grid_column": null,
      "grid_gap": null,
      "grid_row": null,
      "grid_template_areas": null,
      "grid_template_columns": null,
      "grid_template_rows": null,
      "height": null,
      "justify_content": null,
      "justify_items": null,
      "left": null,
      "margin": null,
      "max_height": null,
      "max_width": null,
      "min_height": null,
      "min_width": null,
      "object_fit": null,
      "object_position": null,
      "order": null,
      "overflow": null,
      "overflow_x": null,
      "overflow_y": null,
      "padding": null,
      "right": null,
      "top": null,
      "visibility": null,
      "width": null
     }
    },
    "b77b098edb6349489171a3fb2979a4af": {
     "model_module": "@jupyter-widgets/controls",
     "model_module_version": "1.5.0",
     "model_name": "ProgressStyleModel",
     "state": {
      "_model_module": "@jupyter-widgets/controls",
      "_model_module_version": "1.5.0",
      "_model_name": "ProgressStyleModel",
      "_view_count": null,
      "_view_module": "@jupyter-widgets/base",
      "_view_module_version": "1.2.0",
      "_view_name": "StyleView",
      "bar_color": null,
      "description_width": ""
     }
    },
    "cbf2e716a6cc4752bea4143180da24e7": {
     "model_module": "@jupyter-widgets/controls",
     "model_module_version": "1.5.0",
     "model_name": "DescriptionStyleModel",
     "state": {
      "_model_module": "@jupyter-widgets/controls",
      "_model_module_version": "1.5.0",
      "_model_name": "DescriptionStyleModel",
      "_view_count": null,
      "_view_module": "@jupyter-widgets/base",
      "_view_module_version": "1.2.0",
      "_view_name": "StyleView",
      "description_width": ""
     }
    },
    "d5026903f51649a394ab462e83229df5": {
     "model_module": "@jupyter-widgets/controls",
     "model_module_version": "1.5.0",
     "model_name": "HBoxModel",
     "state": {
      "_dom_classes": [],
      "_model_module": "@jupyter-widgets/controls",
      "_model_module_version": "1.5.0",
      "_model_name": "HBoxModel",
      "_view_count": null,
      "_view_module": "@jupyter-widgets/controls",
      "_view_module_version": "1.5.0",
      "_view_name": "HBoxView",
      "box_style": "",
      "children": [
       "IPY_MODEL_1be1748307d64a73bb45e58712d05a1f",
       "IPY_MODEL_817529da15444ed893783e5d6e8dbf14",
       "IPY_MODEL_451fa4b3d2b14c32bc26b43197e3f251"
      ],
      "layout": "IPY_MODEL_b33cd72a26e34baf9de713b416c9871b"
     }
    },
    "dd8a7396c3c84b64846a1ec844e9a072": {
     "model_module": "@jupyter-widgets/controls",
     "model_module_version": "1.5.0",
     "model_name": "HTMLModel",
     "state": {
      "_dom_classes": [],
      "_model_module": "@jupyter-widgets/controls",
      "_model_module_version": "1.5.0",
      "_model_name": "HTMLModel",
      "_view_count": null,
      "_view_module": "@jupyter-widgets/controls",
      "_view_module_version": "1.5.0",
      "_view_name": "HTMLView",
      "description": "",
      "description_tooltip": null,
      "layout": "IPY_MODEL_4d198003d48e4b6da5d3ec35f36ac05f",
      "placeholder": "​",
      "style": "IPY_MODEL_6e59f92ad2714239b9cb0d6e63d92444",
      "value": "100%"
     }
    },
    "df54ef2d8df545bc8a1d65fb56473a9b": {
     "model_module": "@jupyter-widgets/controls",
     "model_module_version": "1.5.0",
     "model_name": "DescriptionStyleModel",
     "state": {
      "_model_module": "@jupyter-widgets/controls",
      "_model_module_version": "1.5.0",
      "_model_name": "DescriptionStyleModel",
      "_view_count": null,
      "_view_module": "@jupyter-widgets/base",
      "_view_module_version": "1.2.0",
      "_view_name": "StyleView",
      "description_width": ""
     }
    },
    "e60e97f17a9d4f858cd82a54e8c63532": {
     "model_module": "@jupyter-widgets/controls",
     "model_module_version": "1.5.0",
     "model_name": "HBoxModel",
     "state": {
      "_dom_classes": [],
      "_model_module": "@jupyter-widgets/controls",
      "_model_module_version": "1.5.0",
      "_model_name": "HBoxModel",
      "_view_count": null,
      "_view_module": "@jupyter-widgets/controls",
      "_view_module_version": "1.5.0",
      "_view_name": "HBoxView",
      "box_style": "",
      "children": [
       "IPY_MODEL_dd8a7396c3c84b64846a1ec844e9a072",
       "IPY_MODEL_f99f6aec345f48309499dba77ab6d374",
       "IPY_MODEL_567e1bc2944446c7b8bda7ea6347c588"
      ],
      "layout": "IPY_MODEL_f504a36bcea5463db86a049207c838e7"
     }
    },
    "f504a36bcea5463db86a049207c838e7": {
     "model_module": "@jupyter-widgets/base",
     "model_module_version": "1.2.0",
     "model_name": "LayoutModel",
     "state": {
      "_model_module": "@jupyter-widgets/base",
      "_model_module_version": "1.2.0",
      "_model_name": "LayoutModel",
      "_view_count": null,
      "_view_module": "@jupyter-widgets/base",
      "_view_module_version": "1.2.0",
      "_view_name": "LayoutView",
      "align_content": null,
      "align_items": null,
      "align_self": null,
      "border": null,
      "bottom": null,
      "display": null,
      "flex": null,
      "flex_flow": null,
      "grid_area": null,
      "grid_auto_columns": null,
      "grid_auto_flow": null,
      "grid_auto_rows": null,
      "grid_column": null,
      "grid_gap": null,
      "grid_row": null,
      "grid_template_areas": null,
      "grid_template_columns": null,
      "grid_template_rows": null,
      "height": null,
      "justify_content": null,
      "justify_items": null,
      "left": null,
      "margin": null,
      "max_height": null,
      "max_width": null,
      "min_height": null,
      "min_width": null,
      "object_fit": null,
      "object_position": null,
      "order": null,
      "overflow": null,
      "overflow_x": null,
      "overflow_y": null,
      "padding": null,
      "right": null,
      "top": null,
      "visibility": null,
      "width": null
     }
    },
    "f99f6aec345f48309499dba77ab6d374": {
     "model_module": "@jupyter-widgets/controls",
     "model_module_version": "1.5.0",
     "model_name": "FloatProgressModel",
     "state": {
      "_dom_classes": [],
      "_model_module": "@jupyter-widgets/controls",
      "_model_module_version": "1.5.0",
      "_model_name": "FloatProgressModel",
      "_view_count": null,
      "_view_module": "@jupyter-widgets/controls",
      "_view_module_version": "1.5.0",
      "_view_name": "ProgressView",
      "bar_style": "success",
      "description": "",
      "description_tooltip": null,
      "layout": "IPY_MODEL_0c426e4f2dfa4797852c7a94c9297c9e",
      "max": 10,
      "min": 0,
      "orientation": "horizontal",
      "style": "IPY_MODEL_92fff28a91d7404789f4dfce35d16d6a",
      "value": 10
     }
    }
   }
  }
 },
 "nbformat": 4,
 "nbformat_minor": 1
}
