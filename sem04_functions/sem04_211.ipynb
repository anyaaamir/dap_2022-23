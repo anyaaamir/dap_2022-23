{
 "cells": [
  {
   "cell_type": "markdown",
   "id": "ac1625a9",
   "metadata": {},
   "source": [
    "# Семинар 4: много всего про функции"
   ]
  },
  {
   "cell_type": "markdown",
   "id": "2d9231d7",
   "metadata": {},
   "source": [
    "## 0. Никогда так не делайте! \n",
    "\n",
    "Никогда не записывайте в базовые типы/функции что-нибудь!"
   ]
  },
  {
   "cell_type": "code",
   "execution_count": 1,
   "id": "6fcacfc8",
   "metadata": {},
   "outputs": [
    {
     "data": {
      "text/plain": [
       "str"
      ]
     },
     "execution_count": 1,
     "metadata": {},
     "output_type": "execute_result"
    }
   ],
   "source": [
    "str"
   ]
  },
  {
   "cell_type": "code",
   "execution_count": 2,
   "id": "de5e8f5f",
   "metadata": {},
   "outputs": [
    {
     "data": {
      "text/plain": [
       "type"
      ]
     },
     "execution_count": 2,
     "metadata": {},
     "output_type": "execute_result"
    }
   ],
   "source": [
    "type(str)"
   ]
  },
  {
   "cell_type": "code",
   "execution_count": 3,
   "id": "828c4a7d",
   "metadata": {},
   "outputs": [
    {
     "data": {
      "text/plain": [
       "'5'"
      ]
     },
     "execution_count": 3,
     "metadata": {},
     "output_type": "execute_result"
    }
   ],
   "source": [
    "str(5)"
   ]
  },
  {
   "cell_type": "code",
   "execution_count": 4,
   "id": "606963ac",
   "metadata": {},
   "outputs": [],
   "source": [
    "str = 'ахахаха'"
   ]
  },
  {
   "cell_type": "code",
   "execution_count": 5,
   "id": "1a2136bd",
   "metadata": {},
   "outputs": [
    {
     "data": {
      "text/plain": [
       "'ахахаха'"
      ]
     },
     "execution_count": 5,
     "metadata": {},
     "output_type": "execute_result"
    }
   ],
   "source": [
    "str"
   ]
  },
  {
   "cell_type": "code",
   "execution_count": 6,
   "id": "17dac3a7",
   "metadata": {},
   "outputs": [
    {
     "data": {
      "text/plain": [
       "str"
      ]
     },
     "execution_count": 6,
     "metadata": {},
     "output_type": "execute_result"
    }
   ],
   "source": [
    "type(str)"
   ]
  },
  {
   "cell_type": "code",
   "execution_count": 7,
   "id": "bb85dc3f",
   "metadata": {},
   "outputs": [
    {
     "ename": "TypeError",
     "evalue": "'str' object is not callable",
     "output_type": "error",
     "traceback": [
      "\u001b[0;31m---------------------------------------------------------------------------\u001b[0m",
      "\u001b[0;31mTypeError\u001b[0m                                 Traceback (most recent call last)",
      "\u001b[0;32m<ipython-input-7-a69d9fc85d63>\u001b[0m in \u001b[0;36m<module>\u001b[0;34m\u001b[0m\n\u001b[0;32m----> 1\u001b[0;31m \u001b[0mstr\u001b[0m\u001b[0;34m(\u001b[0m\u001b[0;36m5\u001b[0m\u001b[0;34m)\u001b[0m\u001b[0;34m\u001b[0m\u001b[0;34m\u001b[0m\u001b[0m\n\u001b[0m",
      "\u001b[0;31mTypeError\u001b[0m: 'str' object is not callable"
     ]
    }
   ],
   "source": [
    "str(5)"
   ]
  },
  {
   "cell_type": "code",
   "execution_count": 1,
   "id": "abebb0ee",
   "metadata": {},
   "outputs": [
    {
     "data": {
      "text/plain": [
       "\"<class 'str'>\""
      ]
     },
     "execution_count": 1,
     "metadata": {},
     "output_type": "execute_result"
    }
   ],
   "source": [
    "str(str)"
   ]
  },
  {
   "cell_type": "code",
   "execution_count": 2,
   "id": "9f9e1a4b",
   "metadata": {},
   "outputs": [
    {
     "data": {
      "text/plain": [
       "str"
      ]
     },
     "execution_count": 2,
     "metadata": {},
     "output_type": "execute_result"
    }
   ],
   "source": [
    "str"
   ]
  },
  {
   "cell_type": "code",
   "execution_count": 4,
   "id": "d74c792c",
   "metadata": {},
   "outputs": [
    {
     "data": {
      "text/plain": [
       "'<built-in function sum>'"
      ]
     },
     "execution_count": 4,
     "metadata": {},
     "output_type": "execute_result"
    }
   ],
   "source": [
    "str(sum)"
   ]
  },
  {
   "cell_type": "markdown",
   "id": "d898c981",
   "metadata": {},
   "source": [
    "Никогда не делайте в функциях изменяемые аргументы аргументами по умолчанию!"
   ]
  },
  {
   "cell_type": "code",
   "execution_count": 14,
   "id": "2f25f1d3",
   "metadata": {},
   "outputs": [],
   "source": [
    "def f(list_arg = ['Bye!']):\n",
    "    list_arg.append('Hi!')\n",
    "    return list_arg"
   ]
  },
  {
   "cell_type": "code",
   "execution_count": 15,
   "id": "b5240186",
   "metadata": {},
   "outputs": [
    {
     "data": {
      "text/plain": [
       "['Bye!', 'Hi!']"
      ]
     },
     "execution_count": 15,
     "metadata": {},
     "output_type": "execute_result"
    }
   ],
   "source": [
    "f()"
   ]
  },
  {
   "cell_type": "code",
   "execution_count": 16,
   "id": "55f732c5",
   "metadata": {},
   "outputs": [
    {
     "data": {
      "text/plain": [
       "['Bye!', 'Hi!', 'Hi!']"
      ]
     },
     "execution_count": 16,
     "metadata": {},
     "output_type": "execute_result"
    }
   ],
   "source": [
    "f()"
   ]
  },
  {
   "cell_type": "code",
   "execution_count": 17,
   "id": "654e39cf",
   "metadata": {},
   "outputs": [
    {
     "data": {
      "text/plain": [
       "['Bye!', 'Hi!', 'Hi!', 'Hi!']"
      ]
     },
     "execution_count": 17,
     "metadata": {},
     "output_type": "execute_result"
    }
   ],
   "source": [
    "f()"
   ]
  },
  {
   "cell_type": "markdown",
   "id": "27ffa318",
   "metadata": {},
   "source": [
    "> Питон использует ссылку на объект созданную при инициализации функции"
   ]
  },
  {
   "cell_type": "code",
   "execution_count": 9,
   "id": "f25f929a",
   "metadata": {},
   "outputs": [],
   "source": [
    "# А как правильно делать? \n",
    "None"
   ]
  },
  {
   "cell_type": "code",
   "execution_count": 10,
   "id": "1bb8cca1",
   "metadata": {},
   "outputs": [
    {
     "data": {
      "text/plain": [
       "NoneType"
      ]
     },
     "execution_count": 10,
     "metadata": {},
     "output_type": "execute_result"
    }
   ],
   "source": [
    "type(None)"
   ]
  },
  {
   "cell_type": "code",
   "execution_count": 18,
   "id": "3aabec59",
   "metadata": {},
   "outputs": [],
   "source": [
    "def f(list_arg = None):\n",
    "    if list_arg is None:\n",
    "        list_arg = []\n",
    "    list_arg.append('Hi!')\n",
    "    return list_arg"
   ]
  },
  {
   "cell_type": "code",
   "execution_count": 19,
   "id": "6662babb",
   "metadata": {},
   "outputs": [
    {
     "data": {
      "text/plain": [
       "['Hi!']"
      ]
     },
     "execution_count": 19,
     "metadata": {},
     "output_type": "execute_result"
    }
   ],
   "source": [
    "f()"
   ]
  },
  {
   "cell_type": "code",
   "execution_count": 20,
   "id": "6f15dde5",
   "metadata": {},
   "outputs": [
    {
     "data": {
      "text/plain": [
       "['Hi!']"
      ]
     },
     "execution_count": 20,
     "metadata": {},
     "output_type": "execute_result"
    }
   ],
   "source": [
    "f()"
   ]
  },
  {
   "cell_type": "markdown",
   "id": "0905d9f9",
   "metadata": {},
   "source": [
    "## 1. Рекурсия"
   ]
  },
  {
   "cell_type": "markdown",
   "id": "dee91f34",
   "metadata": {},
   "source": [
    "__Задач:__ я хочу найти факториал, но при этом чтобы цикл никто не писал"
   ]
  },
  {
   "cell_type": "code",
   "execution_count": 21,
   "id": "680f732e",
   "metadata": {},
   "outputs": [
    {
     "name": "stdout",
     "output_type": "stream",
     "text": [
      "3628800\n"
     ]
    }
   ],
   "source": [
    "s = 1\n",
    "\n",
    "n = 10\n",
    "\n",
    "# n! = n * (n - 1) * (n - 2) * ... * 3 * 2 * 1 \n",
    "for i in range(2, n + 1):\n",
    "    s = s * i\n",
    "print(s)"
   ]
  },
  {
   "cell_type": "code",
   "execution_count": 22,
   "id": "4fda3970",
   "metadata": {},
   "outputs": [],
   "source": [
    "def fac(n):\n",
    "    return n * fac(n - 1)"
   ]
  },
  {
   "cell_type": "code",
   "execution_count": 23,
   "id": "9f109118",
   "metadata": {},
   "outputs": [
    {
     "ename": "RecursionError",
     "evalue": "maximum recursion depth exceeded",
     "output_type": "error",
     "traceback": [
      "\u001b[0;31m---------------------------------------------------------------------------\u001b[0m",
      "\u001b[0;31mRecursionError\u001b[0m                            Traceback (most recent call last)",
      "\u001b[0;32m<ipython-input-23-1d6bd05da29c>\u001b[0m in \u001b[0;36m<module>\u001b[0;34m\u001b[0m\n\u001b[0;32m----> 1\u001b[0;31m \u001b[0mfac\u001b[0m\u001b[0;34m(\u001b[0m\u001b[0;36m10\u001b[0m\u001b[0;34m)\u001b[0m\u001b[0;34m\u001b[0m\u001b[0;34m\u001b[0m\u001b[0m\n\u001b[0m",
      "\u001b[0;32m<ipython-input-22-c1049f577280>\u001b[0m in \u001b[0;36mfac\u001b[0;34m(n)\u001b[0m\n\u001b[1;32m      1\u001b[0m \u001b[0;32mdef\u001b[0m \u001b[0mfac\u001b[0m\u001b[0;34m(\u001b[0m\u001b[0mn\u001b[0m\u001b[0;34m)\u001b[0m\u001b[0;34m:\u001b[0m\u001b[0;34m\u001b[0m\u001b[0;34m\u001b[0m\u001b[0m\n\u001b[0;32m----> 2\u001b[0;31m     \u001b[0;32mreturn\u001b[0m \u001b[0mn\u001b[0m \u001b[0;34m*\u001b[0m \u001b[0mfac\u001b[0m\u001b[0;34m(\u001b[0m\u001b[0mn\u001b[0m \u001b[0;34m-\u001b[0m \u001b[0;36m1\u001b[0m\u001b[0;34m)\u001b[0m\u001b[0;34m\u001b[0m\u001b[0;34m\u001b[0m\u001b[0m\n\u001b[0m",
      "... last 1 frames repeated, from the frame below ...\n",
      "\u001b[0;32m<ipython-input-22-c1049f577280>\u001b[0m in \u001b[0;36mfac\u001b[0;34m(n)\u001b[0m\n\u001b[1;32m      1\u001b[0m \u001b[0;32mdef\u001b[0m \u001b[0mfac\u001b[0m\u001b[0;34m(\u001b[0m\u001b[0mn\u001b[0m\u001b[0;34m)\u001b[0m\u001b[0;34m:\u001b[0m\u001b[0;34m\u001b[0m\u001b[0;34m\u001b[0m\u001b[0m\n\u001b[0;32m----> 2\u001b[0;31m     \u001b[0;32mreturn\u001b[0m \u001b[0mn\u001b[0m \u001b[0;34m*\u001b[0m \u001b[0mfac\u001b[0m\u001b[0;34m(\u001b[0m\u001b[0mn\u001b[0m \u001b[0;34m-\u001b[0m \u001b[0;36m1\u001b[0m\u001b[0;34m)\u001b[0m\u001b[0;34m\u001b[0m\u001b[0;34m\u001b[0m\u001b[0m\n\u001b[0m",
      "\u001b[0;31mRecursionError\u001b[0m: maximum recursion depth exceeded"
     ]
    }
   ],
   "source": [
    "fac(10)"
   ]
  },
  {
   "cell_type": "code",
   "execution_count": null,
   "id": "db84c476",
   "metadata": {},
   "outputs": [],
   "source": [
    "# fac(5) = 5 * fac(4) = 5* 4 * fac(3) = 5* 4 * 3 *fac(2) =  5* 4 * 3 * 2 * fac(1) = 5* 4 * 3 * 2 * 1 * fac(0) ...."
   ]
  },
  {
   "cell_type": "code",
   "execution_count": 24,
   "id": "5035d59f",
   "metadata": {},
   "outputs": [],
   "source": [
    "def fac(n):\n",
    "    if n == 1:\n",
    "        return 1\n",
    "    else:\n",
    "        return n * fac(n - 1)"
   ]
  },
  {
   "cell_type": "code",
   "execution_count": 25,
   "id": "133a7a0d",
   "metadata": {},
   "outputs": [
    {
     "data": {
      "text/plain": [
       "3628800"
      ]
     },
     "execution_count": 25,
     "metadata": {},
     "output_type": "execute_result"
    }
   ],
   "source": [
    "fac(10)"
   ]
  },
  {
   "cell_type": "markdown",
   "id": "f9348ce9",
   "metadata": {},
   "source": [
    "__Задача:__\n",
    "\n",
    "Посчитать $n$-ое число Фиббоначи.\n",
    "\n",
    "$a_0 = 0$\n",
    "\n",
    "$a_1 = 1$\n",
    "\n",
    "$a_2 = a_1 + a_0 = 1$\n",
    "\n",
    "....\n",
    "\n",
    "$a_n = a_{n-1} + a_{n-2}$"
   ]
  },
  {
   "cell_type": "code",
   "execution_count": 27,
   "id": "347bb8aa",
   "metadata": {},
   "outputs": [
    {
     "name": "stdout",
     "output_type": "stream",
     "text": [
      "55\n"
     ]
    }
   ],
   "source": [
    "n = 10\n",
    "\n",
    "x = [0, 1]                   # записали в память массив - 1 операция\n",
    "for i in range(2, n + 1):    # Надо сделать n - 1 раз\n",
    "    x.append(x[-1] + x[-2])      # добавили в массив + два выбора + сумма + взяли текущее i (около 5)\n",
    "    \n",
    "print(x[-1])\n",
    "\n",
    "# T(n) = 1 + (n - 1)*5\n",
    "# T(n) = O(1 + (n - 1)*5) = O(n)\n",
    "\n",
    "# M(n) = O(n) -->  O(1)  хочу чтобы не было дополнительноей памяти! "
   ]
  },
  {
   "cell_type": "markdown",
   "id": "d02d4cdb",
   "metadata": {},
   "source": [
    "__Сложность по времени__  $T(n)$ - сколько работает код при увеличении объема входа, то сколько надо ему сделать элементарных операций."
   ]
  },
  {
   "cell_type": "markdown",
   "id": "2e22387f",
   "metadata": {},
   "source": [
    "Функция $T(n) = O(n)$, если \n",
    "\n",
    "$$\n",
    "\\lim_{n \\to \\infty} \\frac{T(n)}{n} = const\n",
    "$$"
   ]
  },
  {
   "cell_type": "markdown",
   "id": "e3d6fc53",
   "metadata": {},
   "source": [
    "Функция $T(n) = O(\\ln n)$, если \n",
    "\n",
    "$$\n",
    "\\lim_{n \\to \\infty} \\frac{T(n)}{\\ln n} = const\n",
    "$$"
   ]
  },
  {
   "cell_type": "markdown",
   "id": "8afaf4b7",
   "metadata": {},
   "source": [
    "__Сложность по памяти__  $M(n)$ - сколько дополнительной памяти надо использовать программе при работе и увеличении входа"
   ]
  },
  {
   "cell_type": "code",
   "execution_count": 32,
   "id": "bf85273f",
   "metadata": {},
   "outputs": [],
   "source": [
    "n = 10\n",
    "\n",
    "def fib_fast(n):\n",
    "    # Надо дописать краевые случаи для n = 0 и n = 1\n",
    "    \n",
    "    a, b = 0, 1\n",
    "    for i in range(n - 1):\n",
    "        c = a + b\n",
    "        a, b = b, c\n",
    "    return c"
   ]
  },
  {
   "cell_type": "markdown",
   "id": "b38f8a4e",
   "metadata": {},
   "source": [
    "А теперь попробуем рекурсию! "
   ]
  },
  {
   "cell_type": "code",
   "execution_count": 35,
   "id": "7fd3f120",
   "metadata": {},
   "outputs": [
    {
     "data": {
      "text/plain": [
       "55"
      ]
     },
     "execution_count": 35,
     "metadata": {},
     "output_type": "execute_result"
    }
   ],
   "source": [
    "def fib_slow(n):\n",
    "    if n == 0:\n",
    "        return 0\n",
    "    elif n == 1:\n",
    "        return 1\n",
    "    else:\n",
    "        return fib_slow(n - 1) + fib_slow(n - 2)\n",
    "    \n",
    "fib(10)"
   ]
  },
  {
   "cell_type": "code",
   "execution_count": null,
   "id": "3f3751ad",
   "metadata": {},
   "outputs": [],
   "source": [
    "# T(n) = O(2^n)\n",
    "# M(n) = O(2^n)"
   ]
  },
  {
   "cell_type": "code",
   "execution_count": 37,
   "id": "e10bf118",
   "metadata": {},
   "outputs": [
    {
     "name": "stdout",
     "output_type": "stream",
     "text": [
      "759 ns ± 26.6 ns per loop (mean ± std. dev. of 7 runs, 1000000 loops each)\n"
     ]
    }
   ],
   "source": [
    "%%timeit \n",
    "fib_fast(10)"
   ]
  },
  {
   "cell_type": "code",
   "execution_count": 38,
   "id": "521dfc86",
   "metadata": {},
   "outputs": [
    {
     "name": "stdout",
     "output_type": "stream",
     "text": [
      "21.7 µs ± 743 ns per loop (mean ± std. dev. of 7 runs, 10000 loops each)\n"
     ]
    }
   ],
   "source": [
    "%%timeit \n",
    "fib_slow(10)"
   ]
  },
  {
   "cell_type": "markdown",
   "id": "284561dc",
   "metadata": {},
   "source": [
    "## 2. Атрибуты функций"
   ]
  },
  {
   "cell_type": "code",
   "execution_count": 39,
   "id": "d0013216",
   "metadata": {},
   "outputs": [
    {
     "data": {
      "text/plain": [
       "16"
      ]
     },
     "execution_count": 39,
     "metadata": {},
     "output_type": "execute_result"
    }
   ],
   "source": [
    "def func(x):\n",
    "    \"\"\"ахахахах\"\"\"\n",
    "    func.is_awesome = True\n",
    "    return x**2\n",
    "\n",
    "func(4)"
   ]
  },
  {
   "cell_type": "code",
   "execution_count": 40,
   "id": "faa1e627",
   "metadata": {},
   "outputs": [
    {
     "data": {
      "text/plain": [
       "True"
      ]
     },
     "execution_count": 40,
     "metadata": {},
     "output_type": "execute_result"
    }
   ],
   "source": [
    "func.is_awesome"
   ]
  },
  {
   "cell_type": "code",
   "execution_count": 41,
   "id": "8f5b8729",
   "metadata": {},
   "outputs": [
    {
     "data": {
      "text/plain": [
       "'func'"
      ]
     },
     "execution_count": 41,
     "metadata": {},
     "output_type": "execute_result"
    }
   ],
   "source": [
    "func.__name__"
   ]
  },
  {
   "cell_type": "code",
   "execution_count": 42,
   "id": "6ae76e51",
   "metadata": {},
   "outputs": [
    {
     "data": {
      "text/plain": [
       "'ахахахах'"
      ]
     },
     "execution_count": 42,
     "metadata": {},
     "output_type": "execute_result"
    }
   ],
   "source": [
    "func.__doc__"
   ]
  },
  {
   "cell_type": "code",
   "execution_count": null,
   "id": "94404453",
   "metadata": {},
   "outputs": [],
   "source": [
    "func( )"
   ]
  },
  {
   "cell_type": "markdown",
   "id": "ffb07c0d",
   "metadata": {},
   "source": [
    "## 3. Докстринг и аннотации"
   ]
  },
  {
   "cell_type": "code",
   "execution_count": 43,
   "id": "8e652afd",
   "metadata": {},
   "outputs": [
    {
     "data": {
      "text/plain": [
       "1024"
      ]
     },
     "execution_count": 43,
     "metadata": {},
     "output_type": "execute_result"
    }
   ],
   "source": [
    "import typing as tp \n",
    "\n",
    "def f(x: float, y: int) -> float:\n",
    "    \"\"\"ахахаххаха\"\"\"\n",
    "    return x ** y\n",
    "\n",
    "f(4, 5)"
   ]
  },
  {
   "cell_type": "code",
   "execution_count": 44,
   "id": "f992eefd",
   "metadata": {},
   "outputs": [
    {
     "data": {
      "text/plain": [
       "typing.List"
      ]
     },
     "execution_count": 44,
     "metadata": {},
     "output_type": "execute_result"
    }
   ],
   "source": [
    "tp.List"
   ]
  },
  {
   "cell_type": "code",
   "execution_count": 46,
   "id": "c35dff02",
   "metadata": {},
   "outputs": [
    {
     "data": {
      "text/plain": [
       "typing.Sequence[int]"
      ]
     },
     "execution_count": 46,
     "metadata": {},
     "output_type": "execute_result"
    }
   ],
   "source": [
    "tp.Sequence[int]"
   ]
  },
  {
   "cell_type": "code",
   "execution_count": 47,
   "id": "759b3172",
   "metadata": {},
   "outputs": [
    {
     "data": {
      "text/plain": [
       "typing.Callable"
      ]
     },
     "execution_count": 47,
     "metadata": {},
     "output_type": "execute_result"
    }
   ],
   "source": [
    "tp.Callable"
   ]
  },
  {
   "cell_type": "markdown",
   "id": "2fa73dd1",
   "metadata": {},
   "source": [
    "## 4. Args and kwargs "
   ]
  },
  {
   "cell_type": "markdown",
   "id": "66d82f89",
   "metadata": {},
   "source": [
    "Функции с произвольным числом аргументов"
   ]
  },
  {
   "cell_type": "markdown",
   "id": "985ab080",
   "metadata": {},
   "source": [
    "Хочу функцию, которая будет считать среднее\n",
    "\n",
    "$$\n",
    "y = \\sqrt{\\frac{1}{n} \\cdot (x_1^2 + \\ldots + x_n^2)}\n",
    "$$"
   ]
  },
  {
   "cell_type": "markdown",
   "id": "6c36c5f2",
   "metadata": {},
   "source": [
    "Могу тупо посылать лист как один аргумент. "
   ]
  },
  {
   "cell_type": "code",
   "execution_count": 59,
   "id": "04890621",
   "metadata": {},
   "outputs": [],
   "source": [
    "def root_mean_sq(args: tp.List[float]) -> tp.Optional[float]:\n",
    "    \"\"\"Find very strange mean\"\"\"\n",
    "    if not args:\n",
    "        return None\n",
    "    \n",
    "    sq_sum = sum(x**2 for x in args)\n",
    "    mn = sq_sum / len(args)\n",
    "    return mn ** 0.5"
   ]
  },
  {
   "cell_type": "code",
   "execution_count": 60,
   "id": "319e598d",
   "metadata": {},
   "outputs": [
    {
     "data": {
      "text/plain": [
       "19.774984197212397"
      ]
     },
     "execution_count": 60,
     "metadata": {},
     "output_type": "execute_result"
    }
   ],
   "source": [
    "root_mean_sq([5, 5.5, 6, 10, 42.])"
   ]
  },
  {
   "cell_type": "code",
   "execution_count": 61,
   "id": "b74fef14",
   "metadata": {},
   "outputs": [
    {
     "name": "stdout",
     "output_type": "stream",
     "text": [
      "None\n"
     ]
    }
   ],
   "source": [
    "print(root_mean_sq([ ]))"
   ]
  },
  {
   "cell_type": "code",
   "execution_count": 63,
   "id": "fd2113d5",
   "metadata": {},
   "outputs": [
    {
     "name": "stdout",
     "output_type": "stream",
     "text": [
      "Help on function root_mean_sq in module __main__:\n",
      "\n",
      "root_mean_sq(args:List[float]) -> Union[float, NoneType]\n",
      "    Find very strange mean\n",
      "\n"
     ]
    }
   ],
   "source": [
    "help(root_mean_sq)"
   ]
  },
  {
   "cell_type": "markdown",
   "id": "ab1a2b6b",
   "metadata": {},
   "source": [
    "Могу использовать ключевое слово `*args`"
   ]
  },
  {
   "cell_type": "code",
   "execution_count": 64,
   "id": "0a8bc109",
   "metadata": {},
   "outputs": [],
   "source": [
    "def root_mean_sq(*args: float) -> tp.Optional[float]:\n",
    "    \"\"\"Find very strange mean\"\"\"\n",
    "    \n",
    "    if not args:\n",
    "        return None\n",
    "    \n",
    "    sq_sum = sum(x**2 for x in args)\n",
    "    mn = sq_sum / len(args)\n",
    "    return mn ** 0.5"
   ]
  },
  {
   "cell_type": "code",
   "execution_count": 65,
   "id": "0877cd96",
   "metadata": {},
   "outputs": [
    {
     "data": {
      "text/plain": [
       "19.774984197212397"
      ]
     },
     "execution_count": 65,
     "metadata": {},
     "output_type": "execute_result"
    }
   ],
   "source": [
    "root_mean_sq(5, 5.5, 6, 10, 42)"
   ]
  },
  {
   "cell_type": "markdown",
   "id": "3bb8326c",
   "metadata": {},
   "source": [
    "`**kwargs` - то же самое, но для именованных аргументов "
   ]
  },
  {
   "cell_type": "code",
   "execution_count": 68,
   "id": "cd59c2a5",
   "metadata": {},
   "outputs": [],
   "source": [
    "def root_mean_sq(*args: float, verbouse: bool = True) -> tp.Optional[float]:\n",
    "    \"\"\"Find very strange mean\"\"\"\n",
    "    \n",
    "    if not args:\n",
    "        return None\n",
    "    \n",
    "    sq_sum = sum(x**2 for x in args)\n",
    "    mn = sq_sum / len(args)\n",
    "    \n",
    "    if verbouse:\n",
    "        print(f'Я получил {mn}')\n",
    "    \n",
    "    return mn ** 0.5"
   ]
  },
  {
   "cell_type": "code",
   "execution_count": 69,
   "id": "9f1062b8",
   "metadata": {},
   "outputs": [
    {
     "name": "stdout",
     "output_type": "stream",
     "text": [
      "Я получил 391.05\n"
     ]
    },
    {
     "data": {
      "text/plain": [
       "19.774984197212397"
      ]
     },
     "execution_count": 69,
     "metadata": {},
     "output_type": "execute_result"
    }
   ],
   "source": [
    "root_mean_sq(5, 5.5, 6, 10, 42)"
   ]
  },
  {
   "cell_type": "code",
   "execution_count": 72,
   "id": "eec03b18",
   "metadata": {},
   "outputs": [],
   "source": [
    "def root_mean_sq(*args: float, **kwargs: tp.Any) -> tp.Optional[float]:\n",
    "    \"\"\"Find very strange mean\"\"\"\n",
    "    \n",
    "    verbouse = kwargs.get('verbouse', False)\n",
    "    \n",
    "    if not args:\n",
    "        return None\n",
    "    \n",
    "    sq_sum = sum(x**2 for x in args)\n",
    "    mn = sq_sum / len(args)\n",
    "    \n",
    "    if verbouse:\n",
    "        print(f'Я получил {mn}')\n",
    "    \n",
    "    return mn ** 0.5"
   ]
  },
  {
   "cell_type": "code",
   "execution_count": 73,
   "id": "c3d3179a",
   "metadata": {},
   "outputs": [
    {
     "data": {
      "text/plain": [
       "19.774984197212397"
      ]
     },
     "execution_count": 73,
     "metadata": {},
     "output_type": "execute_result"
    }
   ],
   "source": [
    "root_mean_sq(5, 5.5, 6, 10, 42)"
   ]
  },
  {
   "cell_type": "code",
   "execution_count": null,
   "id": "28281f0b",
   "metadata": {},
   "outputs": [],
   "source": [
    "# *args и **kwargs это запаковка аргументов в tuple и dict \n",
    "# Можно наоборот распаковывать аргументы"
   ]
  },
  {
   "cell_type": "code",
   "execution_count": 77,
   "id": "aa3dfd84",
   "metadata": {},
   "outputs": [],
   "source": [
    "def f(x, y, option1=None, option2=None):\n",
    "    print(x, y, option1, option2)\n",
    "\n",
    "positional = (4, 8)\n",
    "key_value = {'option1': 15, 'option2': 10}"
   ]
  },
  {
   "cell_type": "code",
   "execution_count": 75,
   "id": "c4eddd3c",
   "metadata": {},
   "outputs": [
    {
     "data": {
      "text/plain": [
       "dict"
      ]
     },
     "execution_count": 75,
     "metadata": {},
     "output_type": "execute_result"
    }
   ],
   "source": [
    "type(key_value)"
   ]
  },
  {
   "cell_type": "code",
   "execution_count": 78,
   "id": "69b0a5d9",
   "metadata": {},
   "outputs": [
    {
     "name": "stdout",
     "output_type": "stream",
     "text": [
      "4 8 15 10\n"
     ]
    }
   ],
   "source": [
    "# удобнов без длинных записей распаковали аргументы\n",
    "# всё разложилось по очереди по своим именам\n",
    "\n",
    "f(*positional, **key_value)"
   ]
  },
  {
   "cell_type": "markdown",
   "id": "2c37cc84",
   "metadata": {},
   "source": [
    "## 5. Зоны видимости\n",
    "\n",
    "В python есть 4 пространства имён\n",
    "\n",
    "- Built-in (создается каждый раз когда мы запускаемс скрипт в питоне). "
   ]
  },
  {
   "cell_type": "code",
   "execution_count": 81,
   "id": "7bd30a97",
   "metadata": {
    "scrolled": false
   },
   "outputs": [
    {
     "data": {
      "text/plain": [
       "['ArithmeticError',\n",
       " 'AssertionError',\n",
       " 'AttributeError',\n",
       " 'BaseException',\n",
       " 'BlockingIOError',\n",
       " 'BrokenPipeError',\n",
       " 'BufferError',\n",
       " 'BytesWarning',\n",
       " 'ChildProcessError',\n",
       " 'ConnectionAbortedError',\n",
       " 'ConnectionError',\n",
       " 'ConnectionRefusedError',\n",
       " 'ConnectionResetError',\n",
       " 'DeprecationWarning',\n",
       " 'EOFError',\n",
       " 'Ellipsis',\n",
       " 'EnvironmentError',\n",
       " 'Exception',\n",
       " 'False',\n",
       " 'FileExistsError',\n",
       " 'FileNotFoundError',\n",
       " 'FloatingPointError',\n",
       " 'FutureWarning',\n",
       " 'GeneratorExit',\n",
       " 'IOError',\n",
       " 'ImportError',\n",
       " 'ImportWarning',\n",
       " 'IndentationError',\n",
       " 'IndexError',\n",
       " 'InterruptedError',\n",
       " 'IsADirectoryError',\n",
       " 'KeyError',\n",
       " 'KeyboardInterrupt',\n",
       " 'LookupError',\n",
       " 'MemoryError',\n",
       " 'ModuleNotFoundError',\n",
       " 'NameError',\n",
       " 'None',\n",
       " 'NotADirectoryError',\n",
       " 'NotImplemented',\n",
       " 'NotImplementedError',\n",
       " 'OSError',\n",
       " 'OverflowError',\n",
       " 'PendingDeprecationWarning',\n",
       " 'PermissionError',\n",
       " 'ProcessLookupError',\n",
       " 'RecursionError',\n",
       " 'ReferenceError',\n",
       " 'ResourceWarning',\n",
       " 'RuntimeError',\n",
       " 'RuntimeWarning',\n",
       " 'StopAsyncIteration',\n",
       " 'StopIteration',\n",
       " 'SyntaxError',\n",
       " 'SyntaxWarning',\n",
       " 'SystemError',\n",
       " 'SystemExit',\n",
       " 'TabError',\n",
       " 'TimeoutError',\n",
       " 'True',\n",
       " 'TypeError',\n",
       " 'UnboundLocalError',\n",
       " 'UnicodeDecodeError',\n",
       " 'UnicodeEncodeError',\n",
       " 'UnicodeError',\n",
       " 'UnicodeTranslateError',\n",
       " 'UnicodeWarning',\n",
       " 'UserWarning',\n",
       " 'ValueError',\n",
       " 'Warning',\n",
       " 'ZeroDivisionError',\n",
       " '__IPYTHON__',\n",
       " '__build_class__',\n",
       " '__debug__',\n",
       " '__doc__',\n",
       " '__import__',\n",
       " '__loader__',\n",
       " '__name__',\n",
       " '__package__',\n",
       " '__spec__',\n",
       " 'abs',\n",
       " 'all',\n",
       " 'any',\n",
       " 'ascii',\n",
       " 'bin',\n",
       " 'bool',\n",
       " 'bytearray',\n",
       " 'bytes',\n",
       " 'callable',\n",
       " 'chr',\n",
       " 'classmethod',\n",
       " 'compile',\n",
       " 'complex',\n",
       " 'copyright',\n",
       " 'credits',\n",
       " 'delattr',\n",
       " 'dict',\n",
       " 'dir',\n",
       " 'display',\n",
       " 'divmod',\n",
       " 'enumerate',\n",
       " 'eval',\n",
       " 'exec',\n",
       " 'filter',\n",
       " 'float',\n",
       " 'format',\n",
       " 'frozenset',\n",
       " 'get_ipython',\n",
       " 'getattr',\n",
       " 'globals',\n",
       " 'hasattr',\n",
       " 'hash',\n",
       " 'help',\n",
       " 'hex',\n",
       " 'id',\n",
       " 'input',\n",
       " 'int',\n",
       " 'isinstance',\n",
       " 'issubclass',\n",
       " 'iter',\n",
       " 'len',\n",
       " 'license',\n",
       " 'list',\n",
       " 'locals',\n",
       " 'map',\n",
       " 'max',\n",
       " 'memoryview',\n",
       " 'min',\n",
       " 'next',\n",
       " 'object',\n",
       " 'oct',\n",
       " 'open',\n",
       " 'ord',\n",
       " 'pow',\n",
       " 'print',\n",
       " 'property',\n",
       " 'range',\n",
       " 'repr',\n",
       " 'reversed',\n",
       " 'round',\n",
       " 'set',\n",
       " 'setattr',\n",
       " 'slice',\n",
       " 'sorted',\n",
       " 'staticmethod',\n",
       " 'str',\n",
       " 'sum',\n",
       " 'super',\n",
       " 'tuple',\n",
       " 'type',\n",
       " 'vars',\n",
       " 'zip']"
      ]
     },
     "execution_count": 81,
     "metadata": {},
     "output_type": "execute_result"
    }
   ],
   "source": [
    "dir(__builtins__)"
   ]
  },
  {
   "cell_type": "markdown",
   "id": "5a24cd16",
   "metadata": {},
   "source": [
    "- Global (живут все глобальные объекты)"
   ]
  },
  {
   "cell_type": "code",
   "execution_count": 1,
   "id": "fa94a3f4",
   "metadata": {},
   "outputs": [
    {
     "data": {
      "text/plain": [
       "5"
      ]
     },
     "execution_count": 1,
     "metadata": {},
     "output_type": "execute_result"
    }
   ],
   "source": [
    "x = 5\n",
    "x"
   ]
  },
  {
   "cell_type": "code",
   "execution_count": 2,
   "id": "b3a4a8aa",
   "metadata": {},
   "outputs": [
    {
     "name": "stdout",
     "output_type": "stream",
     "text": [
      "{'__name__': '__main__', '__doc__': 'Automatically created module for IPython interactive environment', '__package__': None, '__loader__': None, '__spec__': None, '__builtin__': <module 'builtins' (built-in)>, '__builtins__': <module 'builtins' (built-in)>, '_ih': ['', 'x = 5\\nx', 'print(globals())'], '_oh': {1: 5}, '_dh': ['/home/randomwalk'], 'In': ['', 'x = 5\\nx', 'print(globals())'], 'Out': {1: 5}, 'get_ipython': <bound method InteractiveShell.get_ipython of <ipykernel.zmqshell.ZMQInteractiveShell object at 0x7f6cf65a8f60>>, 'exit': <IPython.core.autocall.ZMQExitAutocall object at 0x7f6cf65b39b0>, 'quit': <IPython.core.autocall.ZMQExitAutocall object at 0x7f6cf65b39b0>, '_': 5, '__': '', '___': '', '_i': 'x = 5\\nx', '_ii': '', '_iii': '', '_i1': 'x = 5\\nx', 'x': 5, '_1': 5, '_i2': 'print(globals())'}\n"
     ]
    }
   ],
   "source": [
    "print(globals())"
   ]
  },
  {
   "cell_type": "code",
   "execution_count": 4,
   "id": "ec1be420",
   "metadata": {},
   "outputs": [
    {
     "data": {
      "text/plain": [
       "'x = 5\\nx'"
      ]
     },
     "execution_count": 4,
     "metadata": {},
     "output_type": "execute_result"
    }
   ],
   "source": [
    "globals()['_i1']"
   ]
  },
  {
   "cell_type": "markdown",
   "id": "ba6cebe6",
   "metadata": {},
   "source": [
    "- Enclosing\n",
    "- Local"
   ]
  },
  {
   "cell_type": "code",
   "execution_count": 5,
   "id": "13788908",
   "metadata": {},
   "outputs": [
    {
     "name": "stdout",
     "output_type": "stream",
     "text": [
      "5\n",
      "10\n",
      "5\n"
     ]
    }
   ],
   "source": [
    "a = 5\n",
    "print(a)\n",
    "\n",
    "def f(x):\n",
    "    a = 10      # всё что произошло внутри функции остается внутри функции\n",
    "    print(a)\n",
    "    return a**2\n",
    "\n",
    "f(5)\n",
    "print(a)"
   ]
  },
  {
   "cell_type": "code",
   "execution_count": 6,
   "id": "3cbf1a18",
   "metadata": {},
   "outputs": [
    {
     "name": "stdout",
     "output_type": "stream",
     "text": [
      "5\n",
      "10\n",
      "10\n"
     ]
    }
   ],
   "source": [
    "a = 5\n",
    "print(a)\n",
    "\n",
    "# !!! никогда так не делайте !!! \n",
    "\n",
    "def f(x):\n",
    "    global a # я обращаюсь к глобальной переменной\n",
    "    a = 10    \n",
    "    print(a)\n",
    "    return a**2\n",
    "\n",
    "f(5)\n",
    "print(a)"
   ]
  },
  {
   "cell_type": "code",
   "execution_count": 7,
   "id": "9cc8e6e1",
   "metadata": {},
   "outputs": [
    {
     "name": "stdout",
     "output_type": "stream",
     "text": [
      "2\n",
      "1\n"
     ]
    }
   ],
   "source": [
    "def f():\n",
    "    a = 1\n",
    "    def g():\n",
    "        a = 2\n",
    "        print(a)\n",
    "    g()\n",
    "    print(a)\n",
    "    \n",
    "f()"
   ]
  },
  {
   "cell_type": "code",
   "execution_count": null,
   "id": "82b49e1d",
   "metadata": {},
   "outputs": [],
   "source": [
    "# В python свою зону видимости создают только функции\n",
    "# В c++ свою зону видимости создают еще и циклы и условия, в питоне нет !!!"
   ]
  },
  {
   "cell_type": "markdown",
   "id": "f8952c01",
   "metadata": {},
   "source": [
    "> Функции имеют доступ к внешним пространствам имен относительного того места, где они были определены, а не вызваны!"
   ]
  },
  {
   "cell_type": "code",
   "execution_count": 8,
   "id": "fd9d0e68",
   "metadata": {},
   "outputs": [
    {
     "ename": "NameError",
     "evalue": "name 'it' is not defined",
     "output_type": "error",
     "traceback": [
      "\u001b[0;31m---------------------------------------------------------------------------\u001b[0m",
      "\u001b[0;31mNameError\u001b[0m                                 Traceback (most recent call last)",
      "\u001b[0;32m<ipython-input-8-8544fcb0e387>\u001b[0m in \u001b[0;36m<module>\u001b[0;34m\u001b[0m\n\u001b[1;32m      6\u001b[0m         \u001b[0mfunc\u001b[0m\u001b[0;34m(\u001b[0m\u001b[0;34m)\u001b[0m\u001b[0;34m\u001b[0m\u001b[0;34m\u001b[0m\u001b[0m\n\u001b[1;32m      7\u001b[0m \u001b[0;34m\u001b[0m\u001b[0m\n\u001b[0;32m----> 8\u001b[0;31m \u001b[0mq\u001b[0m\u001b[0;34m(\u001b[0m\u001b[0mf\u001b[0m\u001b[0;34m)\u001b[0m\u001b[0;34m\u001b[0m\u001b[0;34m\u001b[0m\u001b[0m\n\u001b[0m",
      "\u001b[0;32m<ipython-input-8-8544fcb0e387>\u001b[0m in \u001b[0;36mq\u001b[0;34m(func)\u001b[0m\n\u001b[1;32m      4\u001b[0m \u001b[0;32mdef\u001b[0m \u001b[0mq\u001b[0m\u001b[0;34m(\u001b[0m\u001b[0mfunc\u001b[0m\u001b[0;34m)\u001b[0m\u001b[0;34m:\u001b[0m\u001b[0;34m\u001b[0m\u001b[0;34m\u001b[0m\u001b[0m\n\u001b[1;32m      5\u001b[0m     \u001b[0;32mfor\u001b[0m \u001b[0mit\u001b[0m \u001b[0;32min\u001b[0m \u001b[0mrange\u001b[0m\u001b[0;34m(\u001b[0m\u001b[0;36m10\u001b[0m\u001b[0;34m)\u001b[0m\u001b[0;34m:\u001b[0m\u001b[0;34m\u001b[0m\u001b[0;34m\u001b[0m\u001b[0m\n\u001b[0;32m----> 6\u001b[0;31m         \u001b[0mfunc\u001b[0m\u001b[0;34m(\u001b[0m\u001b[0;34m)\u001b[0m\u001b[0;34m\u001b[0m\u001b[0;34m\u001b[0m\u001b[0m\n\u001b[0m\u001b[1;32m      7\u001b[0m \u001b[0;34m\u001b[0m\u001b[0m\n\u001b[1;32m      8\u001b[0m \u001b[0mq\u001b[0m\u001b[0;34m(\u001b[0m\u001b[0mf\u001b[0m\u001b[0;34m)\u001b[0m\u001b[0;34m\u001b[0m\u001b[0;34m\u001b[0m\u001b[0m\n",
      "\u001b[0;32m<ipython-input-8-8544fcb0e387>\u001b[0m in \u001b[0;36mf\u001b[0;34m()\u001b[0m\n\u001b[1;32m      1\u001b[0m \u001b[0;32mdef\u001b[0m \u001b[0mf\u001b[0m\u001b[0;34m(\u001b[0m\u001b[0;34m)\u001b[0m\u001b[0;34m:\u001b[0m\u001b[0;34m\u001b[0m\u001b[0;34m\u001b[0m\u001b[0m\n\u001b[0;32m----> 2\u001b[0;31m     \u001b[0mprint\u001b[0m\u001b[0;34m(\u001b[0m\u001b[0mit\u001b[0m\u001b[0;34m)\u001b[0m\u001b[0;34m\u001b[0m\u001b[0;34m\u001b[0m\u001b[0m\n\u001b[0m\u001b[1;32m      3\u001b[0m \u001b[0;34m\u001b[0m\u001b[0m\n\u001b[1;32m      4\u001b[0m \u001b[0;32mdef\u001b[0m \u001b[0mq\u001b[0m\u001b[0;34m(\u001b[0m\u001b[0mfunc\u001b[0m\u001b[0;34m)\u001b[0m\u001b[0;34m:\u001b[0m\u001b[0;34m\u001b[0m\u001b[0;34m\u001b[0m\u001b[0m\n\u001b[1;32m      5\u001b[0m     \u001b[0;32mfor\u001b[0m \u001b[0mit\u001b[0m \u001b[0;32min\u001b[0m \u001b[0mrange\u001b[0m\u001b[0;34m(\u001b[0m\u001b[0;36m10\u001b[0m\u001b[0;34m)\u001b[0m\u001b[0;34m:\u001b[0m\u001b[0;34m\u001b[0m\u001b[0;34m\u001b[0m\u001b[0m\n",
      "\u001b[0;31mNameError\u001b[0m: name 'it' is not defined"
     ]
    }
   ],
   "source": [
    "def f():\n",
    "    print(it)\n",
    "    \n",
    "def q(func):\n",
    "    for it in range(10):\n",
    "        func()\n",
    "    \n",
    "q(f)"
   ]
  },
  {
   "cell_type": "markdown",
   "id": "285f0bdf",
   "metadata": {},
   "source": [
    "## 6. Замыкания"
   ]
  },
  {
   "cell_type": "code",
   "execution_count": 12,
   "id": "268846cd",
   "metadata": {},
   "outputs": [],
   "source": [
    "# фабрика функций (замыкание)\n",
    "\n",
    "def make_adder(x):\n",
    "    def adder(y):\n",
    "        return x + y\n",
    "    return adder\n",
    "\n",
    "add_two = make_adder(2)\n",
    "add_five = make_adder(5)"
   ]
  },
  {
   "cell_type": "code",
   "execution_count": 13,
   "id": "bd75e3bc",
   "metadata": {},
   "outputs": [
    {
     "data": {
      "text/plain": [
       "12"
      ]
     },
     "execution_count": 13,
     "metadata": {},
     "output_type": "execute_result"
    }
   ],
   "source": [
    "add_two(10)"
   ]
  },
  {
   "cell_type": "code",
   "execution_count": 14,
   "id": "1837aec7",
   "metadata": {},
   "outputs": [
    {
     "data": {
      "text/plain": [
       "15"
      ]
     },
     "execution_count": 14,
     "metadata": {},
     "output_type": "execute_result"
    }
   ],
   "source": [
    "add_five(10)"
   ]
  },
  {
   "cell_type": "markdown",
   "id": "1d542557",
   "metadata": {},
   "source": [
    "## 7. Декораторы"
   ]
  },
  {
   "cell_type": "code",
   "execution_count": 20,
   "id": "4abb3392",
   "metadata": {},
   "outputs": [],
   "source": [
    "import sys\n",
    "\n",
    "def deprecate(func):\n",
    "    def inner(*args, **kwargs):\n",
    "        print('{} is deprecated'.format(func.__name__),\n",
    "             file=sys.stderr)\n",
    "        return func(*args, **kwargs)\n",
    "    return inner"
   ]
  },
  {
   "cell_type": "code",
   "execution_count": 21,
   "id": "65673baf",
   "metadata": {},
   "outputs": [
    {
     "name": "stdout",
     "output_type": "stream",
     "text": [
      "[5, 6, 7]\n"
     ]
    }
   ],
   "source": [
    "pprint = deprecate(print)\n",
    "print([5, 6, 7])"
   ]
  },
  {
   "cell_type": "code",
   "execution_count": 22,
   "id": "544dac92",
   "metadata": {},
   "outputs": [
    {
     "name": "stdout",
     "output_type": "stream",
     "text": [
      "[5, 6, 7]\n"
     ]
    },
    {
     "name": "stderr",
     "output_type": "stream",
     "text": [
      "print is deprecated\n"
     ]
    }
   ],
   "source": [
    "pprint([5, 6, 7])"
   ]
  },
  {
   "cell_type": "code",
   "execution_count": 23,
   "id": "c6d1cd6a",
   "metadata": {},
   "outputs": [
    {
     "name": "stderr",
     "output_type": "stream",
     "text": [
      "str is deprecated\n"
     ]
    },
    {
     "data": {
      "text/plain": [
       "'5'"
      ]
     },
     "execution_count": 23,
     "metadata": {},
     "output_type": "execute_result"
    }
   ],
   "source": [
    "sstr = deprecate(str)\n",
    "sstr(5)"
   ]
  },
  {
   "cell_type": "code",
   "execution_count": 24,
   "id": "8bcf9b96",
   "metadata": {},
   "outputs": [],
   "source": [
    "@deprecate\n",
    "def f(x, y):\n",
    "    return x + y"
   ]
  },
  {
   "cell_type": "code",
   "execution_count": 25,
   "id": "6b77c32d",
   "metadata": {},
   "outputs": [
    {
     "name": "stderr",
     "output_type": "stream",
     "text": [
      "f is deprecated\n"
     ]
    },
    {
     "data": {
      "text/plain": [
       "9"
      ]
     },
     "execution_count": 25,
     "metadata": {},
     "output_type": "execute_result"
    }
   ],
   "source": [
    "f(4, 5)"
   ]
  },
  {
   "cell_type": "code",
   "execution_count": 26,
   "id": "6afbf612",
   "metadata": {},
   "outputs": [],
   "source": [
    "# внутри много декораторов, почитайте про них\n",
    "import functools\n",
    "# functools.wrap() - чтобы сохранялось описание исходной функции и не перезатиралось"
   ]
  },
  {
   "cell_type": "markdown",
   "id": "7c89db1a",
   "metadata": {},
   "source": [
    "__Задание:__\n",
    "\n",
    "__а)__ Напишите декортатор, который ограничивает вызов функции только одним разом. Если вызываете два раза, должна вылезать ошибка. \n",
    "\n",
    "__б)__ Напишите декортатор, который логирует все вызовы функции и её аргументы.\n",
    "\n",
    "__в)__ Напишите декортатор, который кэширует последние три вызова функции. И если на вход приходят те же самые аргументы, он не считает вызов функции заново, а просто переиспользует уже посчитанные результаты."
   ]
  },
  {
   "cell_type": "markdown",
   "id": "5a009545",
   "metadata": {},
   "source": [
    " "
   ]
  }
 ],
 "metadata": {
  "kernelspec": {
   "display_name": "Python 3",
   "language": "python",
   "name": "python3"
  },
  "language_info": {
   "codemirror_mode": {
    "name": "ipython",
    "version": 3
   },
   "file_extension": ".py",
   "mimetype": "text/x-python",
   "name": "python",
   "nbconvert_exporter": "python",
   "pygments_lexer": "ipython3",
   "version": "3.6.9"
  }
 },
 "nbformat": 4,
 "nbformat_minor": 5
}
