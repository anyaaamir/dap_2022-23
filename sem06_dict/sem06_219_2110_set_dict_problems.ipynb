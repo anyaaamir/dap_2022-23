{
  "nbformat": 4,
  "nbformat_minor": 0,
  "metadata": {
    "colab": {
      "name": "sem06_219_2110_set_dict_problem_set.ipynb",
      "provenance": [],
      "toc_visible": true,
      "collapsed_sections": [
        "hTFsm4W2Mhja",
        "0a7_nXcQSyyb",
        "SxDhFJpP4weI",
        "wFl9N36s851_"
      ]
    },
    "kernelspec": {
      "name": "python3",
      "display_name": "Python 3"
    },
    "language_info": {
      "name": "python"
    }
  },
  "cells": [
    {
      "cell_type": "markdown",
      "source": [
        "# Часть 1. Множества и словари"
      ],
      "metadata": {
        "id": "aAgo47xuq2Qi"
      }
    },
    {
      "cell_type": "markdown",
      "source": [
        "## **Множества**"
      ],
      "metadata": {
        "id": "3FJbRb1jHico"
      }
    },
    {
      "cell_type": "markdown",
      "source": [
        "**Множество** - неупорядоченная совокупность уникальных значений. "
      ],
      "metadata": {
        "id": "YbMrMzhuIgGK"
      }
    },
    {
      "cell_type": "markdown",
      "source": [
        "Создать множество"
      ],
      "metadata": {
        "id": "wQK1rCXzHnK5"
      }
    },
    {
      "cell_type": "code",
      "source": [
        "m = set()"
      ],
      "metadata": {
        "id": "hpHs_HNIHmuQ"
      },
      "execution_count": null,
      "outputs": []
    },
    {
      "cell_type": "code",
      "source": [
        "m = {1, 2, 3, 4}"
      ],
      "metadata": {
        "id": "osWTZp6fIpBg"
      },
      "execution_count": null,
      "outputs": []
    },
    {
      "cell_type": "code",
      "source": [
        "m = set('1234')\n",
        "m"
      ],
      "metadata": {
        "id": "SanJC0N4IxzQ"
      },
      "execution_count": null,
      "outputs": []
    },
    {
      "cell_type": "code",
      "source": [
        "s = [1, 2, 3, 4]\n",
        "print(set(s))"
      ],
      "metadata": {
        "id": "bYpY98oKQDWt"
      },
      "execution_count": null,
      "outputs": []
    },
    {
      "cell_type": "markdown",
      "source": [
        "Перебор множества:\n",
        "\n",
        "\n"
      ],
      "metadata": {
        "id": "tVIz7eM6JIjz"
      }
    },
    {
      "cell_type": "code",
      "source": [
        "m = {1, 2, 3, 4}\n",
        "for i in m:\n",
        "  print(i)"
      ],
      "metadata": {
        "id": "N3KiuYEXJfqb"
      },
      "execution_count": null,
      "outputs": []
    },
    {
      "cell_type": "markdown",
      "source": [
        "Проверить наличие элемента в множестве:"
      ],
      "metadata": {
        "id": "8ryDblFhJwiY"
      }
    },
    {
      "cell_type": "code",
      "source": [
        "m = {1, 2, 3, 4}\n",
        "print(1 in m)\n",
        "print(5 in m)"
      ],
      "metadata": {
        "id": "2k-Iv2suJsUm"
      },
      "execution_count": null,
      "outputs": []
    },
    {
      "cell_type": "markdown",
      "source": [
        "Добавить элемент во множество:"
      ],
      "metadata": {
        "id": "3-YU4rF6NIp-"
      }
    },
    {
      "cell_type": "code",
      "source": [
        "m = {1, 2, 3, 4}\n",
        "m.add(5)\n",
        "m"
      ],
      "metadata": {
        "id": "cc7pk7kPNMf1"
      },
      "execution_count": null,
      "outputs": []
    },
    {
      "cell_type": "markdown",
      "source": [
        "Удалить элемент из множества:"
      ],
      "metadata": {
        "id": "Qx60Akq-MxcQ"
      }
    },
    {
      "cell_type": "code",
      "source": [
        "m = {1, 2, 3, 4, 5}\n",
        "m.remove(5)\n",
        "m"
      ],
      "metadata": {
        "id": "okUI_SHqM23D"
      },
      "execution_count": null,
      "outputs": []
    },
    {
      "cell_type": "markdown",
      "source": [
        "Объединение множеств:"
      ],
      "metadata": {
        "id": "CryklQe5Kjht"
      }
    },
    {
      "cell_type": "code",
      "source": [
        "m = {1, 2, 3, 4}\n",
        "n = {3, 4, 5, 6}\n",
        "print (m | n)"
      ],
      "metadata": {
        "id": "ybZRxe1nKIeL"
      },
      "execution_count": null,
      "outputs": []
    },
    {
      "cell_type": "code",
      "source": [
        "m = {1, 2, 3, 4}\n",
        "n = {3, 4, 5, 6}\n",
        "print (m.union(n))"
      ],
      "metadata": {
        "id": "fgUEj1khK8Wf"
      },
      "execution_count": null,
      "outputs": []
    },
    {
      "cell_type": "markdown",
      "source": [
        "Пересечение множеств:"
      ],
      "metadata": {
        "id": "QtvoQbTNLC52"
      }
    },
    {
      "cell_type": "code",
      "source": [
        "m = {1, 2, 3, 4}\n",
        "n = {3, 4, 5, 6}\n",
        "print (m & n)"
      ],
      "metadata": {
        "id": "MtlCeaA_LKP1"
      },
      "execution_count": null,
      "outputs": []
    },
    {
      "cell_type": "code",
      "source": [
        "m = {1, 2, 3, 4}\n",
        "n = {3, 4, 5, 6}\n",
        "print (m.intersection(n))"
      ],
      "metadata": {
        "id": "REJzrgv0LPRs"
      },
      "execution_count": null,
      "outputs": []
    },
    {
      "cell_type": "markdown",
      "source": [
        "Разность множеств:"
      ],
      "metadata": {
        "id": "4J5cer97LbVD"
      }
    },
    {
      "cell_type": "code",
      "source": [
        "m = {1, 2, 3, 4}\n",
        "n = {3, 4, 5, 6}\n",
        "print (m - n)\n",
        "print (n - m)"
      ],
      "metadata": {
        "id": "Z5R1Wu4uLePA"
      },
      "execution_count": null,
      "outputs": []
    },
    {
      "cell_type": "code",
      "source": [
        "m = {1, 2, 3, 4}\n",
        "n = {3, 4, 5, 6}\n",
        "print (m.difference(n))\n",
        "print (n.difference(m))"
      ],
      "metadata": {
        "id": "VgKFqmfsL8Ti"
      },
      "execution_count": null,
      "outputs": []
    },
    {
      "cell_type": "markdown",
      "source": [
        "Симметричная разность множеств:"
      ],
      "metadata": {
        "id": "Wm27RokmL7PS"
      }
    },
    {
      "cell_type": "code",
      "source": [
        "m = {1, 2, 3, 4}\n",
        "n = {3, 4, 5, 6}\n",
        "print (m^n)"
      ],
      "metadata": {
        "id": "DOhs0LbTMMqq"
      },
      "execution_count": null,
      "outputs": []
    },
    {
      "cell_type": "code",
      "source": [
        "m = {1, 2, 3, 4}\n",
        "n = {3, 4, 5, 6}\n",
        "print (m.symmetric_difference(n))"
      ],
      "metadata": {
        "id": "5oIDLZqWMZ00"
      },
      "execution_count": null,
      "outputs": []
    },
    {
      "cell_type": "markdown",
      "source": [
        "### Задача 1 (максимальное количество уникальных объектов)"
      ],
      "metadata": {
        "id": "hTFsm4W2Mhja"
      }
    },
    {
      "cell_type": "markdown",
      "source": [
        "С клавиатуры вводит два списка одинаковой длины. Выведите тот список, в котором максимальное количество уникальных объектов. Если уникальных значений одинаковое количество, то выведите оба списка\n",
        "\n",
        "ВВОД:\n",
        "\n",
        "1 2 3 4\n",
        "\n",
        "1 1 2 2\n",
        "\n",
        "ВЫВОД:\n",
        "\n",
        "['1', '2', '3', '4']\n",
        "\n",
        "\n"
      ],
      "metadata": {
        "id": "t9zRQNNWM74S"
      }
    },
    {
      "cell_type": "code",
      "source": [
        ""
      ],
      "metadata": {
        "id": "qInfj_coNx3N"
      },
      "execution_count": null,
      "outputs": []
    },
    {
      "cell_type": "markdown",
      "source": [
        "### Задача 2 (операции на множествах)"
      ],
      "metadata": {
        "id": "0a7_nXcQSyyb"
      }
    },
    {
      "cell_type": "markdown",
      "source": [
        "Дан: \n",
        "\n",
        "*   список студентов группы\n",
        "*   список студентов, которые пришли на экзамен\n",
        "*   список студентов, которые имеют зачет по предмету до экзамена\n",
        "\n",
        "\n",
        "\n",
        "выведите имена студентов:\n",
        "1. которые НЕ пришли на экзамен\n",
        "2. которые пришли на экзамен, но уже имели зачет по предмету\n",
        "3. которые НЕ пришли на экзамен, но уже имеют зачет до экзамена\n",
        "4. которые в итоге получили зачет по предмету (будем считать, что все кто пришел на экзамен сдали предмет)\n",
        "5. которые в итоге НЕ получили зачет по предмету (будем считать, что все кто пришел на экзамен сдали предмет)\n",
        "6. Написать код, который проверяет, получил ли студент зачет по предмету (True/False)"
      ],
      "metadata": {
        "id": "NOCI9gVlS1fX"
      }
    },
    {
      "cell_type": "code",
      "source": [
        "group = [\"Иванов\", \"Петров\", \"Сидоров\", \"Федотов\", \"Александров\", \"Королев\", \"Симонов\"]\n",
        "exam = [\"Федотов\", \"Иванов\", \"Петров\", \"Симонов\"]\n",
        "zachet = [\"Петров\", \"Королев\"]"
      ],
      "metadata": {
        "id": "GXRUUDgzTef1"
      },
      "execution_count": null,
      "outputs": []
    },
    {
      "cell_type": "markdown",
      "source": [
        "## **Словари**"
      ],
      "metadata": {
        "id": "8PBYIHlRrA1n"
      }
    },
    {
      "cell_type": "markdown",
      "source": [
        "Неупорядоченные коллекции произвольных объектов с доступом по ключу. Их иногда ещё называют ассоциативными массивами или хеш-таблицами.\n",
        "\n",
        "`словарь = {ключ: значение}`"
      ],
      "metadata": {
        "id": "eYjFpWLcrJGh"
      }
    },
    {
      "cell_type": "markdown",
      "source": [
        "Создать словарь:"
      ],
      "metadata": {
        "id": "pOQ7FGqera9d"
      }
    },
    {
      "cell_type": "code",
      "execution_count": null,
      "metadata": {
        "id": "MFPUIdr1qzyR"
      },
      "outputs": [],
      "source": [
        "d = {}"
      ]
    },
    {
      "cell_type": "code",
      "source": [
        "d =dict()"
      ],
      "metadata": {
        "id": "8gZqoCtCrjg0"
      },
      "execution_count": null,
      "outputs": []
    },
    {
      "cell_type": "code",
      "source": [
        "d = {'Мама': 'Юля', 'Отец': 'Олег'}"
      ],
      "metadata": {
        "id": "opLZJhCHrxm7"
      },
      "execution_count": null,
      "outputs": []
    },
    {
      "cell_type": "code",
      "source": [
        "s1 = [1, 2, 3, 4]\n",
        "s2 = ['one', 'two', 'three', 'four']\n",
        "d1 = dict(zip(s1, s2))\n",
        "d1"
      ],
      "metadata": {
        "id": "-uWA-kqJ4ANm"
      },
      "execution_count": null,
      "outputs": []
    },
    {
      "cell_type": "code",
      "source": [
        "d2 = {}\n",
        "s1 = [1, 2, 3, 4]\n",
        "s2 = ['one', 'two', 'three', 'four']\n",
        "for i in range(len(s1)):\n",
        "  d2[s1[i]] = s2[i]\n",
        "print(d2)"
      ],
      "metadata": {
        "id": "YmJuTIyrQbd5"
      },
      "execution_count": null,
      "outputs": []
    },
    {
      "cell_type": "markdown",
      "source": [
        "Добавить новый элемент в словарь:"
      ],
      "metadata": {
        "id": "NO6gGYwKsHJQ"
      }
    },
    {
      "cell_type": "code",
      "source": [
        "d['Сын'] = 'Ваня'\n",
        "d"
      ],
      "metadata": {
        "id": "kEWbd7XusKyq"
      },
      "execution_count": null,
      "outputs": []
    },
    {
      "cell_type": "code",
      "source": [
        "d['Дочь'] = ['Яна', 'Алена']\n",
        "d"
      ],
      "metadata": {
        "id": "yqTGeiQdvjDb"
      },
      "execution_count": null,
      "outputs": []
    },
    {
      "cell_type": "markdown",
      "source": [
        "Обратиться к ключам словаря:"
      ],
      "metadata": {
        "id": "oXLKOUjcr-uN"
      }
    },
    {
      "cell_type": "code",
      "source": [
        "list(d.keys())"
      ],
      "metadata": {
        "id": "HOA9E0WAsEAv"
      },
      "execution_count": null,
      "outputs": []
    },
    {
      "cell_type": "code",
      "source": [
        "\"Отец\" in d.keys()"
      ],
      "metadata": {
        "id": "d4r_qxnSOxpf"
      },
      "execution_count": null,
      "outputs": []
    },
    {
      "cell_type": "markdown",
      "source": [
        "Обратиться к значениям словаря:"
      ],
      "metadata": {
        "id": "29sPgbZlsbfz"
      }
    },
    {
      "cell_type": "code",
      "source": [
        "list(d.values())"
      ],
      "metadata": {
        "id": "Lv2ldpu0sY7c"
      },
      "execution_count": null,
      "outputs": []
    },
    {
      "cell_type": "markdown",
      "source": [
        "Обратиться к парам словаря ключ/значение:"
      ],
      "metadata": {
        "id": "cJCulwZRsmcF"
      }
    },
    {
      "cell_type": "code",
      "source": [
        "d.items()"
      ],
      "metadata": {
        "id": "fQMpp2wZsinV"
      },
      "execution_count": null,
      "outputs": []
    },
    {
      "cell_type": "markdown",
      "source": [
        "Найти значение по ключу:"
      ],
      "metadata": {
        "id": "S1bjaTY9FrCE"
      }
    },
    {
      "cell_type": "code",
      "source": [
        "d['Бабушка']"
      ],
      "metadata": {
        "id": "AiT8lZAaFvmR"
      },
      "execution_count": null,
      "outputs": []
    },
    {
      "cell_type": "code",
      "source": [
        "d.get('Бабушка', 0)"
      ],
      "metadata": {
        "id": "bTX0ofgqHCvZ"
      },
      "execution_count": null,
      "outputs": []
    },
    {
      "cell_type": "markdown",
      "source": [
        "Найти ключ по значению:"
      ],
      "metadata": {
        "id": "Ni7diEJ4F2x5"
      }
    },
    {
      "cell_type": "code",
      "source": [
        "s = [1, 2]\n",
        "s[0]"
      ],
      "metadata": {
        "id": "EFPAS44HGTOD"
      },
      "execution_count": null,
      "outputs": []
    },
    {
      "cell_type": "code",
      "source": [
        "list(d.keys())[list(d.values()).index('Олег')]"
      ],
      "metadata": {
        "id": "b9iNtWjiF-Zp"
      },
      "execution_count": null,
      "outputs": []
    },
    {
      "cell_type": "code",
      "source": [
        "list(d.values()).index('Олег')"
      ],
      "metadata": {
        "id": "WkiAOMXoGlhI"
      },
      "execution_count": null,
      "outputs": []
    },
    {
      "cell_type": "markdown",
      "source": [
        "Перебор словаря:"
      ],
      "metadata": {
        "id": "dR6GEcnKsz14"
      }
    },
    {
      "cell_type": "code",
      "source": [
        "for i in d:\n",
        "  print(i, \"->\", d[i])"
      ],
      "metadata": {
        "id": "i9iKA52Osuq0"
      },
      "execution_count": null,
      "outputs": []
    },
    {
      "cell_type": "markdown",
      "source": [
        "Перебор значений:"
      ],
      "metadata": {
        "id": "yhMHtQ_ltAEc"
      }
    },
    {
      "cell_type": "code",
      "source": [
        "for value in d.values():\n",
        "  print(value)"
      ],
      "metadata": {
        "id": "B8MVazc5tE1b"
      },
      "execution_count": null,
      "outputs": []
    },
    {
      "cell_type": "markdown",
      "source": [
        "Перебор пар ключ/значение: "
      ],
      "metadata": {
        "id": "0a0e4ZnLtKYS"
      }
    },
    {
      "cell_type": "code",
      "source": [
        "for item in d.items():\n",
        "  print(item)"
      ],
      "metadata": {
        "id": "7rRamNt1tIzC"
      },
      "execution_count": null,
      "outputs": []
    },
    {
      "cell_type": "markdown",
      "source": [
        "### Задача 3 (счетчик)"
      ],
      "metadata": {
        "id": "SxDhFJpP4weI"
      }
    },
    {
      "cell_type": "markdown",
      "source": [
        "С клавиатуры вводится текст. Посчитайте сколько раз каждое из слов встречается в тексте. \n",
        "\n",
        "Словом считается последовательность непробельных символов идущих подряд\n",
        "\n",
        "**ВВод**\n",
        "\n",
        "я люблю читать и я люблю книги\n",
        "\n",
        "**Вывод**\n",
        "\n",
        "{'я': 2, 'и': 1, 'читать': 1, 'люблю': 2, 'книги': 1}\n",
        "\n",
        "\n"
      ],
      "metadata": {
        "id": "Cvitmbm84y2w"
      }
    },
    {
      "cell_type": "code",
      "source": [
        ""
      ],
      "metadata": {
        "id": "rhhX7wsx4vg_"
      },
      "execution_count": null,
      "outputs": []
    },
    {
      "cell_type": "markdown",
      "source": [
        "### Задача 4 (синонимы)"
      ],
      "metadata": {
        "id": "wFl9N36s851_"
      }
    },
    {
      "cell_type": "markdown",
      "source": [
        "В первой строке вводится длина словаря синонимов.\n",
        "\n",
        "Пользователь вводит с клавиатуры пары: слово/синоним. Все слова в словаре различны.\n",
        "\n",
        "Затем пользователь вводит слово, к которому нужно найти синоним в созданном словаре. Если такого слова нет в словаре вывести \"Синоним не найден\"\n",
        "\n",
        "**Ввод**\n",
        "\n",
        "Введите длину словаря 2\n",
        "\n",
        "Введите пару слово/синоним hi/hello\n",
        "\n",
        "Введите пару слово/синоним bye/goodbye\n",
        "\n",
        "Синоним к какому слову вы хотите найти? hello\n",
        "\n",
        "**Вывод**\n",
        "\n",
        "hi\n",
        "\n",
        "**Ввод**\n",
        "\n",
        "Введите длину словаря 2\n",
        "\n",
        "Введите пару слово/синоним hi/hello\n",
        "\n",
        "Введите пару слово/синоним bye/goodbye\n",
        "\n",
        "Синоним к какому слову вы хотите найти? bye\n",
        "\n",
        "**Вывод**\n",
        "\n",
        "goodbye"
      ],
      "metadata": {
        "id": "-_qAtp259J1I"
      }
    },
    {
      "cell_type": "code",
      "source": [
        ""
      ],
      "metadata": {
        "id": "8q2CGR-Z9JUh"
      },
      "execution_count": null,
      "outputs": []
    },
    {
      "cell_type": "markdown",
      "source": [
        "### Задача 5 (счетчик оценок)"
      ],
      "metadata": {
        "id": "f_imho7Ltnfz"
      }
    },
    {
      "cell_type": "markdown",
      "source": [
        "Под конец учебного года преподаватель решил провести анализ оценок. У него есть список группы, из которой он хочет понять сколько людей получило оценку «отлично» (8-10), «хорошо» (6-7), «удовлетворительно» (4-5) и «неудовлетворительно» (0-3)\n",
        "\n",
        "**Вывод:**\n",
        "\n",
        "{'отлично': 8, 'хорошо': 4, 'удовлетворительно': 4, 'неудовлетворительно': 6}"
      ],
      "metadata": {
        "id": "M3FItE_nuw7t"
      }
    },
    {
      "cell_type": "code",
      "source": [
        "group_marks = {'Олег Кардашьян': 9, 'Вячеслав Руссиано': 3, 'Максим Максим': 10,\n",
        "               'Владислав Донтхертми': 7, 'Павел Хинкальный': 8, 'Ярослав Мутный': 2,\n",
        "               'Чак Нормис': 5, 'Александра Петрова': 7, 'Степан Кружок': 10,\n",
        "               'Мария Великая': 1, 'Джейсон Стэтхэм': 10, 'Светлана Ыыыыы': 8,\n",
        "               'Николай Колбасков': 2, 'Максим Солидный': 6, 'Валерий Мармеладзе': 5,\n",
        "               'Михаил Быкян': 8, 'Cуета Вечная': 4, 'Стас Борецкий': 0, 'Кеннедикт Мембербетч': 7,\n",
        "               'Артур Пирожков': 8, 'Элианора Андреева': 5, 'Михаил Круг': 3}"
      ],
      "metadata": {
        "id": "PCdAyEI9uxxw"
      },
      "execution_count": null,
      "outputs": []
    },
    {
      "cell_type": "code",
      "source": [
        ""
      ],
      "metadata": {
        "id": "jY-uHaHnvOKO"
      },
      "execution_count": null,
      "outputs": []
    },
    {
      "cell_type": "markdown",
      "source": [
        "### Задача 6 (бух. учет на таверне)"
      ],
      "metadata": {
        "id": "d6oZ3UOM_M53"
      }
    },
    {
      "cell_type": "markdown",
      "source": [
        "Хозяин таверны грустит, а всё потому, что ему опять приходится вручную считать, сколько ему должны клиенты, чтобы выставить им всем счёт. Помогите ему, оцифровав амбарную книгу и распечатав итоговую сумму по каждому клиенту. \n",
        "\n",
        "**Ввод**: <Имя клиента>, <сумма долга> … КОНЕЦ \n",
        "\n",
        "**Вывод**: <Имя клиента> всего <сумма долгов> мора. …\n",
        "\n",
        "\n",
        "**Ввод**: \n",
        "\n",
        "Венти, 500\n",
        "\n",
        "Розария, 700\n",
        "\n",
        "Венти, 300\n",
        "\n",
        "Венти, 200\n",
        "\n",
        "Кэйа, 500\n",
        "\n",
        "Розария, 300\n",
        "\n",
        "КОНЕЦ\n",
        "\n",
        "\n",
        "**Вывод**: \n",
        "\n",
        "Венти всего 1000 мора\n",
        "\n",
        "Розария всего 1000 мора \n",
        "\n",
        "Кэйа всего 500 мора"
      ],
      "metadata": {
        "id": "65NJ4xuj_Rp_"
      }
    },
    {
      "cell_type": "code",
      "source": [
        ""
      ],
      "metadata": {
        "id": "tU9nB9LH_Q1V"
      },
      "execution_count": null,
      "outputs": []
    },
    {
      "cell_type": "markdown",
      "metadata": {
        "id": "w5gu75qyS_Xs"
      },
      "source": [
        "# Часть 2. **Вложенные структуры**"
      ]
    },
    {
      "cell_type": "markdown",
      "source": [
        "## Примеры"
      ],
      "metadata": {
        "id": "isuY9eq0N_dn"
      }
    },
    {
      "cell_type": "code",
      "execution_count": null,
      "metadata": {
        "id": "8ySvt43wS_Xs"
      },
      "outputs": [],
      "source": [
        "exam = { \n",
        "    '102': {'Аня', 'Таня'},      \n",
        "    '225': {'Дима', 'Катя'},\n",
        "    '404': {},      \n",
        "    '500': {'Алёна', 'Настя'} #словарь множеств\n",
        "}\n",
        "print(f'Все кабинеты экзамена: {exam}')\n",
        "for room in exam:\n",
        "    print(f'В кабинете №{room} экзамен сдают: {\", \".join(exam[room])}.') "
      ]
    },
    {
      "cell_type": "code",
      "execution_count": null,
      "metadata": {
        "id": "R82_faSXS_Xt"
      },
      "outputs": [],
      "source": [
        "books = { \n",
        "    'Норберт Винер': [ \n",
        "        'Кибернетика или управление и связь в животном и машине'\n",
        "    ],\n",
        "    'Лев Выготский': [\n",
        "        'Мышление и речь',\n",
        "        'Психология искусства'\n",
        "    ] #словарь списков\n",
        "}\n",
        "print(f'Выготский написал {books[\"Лев Выготский\"]}')\n",
        "print(f'Выготский написал {books[\"Лев Выготский\"][1]}')"
      ]
    },
    {
      "cell_type": "code",
      "execution_count": null,
      "metadata": {
        "id": "wofnPt0-S_Xt"
      },
      "outputs": [],
      "source": [
        "books = {\n",
        "    'Норберт Винер': {\n",
        "        'title' : 'Кибернетика или управление и связь в животном и машине',\n",
        "        'year'  : 1958, \n",
        "        'publisher' : 'Советское радио'\n",
        "    },\n",
        "    'Лев Выготский': {'title': 'Мышление и речь',\n",
        "                      'year' : 1999,\n",
        "                      'publisher' : 'Лабиринт'} # словарь словарей\n",
        "}\n",
        "print(books)\n",
        "print(books['Лев Выготский'])\n",
        "print(books['Лев Выготский']['publisher'])"
      ]
    },
    {
      "cell_type": "markdown",
      "metadata": {
        "id": "JGXWH4yZS_Xt"
      },
      "source": [
        "## **Сортировки**"
      ]
    },
    {
      "cell_type": "code",
      "execution_count": null,
      "metadata": {
        "id": "hIWD08apS_Xt"
      },
      "outputs": [],
      "source": [
        "numbers = [8, 1, 2, 18, 9, 20, 1.2, 2.3, 0]\n",
        "print(sorted(numbers))\n",
        "print(sorted(numbers, reverse=True))"
      ]
    },
    {
      "cell_type": "code",
      "execution_count": null,
      "metadata": {
        "id": "oS4bSP-iS_Xt"
      },
      "outputs": [],
      "source": [
        "fruits = ['apple', 'Яблоко', 'Апельсин', 'Orange', 'манго']\n",
        "print(sorted(fruits))\n",
        "print(sorted(fruits, key=str.lower))"
      ]
    },
    {
      "cell_type": "code",
      "execution_count": null,
      "metadata": {
        "id": "y7L-lLtQS_Xt"
      },
      "outputs": [],
      "source": [
        "marks_to_words = {5:'хорошо', 4:'удовлетворительно', 8:'отлично', 10:'отлично'}\n",
        "print(sorted(marks_to_words))  \n",
        "print(marks_to_words.values()) \n",
        "\n",
        "print(sorted(marks_to_words.items(), key = lambda x: x[0])) # сортировка ключу\n",
        "print(sorted(marks_to_words.items(), key = lambda x: x[1])) # сортировка по значению"
      ]
    },
    {
      "cell_type": "markdown",
      "metadata": {
        "id": "3tArmFPJS_Xt"
      },
      "source": [
        "### Задача 1 (оценки)\n",
        "\n",
        "Вводится список оценок студентов через пробел. <br>\n",
        "1. Выведите список оценок, отсротированный:   <br>\n",
        " a). по убыванию   <br>\n",
        " b). по возрастанию   <br>\n",
        "2. Выведите минимальную и максимальную оценку.   <br>"
      ]
    },
    {
      "cell_type": "code",
      "source": [
        "a = input().split()\n",
        "b = map(int, a)\n",
        "type(b)"
      ],
      "metadata": {
        "id": "uYwJQWfaTGR-"
      },
      "execution_count": null,
      "outputs": []
    },
    {
      "cell_type": "markdown",
      "metadata": {
        "id": "Midw0WuTS_Xt"
      },
      "source": [
        "### **Задача 2** (снова оценки)"
      ]
    },
    {
      "cell_type": "markdown",
      "metadata": {
        "id": "XNReHcmvS_Xu"
      },
      "source": [
        "1. Вводится N - число студентов. Затем вводится N строк - фамилия студента и его оценка за экзамен через пробел. Создайте словарь, в котором ключами будет фамилия студента, значениями - оценка за экзамен. \n",
        "\n",
        "**Пример**:\n",
        "\n",
        "**Формат ввода:**  \n",
        "\n",
        "3    \n",
        "\n",
        "Иванов 10    <br>\n",
        "Петров 4  <br>\n",
        "Сидоров 8   <br>\n",
        "\n",
        "**Формат вывода:**\n",
        "\n",
        "['Иванов', 'Петров', 'Сидоров']    \n",
        "[('Иванов', 10), ('Сидоров', 8), ('Петров', 4)]   \n",
        "\n",
        "\n",
        "2.  Выведите фамилии студентов в алфавитном порядке.\n",
        "3.  Выведите ключи и значения словаря, отсортированные по оценкам студентов по убыванию.\n",
        "4. Найдите минимальную и максимальную оценку за экзамен.\n",
        "5. Выведите фамилии студентов, которые не сдали экзамен. Экзамен считается сданным, если получена оценка 4 или выше. Если все студенты сдали экзамен, выведите \"Ура, пересдач нет!\"\n"
      ]
    },
    {
      "cell_type": "code",
      "source": [
        "marks = {\"И\":4, \"Б\":3, \"N\":8}\n",
        "print(marks.items())\n",
        "print(sorted(marks.items(), key = lambda x: x[1], reverse = True))\n",
        "print(sorted(marks.items(), key = lambda x: x[0], reverse = True))"
      ],
      "metadata": {
        "id": "JzNltPH1LNCH"
      },
      "execution_count": null,
      "outputs": []
    },
    {
      "cell_type": "markdown",
      "metadata": {
        "id": "2Ob7huh3S_Xu"
      },
      "source": [
        "### **Задача 3** (и опять оценки)"
      ]
    },
    {
      "cell_type": "markdown",
      "metadata": {
        "id": "mmYi6cPzS_Xu"
      },
      "source": [
        "Усложняем задачу 2. Теперь мы хотим знать оценки студентов по нескольким предметам. \n",
        "\n",
        "Вводится N - число записей. Затем вводится N строк. В каждой из них через пробел вводится имя студента, название предмета и оценка студента за экзамен по этому предмету.\n",
        "1. Создайте словарь, в котором ключами будет фамилия студента, значениями - словарь с его оценками за экзамен по предмету (во вложенном словаре предмет - ключ, оценка - значение)\n",
        "2. Для каждого студента выведите его минимальную и максимальную оценку\n",
        "\n",
        "\n",
        "**Пример**:\n",
        "\n",
        "**Формат ввода:**   \n",
        "\n",
        "8 <br>\n",
        " \n",
        "Иванов английский 7    <br>\n",
        "Сидоров программирование 6  <br>\n",
        "Астапов английский 9    <br>\n",
        "Петров программирование 4    <br>\n",
        "Иванов программирование 8   <br>\n",
        "Сидоров английский 10  <br>\n",
        "Сидоров немецкий 6  <br>\n",
        "Петров английский 10  <br>\n",
        "\n",
        "**Формат вывода:**   \n",
        "\n",
        "{'Иванов': {'английский': 7, 'программирование': 8}, 'Сидоров': {'программирование': 6, 'английский': 10, 'немецкий': 6}, 'Астапов': {'английский': 9}, 'Петров': {'программирование': 4, 'английский': 10}}  \n",
        "Иванов 7 8   \n",
        "Сидоров 6 10  \n",
        "Астапов 9 9  \n",
        "Петров 4 10    "
      ]
    },
    {
      "cell_type": "code",
      "source": [
        ""
      ],
      "metadata": {
        "id": "iidrdh_-LK0u"
      },
      "execution_count": null,
      "outputs": []
    },
    {
      "cell_type": "markdown",
      "metadata": {
        "id": "rKyzO7DGS_Xu"
      },
      "source": [
        "### **Задача 4** (еще больше оценок)"
      ]
    },
    {
      "cell_type": "markdown",
      "metadata": {
        "id": "U8Wsk4LmS_Xu"
      },
      "source": [
        "Усложняем задачу 3. Теперь мы хотим знать все оценки студентов, и на одну пару студент - предмет может быть больше одной записи.\n",
        "\n",
        "Вводится N - число записей. Затем вводится N строк. В каждой из них через пробел вводится имя студента, название предмета и одна из текущих оценов студента по этому предмету.\n",
        "1. Создайте словарь, в котором ключами будет фамилия студента, значениями - словарь с его оценками по предмету (во вложенном словаре предмет - ключ, список всех оценок - значение)\n",
        "\n",
        "**Пример**:\n",
        "\n",
        "**Формат ввода:**\n",
        "\n",
        "16 <br> \n",
        "Иванов английский 6  <br>\n",
        "Сидоров программирование 7  <br> \n",
        "Иванов экономика 10 <br>\n",
        "Иванов экономика 6  <br>\n",
        "Иванов английский 10  <br>\n",
        "Сидоров программирование 8  <br>\n",
        "Иванов английский 8  <br>\n",
        "Иванов английский 7  <br>\n",
        "Сидоров экономика 5  <br>\n",
        "Сидоров программирование 7  <br>\n",
        "Сидоров немецкий 9  <br>\n",
        "Петрова программирование 10  <br>\n",
        "Петрова английский 7  <br>\n",
        "Сидоров английский 5  <br>\n",
        "Петрова английский 9  <br>\n",
        "Петрова английский 6  <br>\n",
        "\n",
        "**Формат вывода:**\n",
        "\n",
        "{'Иванов': {'английский': [6, 10, 8, 7], 'экономика': [10, 6]}, 'Сидоров': {'программирование': [7, 8, 7], 'экономика': [5], 'немецкий': [9], 'английский': [5]}, 'Петрова': {'программирование': [10], 'английский': [7, 9, 6]}}\n",
        "\n",
        "2. Теперь для каждого студента выведите его минимальную и максимальную оценку по каждому предмету. Студентов и названия предметов для каждого студента выводите в алфавитном порядке.   <br>\n",
        "\n",
        "**Формат вывода:**\n",
        "\n",
        "Иванов    <br>\n",
        "английский 6 10    <br>\n",
        "экономика 6 10    <br>\n",
        "Петрова    <br>\n",
        "английский 6 9    <br>\n",
        "программирование 10 10    <br>\n",
        "Сидоров    <br>\n",
        "английский 5 5    <br>\n",
        "немецкий 9 9    <br>\n",
        "программирование 7 8    <br>\n",
        "экономика 5 5    <br>"
      ]
    },
    {
      "cell_type": "code",
      "source": [
        ""
      ],
      "metadata": {
        "id": "fa_moZfdLJIp"
      },
      "execution_count": null,
      "outputs": []
    },
    {
      "cell_type": "markdown",
      "metadata": {
        "id": "fgeWdLOLS_Xu"
      },
      "source": [
        "### **Задача 5** (количество ответов)\n",
        "\n",
        "На каждом семинаре студент может решить задачу и получить балл за семинар. Напишите программу, которая считает итоговое количество баллов у студента.\n",
        "Вводится N - число семинаров. Затем вводится N строк. Каждая строка содержит фамилии студентов через запятую, которые отвечали на семинаре.\n",
        "\n",
        "Выведите для каждого студента число его ответов. Студентов выводите в алфавитном порядке.\n",
        "\n",
        "**Формат ввода** :\n",
        "\n",
        "6 <br>\n",
        "Петрова,Иванов,Сидоров  <br>\n",
        "Беляков,Петрова <br>\n",
        "Астапов,Беляков,Иванов,Петрова  <br>\n",
        "Сидоров  <br>\n",
        "Астапов,Сидоров,Петрова  <br>\n",
        "Иванов  <br>\n",
        "\n",
        "**Формат вывода** :\n",
        "\n",
        "\n",
        "Астапов 2  <br>\n",
        "Беляков 2  <br>\n",
        "Иванов 3  <br>\n",
        "Петрова 4  <br>\n",
        "Сидоров 3  <br>"
      ]
    },
    {
      "cell_type": "code",
      "source": [
        ""
      ],
      "metadata": {
        "id": "suZCdUnrLHiD"
      },
      "execution_count": null,
      "outputs": []
    },
    {
      "cell_type": "markdown",
      "source": [
        "# Часть 3. Задачи"
      ],
      "metadata": {
        "id": "fLpjHrp2OUNX"
      }
    },
    {
      "cell_type": "markdown",
      "source": [
        "### Задача 1 (перевод слова)\n",
        "\n",
        "Необходимо написать программу, которая ищет по данному русскому слову его перевод на заданный язык.\n",
        "\n",
        "Вам не нужно считывать новый словарь, используйте тот, что определен ниже. Ваша программа получает на вход строку с словами, разделенными пробелом: аббревиатуру языка и слово.\n",
        "  \n",
        "Ключами словаря являются двухбуквенные аббревиатуры языков (например \"EN\"), а значениями словари, где ключами являются слова на русском языке, а значениями — перевод на целевой язык (например, \"кошка\":\"cat\")\n",
        "Гарантируется, что ключ целевого языка есть в словаре. Искомого слова во вложенном словаре может не быть.  \n",
        "\n",
        "Программа должна обращаться к вложенному словарю выбранного языка и проверять, есть ли в словаре искомое слово. Если такое слово есть, то функция возвращает строку формата \"<ЯЗЫК>: <ИСКОМОЕ СЛОВО> <СЛОВО НА ЦЕЛЕВОМ ЯЗЫКЕ>\"\n",
        "Если слово не найдено, то функция возвращает строку 'Перевод отсутствует'\n",
        "\n",
        "**Пример ввода:**  \n",
        "'EN кошка'    \n",
        "**Вывод:**  \n",
        "'EN: кошка cat'  "
      ],
      "metadata": {
        "id": "3kXd56K6ra1H"
      }
    },
    {
      "cell_type": "markdown",
      "source": [
        "Прежде чем начинать решать, давайте разберемся как работать с разными элементами словаря словарей:"
      ],
      "metadata": {
        "id": "pphoPWK-2R1X"
      }
    },
    {
      "cell_type": "code",
      "source": [
        "d = {'EN':{'яблоко':'apple', 'кошка':'cat', 'решение':'solution'}, \n",
        "     'DE':{'яблоко':'apfel', 'город':'stadt', 'кошка':'katze'},  \n",
        "     'FR':{'город':'ville', 'кошка':'chat', 'все':'tout'}}\n",
        "#обратиться к словарю под ключом DE\n",
        "#как на немецком (DE) будет \"яблоко\"\n",
        "#проверить есть ли слово \"все\" в немецком словаре"
      ],
      "metadata": {
        "id": "oWgovBxZ2gH8"
      },
      "execution_count": null,
      "outputs": []
    },
    {
      "cell_type": "markdown",
      "source": [
        "Ну и еще раз вспомним как обращаться к элементам списка:"
      ],
      "metadata": {
        "id": "s6xtLL91RHix"
      }
    },
    {
      "cell_type": "code",
      "source": [
        "s = [\"EN\", \"яблоко\"]\n",
        "#обратится к языку\n",
        "#обратиться к слову, которое переводим"
      ],
      "metadata": {
        "id": "8iHIHjzEROdu"
      },
      "execution_count": null,
      "outputs": []
    },
    {
      "cell_type": "markdown",
      "source": [
        "А если то что мы ищем хранится в списке (s), а где мы ищем словаре (d)"
      ],
      "metadata": {
        "id": "NvYInl_UbKQ8"
      }
    },
    {
      "cell_type": "code",
      "source": [
        "d = {'EN':{'яблоко':'apple', 'кошка':'cat', 'решение':'solution'}, \n",
        "     'DE':{'яблоко':'apfel', 'город':'stadt', 'кошка':'katze'},  \n",
        "     'FR':{'город':'ville', 'кошка':'chat', 'все':'tout'}} \n",
        "s = [\"EN\", \"яблоко\"]\n",
        "#выведите весь словарь язык, которого опреден в списке\n",
        "#здесь найдите перевод в словаре по условиям которые заданы в списке "
      ],
      "metadata": {
        "id": "i8J81NkAbdqw"
      },
      "execution_count": null,
      "outputs": []
    },
    {
      "cell_type": "code",
      "execution_count": null,
      "metadata": {
        "id": "n9Gg_Zc_v_mC"
      },
      "outputs": [],
      "source": [
        "d = {'EN':{'яблоко':'apple', 'кошка':'cat', 'решение':'solution'}, \n",
        "     'DE':{'яблоко':'apfel', 'город':'stadt', 'кошка':'katze'},  \n",
        "     'FR':{'город':'ville', 'кошка':'chat', 'все':'tout'}}\n"
      ]
    },
    {
      "cell_type": "markdown",
      "source": [
        "### Задача 2 (средняя оценка по курсу)\n",
        "\n",
        "Необходимо написать программу, которая ищет среднюю оценку по курсу.\n",
        "  \n",
        "Вам не нужно считывать словарь со студентами и оценками, используйте тот, что определен ниже. Ваша программа получает на вход только число - номер предмета в списке оценок, по которому надо посчитать среднюю оценку.\n",
        "  \n",
        "Ключами словаря являются имена студентов, а значениями — списки оценок (целых чисел от 1 до 10). Гарантируется, что в словаре есть информация минимум об одном студенте. Гарантируется, что у всех студентов одинаковое количество оценок.  \n",
        "\n",
        "Целое число — порядковый номер предмета (индекс) в списке оценок каждого студента, среднюю оценку за который нужно посчитать.\n",
        "программа должна возвращать **вещественное число — среднюю оценку** по предмету среди всех студентов (сумму оценок по предмету разделить на количество студентов)."
      ],
      "metadata": {
        "id": "eUKX-hCqtuU4"
      }
    },
    {
      "cell_type": "markdown",
      "source": [
        "Как обратиться к оценке Neville Longbottom по курсу под индексом 2?"
      ],
      "metadata": {
        "id": "pG4-pKDt22P_"
      }
    },
    {
      "cell_type": "code",
      "source": [
        "d = {\n",
        "        'Harry Potter': [7, 6, 8, 9, 8],\n",
        "        'Draco Malfoy': [10, 10, 1, 4, 10],\n",
        "        'Hermione Granger': [10, 10, 9, 10, 10],\n",
        "        'Ron Weasley': [8, 5, 2, 9, 5],\n",
        "        'Ginny Weasley': [7, 7, 8, 2, 5],\n",
        "        'Neville Longbottom': [6, 10, 8, 7, 9],\n",
        "        'Loona Lovegood': [9, 10, 8, 8, 6]\n",
        "    }\n",
        "#ваш код здесь"
      ],
      "metadata": {
        "id": "B81oDooU3DNa"
      },
      "execution_count": null,
      "outputs": []
    },
    {
      "cell_type": "code",
      "source": [
        "d = {\n",
        "        'Harry Potter': [7, 6, 8, 9, 8],\n",
        "        'Draco Malfoy': [10, 10, 1, 4, 10],\n",
        "        'Hermione Granger': [10, 10, 9, 10, 10],\n",
        "        'Ron Weasley': [8, 5, 2, 9, 5],\n",
        "        'Ginny Weasley': [7, 7, 8, 2, 5],\n",
        "        'Neville Longbottom': [6, 10, 8, 7, 9],\n",
        "        'Loona Lovegood': [9, 10, 8, 8, 6]\n",
        "    }\n"
      ],
      "metadata": {
        "id": "9ANSnvnuR30l"
      },
      "execution_count": null,
      "outputs": []
    },
    {
      "cell_type": "markdown",
      "source": [
        "### Задача 3 (ПГАС)\n",
        "\n",
        "Напишите программу, которая определяет, кто из студентов может претендовать на повышенную стипендию. На нее могут претендовать студенты со средним баллом не ниже 8 по 10-балльной шкале. \n",
        "\n",
        "В данной задаче не надо ничего считывать, словарь с оценками уже есть в ячейке ниже.\n",
        "Его ключами являются имена студентов, а значениями — списки оценок (целых чисел от 1 до 10). Гарантируется, что в словаре есть информация как минимум об одном студенте.\n",
        "программа должна возвращать **список имен студентов**, средний балл которых не ниже 8, *отсортированный в алфавитном порядке*.\n",
        "Если таких студентов нет — функция возвращает пустой список."
      ],
      "metadata": {
        "id": "cXd7Cs5mVTHs"
      }
    },
    {
      "cell_type": "code",
      "source": [
        "d = {\n",
        "    'Harry Potter': [7, 6, 8, 6, 6],\n",
        "    'Hermione Granger': [10, 10, 9, 10, 10, 9, 9],\n",
        "    'Ron Weasley': [6, 5, 7, 4, 5],\n",
        "    'Ginny Weasley': [9, 7, 8]\n",
        "    }"
      ],
      "metadata": {
        "id": "BJQxtgvjXqNy"
      },
      "execution_count": null,
      "outputs": []
    },
    {
      "cell_type": "markdown",
      "source": [
        "### Задача 4 (мода)\n",
        "\n",
        "Напишите программу, которая находит *моду* в данном списке чисел. Мода - значение которое встречается чаще всего. Если таких значений несколько, то выведите наименьшее из них. Сам список считывать не надо, он уже определен ниже.\n",
        "  \n",
        "Данную задачу можно решить следующим способом:  \n",
        "1) Создайте словарь в котором ключем будет число из списка, а значением будет количество раз, когда оно встречалось.  \n",
        "2) Отсортируйте этот словарь по ключу по возрастанию и выведите **наименьший из ключей**, который встречается чаще всего в списке."
      ],
      "metadata": {
        "id": "J7hJmwlvhjaM"
      }
    },
    {
      "cell_type": "code",
      "source": [
        "l = [1, 1, -4.7, 9, 3, 0, 0, -5, 8, 3, 3, 0, -4.7, -4.7]"
      ],
      "metadata": {
        "id": "TbpTsJmoiHN4"
      },
      "execution_count": null,
      "outputs": []
    },
    {
      "cell_type": "markdown",
      "source": [
        "### Задача 5 (курьер)\n",
        "\n",
        "Руководитель службы доставки хочет найти лучших курьеров среди своих подчинённых — курьера с самой высокой средней оценкой от клиентов.\n",
        "\n",
        "По результатам каждой доставки клиенты ставили курьерам оценки, и у руководителя есть записи о результатах работы каждого курьера по шкале от 1 до 5, где 1 — худшая доставка, 5 — лучшая.\n",
        "\n",
        "Помогите руководителю, прочитав записи о результатах доставки и найдя лучшего курьера в компании.\n",
        "\n",
        "В данной задаче не нужно ничего вводить, готовый список курьеров и их оценок есть после условия.\n",
        "\n",
        "ФОРМАТ ВЫВОДА\n",
        "\n",
        "Строка с именем лучшего курьера, его средним баллом и списком всех выставленных ему оценок.\n",
        "\n",
        "Имя отделено от среднего балла запятой и пробелом, средний балл отделён от списка оценок двоеточием с пробелом. \n",
        "\n",
        "Оценки в списке оценок выводятся через запятую и пробел. \n",
        "\n",
        "В конце строки стоит точка.\n",
        "\n",
        "Ответ должен быть следующим:  \n",
        "Сэм, 4.75: 5, 4, 5, 5.\n"
      ],
      "metadata": {
        "id": "0oB1BOKbjg7y"
      }
    },
    {
      "cell_type": "code",
      "source": [
        "#напоминаю как искать по значениям\n",
        "d = {'Мама': 'Юля', 'Отец': 'Олег'}\n",
        "list(d.keys())[list(d.values()).index('Олег')]"
      ],
      "metadata": {
        "id": "8pTmYqOYMkBA"
      },
      "execution_count": null,
      "outputs": []
    },
    {
      "cell_type": "code",
      "source": [
        "l = [\"Сэм, 5\", \"Сэм, 4\", \"Лиза, 3\", \"Клифф, 1\", \"Лиза, 4\", \"Клифф, 2\",\n",
        "     \"Сэм, 5\", \"Клифф, 1\", \"Лиза, 3\", \"Сэм, 5\", \"Лиза, 5\", \"Клифф, 1\"]"
      ],
      "metadata": {
        "id": "jvNDRs3DnEt0"
      },
      "execution_count": null,
      "outputs": []
    },
    {
      "cell_type": "markdown",
      "source": [
        "### Задача 6 (программы)\n",
        "\n",
        "Организаторы студенческой конференции подсчитывают статистику. Для каждого участника известна следующая информация: имя и фамилия, на какой секции он или она выступает и на какой образовательной программе обучается. Помогите организаторам конференции определить, студенты каких образовательных программ присутствовали на конкретных секциях.\n",
        "\n",
        "ФОРМАТ ВВОДА  \n",
        "Записи об участниках секций в следующем формате: <имя и фамилия студента>;<название секции>;<название образовательной программы>. Данные могут содержать любые символы кроме точки с запятой, которая является разделителем. Каждая запись вводится с новой строки.\n",
        "Когда записи заканчиваются, на отдельной строке вводится слово \"КОНЕЦ\".\n",
        "Далее на новой строке вводится название секции.\n",
        "Гарантируется, что в работе секции участвовал как минимум один студент.\n",
        "  \n",
        "ФОРМАТ ВЫВОДА  \n",
        "Перечень образовательных программ, студенты которых участвовали в работе секции. Выводятся только уникальные образовательные программы в алфавитном порядке.\n",
        "Перечень разделен запятой с пробелом."
      ],
      "metadata": {
        "id": "5RCwjFlc7GWq"
      }
    },
    {
      "cell_type": "code",
      "source": [
        ""
      ],
      "metadata": {
        "id": "iMkDcwVkQMZN"
      },
      "execution_count": null,
      "outputs": []
    }
  ]
}
