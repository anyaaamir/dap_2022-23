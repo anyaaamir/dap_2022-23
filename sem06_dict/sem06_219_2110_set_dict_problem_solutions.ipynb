{
 "cells": [
  {
   "cell_type": "markdown",
   "metadata": {
    "id": "P448tYWwm6o_",
    "toc": true
   },
   "source": [
    "<h1>Table of Contents<span class=\"tocSkip\"></span></h1>\n",
    "<div class=\"toc\"><ul class=\"toc-item\"><li><span><a href=\"#Часть-1.-Множества-и-словари\" data-toc-modified-id=\"Часть-1.-Множества-и-словари-1\">Часть 1. Множества и словари</a></span><ul class=\"toc-item\"><li><span><a href=\"#Множества\" data-toc-modified-id=\"Множества-1.1\"><strong>Множества</strong></a></span><ul class=\"toc-item\"><li><span><a href=\"#Задача-1-(максимальное-количество-уникальных-объектов)\" data-toc-modified-id=\"Задача-1-(максимальное-количество-уникальных-объектов)-1.1.1\">Задача 1 (максимальное количество уникальных объектов)</a></span></li><li><span><a href=\"#Задача-2-(операции-на-множествах)\" data-toc-modified-id=\"Задача-2-(операции-на-множествах)-1.1.2\">Задача 2 (операции на множествах)</a></span></li><li><span><a href=\"#Задача-3-(кол-во-слов-в-тексте)\" data-toc-modified-id=\"Задача-3-(кол-во-слов-в-тексте)-1.1.3\">Задача 3 (кол-во слов в тексте)</a></span></li></ul></li><li><span><a href=\"#Словари\" data-toc-modified-id=\"Словари-1.2\"><strong>Словари</strong></a></span><ul class=\"toc-item\"><li><span><a href=\"#Задача-3-(счетчик)\" data-toc-modified-id=\"Задача-3-(счетчик)-1.2.1\">Задача 3 (счетчик)</a></span></li><li><span><a href=\"#Задача-4-(синонимы)\" data-toc-modified-id=\"Задача-4-(синонимы)-1.2.2\">Задача 4 (синонимы)</a></span></li><li><span><a href=\"#Задача-5-(счетчик-оценок)\" data-toc-modified-id=\"Задача-5-(счетчик-оценок)-1.2.3\">Задача 5 (счетчик оценок)</a></span></li><li><span><a href=\"#Задача-6-(бух.-учет-на-таверне)\" data-toc-modified-id=\"Задача-6-(бух.-учет-на-таверне)-1.2.4\">Задача 6 (бух. учет на таверне)</a></span></li></ul></li></ul></li><li><span><a href=\"#Часть-2.-Вложенные-структуры\" data-toc-modified-id=\"Часть-2.-Вложенные-структуры-2\">Часть 2. <strong>Вложенные структуры</strong></a></span><ul class=\"toc-item\"><li><span><a href=\"#Примеры\" data-toc-modified-id=\"Примеры-2.1\">Примеры</a></span></li><li><span><a href=\"#Сортировки\" data-toc-modified-id=\"Сортировки-2.2\"><strong>Сортировки</strong></a></span><ul class=\"toc-item\"><li><span><a href=\"#Задача-1-(оценки)\" data-toc-modified-id=\"Задача-1-(оценки)-2.2.1\">Задача 1 (оценки)</a></span></li><li><span><a href=\"#Задача-2-(снова-оценки)\" data-toc-modified-id=\"Задача-2-(снова-оценки)-2.2.2\"><strong>Задача 2</strong> (снова оценки)</a></span></li><li><span><a href=\"#Задача-3-(и-опять-оценки)\" data-toc-modified-id=\"Задача-3-(и-опять-оценки)-2.2.3\"><strong>Задача 3</strong> (и опять оценки)</a></span></li><li><span><a href=\"#Задача-4-(еще-больше-оценок)\" data-toc-modified-id=\"Задача-4-(еще-больше-оценок)-2.2.4\"><strong>Задача 4</strong> (еще больше оценок)</a></span></li><li><span><a href=\"#Задача-5-(количество-ответов)\" data-toc-modified-id=\"Задача-5-(количество-ответов)-2.2.5\"><strong>Задача 5</strong> (количество ответов)</a></span></li></ul></li></ul></li><li><span><a href=\"#Часть-3.-Задачи\" data-toc-modified-id=\"Часть-3.-Задачи-3\">Часть 3. Задачи</a></span><ul class=\"toc-item\"><li><ul class=\"toc-item\"><li><span><a href=\"#Задача-1-(перевод-слова)\" data-toc-modified-id=\"Задача-1-(перевод-слова)-3.0.1\">Задача 1 (перевод слова)</a></span></li><li><span><a href=\"#Задача-2-(средняя-оценка-по-курсу)\" data-toc-modified-id=\"Задача-2-(средняя-оценка-по-курсу)-3.0.2\">Задача 2 (средняя оценка по курсу)</a></span></li><li><span><a href=\"#Задача-3-(ПГАС)\" data-toc-modified-id=\"Задача-3-(ПГАС)-3.0.3\">Задача 3 (ПГАС)</a></span></li><li><span><a href=\"#Задача-4-(мода)\" data-toc-modified-id=\"Задача-4-(мода)-3.0.4\">Задача 4 (мода)</a></span></li><li><span><a href=\"#Задача-5-(курьер)\" data-toc-modified-id=\"Задача-5-(курьер)-3.0.5\">Задача 5 (курьер)</a></span></li><li><span><a href=\"#Задача-6-(программы)\" data-toc-modified-id=\"Задача-6-(программы)-3.0.6\">Задача 6 (программы)</a></span></li></ul></li></ul></li></ul></div>"
   ]
  },
  {
   "cell_type": "markdown",
   "metadata": {
    "id": "aAgo47xuq2Qi"
   },
   "source": [
    "# Часть 1. Множества и словари"
   ]
  },
  {
   "cell_type": "markdown",
   "metadata": {
    "id": "3FJbRb1jHico"
   },
   "source": [
    "## **Множества**"
   ]
  },
  {
   "cell_type": "markdown",
   "metadata": {
    "id": "YbMrMzhuIgGK"
   },
   "source": [
    "**Множество** - неупорядоченная совокупность уникальных значений. "
   ]
  },
  {
   "cell_type": "markdown",
   "metadata": {
    "id": "wQK1rCXzHnK5"
   },
   "source": [
    "Создать множество"
   ]
  },
  {
   "cell_type": "code",
   "execution_count": 1,
   "metadata": {
    "executionInfo": {
     "elapsed": 8,
     "status": "ok",
     "timestamp": 1653422715123,
     "user": {
      "displayName": "Ilya A",
      "userId": "17148912465935982955"
     },
     "user_tz": -180
    },
    "id": "hpHs_HNIHmuQ"
   },
   "outputs": [],
   "source": [
    "A = set()"
   ]
  },
  {
   "cell_type": "code",
   "execution_count": 2,
   "metadata": {
    "colab": {
     "base_uri": "https://localhost:8080/"
    },
    "executionInfo": {
     "elapsed": 8,
     "status": "ok",
     "timestamp": 1653422715124,
     "user": {
      "displayName": "Ilya A",
      "userId": "17148912465935982955"
     },
     "user_tz": -180
    },
    "id": "osWTZp6fIpBg",
    "outputId": "0c9ad73b-3082-4351-ae7e-8d82371f92f0"
   },
   "outputs": [
    {
     "data": {
      "text/plain": [
       "{1, 2, 3, 4}"
      ]
     },
     "execution_count": 2,
     "metadata": {},
     "output_type": "execute_result"
    }
   ],
   "source": [
    "A = {1, 2, 3, 4}\n",
    "A"
   ]
  },
  {
   "cell_type": "code",
   "execution_count": 3,
   "metadata": {
    "colab": {
     "base_uri": "https://localhost:8080/"
    },
    "executionInfo": {
     "elapsed": 8,
     "status": "ok",
     "timestamp": 1653422715124,
     "user": {
      "displayName": "Ilya A",
      "userId": "17148912465935982955"
     },
     "user_tz": -180
    },
    "id": "SanJC0N4IxzQ",
    "outputId": "d1624edc-ef1b-441f-97bf-234a1c46a374"
   },
   "outputs": [
    {
     "data": {
      "text/plain": [
       "{'1', '2', '3', '4'}"
      ]
     },
     "execution_count": 3,
     "metadata": {},
     "output_type": "execute_result"
    }
   ],
   "source": [
    "A = set('1234444444')\n",
    "A"
   ]
  },
  {
   "cell_type": "code",
   "execution_count": 4,
   "metadata": {
    "colab": {
     "base_uri": "https://localhost:8080/"
    },
    "executionInfo": {
     "elapsed": 6,
     "status": "ok",
     "timestamp": 1653422715124,
     "user": {
      "displayName": "Ilya A",
      "userId": "17148912465935982955"
     },
     "user_tz": -180
    },
    "id": "bYpY98oKQDWt",
    "outputId": "385c28db-8ca3-40b1-c8c3-ad8d998f4a0a"
   },
   "outputs": [
    {
     "data": {
      "text/plain": [
       "{1, 2, 3, 4}"
      ]
     },
     "execution_count": 4,
     "metadata": {},
     "output_type": "execute_result"
    }
   ],
   "source": [
    "s = [1, 2, 3, 4, 4, 4]\n",
    "set(s)"
   ]
  },
  {
   "cell_type": "markdown",
   "metadata": {
    "id": "tVIz7eM6JIjz"
   },
   "source": [
    "Перебор множества:\n",
    "\n",
    "\n"
   ]
  },
  {
   "cell_type": "code",
   "execution_count": 5,
   "metadata": {
    "colab": {
     "base_uri": "https://localhost:8080/"
    },
    "executionInfo": {
     "elapsed": 5,
     "status": "ok",
     "timestamp": 1653422715124,
     "user": {
      "displayName": "Ilya A",
      "userId": "17148912465935982955"
     },
     "user_tz": -180
    },
    "id": "N3KiuYEXJfqb",
    "outputId": "206d2050-b0af-420e-c345-a30e145dd5b7"
   },
   "outputs": [
    {
     "name": "stdout",
     "output_type": "stream",
     "text": [
      "1\n",
      "2\n",
      "3\n",
      "4\n"
     ]
    }
   ],
   "source": [
    "A = {1, 2, 3, 4}\n",
    "for i in A:\n",
    "    print(i)"
   ]
  },
  {
   "cell_type": "markdown",
   "metadata": {
    "id": "8ryDblFhJwiY"
   },
   "source": [
    "Проверить наличие элемента в множестве:"
   ]
  },
  {
   "cell_type": "code",
   "execution_count": 6,
   "metadata": {
    "colab": {
     "base_uri": "https://localhost:8080/"
    },
    "executionInfo": {
     "elapsed": 4,
     "status": "ok",
     "timestamp": 1653422715124,
     "user": {
      "displayName": "Ilya A",
      "userId": "17148912465935982955"
     },
     "user_tz": -180
    },
    "id": "2k-Iv2suJsUm",
    "outputId": "c114304f-c7fb-49e1-f6ad-656e459b5a01"
   },
   "outputs": [
    {
     "name": "stdout",
     "output_type": "stream",
     "text": [
      "True\n",
      "False\n"
     ]
    }
   ],
   "source": [
    "A = {1, 2, 3, 4}\n",
    "print(1 in A)\n",
    "print(5 in A)"
   ]
  },
  {
   "cell_type": "markdown",
   "metadata": {
    "id": "3-YU4rF6NIp-"
   },
   "source": [
    "Добавить элемент во множество:"
   ]
  },
  {
   "cell_type": "code",
   "execution_count": 7,
   "metadata": {
    "colab": {
     "base_uri": "https://localhost:8080/"
    },
    "executionInfo": {
     "elapsed": 402,
     "status": "ok",
     "timestamp": 1653422715523,
     "user": {
      "displayName": "Ilya A",
      "userId": "17148912465935982955"
     },
     "user_tz": -180
    },
    "id": "cc7pk7kPNMf1",
    "outputId": "3859ba67-6dcc-4825-df7c-acaced4b3e44"
   },
   "outputs": [
    {
     "data": {
      "text/plain": [
       "{1, 2, 3, 4, 5}"
      ]
     },
     "execution_count": 7,
     "metadata": {},
     "output_type": "execute_result"
    }
   ],
   "source": [
    "A = {1, 2, 3, 4}\n",
    "A.add(5)\n",
    "A"
   ]
  },
  {
   "cell_type": "markdown",
   "metadata": {
    "id": "Qx60Akq-MxcQ"
   },
   "source": [
    "Удалить элемент из множества:"
   ]
  },
  {
   "cell_type": "code",
   "execution_count": 8,
   "metadata": {
    "colab": {
     "base_uri": "https://localhost:8080/"
    },
    "executionInfo": {
     "elapsed": 11,
     "status": "ok",
     "timestamp": 1653422715523,
     "user": {
      "displayName": "Ilya A",
      "userId": "17148912465935982955"
     },
     "user_tz": -180
    },
    "id": "okUI_SHqM23D",
    "outputId": "c889e0ac-9f25-429c-ca09-8b2179f0e6a5"
   },
   "outputs": [
    {
     "data": {
      "text/plain": [
       "{1, 2, 3, 4}"
      ]
     },
     "execution_count": 8,
     "metadata": {},
     "output_type": "execute_result"
    }
   ],
   "source": [
    "A = {1, 2, 3, 4, 5}\n",
    "A.remove(5)\n",
    "A"
   ]
  },
  {
   "cell_type": "markdown",
   "metadata": {
    "id": "CryklQe5Kjht"
   },
   "source": [
    "Объединение множеств:"
   ]
  },
  {
   "cell_type": "code",
   "execution_count": 9,
   "metadata": {
    "colab": {
     "base_uri": "https://localhost:8080/"
    },
    "executionInfo": {
     "elapsed": 9,
     "status": "ok",
     "timestamp": 1653422715523,
     "user": {
      "displayName": "Ilya A",
      "userId": "17148912465935982955"
     },
     "user_tz": -180
    },
    "id": "ybZRxe1nKIeL",
    "outputId": "712bfde2-87a3-4d5b-92cf-b8863f3529ef"
   },
   "outputs": [
    {
     "data": {
      "text/plain": [
       "{1, 2, 3, 4, 5, 6}"
      ]
     },
     "execution_count": 9,
     "metadata": {},
     "output_type": "execute_result"
    }
   ],
   "source": [
    "A = {1, 2, 3, 4}\n",
    "B = {3, 4, 5, 6}\n",
    "A | B # A.union(B)"
   ]
  },
  {
   "cell_type": "markdown",
   "metadata": {
    "id": "QtvoQbTNLC52"
   },
   "source": [
    "Пересечение множеств:"
   ]
  },
  {
   "cell_type": "code",
   "execution_count": 10,
   "metadata": {
    "colab": {
     "base_uri": "https://localhost:8080/"
    },
    "executionInfo": {
     "elapsed": 7,
     "status": "ok",
     "timestamp": 1653422715523,
     "user": {
      "displayName": "Ilya A",
      "userId": "17148912465935982955"
     },
     "user_tz": -180
    },
    "id": "MtlCeaA_LKP1",
    "outputId": "4da72283-4bdd-4dae-9a23-dfe36b407b09"
   },
   "outputs": [
    {
     "data": {
      "text/plain": [
       "{3, 4}"
      ]
     },
     "execution_count": 10,
     "metadata": {},
     "output_type": "execute_result"
    }
   ],
   "source": [
    "A = {1, 2, 3, 4}\n",
    "B = {3, 4, 5, 6}\n",
    "A & B # A.intersection(B)"
   ]
  },
  {
   "cell_type": "markdown",
   "metadata": {
    "id": "4J5cer97LbVD"
   },
   "source": [
    "Разность множеств:"
   ]
  },
  {
   "cell_type": "code",
   "execution_count": 11,
   "metadata": {
    "colab": {
     "base_uri": "https://localhost:8080/"
    },
    "executionInfo": {
     "elapsed": 7,
     "status": "ok",
     "timestamp": 1653422715524,
     "user": {
      "displayName": "Ilya A",
      "userId": "17148912465935982955"
     },
     "user_tz": -180
    },
    "id": "Z5R1Wu4uLePA",
    "outputId": "43b2b47d-9123-4174-cb69-7f23d3f7ff99"
   },
   "outputs": [
    {
     "name": "stdout",
     "output_type": "stream",
     "text": [
      "{1, 2}\n",
      "{5, 6}\n"
     ]
    }
   ],
   "source": [
    "A = {1, 2, 3, 4}\n",
    "B = {3, 4, 5, 6}\n",
    "print(A - B) # A.difference(B)\n",
    "print(B - A) # B.difference(A)"
   ]
  },
  {
   "cell_type": "markdown",
   "metadata": {
    "id": "Wm27RokmL7PS"
   },
   "source": [
    "Симметричная разность множеств:"
   ]
  },
  {
   "cell_type": "code",
   "execution_count": 12,
   "metadata": {
    "colab": {
     "base_uri": "https://localhost:8080/"
    },
    "executionInfo": {
     "elapsed": 6,
     "status": "ok",
     "timestamp": 1653422715524,
     "user": {
      "displayName": "Ilya A",
      "userId": "17148912465935982955"
     },
     "user_tz": -180
    },
    "id": "DOhs0LbTMMqq",
    "outputId": "111cab2a-2ac7-4e4e-9e70-20462875b711"
   },
   "outputs": [
    {
     "data": {
      "text/plain": [
       "{1, 2, 5, 6}"
      ]
     },
     "execution_count": 12,
     "metadata": {},
     "output_type": "execute_result"
    }
   ],
   "source": [
    "A = {1, 2, 3, 4}\n",
    "B = {3, 4, 5, 6}\n",
    "A^B # A.symmetric_difference(B)"
   ]
  },
  {
   "cell_type": "markdown",
   "metadata": {
    "id": "hTFsm4W2Mhja"
   },
   "source": [
    "### Задача 1 (максимальное количество уникальных объектов)"
   ]
  },
  {
   "cell_type": "markdown",
   "metadata": {
    "id": "t9zRQNNWM74S"
   },
   "source": [
    "С клавиатуры вводит два списка одинаковой длины. Выведите тот список, в котором максимальное количество уникальных объектов. Если уникальных значений одинаковое количество, то выведите оба списка\n",
    "\n",
    "ВВОД:\n",
    "\n",
    "1 2 3 4\n",
    "\n",
    "1 1 2 2\n",
    "\n",
    "ВЫВОД:\n",
    "\n",
    "['1', '2', '3', '4']\n",
    "\n",
    "\n"
   ]
  },
  {
   "cell_type": "code",
   "execution_count": 13,
   "metadata": {
    "executionInfo": {
     "elapsed": 5,
     "status": "ok",
     "timestamp": 1653422715524,
     "user": {
      "displayName": "Ilya A",
      "userId": "17148912465935982955"
     },
     "user_tz": -180
    },
    "id": "qInfj_coNx3N"
   },
   "outputs": [],
   "source": [
    "a = '1 2 3 4'.split() # input().split()\n",
    "b = '1 1 2 2'.split() # input().split()"
   ]
  },
  {
   "cell_type": "code",
   "execution_count": 14,
   "metadata": {
    "colab": {
     "base_uri": "https://localhost:8080/"
    },
    "executionInfo": {
     "elapsed": 5,
     "status": "ok",
     "timestamp": 1653422715524,
     "user": {
      "displayName": "Ilya A",
      "userId": "17148912465935982955"
     },
     "user_tz": -180
    },
    "id": "-6fL3CNOm6pL",
    "outputId": "971ebccd-d803-48db-d819-5bd405c53450"
   },
   "outputs": [
    {
     "name": "stdout",
     "output_type": "stream",
     "text": [
      "1 2 3 4\n"
     ]
    }
   ],
   "source": [
    "a_set = set(a)\n",
    "b_set = set(b)\n",
    "\n",
    "a_len = len(a_set)\n",
    "b_len = len(b_set)\n",
    "\n",
    "if a_len>b_len:\n",
    "    print(*a)\n",
    "elif a_len<b_len:\n",
    "    print(*b)\n",
    "else:\n",
    "    print(*a)\n",
    "    print(*b)"
   ]
  },
  {
   "cell_type": "markdown",
   "metadata": {
    "id": "0a7_nXcQSyyb"
   },
   "source": [
    "### Задача 2 (операции на множествах)"
   ]
  },
  {
   "cell_type": "markdown",
   "metadata": {
    "id": "NOCI9gVlS1fX"
   },
   "source": [
    "Дан: \n",
    "\n",
    "*   список студентов группы\n",
    "*   список студентов, которые пришли на экзамен\n",
    "*   список студентов, которые имеют зачет по предмету до экзамена\n",
    "\n",
    "\n",
    "\n",
    "выведите имена студентов:\n",
    "1. которые НЕ пришли на экзамен\n",
    "2. которые пришли на экзамен, но уже имели зачет по предмету\n",
    "3. которые НЕ пришли на экзамен, но уже имеют зачет до экзамена\n",
    "4. которые в итоге получили зачет по предмету (будем считать, что все кто пришел на экзамен сдали предмет)\n",
    "5. которые в итоге НЕ получили зачет по предмету (будем считать, что все кто пришел на экзамен сдали предмет)\n",
    "6. Написать код, который проверяет, получил ли студент зачет по предмету (True/False)"
   ]
  },
  {
   "cell_type": "code",
   "execution_count": 15,
   "metadata": {
    "executionInfo": {
     "elapsed": 4,
     "status": "ok",
     "timestamp": 1653422715524,
     "user": {
      "displayName": "Ilya A",
      "userId": "17148912465935982955"
     },
     "user_tz": -180
    },
    "id": "GXRUUDgzTef1"
   },
   "outputs": [],
   "source": [
    "group = set([\"Иванов\", \"Петров\", \"Сидоров\", \n",
    "             \"Федотов\", \"Александров\", \"Королев\", \"Симонов\"])\n",
    "exam = set([\"Федотов\", \"Иванов\", \"Петров\", \"Симонов\"])\n",
    "zachet = set([\"Петров\", \"Королев\"])\n"
   ]
  },
  {
   "cell_type": "code",
   "execution_count": 16,
   "metadata": {
    "colab": {
     "base_uri": "https://localhost:8080/"
    },
    "executionInfo": {
     "elapsed": 4,
     "status": "ok",
     "timestamp": 1653422715524,
     "user": {
      "displayName": "Ilya A",
      "userId": "17148912465935982955"
     },
     "user_tz": -180
    },
    "id": "-XH7Kky2m6pM",
    "outputId": "dd7bc7b2-24fe-4aad-de7a-2f2dc41b1743"
   },
   "outputs": [
    {
     "name": "stdout",
     "output_type": "stream",
     "text": [
      "Королев Александров Сидоров\n",
      "Петров\n",
      "Королев\n",
      "Петров Королев Федотов Симонов Иванов\n",
      "Александров Сидоров\n",
      "Александров не сдал\n"
     ]
    }
   ],
   "source": [
    "print(*(group-exam))\n",
    "print(*(exam&zachet))\n",
    "print(*((group-exam)&zachet))\n",
    "print(*(exam|zachet))\n",
    "print(*(group-exam-zachet))\n",
    "\n",
    "student = 'Александров' # input()\n",
    "print(student, 'не сдал' if student in (group-exam-zachet) else 'сдал')"
   ]
  },
  {
   "cell_type": "markdown",
   "metadata": {
    "id": "6O-WXaSYm6pM"
   },
   "source": [
    "### Задача 3 (кол-во слов в тексте)"
   ]
  },
  {
   "cell_type": "markdown",
   "metadata": {
    "id": "5aQmGwqfm6pM"
   },
   "source": [
    "https://pythontutor.ru/lessons/sets/problems/number_of_words/"
   ]
  },
  {
   "cell_type": "code",
   "execution_count": 17,
   "metadata": {
    "executionInfo": {
     "elapsed": 3,
     "status": "ok",
     "timestamp": 1653422715524,
     "user": {
      "displayName": "Ilya A",
      "userId": "17148912465935982955"
     },
     "user_tz": -180
    },
    "id": "DUO8ICjym6pM"
   },
   "outputs": [],
   "source": [
    "# n = int(input())\n",
    "# a = []\n",
    "# for i in range(n):\n",
    "#     a.append(input())"
   ]
  },
  {
   "cell_type": "code",
   "execution_count": 18,
   "metadata": {
    "executionInfo": {
     "elapsed": 24,
     "status": "ok",
     "timestamp": 1653422715986,
     "user": {
      "displayName": "Ilya A",
      "userId": "17148912465935982955"
     },
     "user_tz": -180
    },
    "id": "7baIGVGcm6pM"
   },
   "outputs": [],
   "source": [
    "s = '''4\n",
    "She sells sea shells on the sea shore;\n",
    "The shells that she sells are sea shells I'm sure.\n",
    "So if she sells sea shells on the sea shore,\n",
    "I'm sure that the shells are sea shore shells.'''"
   ]
  },
  {
   "cell_type": "code",
   "execution_count": 19,
   "metadata": {
    "executionInfo": {
     "elapsed": 24,
     "status": "ok",
     "timestamp": 1653422715986,
     "user": {
      "displayName": "Ilya A",
      "userId": "17148912465935982955"
     },
     "user_tz": -180
    },
    "id": "SMZ8G4Z6okMU"
   },
   "outputs": [],
   "source": [
    "a = s.split('\\n')[1:]"
   ]
  },
  {
   "cell_type": "code",
   "execution_count": 20,
   "metadata": {
    "colab": {
     "base_uri": "https://localhost:8080/"
    },
    "executionInfo": {
     "elapsed": 23,
     "status": "ok",
     "timestamp": 1653422715986,
     "user": {
      "displayName": "Ilya A",
      "userId": "17148912465935982955"
     },
     "user_tz": -180
    },
    "id": "B-0zvsRxm6pM",
    "outputId": "94941e2b-3892-4e4b-e1d1-532a22477870"
   },
   "outputs": [
    {
     "name": "stdout",
     "output_type": "stream",
     "text": [
      "14\n",
      "are i if m on sea sells she shells shore so sure that the\n"
     ]
    }
   ],
   "source": [
    "unique_words = set()\n",
    "for sentence in a:\n",
    "    clean_words = sentence.lower()\\\n",
    "        .replace(';','')\\\n",
    "        .replace('.','')\\\n",
    "        .replace(',','')\\\n",
    "        .replace(\"'\",' ')\\\n",
    "        .split()\n",
    "    unique_words.update(set(clean_words))\n",
    "    \n",
    "print(len(unique_words))\n",
    "print(*sorted(unique_words))"
   ]
  },
  {
   "cell_type": "markdown",
   "metadata": {
    "id": "8PBYIHlRrA1n"
   },
   "source": [
    "## **Словари**"
   ]
  },
  {
   "cell_type": "markdown",
   "metadata": {
    "id": "eYjFpWLcrJGh"
   },
   "source": [
    "Неупорядоченные коллекции произвольных объектов с доступом по ключу. Их иногда ещё называют ассоциативными массивами или хеш-таблицами.\n",
    "\n",
    "`словарь = {ключ: значение}`"
   ]
  },
  {
   "cell_type": "markdown",
   "metadata": {
    "id": "pOQ7FGqera9d"
   },
   "source": [
    "Создать словарь:"
   ]
  },
  {
   "cell_type": "code",
   "execution_count": 21,
   "metadata": {
    "colab": {
     "base_uri": "https://localhost:8080/"
    },
    "executionInfo": {
     "elapsed": 22,
     "status": "ok",
     "timestamp": 1653422715986,
     "user": {
      "displayName": "Ilya A",
      "userId": "17148912465935982955"
     },
     "user_tz": -180
    },
    "id": "Z-K0WV4xm6pN",
    "outputId": "1084c411-9c01-400a-b4b4-5e7af826058c"
   },
   "outputs": [
    {
     "data": {
      "text/plain": [
       "[1000, 2, 3]"
      ]
     },
     "execution_count": 21,
     "metadata": {},
     "output_type": "execute_result"
    }
   ],
   "source": [
    "a = [1, 2, 3]\n",
    "a[0] = 1000\n",
    "a"
   ]
  },
  {
   "cell_type": "code",
   "execution_count": 22,
   "metadata": {
    "colab": {
     "base_uri": "https://localhost:8080/"
    },
    "executionInfo": {
     "elapsed": 20,
     "status": "ok",
     "timestamp": 1653422715986,
     "user": {
      "displayName": "Ilya A",
      "userId": "17148912465935982955"
     },
     "user_tz": -180
    },
    "id": "fRjhMd4Fm6pN",
    "outputId": "2985d9f7-974e-4746-bae3-35dbc8b2b27a"
   },
   "outputs": [
    {
     "data": {
      "text/plain": [
       "(1, 2, 3)"
      ]
     },
     "execution_count": 22,
     "metadata": {},
     "output_type": "execute_result"
    }
   ],
   "source": [
    "a = (1,2,3)\n",
    "# a[0] = 1000 # так нельзя с кортежами\n",
    "a"
   ]
  },
  {
   "cell_type": "code",
   "execution_count": 23,
   "metadata": {
    "executionInfo": {
     "elapsed": 19,
     "status": "ok",
     "timestamp": 1653422715986,
     "user": {
      "displayName": "Ilya A",
      "userId": "17148912465935982955"
     },
     "user_tz": -180
    },
    "id": "MFPUIdr1qzyR"
   },
   "outputs": [],
   "source": [
    "d = {}\n",
    "d = dict()"
   ]
  },
  {
   "cell_type": "code",
   "execution_count": 24,
   "metadata": {
    "executionInfo": {
     "elapsed": 20,
     "status": "ok",
     "timestamp": 1653422715987,
     "user": {
      "displayName": "Ilya A",
      "userId": "17148912465935982955"
     },
     "user_tz": -180
    },
    "id": "opLZJhCHrxm7"
   },
   "outputs": [],
   "source": [
    "d = {\n",
    "    'Мама': 'Юля', \n",
    "    'Отец': 'Олег',\n",
    "    'apple':'яблоко',\n",
    "#     ['a','b']:'c' ## список не может быть ключом\n",
    "    ('a','b'): 'c' ## а кортеж может\n",
    "#     {1}:1 ## словарь тоже не может\n",
    "    }"
   ]
  },
  {
   "cell_type": "code",
   "execution_count": 25,
   "metadata": {
    "colab": {
     "base_uri": "https://localhost:8080/",
     "height": 35
    },
    "executionInfo": {
     "elapsed": 20,
     "status": "ok",
     "timestamp": 1653422715987,
     "user": {
      "displayName": "Ilya A",
      "userId": "17148912465935982955"
     },
     "user_tz": -180
    },
    "id": "7CzFcLqpm6pN",
    "outputId": "f73066d5-553f-4bac-d0b8-d52905634433"
   },
   "outputs": [
    {
     "data": {
      "application/vnd.google.colaboratory.intrinsic+json": {
       "type": "string"
      },
      "text/plain": [
       "'Юля'"
      ]
     },
     "execution_count": 25,
     "metadata": {},
     "output_type": "execute_result"
    }
   ],
   "source": [
    "d['Мама']"
   ]
  },
  {
   "cell_type": "markdown",
   "metadata": {
    "id": "NO6gGYwKsHJQ"
   },
   "source": [
    "Добавить новый элемент в словарь:"
   ]
  },
  {
   "cell_type": "code",
   "execution_count": 26,
   "metadata": {
    "colab": {
     "base_uri": "https://localhost:8080/"
    },
    "executionInfo": {
     "elapsed": 19,
     "status": "ok",
     "timestamp": 1653422715987,
     "user": {
      "displayName": "Ilya A",
      "userId": "17148912465935982955"
     },
     "user_tz": -180
    },
    "id": "kEWbd7XusKyq",
    "outputId": "e1df09aa-9d0f-4059-f1a3-af6e05d19bb7"
   },
   "outputs": [
    {
     "data": {
      "text/plain": [
       "{('a', 'b'): 'c',\n",
       " 'apple': 'яблоко',\n",
       " 'Мама': 'Юля',\n",
       " 'Отец': 'Олег',\n",
       " 'Сын': 'Ваня'}"
      ]
     },
     "execution_count": 26,
     "metadata": {},
     "output_type": "execute_result"
    }
   ],
   "source": [
    "d['Сын'] = 'Ваня'\n",
    "d"
   ]
  },
  {
   "cell_type": "code",
   "execution_count": 27,
   "metadata": {
    "colab": {
     "base_uri": "https://localhost:8080/"
    },
    "executionInfo": {
     "elapsed": 18,
     "status": "ok",
     "timestamp": 1653422715987,
     "user": {
      "displayName": "Ilya A",
      "userId": "17148912465935982955"
     },
     "user_tz": -180
    },
    "id": "yqTGeiQdvjDb",
    "outputId": "38ba86d0-a2f5-4223-cbab-ac4e82975b7d"
   },
   "outputs": [
    {
     "data": {
      "text/plain": [
       "{('a', 'b'): 'c',\n",
       " 'apple': 'яблоко',\n",
       " 'Дочь': ['Яна', 'Алена'],\n",
       " 'Мама': 'Юля',\n",
       " 'Отец': 'Олег',\n",
       " 'Сын': 'Ваня'}"
      ]
     },
     "execution_count": 27,
     "metadata": {},
     "output_type": "execute_result"
    }
   ],
   "source": [
    "# добавим аж список в качестве значения\n",
    "d['Дочь'] = ['Яна', 'Алена']\n",
    "d"
   ]
  },
  {
   "cell_type": "markdown",
   "metadata": {
    "id": "a9aTfC_Oo4QL"
   },
   "source": [
    "Создать словарь"
   ]
  },
  {
   "cell_type": "code",
   "execution_count": 28,
   "metadata": {
    "colab": {
     "base_uri": "https://localhost:8080/"
    },
    "executionInfo": {
     "elapsed": 17,
     "status": "ok",
     "timestamp": 1653422715987,
     "user": {
      "displayName": "Ilya A",
      "userId": "17148912465935982955"
     },
     "user_tz": -180
    },
    "id": "-uWA-kqJ4ANm",
    "outputId": "93569a2c-2ff2-442b-ba54-35e446a89511"
   },
   "outputs": [
    {
     "data": {
      "text/plain": [
       "[(1, 'one'), (2, 'two'), (3, 'three'), (4, 'four')]"
      ]
     },
     "execution_count": 28,
     "metadata": {},
     "output_type": "execute_result"
    }
   ],
   "source": [
    "s1 = [1, 2, 3, 4]\n",
    "s2 = ['one', 'two', 'three', 'four']\n",
    "# список кортежей\n",
    "list(zip(s1, s2))\n"
   ]
  },
  {
   "cell_type": "code",
   "execution_count": 29,
   "metadata": {
    "colab": {
     "base_uri": "https://localhost:8080/"
    },
    "executionInfo": {
     "elapsed": 16,
     "status": "ok",
     "timestamp": 1653422715987,
     "user": {
      "displayName": "Ilya A",
      "userId": "17148912465935982955"
     },
     "user_tz": -180
    },
    "id": "4u72RP0Sm6pN",
    "outputId": "e0037960-a92f-431d-d82b-0fadb8450fde"
   },
   "outputs": [
    {
     "data": {
      "text/plain": [
       "{1: 'one', 2: 'two', 3: 'three', 4: 'four'}"
      ]
     },
     "execution_count": 29,
     "metadata": {},
     "output_type": "execute_result"
    }
   ],
   "source": [
    "# а теперь просто словарь\n",
    "dict(zip(s1, s2))\n"
   ]
  },
  {
   "cell_type": "markdown",
   "metadata": {
    "id": "AZojV6xjo_-c"
   },
   "source": [
    "Заполнение словаря циклом"
   ]
  },
  {
   "cell_type": "code",
   "execution_count": 30,
   "metadata": {
    "colab": {
     "base_uri": "https://localhost:8080/"
    },
    "executionInfo": {
     "elapsed": 15,
     "status": "ok",
     "timestamp": 1653422715987,
     "user": {
      "displayName": "Ilya A",
      "userId": "17148912465935982955"
     },
     "user_tz": -180
    },
    "id": "YmJuTIyrQbd5",
    "outputId": "0b8a6588-4ba8-4d6e-96de-6a05237138c1"
   },
   "outputs": [
    {
     "data": {
      "text/plain": [
       "{1: 'one', 2: 'two', 3: 'three', 4: 'four'}"
      ]
     },
     "execution_count": 30,
     "metadata": {},
     "output_type": "execute_result"
    }
   ],
   "source": [
    "d2 = {}\n",
    "s1 = [1, 2, 3, 4]\n",
    "s2 = ['one', 'two', 'three', 'four']\n",
    "\n",
    "for i in range(len(s1)):\n",
    "    key = s1[i]\n",
    "    val = s2[i]\n",
    "    d2[key] = val\n",
    "\n",
    "d2"
   ]
  },
  {
   "cell_type": "markdown",
   "metadata": {
    "id": "oXLKOUjcr-uN"
   },
   "source": [
    "Обратиться к ключам/значениям/элементам словаря:"
   ]
  },
  {
   "cell_type": "code",
   "execution_count": 31,
   "metadata": {
    "colab": {
     "base_uri": "https://localhost:8080/"
    },
    "executionInfo": {
     "elapsed": 14,
     "status": "ok",
     "timestamp": 1653422715987,
     "user": {
      "displayName": "Ilya A",
      "userId": "17148912465935982955"
     },
     "user_tz": -180
    },
    "id": "HOA9E0WAsEAv",
    "outputId": "5071b12d-ed7a-4209-8c6e-18215b61b38f"
   },
   "outputs": [
    {
     "data": {
      "text/plain": [
       "['Мама', 'Отец', 'apple', ('a', 'b'), 'Сын', 'Дочь']"
      ]
     },
     "execution_count": 31,
     "metadata": {},
     "output_type": "execute_result"
    }
   ],
   "source": [
    "list(d.keys())"
   ]
  },
  {
   "cell_type": "code",
   "execution_count": 32,
   "metadata": {
    "colab": {
     "base_uri": "https://localhost:8080/"
    },
    "executionInfo": {
     "elapsed": 14,
     "status": "ok",
     "timestamp": 1653422715988,
     "user": {
      "displayName": "Ilya A",
      "userId": "17148912465935982955"
     },
     "user_tz": -180
    },
    "id": "AKrBdGH0m6pO",
    "outputId": "35e42f83-51b3-4745-bb84-c8a0201fce72"
   },
   "outputs": [
    {
     "data": {
      "text/plain": [
       "['Юля', 'Олег', 'яблоко', 'c', 'Ваня', ['Яна', 'Алена']]"
      ]
     },
     "execution_count": 32,
     "metadata": {},
     "output_type": "execute_result"
    }
   ],
   "source": [
    "list(d.values())"
   ]
  },
  {
   "cell_type": "code",
   "execution_count": 33,
   "metadata": {
    "colab": {
     "base_uri": "https://localhost:8080/"
    },
    "executionInfo": {
     "elapsed": 14,
     "status": "ok",
     "timestamp": 1653422715988,
     "user": {
      "displayName": "Ilya A",
      "userId": "17148912465935982955"
     },
     "user_tz": -180
    },
    "id": "r4F9ifeBm6pO",
    "outputId": "fd86c098-a6b3-4bca-afee-d7a32595b2c0"
   },
   "outputs": [
    {
     "data": {
      "text/plain": [
       "[('Мама', 'Юля'),\n",
       " ('Отец', 'Олег'),\n",
       " ('apple', 'яблоко'),\n",
       " (('a', 'b'), 'c'),\n",
       " ('Сын', 'Ваня'),\n",
       " ('Дочь', ['Яна', 'Алена'])]"
      ]
     },
     "execution_count": 33,
     "metadata": {},
     "output_type": "execute_result"
    }
   ],
   "source": [
    "list(d.items())"
   ]
  },
  {
   "cell_type": "code",
   "execution_count": 34,
   "metadata": {
    "colab": {
     "base_uri": "https://localhost:8080/"
    },
    "executionInfo": {
     "elapsed": 13,
     "status": "ok",
     "timestamp": 1653422715988,
     "user": {
      "displayName": "Ilya A",
      "userId": "17148912465935982955"
     },
     "user_tz": -180
    },
    "id": "d4r_qxnSOxpf",
    "outputId": "98ad7aba-af38-48d5-9df4-c685df0eb828"
   },
   "outputs": [
    {
     "data": {
      "text/plain": [
       "True"
      ]
     },
     "execution_count": 34,
     "metadata": {},
     "output_type": "execute_result"
    }
   ],
   "source": [
    "\"Отец\" in d.keys()"
   ]
  },
  {
   "cell_type": "markdown",
   "metadata": {
    "id": "S1bjaTY9FrCE"
   },
   "source": [
    "Найти значение по ключу:"
   ]
  },
  {
   "cell_type": "code",
   "execution_count": 35,
   "metadata": {
    "executionInfo": {
     "elapsed": 12,
     "status": "ok",
     "timestamp": 1653422715988,
     "user": {
      "displayName": "Ilya A",
      "userId": "17148912465935982955"
     },
     "user_tz": -180
    },
    "id": "AiT8lZAaFvmR"
   },
   "outputs": [],
   "source": [
    "# где она?\n",
    "# d['Бабушка']"
   ]
  },
  {
   "cell_type": "code",
   "execution_count": 36,
   "metadata": {
    "colab": {
     "base_uri": "https://localhost:8080/"
    },
    "executionInfo": {
     "elapsed": 11,
     "status": "ok",
     "timestamp": 1653422715988,
     "user": {
      "displayName": "Ilya A",
      "userId": "17148912465935982955"
     },
     "user_tz": -180
    },
    "id": "bTX0ofgqHCvZ",
    "outputId": "c5bf1168-e530-4604-f8c7-58de5cdedada"
   },
   "outputs": [
    {
     "data": {
      "text/plain": [
       "0"
      ]
     },
     "execution_count": 36,
     "metadata": {},
     "output_type": "execute_result"
    }
   ],
   "source": [
    "d.get('Бабушка', 0)"
   ]
  },
  {
   "cell_type": "markdown",
   "metadata": {
    "id": "Ni7diEJ4F2x5"
   },
   "source": [
    "Найти ключ по значению:"
   ]
  },
  {
   "cell_type": "code",
   "execution_count": 37,
   "metadata": {
    "colab": {
     "base_uri": "https://localhost:8080/"
    },
    "executionInfo": {
     "elapsed": 11,
     "status": "ok",
     "timestamp": 1653422715988,
     "user": {
      "displayName": "Ilya A",
      "userId": "17148912465935982955"
     },
     "user_tz": -180
    },
    "id": "EFPAS44HGTOD",
    "outputId": "8d32f9c1-d098-4de1-b174-dbdbca0d19d3"
   },
   "outputs": [
    {
     "data": {
      "text/plain": [
       "1"
      ]
     },
     "execution_count": 37,
     "metadata": {},
     "output_type": "execute_result"
    }
   ],
   "source": [
    "s = [1, 2]\n",
    "s[0]"
   ]
  },
  {
   "cell_type": "code",
   "execution_count": 38,
   "metadata": {
    "colab": {
     "base_uri": "https://localhost:8080/",
     "height": 35
    },
    "executionInfo": {
     "elapsed": 10,
     "status": "ok",
     "timestamp": 1653422715988,
     "user": {
      "displayName": "Ilya A",
      "userId": "17148912465935982955"
     },
     "user_tz": -180
    },
    "id": "b9iNtWjiF-Zp",
    "outputId": "e18fa6ac-2ea0-4e8a-ed25-fdd81221e961"
   },
   "outputs": [
    {
     "data": {
      "application/vnd.google.colaboratory.intrinsic+json": {
       "type": "string"
      },
      "text/plain": [
       "'Отец'"
      ]
     },
     "execution_count": 38,
     "metadata": {},
     "output_type": "execute_result"
    }
   ],
   "source": [
    "list(d.keys())[list(d.values()).index('Олег')]"
   ]
  },
  {
   "cell_type": "code",
   "execution_count": 39,
   "metadata": {
    "colab": {
     "base_uri": "https://localhost:8080/"
    },
    "executionInfo": {
     "elapsed": 9,
     "status": "ok",
     "timestamp": 1653422715988,
     "user": {
      "displayName": "Ilya A",
      "userId": "17148912465935982955"
     },
     "user_tz": -180
    },
    "id": "WkiAOMXoGlhI",
    "outputId": "a7dde813-fbeb-4956-d16f-fa76580af892"
   },
   "outputs": [
    {
     "data": {
      "text/plain": [
       "1"
      ]
     },
     "execution_count": 39,
     "metadata": {},
     "output_type": "execute_result"
    }
   ],
   "source": [
    "list(d.values()).index('Олег')"
   ]
  },
  {
   "cell_type": "markdown",
   "metadata": {
    "id": "dR6GEcnKsz14"
   },
   "source": [
    "Перебор словаря:"
   ]
  },
  {
   "cell_type": "code",
   "execution_count": 40,
   "metadata": {
    "colab": {
     "base_uri": "https://localhost:8080/"
    },
    "executionInfo": {
     "elapsed": 409,
     "status": "ok",
     "timestamp": 1653422716389,
     "user": {
      "displayName": "Ilya A",
      "userId": "17148912465935982955"
     },
     "user_tz": -180
    },
    "id": "X-I00T26m6pQ",
    "outputId": "9f3aaea6-7b29-42d2-e9fa-f9d985829a59"
   },
   "outputs": [
    {
     "data": {
      "text/plain": [
       "{('a', 'b'): 'c',\n",
       " 'apple': 'яблоко',\n",
       " 'Дочь': ['Яна', 'Алена'],\n",
       " 'Мама': 'Юля',\n",
       " 'Отец': 'Олег',\n",
       " 'Сын': 'Ваня'}"
      ]
     },
     "execution_count": 40,
     "metadata": {},
     "output_type": "execute_result"
    }
   ],
   "source": [
    "d"
   ]
  },
  {
   "cell_type": "code",
   "execution_count": 41,
   "metadata": {
    "colab": {
     "base_uri": "https://localhost:8080/"
    },
    "executionInfo": {
     "elapsed": 32,
     "status": "ok",
     "timestamp": 1653422716389,
     "user": {
      "displayName": "Ilya A",
      "userId": "17148912465935982955"
     },
     "user_tz": -180
    },
    "id": "i9iKA52Osuq0",
    "outputId": "566c7d76-34c0-4859-f96d-28774845819b"
   },
   "outputs": [
    {
     "name": "stdout",
     "output_type": "stream",
     "text": [
      "Мама -> Юля\n",
      "Отец -> Олег\n",
      "apple -> яблоко\n",
      "('a', 'b') -> c\n",
      "Сын -> Ваня\n",
      "Дочь -> ['Яна', 'Алена']\n"
     ]
    }
   ],
   "source": [
    "for key in d:\n",
    "    print(key, \"->\", d[key])"
   ]
  },
  {
   "cell_type": "markdown",
   "metadata": {
    "id": "yhMHtQ_ltAEc"
   },
   "source": [
    "Перебор значений:"
   ]
  },
  {
   "cell_type": "code",
   "execution_count": 42,
   "metadata": {
    "colab": {
     "base_uri": "https://localhost:8080/"
    },
    "executionInfo": {
     "elapsed": 29,
     "status": "ok",
     "timestamp": 1653422716389,
     "user": {
      "displayName": "Ilya A",
      "userId": "17148912465935982955"
     },
     "user_tz": -180
    },
    "id": "B8MVazc5tE1b",
    "outputId": "79956294-6769-4e5c-8ba5-6acf0bbe0625"
   },
   "outputs": [
    {
     "name": "stdout",
     "output_type": "stream",
     "text": [
      "Юля\n",
      "Олег\n",
      "яблоко\n",
      "c\n",
      "Ваня\n",
      "['Яна', 'Алена']\n"
     ]
    }
   ],
   "source": [
    "for value in d.values():\n",
    "    print(value)"
   ]
  },
  {
   "cell_type": "markdown",
   "metadata": {
    "id": "0a0e4ZnLtKYS"
   },
   "source": [
    "Перебор пар ключ/значение: "
   ]
  },
  {
   "cell_type": "code",
   "execution_count": 43,
   "metadata": {
    "colab": {
     "base_uri": "https://localhost:8080/"
    },
    "executionInfo": {
     "elapsed": 27,
     "status": "ok",
     "timestamp": 1653422716389,
     "user": {
      "displayName": "Ilya A",
      "userId": "17148912465935982955"
     },
     "user_tz": -180
    },
    "id": "7rRamNt1tIzC",
    "outputId": "dac4a263-12a8-4d9a-df97-30f13e657c28"
   },
   "outputs": [
    {
     "name": "stdout",
     "output_type": "stream",
     "text": [
      "('Мама', 'Юля') Мама Юля\n",
      "('Отец', 'Олег') Отец Олег\n",
      "('apple', 'яблоко') apple яблоко\n",
      "(('a', 'b'), 'c') ('a', 'b') c\n",
      "('Сын', 'Ваня') Сын Ваня\n",
      "('Дочь', ['Яна', 'Алена']) Дочь ['Яна', 'Алена']\n"
     ]
    }
   ],
   "source": [
    "for item in d.items():\n",
    "    print(item, item[0], item[1])"
   ]
  },
  {
   "cell_type": "markdown",
   "metadata": {
    "id": "SxDhFJpP4weI"
   },
   "source": [
    "### Задача 3 (счетчик)"
   ]
  },
  {
   "cell_type": "markdown",
   "metadata": {
    "id": "Cvitmbm84y2w"
   },
   "source": [
    "С клавиатуры вводится текст. Посчитайте сколько раз каждое из слов встречается в тексте. \n",
    "\n",
    "Словом считается последовательность непробельных символов идущих подряд\n",
    "\n",
    "**Ввод**\n",
    "\n",
    "я люблю читать и я люблю книги\n",
    "\n",
    "**Вывод**\n",
    "\n",
    "{'я': 2, 'и': 1, 'читать': 1, 'люблю': 2, 'книги': 1}\n",
    "\n",
    "\n"
   ]
  },
  {
   "cell_type": "code",
   "execution_count": 44,
   "metadata": {
    "executionInfo": {
     "elapsed": 25,
     "status": "ok",
     "timestamp": 1653422716389,
     "user": {
      "displayName": "Ilya A",
      "userId": "17148912465935982955"
     },
     "user_tz": -180
    },
    "id": "yxzkgHAdm6pT"
   },
   "outputs": [],
   "source": [
    "s = 'я люблю читать и я люблю книги'\n",
    "words = s.split()\n"
   ]
  },
  {
   "cell_type": "code",
   "execution_count": 45,
   "metadata": {
    "colab": {
     "base_uri": "https://localhost:8080/"
    },
    "executionInfo": {
     "elapsed": 26,
     "status": "ok",
     "timestamp": 1653422716390,
     "user": {
      "displayName": "Ilya A",
      "userId": "17148912465935982955"
     },
     "user_tz": -180
    },
    "id": "XMs3GbOYqXSf",
    "outputId": "7c4649db-c7e8-4b1a-c6e9-c2933522b338"
   },
   "outputs": [
    {
     "data": {
      "text/plain": [
       "{'и': 1, 'книги': 1, 'люблю': 2, 'читать': 1, 'я': 2}"
      ]
     },
     "execution_count": 45,
     "metadata": {},
     "output_type": "execute_result"
    }
   ],
   "source": [
    "# способ 1\n",
    "counter = {}\n",
    "for word in set(words):\n",
    "    counter[word] = words.count(word)\n",
    "    \n",
    "counter"
   ]
  },
  {
   "cell_type": "code",
   "execution_count": 46,
   "metadata": {
    "colab": {
     "base_uri": "https://localhost:8080/"
    },
    "executionInfo": {
     "elapsed": 24,
     "status": "ok",
     "timestamp": 1653422716390,
     "user": {
      "displayName": "Ilya A",
      "userId": "17148912465935982955"
     },
     "user_tz": -180
    },
    "id": "IKlPQA-em6pT",
    "outputId": "25b2b9bf-11fc-4c37-ae9f-30681562e2f3"
   },
   "outputs": [
    {
     "data": {
      "text/plain": [
       "{'и': 1, 'книги': 1, 'люблю': 2, 'читать': 1, 'я': 2}"
      ]
     },
     "execution_count": 46,
     "metadata": {},
     "output_type": "execute_result"
    }
   ],
   "source": [
    "# способ 2\n",
    "counter = {}\n",
    "for word in words:\n",
    "    #### устанавливаем дефолтное (по умолчанию) значение\n",
    "    if word not in counter:\n",
    "        counter[word] = 0\n",
    "    #### закончили установку\n",
    "\n",
    "    # считаем слова\n",
    "    counter[word] += 1\n",
    "\n",
    "counter"
   ]
  },
  {
   "cell_type": "code",
   "execution_count": 47,
   "metadata": {
    "colab": {
     "base_uri": "https://localhost:8080/"
    },
    "executionInfo": {
     "elapsed": 23,
     "status": "ok",
     "timestamp": 1653422716390,
     "user": {
      "displayName": "Ilya A",
      "userId": "17148912465935982955"
     },
     "user_tz": -180
    },
    "id": "4n8rE3u_m6pT",
    "outputId": "fef3da46-d483-42a9-9ea3-b20adabe03fd"
   },
   "outputs": [
    {
     "data": {
      "text/plain": [
       "defaultdict(<function __main__.<lambda>>,\n",
       "            {'и': 1, 'книги': 1, 'люблю': 2, 'читать': 1, 'я': 2})"
      ]
     },
     "execution_count": 47,
     "metadata": {},
     "output_type": "execute_result"
    }
   ],
   "source": [
    "# способ 3\n",
    "from collections import defaultdict\n",
    "\n",
    "# устанавливаем дефолтное значение заранее через lambda-функцию, которая вернет нам 0\n",
    "counter = defaultdict(lambda: 0)\n",
    "\n",
    "for word in words:\n",
    "    # сразу прибавляем\n",
    "    counter[word] += 1\n",
    "\n",
    "counter"
   ]
  },
  {
   "cell_type": "code",
   "execution_count": 48,
   "metadata": {
    "colab": {
     "base_uri": "https://localhost:8080/"
    },
    "executionInfo": {
     "elapsed": 22,
     "status": "ok",
     "timestamp": 1653422716390,
     "user": {
      "displayName": "Ilya A",
      "userId": "17148912465935982955"
     },
     "user_tz": -180
    },
    "id": "fwXQp4_Wm6pU",
    "outputId": "e1ec485a-0539-45c0-944e-4322981482f2"
   },
   "outputs": [
    {
     "name": "stdout",
     "output_type": "stream",
     "text": [
      "я 2\n",
      "люблю 2\n",
      "читать 1\n",
      "и 1\n",
      "книги 1\n",
      "{'я': 2, 'люблю': 2, 'читать': 1, 'и': 1, 'книги': 1}\n"
     ]
    }
   ],
   "source": [
    "for word in counter:\n",
    "    print(word, counter[word])\n",
    "    \n",
    "print(dict(counter))"
   ]
  },
  {
   "cell_type": "markdown",
   "metadata": {
    "id": "wFl9N36s851_"
   },
   "source": [
    "### Задача 4 (синонимы)"
   ]
  },
  {
   "cell_type": "markdown",
   "metadata": {
    "id": "-_qAtp259J1I"
   },
   "source": [
    "В первой строке вводится длина словаря синонимов.\n",
    "\n",
    "Пользователь вводит с клавиатуры пары: слово/синоним. Все слова в словаре различны.\n",
    "\n",
    "Затем пользователь вводит слово, к которому нужно найти синоним в созданном словаре. Если такого слова нет в словаре вывести \"Синоним не найден\"\n",
    "\n",
    "**Ввод**\n",
    "\n",
    "Введите длину словаря 2\n",
    "\n",
    "Введите пару слово/синоним hi/hello\n",
    "\n",
    "Введите пару слово/синоним bye/goodbye\n",
    "\n",
    "Синоним к какому слову вы хотите найти? hello\n",
    "\n",
    "**Вывод**\n",
    "\n",
    "hi\n",
    "\n",
    "**Ввод**\n",
    "\n",
    "Введите длину словаря 2\n",
    "\n",
    "Введите пару слово/синоним hi/hello\n",
    "\n",
    "Введите пару слово/синоним bye/goodbye\n",
    "\n",
    "Синоним к какому слову вы хотите найти? bye\n",
    "\n",
    "**Вывод**\n",
    "\n",
    "goodbye"
   ]
  },
  {
   "cell_type": "code",
   "execution_count": 48,
   "metadata": {
    "executionInfo": {
     "elapsed": 21,
     "status": "ok",
     "timestamp": 1653422716390,
     "user": {
      "displayName": "Ilya A",
      "userId": "17148912465935982955"
     },
     "user_tz": -180
    },
    "id": "8q2CGR-Z9JUh"
   },
   "outputs": [],
   "source": []
  },
  {
   "cell_type": "markdown",
   "metadata": {
    "id": "f_imho7Ltnfz"
   },
   "source": [
    "### Задача 5 (счетчик оценок)"
   ]
  },
  {
   "cell_type": "markdown",
   "metadata": {
    "id": "M3FItE_nuw7t"
   },
   "source": [
    "Под конец учебного года преподаватель решил провести анализ оценок. У него есть список группы, из которой он хочет понять сколько людей получило оценку «отлично» (8-10), «хорошо» (6-7), «удовлетворительно» (4-5) и «неудовлетворительно» (0-3)\n",
    "\n",
    "**Вывод:**\n",
    "\n",
    "{'отлично': 8, 'хорошо': 4, 'удовлетворительно': 4, 'неудовлетворительно': 6}"
   ]
  },
  {
   "cell_type": "code",
   "execution_count": 49,
   "metadata": {
    "colab": {
     "base_uri": "https://localhost:8080/"
    },
    "executionInfo": {
     "elapsed": 21,
     "status": "ok",
     "timestamp": 1653422716390,
     "user": {
      "displayName": "Ilya A",
      "userId": "17148912465935982955"
     },
     "user_tz": -180
    },
    "id": "atQ-OX43m6pV",
    "outputId": "132b5b25-f449-4bee-fdc3-583efa859574"
   },
   "outputs": [
    {
     "name": "stdout",
     "output_type": "stream",
     "text": [
      "Overwriting input.txt\n"
     ]
    }
   ],
   "source": [
    "%%writefile input.txt\n",
    "Олег Кардашьян 9\n",
    "Вячеслав Руссиано 3\n",
    "Максим Максим 10\n",
    "Владислав Донтхертми 7\n",
    "Павел Хинкальный 8\n",
    "Ярослав Мутный 2\n",
    "Чак Нормис 5\n",
    "Александра Петрова 7\n",
    "Степан Кружок 10\n",
    "Мария Великая 1\n",
    "Джейсон Стэтхэм 10\n",
    "Светлана Ыыыыы 8\n",
    "Николай Колбасков 2\n",
    "Максим Солидный 6\n",
    "Валерий Мармеладзе 5\n",
    "Михаил Быкян 8\n",
    "Cуета Вечная 4\n",
    "Стас Борецкий 0\n",
    "Кеннедикт Мембербетч 7\n",
    "Артур Пирожков 8\n",
    "Элианора Андреева 5\n",
    "Михаил Круг 3"
   ]
  },
  {
   "cell_type": "code",
   "execution_count": 50,
   "metadata": {
    "colab": {
     "base_uri": "https://localhost:8080/"
    },
    "executionInfo": {
     "elapsed": 20,
     "status": "ok",
     "timestamp": 1653422716390,
     "user": {
      "displayName": "Ilya A",
      "userId": "17148912465935982955"
     },
     "user_tz": -180
    },
    "id": "a1YlfyK8m6pV",
    "outputId": "160e6bf4-5e4d-4045-da11-57a8ca9805c6"
   },
   "outputs": [
    {
     "data": {
      "text/plain": [
       "['Олег Кардашьян 9',\n",
       " 'Вячеслав Руссиано 3',\n",
       " 'Максим Максим 10',\n",
       " 'Владислав Донтхертми 7',\n",
       " 'Павел Хинкальный 8',\n",
       " 'Ярослав Мутный 2',\n",
       " 'Чак Нормис 5',\n",
       " 'Александра Петрова 7',\n",
       " 'Степан Кружок 10',\n",
       " 'Мария Великая 1',\n",
       " 'Джейсон Стэтхэм 10',\n",
       " 'Светлана Ыыыыы 8',\n",
       " 'Николай Колбасков 2',\n",
       " 'Максим Солидный 6',\n",
       " 'Валерий Мармеладзе 5',\n",
       " 'Михаил Быкян 8',\n",
       " 'Cуета Вечная 4',\n",
       " 'Стас Борецкий 0',\n",
       " 'Кеннедикт Мембербетч 7',\n",
       " 'Артур Пирожков 8',\n",
       " 'Элианора Андреева 5']"
      ]
     },
     "execution_count": 50,
     "metadata": {},
     "output_type": "execute_result"
    }
   ],
   "source": [
    "with open('input.txt') as file:\n",
    "    s = file.read()\n",
    "lines = s.split('\\n')[:-1]\n",
    "lines"
   ]
  },
  {
   "cell_type": "code",
   "execution_count": 51,
   "metadata": {
    "executionInfo": {
     "elapsed": 19,
     "status": "ok",
     "timestamp": 1653422716390,
     "user": {
      "displayName": "Ilya A",
      "userId": "17148912465935982955"
     },
     "user_tz": -180
    },
    "id": "ScCXna6Nm6pW",
    "scrolled": true
   },
   "outputs": [],
   "source": [
    "couter = defaultdict(lambda: 0)\n",
    "for line in lines:\n",
    "    grade = int(line.split()[-1])\n",
    "    if grade>=8:\n",
    "        couter['отлично'] += 1\n",
    "    elif grade>=6:\n",
    "        couter['хорошо'] += 1\n",
    "    elif grade>=4:\n",
    "        couter['удовлетворительно'] += 1\n",
    "    else:\n",
    "        couter['неудовлетворительно'] += 1"
   ]
  },
  {
   "cell_type": "code",
   "execution_count": 52,
   "metadata": {
    "colab": {
     "base_uri": "https://localhost:8080/"
    },
    "executionInfo": {
     "elapsed": 19,
     "status": "ok",
     "timestamp": 1653422716390,
     "user": {
      "displayName": "Ilya A",
      "userId": "17148912465935982955"
     },
     "user_tz": -180
    },
    "id": "EWURl9mFm6pW",
    "outputId": "1c818cfe-ca18-44dd-cdd8-8831ad9b647f"
   },
   "outputs": [
    {
     "name": "stdout",
     "output_type": "stream",
     "text": [
      "отлично 8\n",
      "хорошо 4\n",
      "удовлетворительно 4\n",
      "неудовлетворительно 5\n"
     ]
    }
   ],
   "source": [
    "grade_type_ordered = ['отлично', \n",
    " 'хорошо',\n",
    " 'удовлетворительно',\n",
    " 'неудовлетворительно']\n",
    "\n",
    "for grade_type in grade_type_ordered:\n",
    "    print(grade_type, couter[grade_type])"
   ]
  },
  {
   "cell_type": "markdown",
   "metadata": {
    "id": "d6oZ3UOM_M53"
   },
   "source": [
    "### Задача 6 (бух. учет на таверне)"
   ]
  },
  {
   "cell_type": "markdown",
   "metadata": {
    "id": "65NJ4xuj_Rp_"
   },
   "source": [
    "Хозяин таверны грустит, а всё потому, что ему опять приходится вручную считать, сколько ему должны клиенты, чтобы выставить им всем счёт. Помогите ему, оцифровав амбарную книгу и распечатав итоговую сумму по каждому клиенту. \n",
    "\n",
    "**Ввод**: <Имя клиента>, <сумма долга> … КОНЕЦ \n",
    "\n",
    "**Вывод**: <Имя клиента> всего <сумма долгов> мора. …\n",
    "\n",
    "\n",
    "**Ввод**: \n",
    "\n",
    "Венти, 500\n",
    "\n",
    "Розария, 700\n",
    "\n",
    "Венти, 300\n",
    "\n",
    "Венти, 200\n",
    "\n",
    "Кэйа, 500\n",
    "\n",
    "Розария, 300\n",
    "\n",
    "КОНЕЦ\n",
    "\n",
    "\n",
    "**Вывод**: \n",
    "\n",
    "Венти всего 1000 мора\n",
    "\n",
    "Розария всего 1000 мора \n",
    "\n",
    "Кэйа всего 500 мора"
   ]
  },
  {
   "cell_type": "code",
   "execution_count": 53,
   "metadata": {
    "colab": {
     "base_uri": "https://localhost:8080/"
    },
    "executionInfo": {
     "elapsed": 18,
     "status": "ok",
     "timestamp": 1653422716391,
     "user": {
      "displayName": "Ilya A",
      "userId": "17148912465935982955"
     },
     "user_tz": -180
    },
    "id": "7VkOVeZ3m6pW",
    "outputId": "6a45c41b-f01a-4ad8-d5a6-907ed9ea1627"
   },
   "outputs": [
    {
     "name": "stdout",
     "output_type": "stream",
     "text": [
      "Overwriting input.txt\n"
     ]
    }
   ],
   "source": [
    "%%writefile input.txt\n",
    "Венти, 500\n",
    "Розария, 700\n",
    "Венти, 300\n",
    "Венти, 200\n",
    "Кэйа, 500\n",
    "Розария, 300"
   ]
  },
  {
   "cell_type": "code",
   "execution_count": 54,
   "metadata": {
    "colab": {
     "base_uri": "https://localhost:8080/"
    },
    "executionInfo": {
     "elapsed": 17,
     "status": "ok",
     "timestamp": 1653422716391,
     "user": {
      "displayName": "Ilya A",
      "userId": "17148912465935982955"
     },
     "user_tz": -180
    },
    "id": "BhzV17yum6pX",
    "outputId": "bb8ebde4-87a3-470c-eb08-311d4dcd01ca"
   },
   "outputs": [
    {
     "data": {
      "text/plain": [
       "['Венти, 500', 'Розария, 700', 'Венти, 300', 'Венти, 200', 'Кэйа, 500']"
      ]
     },
     "execution_count": 54,
     "metadata": {},
     "output_type": "execute_result"
    }
   ],
   "source": [
    "with open('input.txt') as file:\n",
    "    s = file.read()\n",
    "lines = s.split('\\n')[:-1]\n",
    "\n",
    "lines"
   ]
  },
  {
   "cell_type": "code",
   "execution_count": 55,
   "metadata": {
    "colab": {
     "base_uri": "https://localhost:8080/"
    },
    "executionInfo": {
     "elapsed": 16,
     "status": "ok",
     "timestamp": 1653422716391,
     "user": {
      "displayName": "Ilya A",
      "userId": "17148912465935982955"
     },
     "user_tz": -180
    },
    "id": "MIifpZD_m6pX",
    "outputId": "6d711695-4e1d-493d-ae7c-3d5ef31ffd8c"
   },
   "outputs": [
    {
     "name": "stdout",
     "output_type": "stream",
     "text": [
      "Венти всего 1000 мора\n",
      "Розария всего 700 мора\n",
      "Кэйа всего 500 мора\n"
     ]
    }
   ],
   "source": [
    "total_money = defaultdict(lambda: 0)\n",
    "for line in lines:\n",
    "    name, money = line.split(', ')\n",
    "    total_money[name] += int(money)\n",
    "    \n",
    "for name in total_money:\n",
    "    print(f'{name} всего {total_money[name]} мора')"
   ]
  },
  {
   "cell_type": "markdown",
   "metadata": {
    "id": "w5gu75qyS_Xs"
   },
   "source": [
    "# Часть 2. **Вложенные структуры**"
   ]
  },
  {
   "cell_type": "markdown",
   "metadata": {
    "id": "isuY9eq0N_dn"
   },
   "source": [
    "## Примеры"
   ]
  },
  {
   "cell_type": "code",
   "execution_count": 56,
   "metadata": {
    "colab": {
     "base_uri": "https://localhost:8080/"
    },
    "executionInfo": {
     "elapsed": 15,
     "status": "ok",
     "timestamp": 1653422716391,
     "user": {
      "displayName": "Ilya A",
      "userId": "17148912465935982955"
     },
     "user_tz": -180
    },
    "id": "8ySvt43wS_Xs",
    "outputId": "16974886-2bcc-462f-bb6e-2a90420f7db6"
   },
   "outputs": [
    {
     "name": "stdout",
     "output_type": "stream",
     "text": [
      "Все кабинеты экзамена: {'102': {'Аня', 'Таня'}, '225': {'Дима', 'Катя'}, '404': {}, '500': {'Алёна', 'Настя'}}\n",
      "В кабинете №102 экзамен сдают: Аня, Таня.\n",
      "В кабинете №225 экзамен сдают: Дима, Катя.\n",
      "В кабинете №404 экзамен сдают: .\n",
      "В кабинете №500 экзамен сдают: Алёна, Настя.\n"
     ]
    }
   ],
   "source": [
    "exam = { \n",
    "    '102': {'Аня', 'Таня'},      \n",
    "    '225': {'Дима', 'Катя'},\n",
    "    '404': {},      \n",
    "    '500': {'Алёна', 'Настя'} #словарь множеств\n",
    "}\n",
    "print(f'Все кабинеты экзамена: {exam}')\n",
    "for room in exam:\n",
    "    print(f'В кабинете №{room} экзамен сдают: {\", \".join(exam[room])}.') "
   ]
  },
  {
   "cell_type": "code",
   "execution_count": 57,
   "metadata": {
    "colab": {
     "base_uri": "https://localhost:8080/"
    },
    "executionInfo": {
     "elapsed": 14,
     "status": "ok",
     "timestamp": 1653422716391,
     "user": {
      "displayName": "Ilya A",
      "userId": "17148912465935982955"
     },
     "user_tz": -180
    },
    "id": "R82_faSXS_Xt",
    "outputId": "7af092f9-d23b-418d-cb8c-2d7f1dae6e4f"
   },
   "outputs": [
    {
     "name": "stdout",
     "output_type": "stream",
     "text": [
      "Выготский написал ['Мышление и речь', 'Психология искусства']\n",
      "Выготский написал Психология искусства\n"
     ]
    }
   ],
   "source": [
    "books = { \n",
    "    'Норберт Винер': [ \n",
    "        'Кибернетика или управление и связь в животном и машине'\n",
    "    ],\n",
    "    'Лев Выготский': [\n",
    "        'Мышление и речь',\n",
    "        'Психология искусства'\n",
    "    ] #словарь списков\n",
    "}\n",
    "print(f'Выготский написал {books[\"Лев Выготский\"]}')\n",
    "print(f'Выготский написал {books[\"Лев Выготский\"][1]}')"
   ]
  },
  {
   "cell_type": "code",
   "execution_count": 58,
   "metadata": {
    "colab": {
     "base_uri": "https://localhost:8080/"
    },
    "executionInfo": {
     "elapsed": 12,
     "status": "ok",
     "timestamp": 1653422716391,
     "user": {
      "displayName": "Ilya A",
      "userId": "17148912465935982955"
     },
     "user_tz": -180
    },
    "id": "wofnPt0-S_Xt",
    "outputId": "4ff0297d-27a5-40eb-fe23-81e34912af2c"
   },
   "outputs": [
    {
     "name": "stdout",
     "output_type": "stream",
     "text": [
      "{'Норберт Винер': {'title': 'Кибернетика или управление и связь в животном и машине', 'year': 1958, 'publisher': 'Советское радио'}, 'Лев Выготский': {'title': 'Мышление и речь', 'year': 1999, 'publisher': 'Лабиринт'}}\n",
      "{'title': 'Мышление и речь', 'year': 1999, 'publisher': 'Лабиринт'}\n",
      "Лабиринт\n"
     ]
    }
   ],
   "source": [
    "books = {\n",
    "    'Норберт Винер': {\n",
    "        'title' : 'Кибернетика или управление и связь в животном и машине',\n",
    "        'year'  : 1958, \n",
    "        'publisher' : 'Советское радио'\n",
    "    },\n",
    "    'Лев Выготский': {'title': 'Мышление и речь',\n",
    "                      'year' : 1999,\n",
    "                      'publisher' : 'Лабиринт'} # словарь словарей\n",
    "}\n",
    "print(books)\n",
    "print(books['Лев Выготский'])\n",
    "print(books['Лев Выготский']['publisher'])"
   ]
  },
  {
   "cell_type": "markdown",
   "metadata": {
    "id": "JGXWH4yZS_Xt"
   },
   "source": [
    "## **Сортировки**"
   ]
  },
  {
   "cell_type": "code",
   "execution_count": 59,
   "metadata": {
    "colab": {
     "base_uri": "https://localhost:8080/"
    },
    "executionInfo": {
     "elapsed": 11,
     "status": "ok",
     "timestamp": 1653422716391,
     "user": {
      "displayName": "Ilya A",
      "userId": "17148912465935982955"
     },
     "user_tz": -180
    },
    "id": "hIWD08apS_Xt",
    "outputId": "3dbd213f-4cf6-4410-b546-9b2936eb84ed"
   },
   "outputs": [
    {
     "name": "stdout",
     "output_type": "stream",
     "text": [
      "[0, 1, 1.2, 2, 2.3, 8, 9, 18, 20]\n",
      "[20, 18, 9, 8, 2.3, 2, 1.2, 1, 0]\n"
     ]
    }
   ],
   "source": [
    "numbers = [8, 1, 2, 18, 9, 20, 1.2, 2.3, 0]\n",
    "\n",
    "print(sorted(numbers))\n",
    "print(sorted(numbers, reverse=True))"
   ]
  },
  {
   "cell_type": "code",
   "execution_count": 60,
   "metadata": {
    "colab": {
     "base_uri": "https://localhost:8080/"
    },
    "executionInfo": {
     "elapsed": 10,
     "status": "ok",
     "timestamp": 1653422716391,
     "user": {
      "displayName": "Ilya A",
      "userId": "17148912465935982955"
     },
     "user_tz": -180
    },
    "id": "oS4bSP-iS_Xt",
    "outputId": "91cac358-9d99-41f1-c75b-31b0c9e5c374"
   },
   "outputs": [
    {
     "name": "stdout",
     "output_type": "stream",
     "text": [
      "['Orange', 'apple', 'Апельсин', 'Яблоко', 'манго']\n",
      "['apple', 'Orange', 'Апельсин', 'манго', 'Яблоко']\n"
     ]
    }
   ],
   "source": [
    "fruits = ['apple', 'Яблоко', 'Апельсин', 'Orange', 'манго']\n",
    "\n",
    "print(sorted(fruits))\n",
    "print(sorted(fruits, key=str.lower))"
   ]
  },
  {
   "cell_type": "code",
   "execution_count": 61,
   "metadata": {
    "colab": {
     "base_uri": "https://localhost:8080/"
    },
    "executionInfo": {
     "elapsed": 8,
     "status": "ok",
     "timestamp": 1653422716391,
     "user": {
      "displayName": "Ilya A",
      "userId": "17148912465935982955"
     },
     "user_tz": -180
    },
    "id": "y7L-lLtQS_Xt",
    "outputId": "d7b236e4-1764-4a90-e3c5-344c2e3a377b"
   },
   "outputs": [
    {
     "name": "stdout",
     "output_type": "stream",
     "text": [
      "['party_1', 'party_2', 'party_3']\n",
      "[0.9, 0.8, 0.3]\n"
     ]
    }
   ],
   "source": [
    "info = {\n",
    "    'party_1': 0.8,\n",
    "    'party_2': 0.3,\n",
    "    'party_3': 0.9,\n",
    "}\n",
    "\n",
    "print(sorted(info))  \n",
    "print(sorted(info.values(),  reverse=True)) \n"
   ]
  },
  {
   "cell_type": "code",
   "execution_count": 62,
   "metadata": {
    "colab": {
     "base_uri": "https://localhost:8080/"
    },
    "executionInfo": {
     "elapsed": 8,
     "status": "ok",
     "timestamp": 1653422716392,
     "user": {
      "displayName": "Ilya A",
      "userId": "17148912465935982955"
     },
     "user_tz": -180
    },
    "id": "ZuaCysmkm6pZ",
    "outputId": "3c6395d8-3179-4dc7-ab66-85d0ce06f003"
   },
   "outputs": [
    {
     "name": "stdout",
     "output_type": "stream",
     "text": [
      "[('party_1', 0.8), ('party_2', 0.3), ('party_3', 0.9)]\n",
      "[('party_3', 0.9), ('party_1', 0.8), ('party_2', 0.3)]\n"
     ]
    }
   ],
   "source": [
    "# сортировка ключу\n",
    "print(sorted(info.items(), key = lambda x: x[0])) \n",
    "\n",
    "# сортировка по значению\n",
    "print(sorted(info.items(), key = lambda x: x[1],  reverse=True)) "
   ]
  },
  {
   "cell_type": "markdown",
   "metadata": {
    "id": "3tArmFPJS_Xt"
   },
   "source": [
    "### Задача 1 (оценки)\n",
    "\n",
    "Вводится список оценок студентов через пробел. <br>\n",
    "1. Выведите список оценок, отсротированный:   <br>\n",
    " a). по убыванию   <br>\n",
    " b). по возрастанию   <br>\n",
    "2. Выведите минимальную и максимальную оценку.   <br>"
   ]
  },
  {
   "cell_type": "code",
   "execution_count": 62,
   "metadata": {
    "executionInfo": {
     "elapsed": 7,
     "status": "ok",
     "timestamp": 1653422716392,
     "user": {
      "displayName": "Ilya A",
      "userId": "17148912465935982955"
     },
     "user_tz": -180
    },
    "id": "qTAHIG37poiQ"
   },
   "outputs": [],
   "source": []
  },
  {
   "cell_type": "markdown",
   "metadata": {
    "id": "Midw0WuTS_Xt"
   },
   "source": [
    "### **Задача 2** (снова оценки)"
   ]
  },
  {
   "cell_type": "markdown",
   "metadata": {
    "id": "XNReHcmvS_Xu"
   },
   "source": [
    "1. Вводится N - число студентов. Затем вводится N строк - фамилия студента и его оценка за экзамен через пробел. Создайте словарь, в котором ключами будет фамилия студента, значениями - оценка за экзамен. \n",
    "\n",
    "**Пример**:\n",
    "\n",
    "**Формат ввода:**  \n",
    "\n",
    "3    \n",
    "\n",
    "Иванов 10    <br>\n",
    "Петров 4  <br>\n",
    "Сидоров 8   <br>\n",
    "\n",
    "**Формат вывода:**\n",
    "\n",
    "['Иванов', 'Петров', 'Сидоров']    \n",
    "[('Иванов', 10), ('Сидоров', 8), ('Петров', 4)]   \n",
    "\n",
    "\n",
    "1.  Выведите фамилии студентов в алфавитном порядке.\n",
    "2.  Выведите ключи и значения словаря, отсортированные по оценкам студентов по убыванию.\n",
    "3. Найдите минимальную и максимальную оценку за экзамен.\n",
    "4. Выведите фамилии студентов, которые не сдали экзамен. Экзамен считается сданным, если получена оценка 4 или выше. Если все студенты сдали экзамен, выведите \"Ура, пересдач нет!\"\n"
   ]
  },
  {
   "cell_type": "code",
   "execution_count": 62,
   "metadata": {
    "executionInfo": {
     "elapsed": 7,
     "status": "ok",
     "timestamp": 1653422716392,
     "user": {
      "displayName": "Ilya A",
      "userId": "17148912465935982955"
     },
     "user_tz": -180
    },
    "id": "JzNltPH1LNCH"
   },
   "outputs": [],
   "source": []
  },
  {
   "cell_type": "markdown",
   "metadata": {
    "id": "2Ob7huh3S_Xu"
   },
   "source": [
    "### **Задача 3** (и опять оценки)"
   ]
  },
  {
   "cell_type": "markdown",
   "metadata": {
    "id": "mmYi6cPzS_Xu"
   },
   "source": [
    "Усложняем задачу 2. Теперь мы хотим знать оценки студентов по нескольким предметам. \n",
    "\n",
    "Вводится N - число записей. Затем вводится N строк. В каждой из них через пробел вводится имя студента, название предмета и оценка студента за экзамен по этому предмету.\n",
    "1. Создайте словарь, в котором ключами будет фамилия студента, значениями - словарь с его оценками за экзамен по предмету (во вложенном словаре предмет - ключ, оценка - значение)\n",
    "2. Для каждого студента выведите его минимальную и максимальную оценку\n",
    "\n",
    "\n",
    "**Пример**:\n",
    "\n",
    "**Формат ввода:**   \n",
    "\n",
    "8 <br>\n",
    " \n",
    "Иванов английский 7    <br>\n",
    "Сидоров программирование 6  <br>\n",
    "Астапов английский 9    <br>\n",
    "Петров программирование 4    <br>\n",
    "Иванов программирование 8   <br>\n",
    "Сидоров английский 10  <br>\n",
    "Сидоров немецкий 6  <br>\n",
    "Петров английский 10  <br>\n",
    "\n",
    "**Формат вывода:**   \n",
    "\n",
    "{'Иванов': \n",
    "    {'английский': 7, 'программирование': 8}, 'Сидоров': {'программирование': 6, 'английский': 10, 'немецкий': 6}, 'Астапов': {'английский': 9}, 'Петров': {'программирование': 4, 'английский': 10}}  \n",
    "Иванов 7 8   \n",
    "Сидоров 6 10  \n",
    "Астапов 9 9  \n",
    "Петров 4 10    "
   ]
  },
  {
   "cell_type": "code",
   "execution_count": 63,
   "metadata": {
    "executionInfo": {
     "elapsed": 7,
     "status": "ok",
     "timestamp": 1653422716392,
     "user": {
      "displayName": "Ilya A",
      "userId": "17148912465935982955"
     },
     "user_tz": -180
    },
    "id": "iidrdh_-LK0u"
   },
   "outputs": [],
   "source": [
    "answer_wow = {\n",
    "    'Иванов': {\n",
    "        'английский': 7, \n",
    "        'программирование': 8\n",
    "    }, \n",
    "    'Сидоров': {\n",
    "        'программирование': 6, \n",
    "        'английский': 10, \n",
    "        'немецкий': 6\n",
    "    }, \n",
    "    'Астапов': {\n",
    "        'английский': 9\n",
    "    }, \n",
    "    'Петров': {\n",
    "        'программирование': 4, \n",
    "        'английский': 10\n",
    "    }} \n",
    "\n",
    "\n"
   ]
  },
  {
   "cell_type": "code",
   "execution_count": 64,
   "metadata": {
    "colab": {
     "base_uri": "https://localhost:8080/"
    },
    "executionInfo": {
     "elapsed": 313,
     "status": "ok",
     "timestamp": 1653422716698,
     "user": {
      "displayName": "Ilya A",
      "userId": "17148912465935982955"
     },
     "user_tz": -180
    },
    "id": "InVAEhh7m6pa",
    "outputId": "63a33be0-57a3-4e18-a685-1ff9adb163f4"
   },
   "outputs": [
    {
     "data": {
      "text/plain": [
       "7"
      ]
     },
     "execution_count": 64,
     "metadata": {},
     "output_type": "execute_result"
    }
   ],
   "source": [
    "answer_wow['Иванов']['английский']"
   ]
  },
  {
   "cell_type": "code",
   "execution_count": 65,
   "metadata": {
    "colab": {
     "base_uri": "https://localhost:8080/"
    },
    "executionInfo": {
     "elapsed": 25,
     "status": "ok",
     "timestamp": 1653422716699,
     "user": {
      "displayName": "Ilya A",
      "userId": "17148912465935982955"
     },
     "user_tz": -180
    },
    "id": "YP_meGSQm6pa",
    "outputId": "de708509-ec3d-4e0d-e169-35a575104a37"
   },
   "outputs": [
    {
     "name": "stdout",
     "output_type": "stream",
     "text": [
      "Overwriting input.txt\n"
     ]
    }
   ],
   "source": [
    "%%writefile input.txt\n",
    "Иванов английский 7\n",
    "Сидоров программирование 6\n",
    "Астапов английский 9\n",
    "Петров программирование 4\n",
    "Иванов программирование 8\n",
    "Сидоров английский 10\n",
    "Сидоров немецкий 6\n",
    "Петров английский 10"
   ]
  },
  {
   "cell_type": "code",
   "execution_count": 66,
   "metadata": {
    "colab": {
     "base_uri": "https://localhost:8080/"
    },
    "executionInfo": {
     "elapsed": 23,
     "status": "ok",
     "timestamp": 1653422716699,
     "user": {
      "displayName": "Ilya A",
      "userId": "17148912465935982955"
     },
     "user_tz": -180
    },
    "id": "GTcCHTdzm6pb",
    "outputId": "680b5767-5469-40ad-a246-4ee05ab45145"
   },
   "outputs": [
    {
     "data": {
      "text/plain": [
       "['Иванов английский 7',\n",
       " 'Сидоров программирование 6',\n",
       " 'Астапов английский 9',\n",
       " 'Петров программирование 4',\n",
       " 'Иванов программирование 8',\n",
       " 'Сидоров английский 10',\n",
       " 'Сидоров немецкий 6']"
      ]
     },
     "execution_count": 66,
     "metadata": {},
     "output_type": "execute_result"
    }
   ],
   "source": [
    "with open('input.txt') as file:\n",
    "    s = file.read()\n",
    "lines = s.split('\\n')[:-1]\n",
    "\n",
    "lines"
   ]
  },
  {
   "cell_type": "code",
   "execution_count": 67,
   "metadata": {
    "executionInfo": {
     "elapsed": 21,
     "status": "ok",
     "timestamp": 1653422716699,
     "user": {
      "displayName": "Ilya A",
      "userId": "17148912465935982955"
     },
     "user_tz": -180
    },
    "id": "rJ2v_Ymrm6pc"
   },
   "outputs": [],
   "source": [
    "gradebook = defaultdict(lambda: {})"
   ]
  },
  {
   "cell_type": "code",
   "execution_count": 68,
   "metadata": {
    "executionInfo": {
     "elapsed": 20,
     "status": "ok",
     "timestamp": 1653422716699,
     "user": {
      "displayName": "Ilya A",
      "userId": "17148912465935982955"
     },
     "user_tz": -180
    },
    "id": "JfWgENNCm6pc"
   },
   "outputs": [],
   "source": [
    "gradebook['Иванов']['английский'] = 10"
   ]
  },
  {
   "cell_type": "code",
   "execution_count": 69,
   "metadata": {
    "colab": {
     "base_uri": "https://localhost:8080/"
    },
    "executionInfo": {
     "elapsed": 20,
     "status": "ok",
     "timestamp": 1653422716699,
     "user": {
      "displayName": "Ilya A",
      "userId": "17148912465935982955"
     },
     "user_tz": -180
    },
    "id": "A87doKcHm6pc",
    "outputId": "572b35a9-43d4-4b47-fa6e-e6588f0ca4e2"
   },
   "outputs": [
    {
     "data": {
      "text/plain": [
       "{'Иванов': {'английский': 10}}"
      ]
     },
     "execution_count": 69,
     "metadata": {},
     "output_type": "execute_result"
    }
   ],
   "source": [
    "dict(gradebook)"
   ]
  },
  {
   "cell_type": "code",
   "execution_count": 70,
   "metadata": {
    "executionInfo": {
     "elapsed": 19,
     "status": "ok",
     "timestamp": 1653422716700,
     "user": {
      "displayName": "Ilya A",
      "userId": "17148912465935982955"
     },
     "user_tz": -180
    },
    "id": "_SmRyDnDm6pd"
   },
   "outputs": [],
   "source": [
    "gradebook = defaultdict(lambda: {})\n",
    "for line in lines:\n",
    "    student, subject, grade = line.split()\n",
    "    gradebook[student][subject] = int(grade)"
   ]
  },
  {
   "cell_type": "code",
   "execution_count": 71,
   "metadata": {
    "colab": {
     "base_uri": "https://localhost:8080/"
    },
    "executionInfo": {
     "elapsed": 19,
     "status": "ok",
     "timestamp": 1653422716700,
     "user": {
      "displayName": "Ilya A",
      "userId": "17148912465935982955"
     },
     "user_tz": -180
    },
    "id": "eSv_MHNBm6pd",
    "outputId": "e24777bd-64fb-472c-8c10-3dc2e2f38a38"
   },
   "outputs": [
    {
     "data": {
      "text/plain": [
       "{'Астапов': {'английский': 9},\n",
       " 'Иванов': {'английский': 7, 'программирование': 8},\n",
       " 'Петров': {'программирование': 4},\n",
       " 'Сидоров': {'английский': 10, 'немецкий': 6, 'программирование': 6}}"
      ]
     },
     "execution_count": 71,
     "metadata": {},
     "output_type": "execute_result"
    }
   ],
   "source": [
    "dict(gradebook)"
   ]
  },
  {
   "cell_type": "code",
   "execution_count": 72,
   "metadata": {
    "colab": {
     "base_uri": "https://localhost:8080/"
    },
    "executionInfo": {
     "elapsed": 17,
     "status": "ok",
     "timestamp": 1653422716700,
     "user": {
      "displayName": "Ilya A",
      "userId": "17148912465935982955"
     },
     "user_tz": -180
    },
    "id": "JnTHV3Opm6pd",
    "outputId": "5434a117-2680-400c-ceeb-6e750d1951a9"
   },
   "outputs": [
    {
     "name": "stdout",
     "output_type": "stream",
     "text": [
      "Иванов\n",
      "английский 7\n",
      "программирование 8\n",
      "\n",
      "Сидоров\n",
      "программирование 6\n",
      "английский 10\n",
      "немецкий 6\n",
      "\n",
      "Астапов\n",
      "английский 9\n",
      "\n",
      "Петров\n",
      "программирование 4\n",
      "\n"
     ]
    }
   ],
   "source": [
    "for student in gradebook:\n",
    "    print(student)\n",
    "    # print(gradebook[student])\n",
    "    for subject in gradebook[student]:\n",
    "        print(subject, gradebook[student][subject])\n",
    "    print()"
   ]
  },
  {
   "cell_type": "code",
   "execution_count": 73,
   "metadata": {
    "colab": {
     "base_uri": "https://localhost:8080/"
    },
    "executionInfo": {
     "elapsed": 16,
     "status": "ok",
     "timestamp": 1653422716700,
     "user": {
      "displayName": "Ilya A",
      "userId": "17148912465935982955"
     },
     "user_tz": -180
    },
    "id": "KmrL5Aw8m6pd",
    "outputId": "df53725e-550a-4540-c9b6-627bce8273b5"
   },
   "outputs": [
    {
     "name": "stdout",
     "output_type": "stream",
     "text": [
      "Иванов 7 8\n",
      "Сидоров 6 10 6\n",
      "Астапов 9\n",
      "Петров 4\n"
     ]
    }
   ],
   "source": [
    "for student in gradebook:\n",
    "    print(student, *gradebook[student].values())\n",
    "    "
   ]
  },
  {
   "cell_type": "code",
   "execution_count": 74,
   "metadata": {
    "colab": {
     "base_uri": "https://localhost:8080/"
    },
    "executionInfo": {
     "elapsed": 14,
     "status": "ok",
     "timestamp": 1653422716700,
     "user": {
      "displayName": "Ilya A",
      "userId": "17148912465935982955"
     },
     "user_tz": -180
    },
    "id": "4AHxuRQzm6pd",
    "outputId": "5957adb0-3973-4c46-f8fe-268cad840b17"
   },
   "outputs": [
    {
     "name": "stdout",
     "output_type": "stream",
     "text": [
      "1 2 3\n",
      "1 2 3\n"
     ]
    }
   ],
   "source": [
    "print(' '.join(map(str,[1,2,3]))) # так не надо...\n",
    "print(*[1,2,3]) # используйте оператор распаковки"
   ]
  },
  {
   "cell_type": "code",
   "execution_count": 75,
   "metadata": {
    "colab": {
     "base_uri": "https://localhost:8080/"
    },
    "executionInfo": {
     "elapsed": 13,
     "status": "ok",
     "timestamp": 1653422716700,
     "user": {
      "displayName": "Ilya A",
      "userId": "17148912465935982955"
     },
     "user_tz": -180
    },
    "id": "Fx-NT5vlm6pe",
    "outputId": "16fd8a6d-e654-4793-dbc3-fd40f74bf6f2"
   },
   "outputs": [
    {
     "data": {
      "text/plain": [
       "{'Астапов': 9.0, 'Иванов': 7.5, 'Петров': 4.0, 'Сидоров': 7.333333333333333}"
      ]
     },
     "execution_count": 75,
     "metadata": {},
     "output_type": "execute_result"
    }
   ],
   "source": [
    "gpa = {}\n",
    "for student in gradebook:\n",
    "    grades = gradebook[student].values()\n",
    "    gpa[student] = sum(grades)/len(grades)\n",
    "\n",
    "gpa"
   ]
  },
  {
   "cell_type": "code",
   "execution_count": 76,
   "metadata": {
    "colab": {
     "base_uri": "https://localhost:8080/"
    },
    "executionInfo": {
     "elapsed": 12,
     "status": "ok",
     "timestamp": 1653422716700,
     "user": {
      "displayName": "Ilya A",
      "userId": "17148912465935982955"
     },
     "user_tz": -180
    },
    "id": "Qzzym77Qm6pe",
    "outputId": "d7745219-00e3-45b3-8eca-4b09be207692"
   },
   "outputs": [
    {
     "data": {
      "text/plain": [
       "9.0"
      ]
     },
     "execution_count": 76,
     "metadata": {},
     "output_type": "execute_result"
    }
   ],
   "source": [
    "gpa_max = max(gpa.values())\n",
    "gpa_max"
   ]
  },
  {
   "cell_type": "code",
   "execution_count": 77,
   "metadata": {
    "colab": {
     "base_uri": "https://localhost:8080/"
    },
    "executionInfo": {
     "elapsed": 11,
     "status": "ok",
     "timestamp": 1653422716700,
     "user": {
      "displayName": "Ilya A",
      "userId": "17148912465935982955"
     },
     "user_tz": -180
    },
    "id": "bZgqbBC7m6pe",
    "outputId": "7e31fef5-6a67-4692-a684-292076db785f"
   },
   "outputs": [
    {
     "name": "stdout",
     "output_type": "stream",
     "text": [
      "Астапов\n"
     ]
    }
   ],
   "source": [
    "for student in gpa:\n",
    "    if gpa[student]==gpa_max:\n",
    "        print(student)"
   ]
  },
  {
   "cell_type": "markdown",
   "metadata": {
    "id": "rKyzO7DGS_Xu"
   },
   "source": [
    "### **Задача 4** (еще больше оценок)"
   ]
  },
  {
   "cell_type": "markdown",
   "metadata": {
    "id": "U8Wsk4LmS_Xu"
   },
   "source": [
    "Усложняем задачу 3. Теперь мы хотим знать все оценки студентов, и на одну пару студент - предмет может быть больше одной записи.\n",
    "\n",
    "Вводится N - число записей. Затем вводится N строк. В каждой из них через пробел вводится имя студента, название предмета и одна из текущих оценов студента по этому предмету.\n",
    "1. Создайте словарь, в котором ключами будет фамилия студента, значениями - словарь с его оценками по предмету (во вложенном словаре предмет - ключ, список всех оценок - значение)\n",
    "\n",
    "**Пример**:\n",
    "\n",
    "**Формат ввода:**\n",
    "\n",
    "16 <br> \n",
    "Иванов английский 6  <br>\n",
    "Сидоров программирование 7  <br> \n",
    "Иванов экономика 10 <br>\n",
    "Иванов экономика 6  <br>\n",
    "Иванов английский 10  <br>\n",
    "Сидоров программирование 8  <br>\n",
    "Иванов английский 8  <br>\n",
    "Иванов английский 7  <br>\n",
    "Сидоров экономика 5  <br>\n",
    "Сидоров программирование 7  <br>\n",
    "Сидоров немецкий 9  <br>\n",
    "Петрова программирование 10  <br>\n",
    "Петрова английский 7  <br>\n",
    "Сидоров английский 5  <br>\n",
    "Петрова английский 9  <br>\n",
    "Петрова английский 6  <br>\n",
    "\n",
    "**Формат вывода:**\n",
    "\n",
    "{'Иванов': {'английский': [6, 10, 8, 7], 'экономика': [10, 6]}, 'Сидоров': {'программирование': [7, 8, 7], 'экономика': [5], 'немецкий': [9], 'английский': [5]}, 'Петрова': {'программирование': [10], 'английский': [7, 9, 6]}}\n",
    "\n",
    "2. Теперь для каждого студента выведите его минимальную и максимальную оценку по каждому предмету. Студентов и названия предметов для каждого студента выводите в алфавитном порядке.   <br>\n",
    "\n",
    "**Формат вывода:**\n",
    "\n",
    "Иванов    <br>\n",
    "английский 6 10    <br>\n",
    "экономика 6 10    <br>\n",
    "Петрова    <br>\n",
    "английский 6 9    <br>\n",
    "программирование 10 10    <br>\n",
    "Сидоров    <br>\n",
    "английский 5 5    <br>\n",
    "немецкий 9 9    <br>\n",
    "программирование 7 8    <br>\n",
    "экономика 5 5    <br>"
   ]
  },
  {
   "cell_type": "code",
   "execution_count": 77,
   "metadata": {
    "executionInfo": {
     "elapsed": 11,
     "status": "ok",
     "timestamp": 1653422716701,
     "user": {
      "displayName": "Ilya A",
      "userId": "17148912465935982955"
     },
     "user_tz": -180
    },
    "id": "fa_moZfdLJIp"
   },
   "outputs": [],
   "source": []
  },
  {
   "cell_type": "markdown",
   "metadata": {
    "id": "fgeWdLOLS_Xu"
   },
   "source": [
    "### **Задача 5** (количество ответов)\n",
    "\n",
    "На каждом семинаре студент может решить задачу и получить балл за семинар. Напишите программу, которая считает итоговое количество баллов у студента.\n",
    "Вводится N - число семинаров. Затем вводится N строк. Каждая строка содержит фамилии студентов через запятую, которые отвечали на семинаре.\n",
    "\n",
    "Выведите для каждого студента число его ответов. Студентов выводите в алфавитном порядке.\n",
    "\n",
    "**Формат ввода** :\n",
    "\n",
    "6 <br>\n",
    "Петрова,Иванов,Сидоров  <br>\n",
    "Беляков,Петрова <br>\n",
    "Астапов,Беляков,Иванов,Петрова  <br>\n",
    "Сидоров  <br>\n",
    "Астапов,Сидоров,Петрова  <br>\n",
    "Иванов  <br>\n",
    "\n",
    "**Формат вывода** :\n",
    "\n",
    "\n",
    "Астапов 2  <br>\n",
    "Беляков 2  <br>\n",
    "Иванов 3  <br>\n",
    "Петрова 4  <br>\n",
    "Сидоров 3  <br>"
   ]
  },
  {
   "cell_type": "code",
   "execution_count": 77,
   "metadata": {
    "executionInfo": {
     "elapsed": 10,
     "status": "ok",
     "timestamp": 1653422716701,
     "user": {
      "displayName": "Ilya A",
      "userId": "17148912465935982955"
     },
     "user_tz": -180
    },
    "id": "suZCdUnrLHiD"
   },
   "outputs": [],
   "source": []
  },
  {
   "cell_type": "markdown",
   "metadata": {
    "id": "fLpjHrp2OUNX"
   },
   "source": [
    "# Часть 3. Задачи"
   ]
  },
  {
   "cell_type": "markdown",
   "metadata": {
    "id": "3kXd56K6ra1H"
   },
   "source": [
    "### Задача 1 (перевод слова)\n",
    "\n",
    "Необходимо написать программу, которая ищет по данному русскому слову его перевод на заданный язык.\n",
    "\n",
    "Вам не нужно считывать новый словарь, используйте тот, что определен ниже. Ваша программа получает на вход строку с словами, разделенными пробелом: аббревиатуру языка и слово.\n",
    "  \n",
    "Ключами словаря являются двухбуквенные аббревиатуры языков (например \"EN\"), а значениями словари, где ключами являются слова на русском языке, а значениями — перевод на целевой язык (например, \"кошка\":\"cat\")\n",
    "Гарантируется, что ключ целевого языка есть в словаре. Искомого слова во вложенном словаре может не быть.  \n",
    "\n",
    "Программа должна обращаться к вложенному словарю выбранного языка и проверять, есть ли в словаре искомое слово. Если такое слово есть, то функция возвращает строку формата \"<ЯЗЫК>: <ИСКОМОЕ СЛОВО> <СЛОВО НА ЦЕЛЕВОМ ЯЗЫКЕ>\"\n",
    "Если слово не найдено, то функция возвращает строку 'Перевод отсутствует'\n",
    "\n",
    "**Пример ввода:**  \n",
    "'EN кошка'    \n",
    "**Вывод:**  \n",
    "'EN: кошка cat'  "
   ]
  },
  {
   "cell_type": "markdown",
   "metadata": {
    "id": "pphoPWK-2R1X"
   },
   "source": [
    "Прежде чем начинать решать, давайте разберемся как работать с разными элементами словаря словарей:"
   ]
  },
  {
   "cell_type": "code",
   "execution_count": 78,
   "metadata": {
    "executionInfo": {
     "elapsed": 10,
     "status": "ok",
     "timestamp": 1653422716701,
     "user": {
      "displayName": "Ilya A",
      "userId": "17148912465935982955"
     },
     "user_tz": -180
    },
    "id": "oWgovBxZ2gH8"
   },
   "outputs": [],
   "source": [
    "d = {'EN':{'яблоко':'apple', 'кошка':'cat', 'решение':'solution'}, \n",
    "     'DE':{'яблоко':'apfel', 'город':'stadt', 'кошка':'katze'},  \n",
    "     'FR':{'город':'ville', 'кошка':'chat', 'все':'tout'}}\n",
    "#обратиться к словарю под ключом DE\n",
    "#как на немецком (DE) будет \"яблоко\"\n",
    "#проверить есть ли слово \"все\" в немецком словаре"
   ]
  },
  {
   "cell_type": "markdown",
   "metadata": {
    "id": "s6xtLL91RHix"
   },
   "source": [
    "Ну и еще раз вспомним как обращаться к элементам списка:"
   ]
  },
  {
   "cell_type": "code",
   "execution_count": 79,
   "metadata": {
    "executionInfo": {
     "elapsed": 10,
     "status": "ok",
     "timestamp": 1653422716701,
     "user": {
      "displayName": "Ilya A",
      "userId": "17148912465935982955"
     },
     "user_tz": -180
    },
    "id": "8iHIHjzEROdu"
   },
   "outputs": [],
   "source": [
    "s = [\"EN\", \"яблоко\"]\n",
    "#обратится к языку\n",
    "#обратиться к слову, которое переводим"
   ]
  },
  {
   "cell_type": "markdown",
   "metadata": {
    "id": "NvYInl_UbKQ8"
   },
   "source": [
    "А если то что мы ищем хранится в списке (s), а где мы ищем словаре (d)"
   ]
  },
  {
   "cell_type": "code",
   "execution_count": 80,
   "metadata": {
    "executionInfo": {
     "elapsed": 10,
     "status": "ok",
     "timestamp": 1653422716701,
     "user": {
      "displayName": "Ilya A",
      "userId": "17148912465935982955"
     },
     "user_tz": -180
    },
    "id": "i8J81NkAbdqw"
   },
   "outputs": [],
   "source": [
    "d = {'EN':{'яблоко':'apple', 'кошка':'cat', 'решение':'solution'}, \n",
    "     'DE':{'яблоко':'apfel', 'город':'stadt', 'кошка':'katze'},  \n",
    "     'FR':{'город':'ville', 'кошка':'chat', 'все':'tout'}} \n",
    "s = [\"EN\", \"яблоко\"]\n",
    "#выведите весь словарь язык, которого опреден в списке\n",
    "#здесь найдите перевод в словаре по условиям которые заданы в списке "
   ]
  },
  {
   "cell_type": "code",
   "execution_count": 81,
   "metadata": {
    "executionInfo": {
     "elapsed": 10,
     "status": "ok",
     "timestamp": 1653422716701,
     "user": {
      "displayName": "Ilya A",
      "userId": "17148912465935982955"
     },
     "user_tz": -180
    },
    "id": "n9Gg_Zc_v_mC"
   },
   "outputs": [],
   "source": [
    "d = {'EN':{'яблоко':'apple', 'кошка':'cat', 'решение':'solution'}, \n",
    "     'DE':{'яблоко':'apfel', 'город':'stadt', 'кошка':'katze'},  \n",
    "     'FR':{'город':'ville', 'кошка':'chat', 'все':'tout'}}\n"
   ]
  },
  {
   "cell_type": "markdown",
   "metadata": {
    "id": "eUKX-hCqtuU4"
   },
   "source": [
    "### Задача 2 (средняя оценка по курсу)\n",
    "\n",
    "Необходимо написать программу, которая ищет среднюю оценку по курсу.\n",
    "  \n",
    "Вам не нужно считывать словарь со студентами и оценками, используйте тот, что определен ниже. Ваша программа получает на вход только число - номер предмета в списке оценок, по которому надо посчитать среднюю оценку.\n",
    "  \n",
    "Ключами словаря являются имена студентов, а значениями — списки оценок (целых чисел от 1 до 10). Гарантируется, что в словаре есть информация минимум об одном студенте. Гарантируется, что у всех студентов одинаковое количество оценок.  \n",
    "\n",
    "Целое число — порядковый номер предмета (индекс) в списке оценок каждого студента, среднюю оценку за который нужно посчитать.\n",
    "программа должна возвращать **вещественное число — среднюю оценку** по предмету среди всех студентов (сумму оценок по предмету разделить на количество студентов)."
   ]
  },
  {
   "cell_type": "markdown",
   "metadata": {
    "id": "pG4-pKDt22P_"
   },
   "source": [
    "Как обратиться к оценке Neville Longbottom по курсу под индексом 2?"
   ]
  },
  {
   "cell_type": "code",
   "execution_count": 82,
   "metadata": {
    "executionInfo": {
     "elapsed": 10,
     "status": "ok",
     "timestamp": 1653422716701,
     "user": {
      "displayName": "Ilya A",
      "userId": "17148912465935982955"
     },
     "user_tz": -180
    },
    "id": "B81oDooU3DNa"
   },
   "outputs": [],
   "source": [
    "d = {\n",
    "        'Harry Potter': [7, 6, 8, 9, 8],\n",
    "        'Draco Malfoy': [10, 10, 1, 4, 10],\n",
    "        'Hermione Granger': [10, 10, 9, 10, 10],\n",
    "        'Ron Weasley': [8, 5, 2, 9, 5],\n",
    "        'Ginny Weasley': [7, 7, 8, 2, 5],\n",
    "        'Neville Longbottom': [6, 10, 8, 7, 9],\n",
    "        'Loona Lovegood': [9, 10, 8, 8, 6]\n",
    "    }\n",
    "#ваш код здесь"
   ]
  },
  {
   "cell_type": "code",
   "execution_count": 83,
   "metadata": {
    "executionInfo": {
     "elapsed": 11,
     "status": "ok",
     "timestamp": 1653422716702,
     "user": {
      "displayName": "Ilya A",
      "userId": "17148912465935982955"
     },
     "user_tz": -180
    },
    "id": "9ANSnvnuR30l"
   },
   "outputs": [],
   "source": [
    "d = {\n",
    "        'Harry Potter': [7, 6, 8, 9, 8],\n",
    "        'Draco Malfoy': [10, 10, 1, 4, 10],\n",
    "        'Hermione Granger': [10, 10, 9, 10, 10],\n",
    "        'Ron Weasley': [8, 5, 2, 9, 5],\n",
    "        'Ginny Weasley': [7, 7, 8, 2, 5],\n",
    "        'Neville Longbottom': [6, 10, 8, 7, 9],\n",
    "        'Loona Lovegood': [9, 10, 8, 8, 6]\n",
    "    }\n"
   ]
  },
  {
   "cell_type": "markdown",
   "metadata": {
    "id": "cXd7Cs5mVTHs"
   },
   "source": [
    "### Задача 3 (ПГАС)\n",
    "\n",
    "Напишите программу, которая определяет, кто из студентов может претендовать на повышенную стипендию. На нее могут претендовать студенты со средним баллом не ниже 8 по 10-балльной шкале. \n",
    "\n",
    "В данной задаче не надо ничего считывать, словарь с оценками уже есть в ячейке ниже.\n",
    "Его ключами являются имена студентов, а значениями — списки оценок (целых чисел от 1 до 10). Гарантируется, что в словаре есть информация как минимум об одном студенте.\n",
    "программа должна возвращать **список имен студентов**, средний балл которых не ниже 8, *отсортированный в алфавитном порядке*.\n",
    "Если таких студентов нет — функция возвращает пустой список."
   ]
  },
  {
   "cell_type": "code",
   "execution_count": 84,
   "metadata": {
    "executionInfo": {
     "elapsed": 11,
     "status": "ok",
     "timestamp": 1653422716702,
     "user": {
      "displayName": "Ilya A",
      "userId": "17148912465935982955"
     },
     "user_tz": -180
    },
    "id": "BJQxtgvjXqNy"
   },
   "outputs": [],
   "source": [
    "d = {\n",
    "    'Harry Potter': [7, 6, 8, 6, 6],\n",
    "    'Hermione Granger': [10, 10, 9, 10, 10, 9, 9],\n",
    "    'Ron Weasley': [6, 5, 7, 4, 5],\n",
    "    'Ginny Weasley': [9, 7, 8]\n",
    "    }"
   ]
  },
  {
   "cell_type": "markdown",
   "metadata": {
    "id": "J7hJmwlvhjaM"
   },
   "source": [
    "### Задача 4 (мода)\n",
    "\n",
    "Напишите программу, которая находит *моду* в данном списке чисел. Мода - значение которое встречается чаще всего. Если таких значений несколько, то выведите наименьшее из них. Сам список считывать не надо, он уже определен ниже.\n",
    "  \n",
    "Данную задачу можно решить следующим способом:  \n",
    "1) Создайте словарь в котором ключем будет число из списка, а значением будет количество раз, когда оно встречалось.  \n",
    "2) Отсортируйте этот словарь по ключу по возрастанию и выведите **наименьший из ключей**, который встречается чаще всего в списке."
   ]
  },
  {
   "cell_type": "code",
   "execution_count": 85,
   "metadata": {
    "executionInfo": {
     "elapsed": 11,
     "status": "ok",
     "timestamp": 1653422716702,
     "user": {
      "displayName": "Ilya A",
      "userId": "17148912465935982955"
     },
     "user_tz": -180
    },
    "id": "TbpTsJmoiHN4"
   },
   "outputs": [],
   "source": [
    "l = [1, 1, -4.7, 9, 3, 0, 0, -5, 8, 3, 3, 0, -4.7, -4.7]"
   ]
  },
  {
   "cell_type": "markdown",
   "metadata": {
    "id": "0oB1BOKbjg7y"
   },
   "source": [
    "### Задача 5 (курьер)\n",
    "\n",
    "Руководитель службы доставки хочет найти лучших курьеров среди своих подчинённых — курьера с самой высокой средней оценкой от клиентов.\n",
    "\n",
    "По результатам каждой доставки клиенты ставили курьерам оценки, и у руководителя есть записи о результатах работы каждого курьера по шкале от 1 до 5, где 1 — худшая доставка, 5 — лучшая.\n",
    "\n",
    "Помогите руководителю, прочитав записи о результатах доставки и найдя лучшего курьера в компании.\n",
    "\n",
    "В данной задаче не нужно ничего вводить, готовый список курьеров и их оценок есть после условия.\n",
    "\n",
    "ФОРМАТ ВЫВОДА\n",
    "\n",
    "Строка с именем лучшего курьера, его средним баллом и списком всех выставленных ему оценок.\n",
    "\n",
    "Имя отделено от среднего балла запятой и пробелом, средний балл отделён от списка оценок двоеточием с пробелом. \n",
    "\n",
    "Оценки в списке оценок выводятся через запятую и пробел. \n",
    "\n",
    "В конце строки стоит точка.\n",
    "\n",
    "Ответ должен быть следующим:  \n",
    "Сэм, 4.75: 5, 4, 5, 5.\n"
   ]
  },
  {
   "cell_type": "code",
   "execution_count": 86,
   "metadata": {
    "colab": {
     "base_uri": "https://localhost:8080/",
     "height": 35
    },
    "executionInfo": {
     "elapsed": 10,
     "status": "ok",
     "timestamp": 1653422716702,
     "user": {
      "displayName": "Ilya A",
      "userId": "17148912465935982955"
     },
     "user_tz": -180
    },
    "id": "8pTmYqOYMkBA",
    "outputId": "109af0f0-2182-4b5b-9c93-d215e8af8f06"
   },
   "outputs": [
    {
     "data": {
      "application/vnd.google.colaboratory.intrinsic+json": {
       "type": "string"
      },
      "text/plain": [
       "'Отец'"
      ]
     },
     "execution_count": 86,
     "metadata": {},
     "output_type": "execute_result"
    }
   ],
   "source": [
    "#напоминаю как искать по значениям\n",
    "d = {'Мама': 'Юля', 'Отец': 'Олег'}\n",
    "list(d.keys())[list(d.values()).index('Олег')]"
   ]
  },
  {
   "cell_type": "code",
   "execution_count": 87,
   "metadata": {
    "executionInfo": {
     "elapsed": 9,
     "status": "ok",
     "timestamp": 1653422716702,
     "user": {
      "displayName": "Ilya A",
      "userId": "17148912465935982955"
     },
     "user_tz": -180
    },
    "id": "jvNDRs3DnEt0"
   },
   "outputs": [],
   "source": [
    "l = [\"Сэм, 5\", \"Сэм, 4\", \"Лиза, 3\", \"Клифф, 1\", \"Лиза, 4\", \"Клифф, 2\",\n",
    "     \"Сэм, 5\", \"Клифф, 1\", \"Лиза, 3\", \"Сэм, 5\", \"Лиза, 5\", \"Клифф, 1\"]"
   ]
  },
  {
   "cell_type": "markdown",
   "metadata": {
    "id": "5RCwjFlc7GWq"
   },
   "source": [
    "### Задача 6 (программы)\n",
    "\n",
    "Организаторы студенческой конференции подсчитывают статистику. Для каждого участника известна следующая информация: имя и фамилия, на какой секции он или она выступает и на какой образовательной программе обучается. Помогите организаторам конференции определить, студенты каких образовательных программ присутствовали на конкретных секциях.\n",
    "\n",
    "ФОРМАТ ВВОДА  \n",
    "Записи об участниках секций в следующем формате: <имя и фамилия студента>;<название секции>;<название образовательной программы>. Данные могут содержать любые символы кроме точки с запятой, которая является разделителем. Каждая запись вводится с новой строки.\n",
    "Когда записи заканчиваются, на отдельной строке вводится слово \"КОНЕЦ\".\n",
    "Далее на новой строке вводится название секции.\n",
    "Гарантируется, что в работе секции участвовал как минимум один студент.\n",
    "  \n",
    "ФОРМАТ ВЫВОДА  \n",
    "Перечень образовательных программ, студенты которых участвовали в работе секции. Выводятся только уникальные образовательные программы в алфавитном порядке.\n",
    "Перечень разделен запятой с пробелом."
   ]
  },
  {
   "cell_type": "code",
   "execution_count": 87,
   "metadata": {
    "executionInfo": {
     "elapsed": 9,
     "status": "ok",
     "timestamp": 1653422716702,
     "user": {
      "displayName": "Ilya A",
      "userId": "17148912465935982955"
     },
     "user_tz": -180
    },
    "id": "iMkDcwVkQMZN"
   },
   "outputs": [],
   "source": []
  }
 ],
 "metadata": {
  "colab": {
   "collapsed_sections": [],
   "name": "sem06_219_2110_set_dict_problem_solutions.ipynb",
   "provenance": [],
   "toc_visible": true
  },
  "kernelspec": {
   "display_name": "Python 3 (ipykernel)",
   "language": "python",
   "name": "python3"
  },
  "language_info": {
   "codemirror_mode": {
    "name": "ipython",
    "version": 3
   },
   "file_extension": ".py",
   "mimetype": "text/x-python",
   "name": "python",
   "nbconvert_exporter": "python",
   "pygments_lexer": "ipython3",
   "version": "3.10.4"
  },
  "toc": {
   "base_numbering": 1,
   "nav_menu": {},
   "number_sections": false,
   "sideBar": true,
   "skip_h1_title": false,
   "title_cell": "Table of Contents",
   "title_sidebar": "Contents",
   "toc_cell": true,
   "toc_position": {
    "height": "calc(100% - 180px)",
    "left": "10px",
    "top": "150px",
    "width": "230.4px"
   },
   "toc_section_display": true,
   "toc_window_display": true
  }
 },
 "nbformat": 4,
 "nbformat_minor": 1
}
