{
 "cells": [
  {
   "cell_type": "markdown",
   "id": "ad99dbad",
   "metadata": {
    "toc": true
   },
   "source": [
    "<h1>Table of Contents<span class=\"tocSkip\"></span></h1>\n",
    "<div class=\"toc\"><ul class=\"toc-item\"><li><span><a href=\"#Задачи-с-НЭ\" data-toc-modified-id=\"Задачи-с-НЭ-1\">Задачи с НЭ</a></span><ul class=\"toc-item\"><li><span><a href=\"#16\" data-toc-modified-id=\"16-1.1\">16</a></span><ul class=\"toc-item\"><li><span><a href=\"#пример-2\" data-toc-modified-id=\"пример-2-1.1.1\">пример 2</a></span></li><li><span><a href=\"#пример-3\" data-toc-modified-id=\"пример-3-1.1.2\">пример 3</a></span></li></ul></li><li><span><a href=\"#17\" data-toc-modified-id=\"17-1.2\">17</a></span><ul class=\"toc-item\"><li><span><a href=\"#пример-2\" data-toc-modified-id=\"пример-2-1.2.1\">пример 2</a></span></li><li><span><a href=\"#пример-3\" data-toc-modified-id=\"пример-3-1.2.2\">пример 3</a></span></li></ul></li><li><span><a href=\"#18\" data-toc-modified-id=\"18-1.3\">18</a></span><ul class=\"toc-item\"><li><span><a href=\"#пример-1\" data-toc-modified-id=\"пример-1-1.3.1\">пример 1</a></span></li><li><span><a href=\"#пример-2\" data-toc-modified-id=\"пример-2-1.3.2\">пример 2</a></span></li><li><span><a href=\"#пример-3\" data-toc-modified-id=\"пример-3-1.3.3\">пример 3</a></span></li></ul></li></ul></li><li><span><a href=\"#Работа-с-файлами-и-папками\" data-toc-modified-id=\"Работа-с-файлами-и-папками-2\">Работа с файлами и папками</a></span><ul class=\"toc-item\"><li><span><a href=\"#csv/tsv-и-пример-с-оценками\" data-toc-modified-id=\"csv/tsv-и-пример-с-оценками-2.1\">csv/tsv и пример с оценками</a></span></li><li><span><a href=\"#json\" data-toc-modified-id=\"json-2.2\">json</a></span></li><li><span><a href=\"#os\" data-toc-modified-id=\"os-2.3\">os</a></span></li><li><span><a href=\"#zip-архивы-и-папки-в-папках\" data-toc-modified-id=\"zip-архивы-и-папки-в-папках-2.4\">zip-архивы и папки в папках</a></span></li></ul></li></ul></div>"
   ]
  },
  {
   "cell_type": "markdown",
   "id": "5d9edfd1",
   "metadata": {},
   "source": [
    "# Задачи с НЭ"
   ]
  },
  {
   "cell_type": "markdown",
   "id": "d3e07538",
   "metadata": {},
   "source": [
    "## 16"
   ]
  },
  {
   "cell_type": "markdown",
   "id": "23a1a089",
   "metadata": {},
   "source": [
    "### пример 2"
   ]
  },
  {
   "cell_type": "code",
   "execution_count": 1,
   "id": "7c3e634d",
   "metadata": {},
   "outputs": [],
   "source": [
    "subject_number, info = 3, {\n",
    "    'Harry Potter': [7, 6, 8, 9, 8],\n",
    "    'Draco Malfoy': [10, 10, 1, 4, 10],\n",
    "    'Hermione Granger': [10, 10, 9, 10, 10],\n",
    "    'Ron Weasley': [8, 5, 2, 9, 5],\n",
    "    'Ginny Weasley': [7, 7, 8, 2, 5],\n",
    "    'Neville Longbottom': [6, 10, 8, 7, 9],\n",
    "    'Loona Lovegood': [9, 10, 8, 8, 9]\n",
    "}"
   ]
  },
  {
   "cell_type": "code",
   "execution_count": 2,
   "id": "e6b75d9c",
   "metadata": {},
   "outputs": [],
   "source": [
    "def get_average(subject_number, info):\n",
    "    a = []\n",
    "    for name in info:\n",
    "        a.append(info[name][subject_number])\n",
    "    return sum(a)/len(a)"
   ]
  },
  {
   "cell_type": "code",
   "execution_count": 3,
   "id": "27285c8b",
   "metadata": {},
   "outputs": [
    {
     "data": {
      "text/plain": [
       "7.0"
      ]
     },
     "execution_count": 3,
     "metadata": {},
     "output_type": "execute_result"
    }
   ],
   "source": [
    "get_average(subject_number, info)"
   ]
  },
  {
   "cell_type": "markdown",
   "id": "ea404200",
   "metadata": {},
   "source": [
    "### пример 3"
   ]
  },
  {
   "cell_type": "code",
   "execution_count": 4,
   "id": "e2623a1b",
   "metadata": {},
   "outputs": [],
   "source": [
    "target_lang, word, dict_ = 'EN', 'кошка',{ \n",
    "    'EN':{'яблоко':'apple', 'кошка':'cat', 'решение':'solution'}, \n",
    "    'DE':{'яблоко':'apfel', 'город':'stadt', 'кошка':'katze'}, \n",
    "    'FR':{'город':'ville', 'кошка':'chat', 'все':'tout'}}"
   ]
  },
  {
   "cell_type": "code",
   "execution_count": 5,
   "id": "ec827817",
   "metadata": {},
   "outputs": [],
   "source": [
    "def translation(target_lang, word, dict_):\n",
    "    if (target_lang in dict_) and (word in dict_[target_lang]):\n",
    "        translation = dict_[target_lang][word]\n",
    "        return f'{target_lang}: {word} {translation}'\n",
    "    else:\n",
    "        return 'Перевод отсутствует'"
   ]
  },
  {
   "cell_type": "code",
   "execution_count": 6,
   "id": "1b9bac08",
   "metadata": {},
   "outputs": [
    {
     "data": {
      "text/plain": [
       "'EN: кошка cat'"
      ]
     },
     "execution_count": 6,
     "metadata": {},
     "output_type": "execute_result"
    }
   ],
   "source": [
    "translation(target_lang, word, dict_)"
   ]
  },
  {
   "cell_type": "markdown",
   "id": "88e862d6",
   "metadata": {},
   "source": [
    "## 17"
   ]
  },
  {
   "cell_type": "markdown",
   "id": "70b323d7",
   "metadata": {},
   "source": [
    "### пример 2"
   ]
  },
  {
   "cell_type": "code",
   "execution_count": 14,
   "id": "ccef6673",
   "metadata": {},
   "outputs": [],
   "source": [
    "s ='''\n",
    "Анна Иванова;Защита от темных искусств;Политология\n",
    "Олег Ли;Зельеваренье;МИРЭК\n",
    "Александр Романоский;Защита от темных искусств;Политология\n",
    "Аглафира Парфенова;Защита от темных искусств;Журналистика\n",
    "Юко Хонда;Зельеваренье;Компьютерные науки\n",
    "КОНЕЦ\n",
    "Защита от темных искусств\n",
    "'''"
   ]
  },
  {
   "cell_type": "code",
   "execution_count": 15,
   "id": "d20cbc00",
   "metadata": {},
   "outputs": [
    {
     "name": "stdout",
     "output_type": "stream",
     "text": [
      "Анна Иванова;Защита от темных искусств;Политология\n",
      "Олег Ли;Зельеваренье;МИРЭК\n",
      "Александр Романоский;Защита от темных искусств;Политология\n",
      "КОНЕЦ\n"
     ]
    }
   ],
   "source": [
    "inp = input()\n",
    "d = {}\n",
    "# проверка ключа через if-else\n",
    "while inp!='КОНЕЦ':\n",
    "    name, section, program = inp.split(';')\n",
    "    if section not in d:\n",
    "        d[section] = {program}\n",
    "    else:\n",
    "        d[section].add(program)\n",
    "    inp = input()"
   ]
  },
  {
   "cell_type": "code",
   "execution_count": 9,
   "id": "5ed9476d",
   "metadata": {},
   "outputs": [
    {
     "data": {
      "text/plain": [
       "{'Защита от темных искусств': {'Журналистика', 'Политология'},\n",
       " 'Зельеваренье': {'Компьютерные науки', 'МИРЭК'}}"
      ]
     },
     "execution_count": 9,
     "metadata": {},
     "output_type": "execute_result"
    }
   ],
   "source": [
    "d"
   ]
  },
  {
   "cell_type": "code",
   "execution_count": 11,
   "id": "67ffada0",
   "metadata": {},
   "outputs": [
    {
     "name": "stdout",
     "output_type": "stream",
     "text": [
      "Анна Иванова;Защита от темных искусств;Политология\n",
      "Олег Ли;Зельеваренье;МИРЭК\n",
      "Александр Романоский;Защита от темных искусств;Политология\n",
      "КОНЕЦ\n"
     ]
    }
   ],
   "source": [
    "from collections import defaultdict\n",
    "inp = input()\n",
    "d = defaultdict(lambda: set())\n",
    "# использование defaultdict\n",
    "while inp!='КОНЕЦ':\n",
    "    name, section, program = inp.split(';')\n",
    "    d[section].add(program)\n",
    "    inp = input()"
   ]
  },
  {
   "cell_type": "code",
   "execution_count": 12,
   "id": "45d30e07",
   "metadata": {},
   "outputs": [
    {
     "data": {
      "text/plain": [
       "{'Защита от темных искусств': {'Политология'}, 'Зельеваренье': {'МИРЭК'}}"
      ]
     },
     "execution_count": 12,
     "metadata": {},
     "output_type": "execute_result"
    }
   ],
   "source": [
    "dict(d)"
   ]
  },
  {
   "cell_type": "code",
   "execution_count": 16,
   "id": "cb2c6b5f",
   "metadata": {},
   "outputs": [
    {
     "name": "stdout",
     "output_type": "stream",
     "text": [
      "Анна Иванова;Защита от темных искусств;Политология\n",
      "Олег Ли;Зельеваренье;МИРЭК\n",
      "Александр Романоский;Защита от темных искусств;Политология\n",
      "КОНЕЦ\n"
     ]
    }
   ],
   "source": [
    "inp = input()\n",
    "d = {}\n",
    "# использование метода get\n",
    "while inp!='КОНЕЦ':\n",
    "    name, section, program = inp.split(';')\n",
    "    now = d.get(section, set())\n",
    "    now.add(program)\n",
    "    d[section] = now\n",
    "    inp = input()"
   ]
  },
  {
   "cell_type": "code",
   "execution_count": 17,
   "id": "de1d907c",
   "metadata": {},
   "outputs": [
    {
     "name": "stdout",
     "output_type": "stream",
     "text": [
      "Защита от темных искусств\n",
      "Политология\n"
     ]
    }
   ],
   "source": [
    "target_section = input()\n",
    "print(*sorted(d[target_section]), sep=', ')"
   ]
  },
  {
   "cell_type": "markdown",
   "id": "0c9aeb20",
   "metadata": {},
   "source": [
    "### пример 3"
   ]
  },
  {
   "cell_type": "code",
   "execution_count": 19,
   "id": "20c0fcd2",
   "metadata": {},
   "outputs": [],
   "source": [
    "s='''\n",
    "2 5325\n",
    "4 5325\n",
    "15 5235\n",
    "5 3252\n",
    "9 21155\n",
    "10 2421\n",
    "10 2421\n",
    "10 2421\n",
    "0\n",
    "5\n",
    "'''"
   ]
  },
  {
   "cell_type": "code",
   "execution_count": 21,
   "id": "7a6ff1c6",
   "metadata": {},
   "outputs": [
    {
     "name": "stdout",
     "output_type": "stream",
     "text": [
      "1 1\n",
      "2 2\n",
      "3 3\n",
      "0\n"
     ]
    }
   ],
   "source": [
    "inp = input()\n",
    "d = {}\n",
    "while inp!='0':\n",
    "    day, money = map(int,inp.split())\n",
    "    d[day] = d.get(day, 0) + money\n",
    "    # d[day] += money\n",
    "    inp = input()\n",
    "    "
   ]
  },
  {
   "cell_type": "code",
   "execution_count": 22,
   "id": "0f454750",
   "metadata": {},
   "outputs": [
    {
     "name": "stdout",
     "output_type": "stream",
     "text": [
      "2\n",
      "3\n"
     ]
    }
   ],
   "source": [
    "last_day = int(input())\n",
    "sum_ = 0\n",
    "for day in d:\n",
    "    if day<=last_day:\n",
    "        sum_ += d[day]\n",
    "print(sum_)\n"
   ]
  },
  {
   "cell_type": "code",
   "execution_count": 23,
   "id": "685c2960",
   "metadata": {},
   "outputs": [
    {
     "name": "stdout",
     "output_type": "stream",
     "text": [
      "3\n"
     ]
    }
   ],
   "source": [
    "# то же самое через списоковое выражение\n",
    "print(sum([d[day] for day in d if day<=last_day]))"
   ]
  },
  {
   "cell_type": "markdown",
   "id": "9b013d07",
   "metadata": {},
   "source": [
    "## 18"
   ]
  },
  {
   "cell_type": "markdown",
   "id": "e4139830",
   "metadata": {},
   "source": [
    "### пример 1"
   ]
  },
  {
   "cell_type": "code",
   "execution_count": 24,
   "id": "5d173554",
   "metadata": {},
   "outputs": [],
   "source": [
    "import os"
   ]
  },
  {
   "cell_type": "code",
   "execution_count": 25,
   "id": "ce7a4694",
   "metadata": {},
   "outputs": [
    {
     "data": {
      "text/plain": [
       "'/Users/ilya/Downloads/untitled folder'"
      ]
     },
     "execution_count": 25,
     "metadata": {},
     "output_type": "execute_result"
    }
   ],
   "source": [
    "os.getcwd()"
   ]
  },
  {
   "cell_type": "code",
   "execution_count": 26,
   "id": "80e7f4f3",
   "metadata": {},
   "outputs": [
    {
     "data": {
      "text/plain": [
       "['big_folder.zip',\n",
       " '.DS_Store',\n",
       " 'txt_files',\n",
       " 'input.json',\n",
       " 'skating.txt',\n",
       " 'results.txt',\n",
       " 'qwe.txt',\n",
       " '.ipynb_checkpoints',\n",
       " 'data',\n",
       " 'big_folder',\n",
       " 'sem08_219.ipynb']"
      ]
     },
     "execution_count": 26,
     "metadata": {},
     "output_type": "execute_result"
    }
   ],
   "source": [
    "os.listdir()"
   ]
  },
  {
   "cell_type": "code",
   "execution_count": 28,
   "id": "bfc91ecd",
   "metadata": {},
   "outputs": [
    {
     "name": "stdout",
     "output_type": "stream",
     "text": [
      "@Simone_Biles That's nice of him to hold on and help you keep your balance :) Face with tears of joy\r\n",
      "Thank you to UK gymnastics director of operations @amyycoylee for hosting the team with a Thanksgiving potluck! Poultry legCroissantEar of maize\r\n",
      "Some current and future All-Americans taking in the @UCLAFootball game. Smiling face with sunglasses\r\n",
      "A skating bucket list item for me this morning! Edge class with Tracy Wilson and \r\n",
      "@jasonbskates ! It was as amazing as you can imagine!\r\n",
      "Lets flippin go… @Simone_Biles collection starts next Tuesday 11/16\r\n",
      "The @Simone_Biles High Score Collection drops next week! Five iconic moments from her career, hand chosen by Simone herself.\r\n",
      "i can’t believe it’s already over! major shout out to @Simone_Biles and a huge shout out to all of you for coming out and supporting! \r\n",
      "Huge thank you to Olympic figure skating medalist @jasonbskates\r\n",
      "We Eyes you, @jasonbskates ! Fire\r\n",
      "How was your weekend @amyycoylee ? Cat face with wry smile"
     ]
    }
   ],
   "source": [
    "!cat 'data/data.txt'"
   ]
  },
  {
   "cell_type": "code",
   "execution_count": 29,
   "id": "cf1ad589",
   "metadata": {},
   "outputs": [],
   "source": [
    "with open('data/data.txt') as file:\n",
    "    s = file.read()"
   ]
  },
  {
   "cell_type": "code",
   "execution_count": 30,
   "id": "624841ff",
   "metadata": {},
   "outputs": [],
   "source": [
    "text = '. '.join(s.split('\\n'))\n",
    "text = text.replace('.','').replace(',','').replace('!','').replace('?','')"
   ]
  },
  {
   "cell_type": "code",
   "execution_count": 31,
   "id": "877368d2",
   "metadata": {},
   "outputs": [],
   "source": [
    "usernames = {}\n",
    "for word in text.split():\n",
    "    if word[0] == '@':\n",
    "        usernames[word] = usernames.get(word, 0) + 1"
   ]
  },
  {
   "cell_type": "code",
   "execution_count": 32,
   "id": "5f9ec6a1",
   "metadata": {},
   "outputs": [
    {
     "data": {
      "text/plain": [
       "[('a', 2), ('b', 2), ('a', 1)]"
      ]
     },
     "execution_count": 32,
     "metadata": {},
     "output_type": "execute_result"
    }
   ],
   "source": [
    "# сложные сортировки\n",
    "# осознайте это\n",
    "ex = [\n",
    "    ('a',1),\n",
    "    ('b',2),\n",
    "    ('a',2)\n",
    "]\n",
    "sorted(ex, key=lambda x: (-x[1], x[0]))"
   ]
  },
  {
   "cell_type": "code",
   "execution_count": 33,
   "id": "99268835",
   "metadata": {},
   "outputs": [
    {
     "data": {
      "text/plain": [
       "[('@Simone_Biles', 4),\n",
       " ('@jasonbskates', 3),\n",
       " ('@amyycoylee', 2),\n",
       " ('@UCLAFootball', 1)]"
      ]
     },
     "execution_count": 33,
     "metadata": {},
     "output_type": "execute_result"
    }
   ],
   "source": [
    "ans = sorted(usernames.items(), key=lambda x: (-x[1], x[0]))\n",
    "ans"
   ]
  },
  {
   "cell_type": "code",
   "execution_count": 34,
   "id": "e9df8adb",
   "metadata": {},
   "outputs": [
    {
     "data": {
      "text/plain": [
       "[('@Simone_Biles', 4),\n",
       " ('@jasonbskates', 3),\n",
       " ('@amyycoylee', 2),\n",
       " ('@UCLAFootball', 1)]"
      ]
     },
     "execution_count": 34,
     "metadata": {},
     "output_type": "execute_result"
    }
   ],
   "source": [
    "ans = sorted(usernames.items(), key=lambda x: x[1], reverse=True)\n",
    "ans"
   ]
  },
  {
   "cell_type": "code",
   "execution_count": 35,
   "id": "9998b37b",
   "metadata": {},
   "outputs": [],
   "source": [
    "# r - открыли файл на чтение (по дефолту открываем так)\n",
    "# w - открыли файл на запись информации\n",
    "with open('users_.txt', mode='w') as file:\n",
    "    for tag, count in ans:\n",
    "        # print(tag, count)\n",
    "        print(f'пользователь: {tag}, упоминаний: {count}', file=file)"
   ]
  },
  {
   "cell_type": "code",
   "execution_count": 36,
   "id": "99404b98",
   "metadata": {},
   "outputs": [
    {
     "name": "stdout",
     "output_type": "stream",
     "text": [
      "пользователь: @Simone_Biles, упоминаний: 4\r\n",
      "пользователь: @jasonbskates, упоминаний: 3\r\n",
      "пользователь: @amyycoylee, упоминаний: 2\r\n",
      "пользователь: @UCLAFootball, упоминаний: 1\r\n"
     ]
    }
   ],
   "source": [
    "!cat 'users_.txt'"
   ]
  },
  {
   "cell_type": "code",
   "execution_count": 38,
   "id": "a815d913",
   "metadata": {},
   "outputs": [],
   "source": [
    "# итоговое решение\n",
    "with open('data/data.txt') as file:\n",
    "    s = file.read()\n",
    "    \n",
    "text = '. '.join(s.split('\\n'))\n",
    "text = text.replace('.','').replace(',','').replace('!','').replace('?','')\n",
    "\n",
    "usernames = {}\n",
    "for word in text.split():\n",
    "    if word[0] == '@':\n",
    "        usernames[word] = usernames.get(word, 0) + 1\n",
    "        \n",
    "ans = sorted(usernames.items(), key=lambda x: (-x[1], x[0]))\n",
    "\n",
    "with open('users.txt', mode='w') as file:\n",
    "    for tag, count in ans:\n",
    "        print(f'пользователь: {tag}, упоминаний: {count}', file=file)"
   ]
  },
  {
   "cell_type": "markdown",
   "id": "63d94edc",
   "metadata": {},
   "source": [
    "### пример 2"
   ]
  },
  {
   "cell_type": "code",
   "execution_count": 40,
   "id": "97fc39c3",
   "metadata": {
    "scrolled": true
   },
   "outputs": [
    {
     "name": "stdout",
     "output_type": "stream",
     "text": [
      "67200,2,Войковская,52611\r\n",
      "69948,2,Войковская,40738\r\n",
      "95313,1,Бабушкинская,48313\r\n",
      "77793,3,Академическая,43650\r\n",
      "23846,3,Профсоюзная,45192\r\n",
      "38750,4,Войковская,48921\r\n",
      "66145,2,Октябрьское Поле,36477\r\n",
      "29028,3,Войковская,32382\r\n",
      "15129,3,Бабушкинская,39585\r\n",
      "88761,4,Профсоюзная,34029\r\n",
      "16212,3,Свиблово,36241\r\n",
      "32034,4,Свиблово,45514\r\n",
      "50029,1,Войковская,35799\r\n",
      "42201,1,Октябрьское Поле,54261\r\n",
      "49627,3,Бабушкинская,33404\r\n",
      "29759,3,Свиблово,59366\r\n",
      "16826,2,Октябрьское Поле,52460\r\n",
      "73123,4,Войковская,40730\r\n",
      "15497,1,Октябрьское Поле,45117\r\n",
      "97979,1,Свиблово,36418\r\n",
      "42723,4,Свиблово,52948\r\n",
      "36781,3,Сокол,41062\r\n",
      "93023,4,Бабушкинская,39861\r\n",
      "46173,1,Войковская,51202\r\n",
      "68462,3,Октябрьское Поле,45792\r\n",
      "31295,3,Академическая,58546\r\n",
      "43863,4,Академическая,52354\r\n",
      "21383,3,Бабушкинская,30854\r\n",
      "45908,4,Академическая,33475\r\n",
      "46828,4,Сокол,34421\r\n",
      "67212,2,Сокол,40893\r\n",
      "21700,4,Октябрьское Поле,37774\r\n",
      "54687,3,Сокол,49489\r\n",
      "46062,2,Свиблово,26303\r\n",
      "46902,3,Сокол,25178\r\n",
      "46552,1,Сокол,33149\r\n",
      "81544,2,Октябрьское Поле,56647\r\n",
      "25345,1,Свиблово,50594\r\n",
      "94268,1,Войковская,34312\r\n",
      "51894,4,Свиблово,45361\r\n",
      "30979,4,Свиблово,26368\r\n",
      "94824,1,Профсоюзная,26371\r\n",
      "80394,3,Сокол,29543\r\n",
      "63905,2,Бабушкинская,40060\r\n",
      "51295,3,Свиблово,30696\r\n",
      "22676,1,Сокол,45917\r\n",
      "61033,3,Бабушкинская,29796\r\n",
      "42783,3,Свиблово,26113\r\n",
      "77057,4,Октябрьское Поле,56464\r\n",
      "13225,1,Свиблово,47990\r\n",
      "57386,3,Сокол,38675\r\n",
      "25962,2,Войковская,33314\r\n",
      "69769,4,Свиблово,28045\r\n",
      "88669,1,Войковская,33793\r\n",
      "13478,1,Войковская,28697\r\n",
      "28469,4,Бабушкинская,31315\r\n",
      "79188,1,Академическая,45087\r\n"
     ]
    }
   ],
   "source": [
    "!cat data/apartments.csv"
   ]
  },
  {
   "cell_type": "code",
   "execution_count": 42,
   "id": "38ba4177",
   "metadata": {},
   "outputs": [],
   "source": [
    "with open('data/apartments.csv') as file:\n",
    "    s = file.read().split('\\n')[:-1]"
   ]
  },
  {
   "cell_type": "code",
   "execution_count": 43,
   "id": "25fb457a",
   "metadata": {},
   "outputs": [
    {
     "name": "stdout",
     "output_type": "stream",
     "text": [
      "Бабушкинская\n"
     ]
    }
   ],
   "source": [
    "target_metro = input()"
   ]
  },
  {
   "cell_type": "code",
   "execution_count": 44,
   "id": "5a01e5b5",
   "metadata": {},
   "outputs": [],
   "source": [
    "info = []\n",
    "for line in s:\n",
    "    id_, rooms, metro, price = line.split(',')\n",
    "    if metro==target_metro:\n",
    "        info.append([id_, rooms, metro, int(price)])"
   ]
  },
  {
   "cell_type": "code",
   "execution_count": 45,
   "id": "70870eae",
   "metadata": {},
   "outputs": [],
   "source": [
    "with open('filtered-apartments.csv', mode='w') as file:\n",
    "    for line in sorted(info, key=lambda x: x[3]):\n",
    "        print(*line, sep=',', file=file)"
   ]
  },
  {
   "cell_type": "code",
   "execution_count": 49,
   "id": "a5a6857b",
   "metadata": {},
   "outputs": [
    {
     "name": "stdout",
     "output_type": "stream",
     "text": [
      "Бабушкинская\n"
     ]
    }
   ],
   "source": [
    "# итоговое решение\n",
    "with open('data/apartments.csv') as file:\n",
    "    s = file.read().split('\\n')[:-1]\n",
    "    \n",
    "target_metro = input()\n",
    "\n",
    "info = []\n",
    "for line in s:\n",
    "    id_, rooms, metro, price = line.split(',')\n",
    "    if metro==target_metro:\n",
    "        info.append([id_, rooms, metro, int(price)])\n",
    "        \n",
    "with open('filtered-apartments.csv', mode='w') as file:\n",
    "    for line in sorted(info, key=lambda x: x[3]):\n",
    "        print(*line, sep=',', file=file)\n",
    "        "
   ]
  },
  {
   "cell_type": "code",
   "execution_count": 50,
   "id": "4255cd7c",
   "metadata": {},
   "outputs": [
    {
     "name": "stdout",
     "output_type": "stream",
     "text": [
      "61033,3,Бабушкинская,29796\r\n",
      "21383,3,Бабушкинская,30854\r\n",
      "28469,4,Бабушкинская,31315\r\n",
      "49627,3,Бабушкинская,33404\r\n",
      "15129,3,Бабушкинская,39585\r\n",
      "93023,4,Бабушкинская,39861\r\n",
      "63905,2,Бабушкинская,40060\r\n",
      "95313,1,Бабушкинская,48313\r\n"
     ]
    }
   ],
   "source": [
    "!cat 'filtered-apartments.csv'"
   ]
  },
  {
   "cell_type": "markdown",
   "id": "756424a0",
   "metadata": {},
   "source": [
    "### пример 3"
   ]
  },
  {
   "cell_type": "code",
   "execution_count": null,
   "id": "5c682447",
   "metadata": {},
   "outputs": [],
   "source": []
  },
  {
   "cell_type": "code",
   "execution_count": null,
   "id": "9f18f610",
   "metadata": {},
   "outputs": [],
   "source": []
  },
  {
   "cell_type": "code",
   "execution_count": 52,
   "id": "3e9d877d",
   "metadata": {},
   "outputs": [
    {
     "name": "stdout",
     "output_type": "stream",
     "text": [
      "Writing data/skating.txt\n"
     ]
    }
   ],
   "source": [
    "%%writefile data/skating.txt\n",
    "8 место - Ксения Монько / Кирилл Халявин, Россия\n",
    "18 место - Каролина Москени / Адам Лукач, Венгрия\n",
    "15 место - Федерика Теста / Лукаш Цолли, Словакия\n",
    "20 место - Элисон Рид / Василий Рогов, Израиль\n",
    "10 место - Мэдисон Хаббелл / Закари Донохью, США\n",
    "19 место - Ван Шиюэ / Лю Синьюй, КНР\n",
    "17 место - Александра Назарова / Максим Никитин, Украина\n",
    "11 место - Лоуренс Фурнье-Бодри / Николай Сёренсен, Дания\n",
    "7 место - Елена Ильиных / Руслан Жиганшин, Россия\n",
    "5 место - Майя Шибутани / Алекс Шибутани, США\n",
    "6 место - Пайпер Гиллес / Поль Пуарье, Канада\n",
    "12 место - Шарлен Гиньяр / Марко Фаббри, Италия\n",
    "3 место - Кэйтлин Уивер / Эндрю Поже, Канада\n",
    "2 место - Мэдисон Чок / Эван Бейтс, США\n",
    "14 место - Сара Уртадо / Адрия Диас, Испания\n",
    "16 место - Алиса Агафонова / Альпер Учар, Турция\n",
    "4 место - Анна Каппеллини / Лука Ланотте, Италия\n",
    "13 место - Александра Пол / Митчелл Ислам, Канада\n",
    "1 место - Габриэла Пападакис / Гийом Сизерон, Франция\n",
    "10 место - Александра Степанова / Иван Букин, Россия"
   ]
  },
  {
   "cell_type": "code",
   "execution_count": 53,
   "id": "c812d1fa",
   "metadata": {},
   "outputs": [
    {
     "name": "stdout",
     "output_type": "stream",
     "text": [
      "Россия\n"
     ]
    }
   ],
   "source": [
    "with open('data/skating.txt') as file:\n",
    "    s = file.read().split('\\n')[:-1]\n",
    "\n",
    "target_country = input()#Россия\n",
    "\n",
    "data = []\n",
    "for line in s:\n",
    "    info, country = line.split(', ')\n",
    "    if country==target_country:\n",
    "        data.append(info)\n",
    "    \n",
    "with open('results.txt', 'w') as file: \n",
    "    print(target_country, file=file)\n",
    "    for line in sorted(data, key=lambda x: int(x.split()[0])):\n",
    "        print(line, file=file)"
   ]
  },
  {
   "cell_type": "code",
   "execution_count": 54,
   "id": "10ca8451",
   "metadata": {},
   "outputs": [
    {
     "name": "stdout",
     "output_type": "stream",
     "text": [
      "Россия\r\n",
      "7 место - Елена Ильиных / Руслан Жиганшин\r\n",
      "8 место - Ксения Монько / Кирилл Халявин\r\n",
      "10 место - Александра Степанова / Иван Букин\r\n"
     ]
    }
   ],
   "source": [
    "!cat results.txt"
   ]
  },
  {
   "cell_type": "markdown",
   "id": "d18ec7c3",
   "metadata": {},
   "source": [
    "# Работа с файлами и папками"
   ]
  },
  {
   "cell_type": "markdown",
   "id": "41d7ff9f",
   "metadata": {},
   "source": [
    "## csv/tsv и пример с оценками"
   ]
  },
  {
   "cell_type": "code",
   "execution_count": 55,
   "id": "9ce145c3",
   "metadata": {},
   "outputs": [
    {
     "data": {
      "text/html": [
       "<div>\n",
       "<style scoped>\n",
       "    .dataframe tbody tr th:only-of-type {\n",
       "        vertical-align: middle;\n",
       "    }\n",
       "\n",
       "    .dataframe tbody tr th {\n",
       "        vertical-align: top;\n",
       "    }\n",
       "\n",
       "    .dataframe thead th {\n",
       "        text-align: right;\n",
       "    }\n",
       "</style>\n",
       "<table border=\"1\" class=\"dataframe\">\n",
       "  <thead>\n",
       "    <tr style=\"text-align: right;\">\n",
       "      <th></th>\n",
       "      <th>Unnamed: 0</th>\n",
       "      <th>Unnamed: 1</th>\n",
       "      <th>Unnamed: 2</th>\n",
       "      <th>Unnamed: 3</th>\n",
       "      <th>ДЗ</th>\n",
       "      <th>Unnamed: 5</th>\n",
       "      <th>Unnamed: 6</th>\n",
       "      <th>Unnamed: 7</th>\n",
       "      <th>Unnamed: 8</th>\n",
       "      <th>МСР</th>\n",
       "      <th>...</th>\n",
       "      <th>Unnamed: 13</th>\n",
       "      <th>Unnamed: 14</th>\n",
       "      <th>Unnamed: 15</th>\n",
       "      <th>БСР</th>\n",
       "      <th>Unnamed: 17</th>\n",
       "      <th>Unnamed: 18</th>\n",
       "      <th>Unnamed: 19</th>\n",
       "      <th>Unnamed: 20</th>\n",
       "      <th>Unnamed: 21</th>\n",
       "      <th>Unnamed: 22</th>\n",
       "    </tr>\n",
       "  </thead>\n",
       "  <tbody>\n",
       "    <tr>\n",
       "      <th>0</th>\n",
       "      <td>fio</td>\n",
       "      <td>login</td>\n",
       "      <td>group</td>\n",
       "      <td>email</td>\n",
       "      <td>1.0</td>\n",
       "      <td>2.0</td>\n",
       "      <td>3.0</td>\n",
       "      <td>4.0</td>\n",
       "      <td>ДЗ итог</td>\n",
       "      <td>1.0</td>\n",
       "      <td>...</td>\n",
       "      <td>5.0</td>\n",
       "      <td>6.0</td>\n",
       "      <td>МСР итог</td>\n",
       "      <td>1.0</td>\n",
       "      <td>2.0</td>\n",
       "      <td>3.0</td>\n",
       "      <td>БСР итог</td>\n",
       "      <td>Итог</td>\n",
       "      <td>Итог округл</td>\n",
       "      <td>Проверяющий ассистент</td>\n",
       "    </tr>\n",
       "    <tr>\n",
       "      <th>1</th>\n",
       "      <td>Новицкая Алина Дмитриевна</td>\n",
       "      <td>dap_econ_2022_358</td>\n",
       "      <td>БЭК196</td>\n",
       "      <td>adnovitskaya@edu.hse.ru</td>\n",
       "      <td>11.0</td>\n",
       "      <td>NaN</td>\n",
       "      <td>NaN</td>\n",
       "      <td>NaN</td>\n",
       "      <td>2.8</td>\n",
       "      <td>NaN</td>\n",
       "      <td>...</td>\n",
       "      <td>6.3</td>\n",
       "      <td>NaN</td>\n",
       "      <td>3.1</td>\n",
       "      <td>9.6</td>\n",
       "      <td>NaN</td>\n",
       "      <td>NaN</td>\n",
       "      <td>3.2</td>\n",
       "      <td>2.96</td>\n",
       "      <td>3</td>\n",
       "      <td>NaN</td>\n",
       "    </tr>\n",
       "    <tr>\n",
       "      <th>2</th>\n",
       "      <td>Мунхтур Эгшиглэн</td>\n",
       "      <td>dap_econ_2022_359</td>\n",
       "      <td>БЭК197</td>\n",
       "      <td>emunkhtur@edu.hse.ru</td>\n",
       "      <td>2.0</td>\n",
       "      <td>NaN</td>\n",
       "      <td>NaN</td>\n",
       "      <td>NaN</td>\n",
       "      <td>0.5</td>\n",
       "      <td>NaN</td>\n",
       "      <td>...</td>\n",
       "      <td>NaN</td>\n",
       "      <td>NaN</td>\n",
       "      <td>2.3</td>\n",
       "      <td>NaN</td>\n",
       "      <td>NaN</td>\n",
       "      <td>NaN</td>\n",
       "      <td>0.0</td>\n",
       "      <td>0.48</td>\n",
       "      <td>0</td>\n",
       "      <td>NaN</td>\n",
       "    </tr>\n",
       "    <tr>\n",
       "      <th>3</th>\n",
       "      <td>Майданов Бекнур</td>\n",
       "      <td>dap_econ_2022_360</td>\n",
       "      <td>БЭК198</td>\n",
       "      <td>bmaydanov@edu.hse.ru</td>\n",
       "      <td>11.0</td>\n",
       "      <td>NaN</td>\n",
       "      <td>NaN</td>\n",
       "      <td>NaN</td>\n",
       "      <td>2.8</td>\n",
       "      <td>NaN</td>\n",
       "      <td>...</td>\n",
       "      <td>NaN</td>\n",
       "      <td>NaN</td>\n",
       "      <td>0.0</td>\n",
       "      <td>0.0</td>\n",
       "      <td>NaN</td>\n",
       "      <td>NaN</td>\n",
       "      <td>0.0</td>\n",
       "      <td>1.38</td>\n",
       "      <td>1</td>\n",
       "      <td>NaN</td>\n",
       "    </tr>\n",
       "    <tr>\n",
       "      <th>4</th>\n",
       "      <td>Мукамбеков Бектур</td>\n",
       "      <td>dap_econ_2022_361</td>\n",
       "      <td>БЭК199</td>\n",
       "      <td>bmukambekov@edu.hse.ru</td>\n",
       "      <td>11.0</td>\n",
       "      <td>NaN</td>\n",
       "      <td>NaN</td>\n",
       "      <td>NaN</td>\n",
       "      <td>2.8</td>\n",
       "      <td>NaN</td>\n",
       "      <td>...</td>\n",
       "      <td>NaN</td>\n",
       "      <td>NaN</td>\n",
       "      <td>0.0</td>\n",
       "      <td>10.0</td>\n",
       "      <td>NaN</td>\n",
       "      <td>NaN</td>\n",
       "      <td>3.3</td>\n",
       "      <td>2.71</td>\n",
       "      <td>3</td>\n",
       "      <td>NaN</td>\n",
       "    </tr>\n",
       "  </tbody>\n",
       "</table>\n",
       "<p>5 rows × 23 columns</p>\n",
       "</div>"
      ],
      "text/plain": [
       "                  Unnamed: 0         Unnamed: 1 Unnamed: 2  \\\n",
       "0                        fio              login      group   \n",
       "1  Новицкая Алина Дмитриевна  dap_econ_2022_358     БЭК196   \n",
       "2           Мунхтур Эгшиглэн  dap_econ_2022_359     БЭК197   \n",
       "3            Майданов Бекнур  dap_econ_2022_360     БЭК198   \n",
       "4          Мукамбеков Бектур  dap_econ_2022_361     БЭК199   \n",
       "\n",
       "                Unnamed: 3    ДЗ  Unnamed: 5  Unnamed: 6  Unnamed: 7  \\\n",
       "0                    email   1.0         2.0         3.0         4.0   \n",
       "1  adnovitskaya@edu.hse.ru  11.0         NaN         NaN         NaN   \n",
       "2     emunkhtur@edu.hse.ru   2.0         NaN         NaN         NaN   \n",
       "3     bmaydanov@edu.hse.ru  11.0         NaN         NaN         NaN   \n",
       "4   bmukambekov@edu.hse.ru  11.0         NaN         NaN         NaN   \n",
       "\n",
       "  Unnamed: 8  МСР  ...  Unnamed: 13 Unnamed: 14  Unnamed: 15   БСР  \\\n",
       "0    ДЗ итог  1.0  ...          5.0         6.0     МСР итог   1.0   \n",
       "1        2.8  NaN  ...          6.3         NaN          3.1   9.6   \n",
       "2        0.5  NaN  ...          NaN         NaN          2.3   NaN   \n",
       "3        2.8  NaN  ...          NaN         NaN          0.0   0.0   \n",
       "4        2.8  NaN  ...          NaN         NaN          0.0  10.0   \n",
       "\n",
       "   Unnamed: 17 Unnamed: 18  Unnamed: 19  Unnamed: 20  Unnamed: 21  \\\n",
       "0          2.0         3.0     БСР итог         Итог  Итог округл   \n",
       "1          NaN         NaN          3.2         2.96            3   \n",
       "2          NaN         NaN          0.0         0.48            0   \n",
       "3          NaN         NaN          0.0         1.38            1   \n",
       "4          NaN         NaN          3.3         2.71            3   \n",
       "\n",
       "             Unnamed: 22  \n",
       "0  Проверяющий ассистент  \n",
       "1                    NaN  \n",
       "2                    NaN  \n",
       "3                    NaN  \n",
       "4                    NaN  \n",
       "\n",
       "[5 rows x 23 columns]"
      ]
     },
     "execution_count": 55,
     "metadata": {},
     "output_type": "execute_result"
    }
   ],
   "source": [
    "import pandas as pd\n",
    "\n",
    "df = pd.read_csv('data/grades.tsv', sep='\\t')\n",
    "df.head()"
   ]
  },
  {
   "cell_type": "code",
   "execution_count": 56,
   "id": "72dc86e3",
   "metadata": {},
   "outputs": [],
   "source": [
    "with open('data/grades.tsv') as file:\n",
    "    s = file.read().split('\\n')[:-1]"
   ]
  },
  {
   "cell_type": "code",
   "execution_count": 57,
   "id": "3748d9d0",
   "metadata": {},
   "outputs": [],
   "source": [
    "col_mames = s[:2]\n",
    "table = s[2:]"
   ]
  },
  {
   "cell_type": "code",
   "execution_count": 58,
   "id": "b067d4cd",
   "metadata": {},
   "outputs": [],
   "source": [
    "info = []\n",
    "for line in table:\n",
    "    name, login, group, email, *grades = line.split('\\t')\n",
    "    msr = float(grades[11]) # мср в 11 столбике\n",
    "    if group in ('БЭК219', 'БЭК2110'):\n",
    "        info.append([group,name,msr])"
   ]
  },
  {
   "cell_type": "code",
   "execution_count": 59,
   "id": "1b50cc60",
   "metadata": {},
   "outputs": [],
   "source": [
    "d = {}\n",
    "for group, name, msr in info:\n",
    "    if msr>=8:\n",
    "        d[group] = d.get(group, 0) + 1\n",
    "        # d[group] += 1 # и создать defaultdict с дефолтным значением равным 0"
   ]
  },
  {
   "cell_type": "code",
   "execution_count": 61,
   "id": "eab03fe4",
   "metadata": {},
   "outputs": [],
   "source": [
    "with open('msr_summary.tsv', mode='w') as file:\n",
    "    for group in sorted(d):\n",
    "        print(group, d[group], sep='\\t', file=file)"
   ]
  },
  {
   "cell_type": "code",
   "execution_count": 62,
   "id": "a5047af8",
   "metadata": {},
   "outputs": [
    {
     "name": "stdout",
     "output_type": "stream",
     "text": [
      "БЭК2110\t18\r\n",
      "БЭК219\t10\r\n"
     ]
    }
   ],
   "source": [
    "!cat msr_summary.tsv"
   ]
  },
  {
   "cell_type": "markdown",
   "id": "99d0243c",
   "metadata": {},
   "source": [
    "## json"
   ]
  },
  {
   "cell_type": "code",
   "execution_count": 63,
   "id": "cf0e094a",
   "metadata": {},
   "outputs": [],
   "source": [
    "import json\n",
    "\n",
    "with open('data/input.json') as file:\n",
    "    x = json.load(file)"
   ]
  },
  {
   "cell_type": "code",
   "execution_count": 64,
   "id": "0c43552a",
   "metadata": {},
   "outputs": [
    {
     "data": {
      "text/plain": [
       "{'username': 'bober38',\n",
       " 'commit_time': '2021/03/12 05:45:02',\n",
       " 'files': [{'name': 'utils/net.py', 'changed_lines': 85}]}"
      ]
     },
     "execution_count": 64,
     "metadata": {},
     "output_type": "execute_result"
    }
   ],
   "source": [
    "x[0]"
   ]
  },
  {
   "cell_type": "code",
   "execution_count": 65,
   "id": "773cdae6",
   "metadata": {},
   "outputs": [],
   "source": [
    "# в key достаём значения по ключу commit_time\n",
    "x = sorted(x, key=lambda x: 'commit_time')"
   ]
  },
  {
   "cell_type": "code",
   "execution_count": 66,
   "id": "4f6c5b2b",
   "metadata": {},
   "outputs": [],
   "source": [
    "d = defaultdict(lambda: defaultdict(lambda: []))\n",
    "for line in x:\n",
    "    #print(line['username'])\n",
    "    for file in line['files']:\n",
    "        #print(file, file['changed_lines'])\n",
    "        # записываю список измененных файлов\n",
    "        d[line['username']]['changed_files'].append(file['name'])\n",
    "    #print()"
   ]
  },
  {
   "cell_type": "code",
   "execution_count": 68,
   "id": "8c6f586e",
   "metadata": {},
   "outputs": [
    {
     "data": {
      "text/plain": [
       "['utils/net.py',\n",
       " 'balancer/tools.py',\n",
       " 'quality/library.py',\n",
       " 'utils/library.py',\n",
       " 'library/tools.py',\n",
       " 'quality/utils.py',\n",
       " 'quality/library.py',\n",
       " 'frontend/net.py',\n",
       " 'frontend/library.py',\n",
       " 'balancer/library.py',\n",
       " 'library/utils.py',\n",
       " 'core/net.py',\n",
       " 'core/utils.py',\n",
       " 'quality/utils.py',\n",
       " 'library/utils.py',\n",
       " 'library/utils.py',\n",
       " 'quality/net.py',\n",
       " 'backend/library.py',\n",
       " 'quality/tools.py',\n",
       " 'balancer/tools.py']"
      ]
     },
     "execution_count": 68,
     "metadata": {},
     "output_type": "execute_result"
    }
   ],
   "source": [
    "# измененные файлы от однгого человека\n",
    "d['bober38']['changed_files']"
   ]
  },
  {
   "cell_type": "markdown",
   "id": "29738fc4",
   "metadata": {},
   "source": [
    "## os"
   ]
  },
  {
   "cell_type": "code",
   "execution_count": 69,
   "id": "f0ee220e",
   "metadata": {},
   "outputs": [],
   "source": [
    "import os"
   ]
  },
  {
   "cell_type": "code",
   "execution_count": 70,
   "id": "d02438df",
   "metadata": {},
   "outputs": [
    {
     "data": {
      "text/plain": [
       "'/Users/ilya/Downloads/untitled folder'"
      ]
     },
     "execution_count": 70,
     "metadata": {},
     "output_type": "execute_result"
    }
   ],
   "source": [
    "os.getcwd()"
   ]
  },
  {
   "cell_type": "code",
   "execution_count": 71,
   "id": "5a799ee4",
   "metadata": {},
   "outputs": [
    {
     "data": {
      "text/plain": [
       "['big_folder.zip',\n",
       " '.DS_Store',\n",
       " 'filtered-apartments.csv',\n",
       " 'txt_files',\n",
       " 'input.json',\n",
       " 'skating.txt',\n",
       " 'results.txt',\n",
       " 'qwe.txt',\n",
       " 'users_.txt',\n",
       " 'users.txt',\n",
       " '.ipynb_checkpoints',\n",
       " 'data',\n",
       " 'msr_summary.tsv',\n",
       " 'big_folder',\n",
       " 'sem08_219.ipynb']"
      ]
     },
     "execution_count": 71,
     "metadata": {},
     "output_type": "execute_result"
    }
   ],
   "source": [
    "os.listdir()"
   ]
  },
  {
   "cell_type": "code",
   "execution_count": 72,
   "id": "e1a62992",
   "metadata": {},
   "outputs": [
    {
     "name": "stdout",
     "output_type": "stream",
     "text": [
      "Overwriting txt_files/ilon.txt\n"
     ]
    }
   ],
   "source": [
    "%%writefile txt_files/ilon.txt\n",
    "sber twitter lalkicorporation"
   ]
  },
  {
   "cell_type": "code",
   "execution_count": 73,
   "id": "6bbdbb9f",
   "metadata": {},
   "outputs": [
    {
     "name": "stdout",
     "output_type": "stream",
     "text": [
      "Overwriting txt_files/bill.txt\n"
     ]
    }
   ],
   "source": [
    "%%writefile txt_files/bill.txt\n",
    "sber twitter pupa&partners"
   ]
  },
  {
   "cell_type": "code",
   "execution_count": 74,
   "id": "f40e4066",
   "metadata": {},
   "outputs": [
    {
     "name": "stdout",
     "output_type": "stream",
     "text": [
      "Overwriting txt_files/sasha.txt\n"
     ]
    }
   ],
   "source": [
    "%%writefile txt_files/sasha.txt\n",
    "sber vk lalkicorporation"
   ]
  },
  {
   "cell_type": "code",
   "execution_count": 78,
   "id": "6a5ba6e8",
   "metadata": {},
   "outputs": [
    {
     "data": {
      "text/plain": [
       "['sasha.txt', 'bill.txt', 'ilon.txt']"
      ]
     },
     "execution_count": 78,
     "metadata": {},
     "output_type": "execute_result"
    }
   ],
   "source": [
    "txt_files = [x for x in os.listdir('txt_files') if x[-3:]=='txt' ]\n",
    "txt_files"
   ]
  },
  {
   "cell_type": "code",
   "execution_count": 79,
   "id": "5dc1d389",
   "metadata": {},
   "outputs": [],
   "source": [
    "txt_files_input = []\n",
    "for name in txt_files:\n",
    "    with open(f'txt_files/{name}') as file:\n",
    "        s = file.read().strip().split()\n",
    "    txt_files_input.append(s)"
   ]
  },
  {
   "cell_type": "code",
   "execution_count": 80,
   "id": "0c8d3526",
   "metadata": {},
   "outputs": [
    {
     "data": {
      "text/plain": [
       "[['sber', 'vk', 'lalkicorporation'],\n",
       " ['sber', 'twitter', 'pupa&partners'],\n",
       " ['sber', 'twitter', 'lalkicorporation']]"
      ]
     },
     "execution_count": 80,
     "metadata": {},
     "output_type": "execute_result"
    }
   ],
   "source": [
    "txt_files_input"
   ]
  },
  {
   "cell_type": "code",
   "execution_count": 81,
   "id": "3fd2c04f",
   "metadata": {},
   "outputs": [
    {
     "data": {
      "text/plain": [
       "(1, 2)"
      ]
     },
     "execution_count": 81,
     "metadata": {},
     "output_type": "execute_result"
    }
   ],
   "source": [
    "True+False, True+True"
   ]
  },
  {
   "cell_type": "markdown",
   "id": "bf10ed8b",
   "metadata": {},
   "source": [
    "## zip-архивы и папки в папках"
   ]
  },
  {
   "cell_type": "code",
   "execution_count": 82,
   "id": "7003ae10",
   "metadata": {},
   "outputs": [
    {
     "data": {
      "text/plain": [
       "'/Users/ilya/Downloads/untitled folder'"
      ]
     },
     "execution_count": 82,
     "metadata": {},
     "output_type": "execute_result"
    }
   ],
   "source": [
    "os.getcwd()"
   ]
  },
  {
   "cell_type": "code",
   "execution_count": 83,
   "id": "19498aa1",
   "metadata": {},
   "outputs": [
    {
     "data": {
      "text/plain": [
       "['big_folder.zip',\n",
       " '.DS_Store',\n",
       " 'filtered-apartments.csv',\n",
       " 'txt_files',\n",
       " 'input.json',\n",
       " 'skating.txt',\n",
       " 'results.txt',\n",
       " 'qwe.txt',\n",
       " 'users_.txt',\n",
       " 'users.txt',\n",
       " '.ipynb_checkpoints',\n",
       " 'data',\n",
       " 'msr_summary.tsv',\n",
       " 'big_folder',\n",
       " 'sem08_219.ipynb']"
      ]
     },
     "execution_count": 83,
     "metadata": {},
     "output_type": "execute_result"
    }
   ],
   "source": [
    "os.listdir()"
   ]
  },
  {
   "cell_type": "code",
   "execution_count": 84,
   "id": "a2f54e49",
   "metadata": {},
   "outputs": [],
   "source": [
    "# создаем папки\n",
    "os.mkdir('big_folder')\n",
    "os.mkdir('big_folder/2110')\n",
    "os.mkdir('big_folder/219')"
   ]
  },
  {
   "cell_type": "code",
   "execution_count": 85,
   "id": "d93dd22a",
   "metadata": {},
   "outputs": [
    {
     "name": "stdout",
     "output_type": "stream",
     "text": [
      "Writing big_folder/2110/ilon.txt\n"
     ]
    }
   ],
   "source": [
    "# записываем в них что-то\n",
    "%%writefile 'big_folder/2110/ilon.txt'\n",
    "6 5 4"
   ]
  },
  {
   "cell_type": "code",
   "execution_count": 86,
   "id": "e40fa0d2",
   "metadata": {},
   "outputs": [
    {
     "name": "stdout",
     "output_type": "stream",
     "text": [
      "Writing big_folder/2110/sasha.txt\n"
     ]
    }
   ],
   "source": [
    "%%writefile 'big_folder/2110/sasha.txt'\n",
    "3 9 2"
   ]
  },
  {
   "cell_type": "code",
   "execution_count": 87,
   "id": "484a127d",
   "metadata": {},
   "outputs": [
    {
     "name": "stdout",
     "output_type": "stream",
     "text": [
      "Writing big_folder/2110/masha.txt\n"
     ]
    }
   ],
   "source": [
    "%%writefile 'big_folder/2110/masha.txt'\n",
    "1 3 8"
   ]
  },
  {
   "cell_type": "code",
   "execution_count": 88,
   "id": "6388d684",
   "metadata": {},
   "outputs": [
    {
     "name": "stdout",
     "output_type": "stream",
     "text": [
      "Writing big_folder/219/pasha.txt\n"
     ]
    }
   ],
   "source": [
    "%%writefile 'big_folder/219/pasha.txt'\n",
    "3 7 2"
   ]
  },
  {
   "cell_type": "code",
   "execution_count": 89,
   "id": "41b271ad",
   "metadata": {
    "scrolled": true
   },
   "outputs": [
    {
     "name": "stdout",
     "output_type": "stream",
     "text": [
      "Writing big_folder/219/dasha.txt\n"
     ]
    }
   ],
   "source": [
    "%%writefile 'big_folder/219/dasha.txt'\n",
    "9 2 8"
   ]
  },
  {
   "cell_type": "code",
   "execution_count": 92,
   "id": "d4536726",
   "metadata": {},
   "outputs": [
    {
     "data": {
      "text/plain": [
       "'/Users/ilya/Downloads/untitled folder/big_folder.zip'"
      ]
     },
     "execution_count": 92,
     "metadata": {},
     "output_type": "execute_result"
    }
   ],
   "source": [
    "# создаем архив\n",
    "import shutil\n",
    "shutil.make_archive('big_folder', 'zip', 'big_folder')"
   ]
  },
  {
   "cell_type": "code",
   "execution_count": 106,
   "id": "3cf28c79",
   "metadata": {},
   "outputs": [
    {
     "name": "stdout",
     "output_type": "stream",
     "text": [
      "\u001b[34mdata\u001b[m\u001b[m\r\n",
      "sem08_219_2110_ie_examples_csv_etc.ipynb\r\n",
      "\u001b[34mtxt_files\u001b[m\u001b[m\r\n"
     ]
    }
   ],
   "source": [
    "# такие команды тоже есть\n",
    "!ls"
   ]
  },
  {
   "cell_type": "code",
   "execution_count": 99,
   "id": "45f5501f",
   "metadata": {},
   "outputs": [],
   "source": [
    "# удаляем папку\n",
    "! rm -rf big_folder"
   ]
  },
  {
   "cell_type": "code",
   "execution_count": 103,
   "id": "2ad7b72e",
   "metadata": {},
   "outputs": [
    {
     "name": "stdout",
     "output_type": "stream",
     "text": [
      "Archive:  big_folder.zip\r\n",
      "   creating: big_folder/2110/\r\n",
      "   creating: big_folder/219/\r\n",
      "  inflating: big_folder/219/pasha.txt  \r\n",
      "  inflating: big_folder/219/dasha.txt  \r\n",
      "  inflating: big_folder/2110/masha.txt  \r\n",
      "  inflating: big_folder/2110/sasha.txt  \r\n",
      "  inflating: big_folder/2110/ilon.txt  \r\n"
     ]
    }
   ],
   "source": [
    "# достаем из архива папку\n",
    "! unzip big_folder.zip -d big_folder"
   ]
  },
  {
   "cell_type": "code",
   "execution_count": 108,
   "id": "3c337a40",
   "metadata": {},
   "outputs": [
    {
     "name": "stdout",
     "output_type": "stream",
     "text": [
      "Archive:  big_folder.zip\n"
     ]
    },
    {
     "name": "stderr",
     "output_type": "stream",
     "text": [
      "replace big_folder/219/pasha.txt? [y]es, [n]o, [A]ll, [N]one, [r]ename:  NULL\n",
      "(EOF or read error, treating as \"[N]one\" ...)\n"
     ]
    },
    {
     "data": {
      "text/plain": [
       "256"
      ]
     },
     "execution_count": 108,
     "metadata": {},
     "output_type": "execute_result"
    }
   ],
   "source": [
    "# так тоже можно\n",
    "# погуглите linux комманды\n",
    "os.system('unzip big_folder.zip -d big_folder')"
   ]
  },
  {
   "cell_type": "code",
   "execution_count": null,
   "id": "94997d0b",
   "metadata": {},
   "outputs": [],
   "source": [
    "## и так тоже можно\n",
    "# import zipfile\n",
    "# with zipfile.ZipFile('big_folder.zip', 'r') as zip_ref:\n",
    "#     zip_ref.extractall('.')"
   ]
  },
  {
   "cell_type": "code",
   "execution_count": 104,
   "id": "ed187a75",
   "metadata": {},
   "outputs": [
    {
     "name": "stdout",
     "output_type": "stream",
     "text": [
      "219\n",
      "pasha.txt\n",
      "dasha.txt\n",
      "\n",
      "2110\n",
      "masha.txt\n",
      "sasha.txt\n",
      "ilon.txt\n",
      "\n"
     ]
    }
   ],
   "source": [
    "d = defaultdict(lambda: {})\n",
    "for folder in os.listdir('big_folder'):\n",
    "    if folder[0]!='.':\n",
    "        print(folder)\n",
    "        for filename in os.listdir(f'big_folder/{folder}'):\n",
    "            print(filename)\n",
    "            with open(f'big_folder/{folder}/{filename}') as file:\n",
    "                s = file.read().strip()\n",
    "                d[folder][filename] = list(map(int, s.split()))\n",
    "        print()"
   ]
  },
  {
   "cell_type": "code",
   "execution_count": 105,
   "id": "54f551ba",
   "metadata": {},
   "outputs": [
    {
     "data": {
      "text/plain": [
       "{'219': {'pasha.txt': [3, 7, 2], 'dasha.txt': [9, 2, 8]},\n",
       " '2110': {'masha.txt': [1, 3, 8],\n",
       "  'sasha.txt': [3, 9, 2],\n",
       "  'ilon.txt': [6, 5, 4]}}"
      ]
     },
     "execution_count": 105,
     "metadata": {},
     "output_type": "execute_result"
    }
   ],
   "source": [
    "dict(d)"
   ]
  }
 ],
 "metadata": {
  "kernelspec": {
   "display_name": "Python 3 (ipykernel)",
   "language": "python",
   "name": "python3"
  },
  "language_info": {
   "codemirror_mode": {
    "name": "ipython",
    "version": 3
   },
   "file_extension": ".py",
   "mimetype": "text/x-python",
   "name": "python",
   "nbconvert_exporter": "python",
   "pygments_lexer": "ipython3",
   "version": "3.10.4"
  },
  "toc": {
   "base_numbering": 1,
   "nav_menu": {},
   "number_sections": false,
   "sideBar": true,
   "skip_h1_title": false,
   "title_cell": "Table of Contents",
   "title_sidebar": "Contents",
   "toc_cell": true,
   "toc_position": {
    "height": "calc(100% - 180px)",
    "left": "10px",
    "top": "150px",
    "width": "288px"
   },
   "toc_section_display": true,
   "toc_window_display": true
  }
 },
 "nbformat": 4,
 "nbformat_minor": 5
}
