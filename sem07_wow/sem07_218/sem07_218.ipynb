{
 "cells": [
  {
   "cell_type": "markdown",
   "id": "1cdc1354",
   "metadata": {},
   "source": [
    "## Семинар 7: \n",
    "\n",
    "- Как работать с файлами в питоне\n",
    "- Полезные модули collections, itertools"
   ]
  },
  {
   "cell_type": "markdown",
   "id": "ede438cd",
   "metadata": {},
   "source": [
    "### Вопросы"
   ]
  },
  {
   "cell_type": "markdown",
   "id": "cc1bd6ed",
   "metadata": {},
   "source": [
    "- вопросов нет :( "
   ]
  },
  {
   "cell_type": "markdown",
   "id": "62e893e0",
   "metadata": {},
   "source": [
    "# 1. Чтение и запись файлов"
   ]
  },
  {
   "cell_type": "markdown",
   "id": "0a412847",
   "metadata": {},
   "source": [
    "## Текстовые файлы .txt"
   ]
  },
  {
   "cell_type": "code",
   "execution_count": 27,
   "id": "bb877ac6",
   "metadata": {},
   "outputs": [
    {
     "name": "stdout",
     "output_type": "stream",
     "text": [
      "/home/randomwalk/sem07_218\r\n"
     ]
    }
   ],
   "source": [
    "!pwd"
   ]
  },
  {
   "cell_type": "code",
   "execution_count": 28,
   "id": "6c33320b",
   "metadata": {},
   "outputs": [],
   "source": [
    "# питон открывает файл\n",
    "f = open('file.txt')"
   ]
  },
  {
   "cell_type": "code",
   "execution_count": 29,
   "id": "a1f0904b",
   "metadata": {},
   "outputs": [
    {
     "data": {
      "text/plain": [
       "['ахахаахахаха']"
      ]
     },
     "execution_count": 29,
     "metadata": {},
     "output_type": "execute_result"
    }
   ],
   "source": [
    "f.readlines()"
   ]
  },
  {
   "cell_type": "code",
   "execution_count": 30,
   "id": "3892dd7c",
   "metadata": {},
   "outputs": [
    {
     "data": {
      "text/plain": [
       "[]"
      ]
     },
     "execution_count": 30,
     "metadata": {},
     "output_type": "execute_result"
    }
   ],
   "source": [
    "f.readlines()"
   ]
  },
  {
   "cell_type": "code",
   "execution_count": 31,
   "id": "38371667",
   "metadata": {},
   "outputs": [],
   "source": [
    "f.close()"
   ]
  },
  {
   "cell_type": "code",
   "execution_count": 34,
   "id": "2380e4f1",
   "metadata": {},
   "outputs": [
    {
     "data": {
      "text/plain": [
       "['ахахаахахаха']"
      ]
     },
     "execution_count": 34,
     "metadata": {},
     "output_type": "execute_result"
    }
   ],
   "source": [
    "with open('file.txt', 'r') as f:\n",
    "    x = f.readlines()\n",
    "\n",
    "# тут файл сам закроется    \n",
    "x"
   ]
  },
  {
   "cell_type": "code",
   "execution_count": null,
   "id": "6e933541",
   "metadata": {},
   "outputs": [],
   "source": [
    "# r - read\n",
    "# w - write\n",
    "# a - append"
   ]
  },
  {
   "cell_type": "code",
   "execution_count": 35,
   "id": "92ceee2e",
   "metadata": {},
   "outputs": [
    {
     "name": "stdout",
     "output_type": "stream",
     "text": [
      "ахахаахахаха"
     ]
    }
   ],
   "source": [
    "# вывести содержимое файла на экран (линукс/мак)\n",
    "!cat file.txt"
   ]
  },
  {
   "cell_type": "code",
   "execution_count": null,
   "id": "2d368a22",
   "metadata": {},
   "outputs": [],
   "source": [
    "with open('file.txt', 'w') as f:\n",
    "    f.write('азазаза')"
   ]
  },
  {
   "cell_type": "code",
   "execution_count": 37,
   "id": "cb4a439e",
   "metadata": {},
   "outputs": [
    {
     "name": "stdout",
     "output_type": "stream",
     "text": [
      "азазаза"
     ]
    }
   ],
   "source": [
    "# Файл в режиме w будет полность перезаписан\n",
    "!cat file.txt"
   ]
  },
  {
   "cell_type": "code",
   "execution_count": 44,
   "id": "561bab7c",
   "metadata": {},
   "outputs": [],
   "source": [
    "with open('file.txt', 'a') as f:\n",
    "    f.write('\\nахахаха')"
   ]
  },
  {
   "cell_type": "code",
   "execution_count": 45,
   "id": "6abcfde1",
   "metadata": {},
   "outputs": [
    {
     "name": "stdout",
     "output_type": "stream",
     "text": [
      "азазазаахахахаахахаха\r\n",
      "ахахаха"
     ]
    }
   ],
   "source": [
    "# в файл произошла дозапись\n",
    "!cat file.txt"
   ]
  },
  {
   "cell_type": "code",
   "execution_count": null,
   "id": "072e12aa",
   "metadata": {},
   "outputs": [],
   "source": [
    "# в контесте вход хранится в файле 'input.txt'\n",
    "# ответы можно записывать в фпйл 'output.txt'"
   ]
  },
  {
   "cell_type": "code",
   "execution_count": 49,
   "id": "c74855f0",
   "metadata": {},
   "outputs": [
    {
     "name": "stdout",
     "output_type": "stream",
     "text": [
      "азазазаахахахаахахаха\r\n",
      "ахахахаlkwfjfwejfwelахахаЯ фанатеюlkwfjfwejfwelахахаЯ фанатеюlkwfjfwejfwel\r\n",
      "ахаха\r\n",
      "Я фанатею"
     ]
    }
   ],
   "source": [
    "x = ['lkwfjfwejfwel', 'ахаха', 'Я фанатею']\n",
    "\n",
    "with open('file.txt', 'a') as f:\n",
    "    f.writelines('\\n'.join(x))\n",
    "    \n",
    "!cat file.txt"
   ]
  },
  {
   "cell_type": "markdown",
   "id": "7ecc5a30",
   "metadata": {},
   "source": [
    "Немного инфы про запись в файлы есть [в семинаре о функциях](https://github.com/hse-econ-data-science/dap_2021_spring/blob/main/sem03_functions/sem03_functions.ipynb)"
   ]
  },
  {
   "cell_type": "markdown",
   "id": "0336dc1c",
   "metadata": {},
   "source": [
    "## Формат .json"
   ]
  },
  {
   "cell_type": "code",
   "execution_count": null,
   "id": "c58ae207",
   "metadata": {},
   "outputs": [],
   "source": [
    "# С точки зрения питона, json это обычный словарь\n",
    "# но на этот словарь накладывается немного ограничений\n",
    "# - кавычки могут быть только двойными\n",
    "# - какие-то приколы с пробелами\n",
    "# - какие-то приколы с запятыми"
   ]
  },
  {
   "cell_type": "code",
   "execution_count": 59,
   "id": "d77ad365",
   "metadata": {},
   "outputs": [],
   "source": [
    "data = {\n",
    "    \"firstName\": \"Jane\",\n",
    "    \"lastName\": \"Doe\",\n",
    "    \"hobbies\": [\"running\", \"sky diving\", \"singing\"],\n",
    "    \"age\": 35,\n",
    "    'children': [\n",
    "        {\n",
    "            \"firstName\": \"Alice\",\n",
    "            \"age\": 6,\n",
    "        },\n",
    "    ]\n",
    "}"
   ]
  },
  {
   "cell_type": "code",
   "execution_count": 60,
   "id": "3d0def73",
   "metadata": {},
   "outputs": [
    {
     "data": {
      "text/plain": [
       "dict_keys(['firstName', 'lastName', 'hobbies', 'age', 'children'])"
      ]
     },
     "execution_count": 60,
     "metadata": {},
     "output_type": "execute_result"
    }
   ],
   "source": [
    "data.keys()"
   ]
  },
  {
   "cell_type": "code",
   "execution_count": 67,
   "id": "797a0485",
   "metadata": {},
   "outputs": [
    {
     "data": {
      "text/plain": [
       "'{\"firstName\": \"Jane\", \"lastName\": \"Doe\", \"hobbies\": [\"running\", \"sky diving\", \"singing\"], \"age\": 35, \"children\": [{\"firstName\": \"Alice\", \"age\": 6}]}'"
      ]
     },
     "execution_count": 67,
     "metadata": {},
     "output_type": "execute_result"
    }
   ],
   "source": [
    "import json\n",
    "# превращает словарь в строку отформатированную по \n",
    "# правилам json\n",
    "s = json.dumps(data) \n",
    "s"
   ]
  },
  {
   "cell_type": "code",
   "execution_count": 68,
   "id": "a92cfbeb",
   "metadata": {},
   "outputs": [
    {
     "data": {
      "text/plain": [
       "{'firstName': 'Jane',\n",
       " 'lastName': 'Doe',\n",
       " 'hobbies': ['running', 'sky diving', 'singing'],\n",
       " 'age': 35,\n",
       " 'children': [{'firstName': 'Alice', 'age': 6}]}"
      ]
     },
     "execution_count": 68,
     "metadata": {},
     "output_type": "execute_result"
    }
   ],
   "source": [
    "# распарсить json\n",
    "json.loads(s)"
   ]
  },
  {
   "cell_type": "code",
   "execution_count": 69,
   "id": "a3191c0d",
   "metadata": {},
   "outputs": [],
   "source": [
    "with open(\"markup.json\", \"r\") as f:\n",
    "    x = json.load(f)"
   ]
  },
  {
   "cell_type": "code",
   "execution_count": 70,
   "id": "d7b40e6a",
   "metadata": {},
   "outputs": [
    {
     "data": {
      "text/plain": [
       "{'inputValues': {'id': 1, 'version': 1},\n",
       " 'workerId': 465,\n",
       " 'taskId': 0,\n",
       " 'outputValues': {'result': 'ok'}}"
      ]
     },
     "execution_count": 70,
     "metadata": {},
     "output_type": "execute_result"
    }
   ],
   "source": [
    "x[0]"
   ]
  },
  {
   "cell_type": "code",
   "execution_count": 71,
   "id": "e01b8fdd",
   "metadata": {},
   "outputs": [
    {
     "data": {
      "text/plain": [
       "[{'a': 0}, {'a': 1}, {'a': 2}]"
      ]
     },
     "execution_count": 71,
     "metadata": {},
     "output_type": "execute_result"
    }
   ],
   "source": [
    "y = [{'a' : i} for i in range(3)]\n",
    "y"
   ]
  },
  {
   "cell_type": "code",
   "execution_count": 72,
   "id": "3618ae84",
   "metadata": {},
   "outputs": [],
   "source": [
    "with open(\"test.json\", \"w\") as f:\n",
    "    json.dump(y, f)"
   ]
  },
  {
   "cell_type": "code",
   "execution_count": 73,
   "id": "7e9de912",
   "metadata": {},
   "outputs": [
    {
     "name": "stdout",
     "output_type": "stream",
     "text": [
      "[{\"a\": 0}, {\"a\": 1}, {\"a\": 2}]"
     ]
    }
   ],
   "source": [
    "!cat test.json"
   ]
  },
  {
   "cell_type": "markdown",
   "id": "56e83736",
   "metadata": {},
   "source": [
    "- [Введение в json](https://python-scripts.com/json)"
   ]
  },
  {
   "cell_type": "markdown",
   "id": "fcbdfd63",
   "metadata": {},
   "source": [
    "## Модуль pickle"
   ]
  },
  {
   "cell_type": "markdown",
   "id": "20eaef55",
   "metadata": {},
   "source": [
    "- [Пикл для чайников](https://pythonworld.ru/moduli/modul-pickle.html)"
   ]
  },
  {
   "cell_type": "code",
   "execution_count": 77,
   "id": "054cf5a2",
   "metadata": {},
   "outputs": [],
   "source": [
    "import pickle\n",
    "\n",
    "x = [1, 2, 3, 4, 5]\n",
    "\n",
    "with open(\"lst.pickle\", \"wb\") as f:\n",
    "    pickle.dump(x, f)"
   ]
  },
  {
   "cell_type": "code",
   "execution_count": 78,
   "id": "f7fda45e",
   "metadata": {},
   "outputs": [
    {
     "name": "stdout",
     "output_type": "stream",
     "text": [
      "�\u0003]q\u0000(K\u0001K\u0002K\u0003K\u0004K\u0005e."
     ]
    }
   ],
   "source": [
    "!cat lst.pickle"
   ]
  },
  {
   "cell_type": "code",
   "execution_count": 81,
   "id": "f2d947e9",
   "metadata": {},
   "outputs": [
    {
     "data": {
      "text/plain": [
       "[1, 2, 3, 4, 5]"
      ]
     },
     "execution_count": 81,
     "metadata": {},
     "output_type": "execute_result"
    }
   ],
   "source": [
    "with open(\"lst.pickle\", \"rb\") as f:\n",
    "    a = pickle.load(f)\n",
    "a"
   ]
  },
  {
   "cell_type": "markdown",
   "id": "75767269",
   "metadata": {},
   "source": [
    "В пикл можно сохранить что угодно. "
   ]
  },
  {
   "cell_type": "code",
   "execution_count": 84,
   "id": "6e1026c5",
   "metadata": {},
   "outputs": [],
   "source": [
    "# Так лучше не делать \n",
    "\n",
    "def g(x):\n",
    "    return x**2\n",
    "\n",
    "with open(\"lst.pickle\", \"wb\") as f:\n",
    "    pickle.dump(g, f)"
   ]
  },
  {
   "cell_type": "code",
   "execution_count": 86,
   "id": "747ab602",
   "metadata": {},
   "outputs": [],
   "source": [
    "with open(\"lst.pickle\", \"rb\") as f:\n",
    "    h = pickle.load(f)"
   ]
  },
  {
   "cell_type": "code",
   "execution_count": 87,
   "id": "cb3b1f9a",
   "metadata": {},
   "outputs": [
    {
     "data": {
      "text/plain": [
       "144"
      ]
     },
     "execution_count": 87,
     "metadata": {},
     "output_type": "execute_result"
    }
   ],
   "source": [
    "h(12)"
   ]
  },
  {
   "cell_type": "markdown",
   "id": "73cd4666",
   "metadata": {},
   "source": [
    "Можно использовать pickle чтобы сохранять модели обученные в ML "
   ]
  },
  {
   "cell_type": "markdown",
   "id": "506fe012",
   "metadata": {},
   "source": [
    "## Таблицы"
   ]
  },
  {
   "cell_type": "code",
   "execution_count": null,
   "id": "8e6fa8e9",
   "metadata": {},
   "outputs": [],
   "source": [
    "# .csv/.tsv"
   ]
  },
  {
   "cell_type": "code",
   "execution_count": 88,
   "id": "83483c2f",
   "metadata": {},
   "outputs": [
    {
     "name": "stdout",
     "output_type": "stream",
     "text": [
      "fio\tlogin\tgroup\temail\t1\t2\t3\t4\tДЗ итог\t1\t2\t3\t4\t5\t6\tМСР итог\t1\t2\t3\tБСР итог\tИтог\tИтог округл\tПроверяющий ассистент\r\n",
      "Новицкая Алина Дмитриевна\tdap_econ_2022_358\tБЭК196\tadnovitskaya@edu.hse.ru\t11\t\t\t\t2.8\t\t4.3\t8.0\t\t\t\t2.0\t9\t\t\t3.0\t2.78\t3\t\r\n",
      "Мунхтур Эгшиглэн\tdap_econ_2022_359\tБЭК197\temunkhtur@edu.hse.ru\t2\t\t\t\t0.5\t\t\t\t\t\t\t0.0\t\t\t\t0.0\t0.25\t0\t\r\n",
      "Майданов Бекнур\tdap_econ_2022_360\tБЭК198\tbmaydanov@edu.hse.ru\t11\t\t\t\t2.8\t\t\t0.0\t\t\t\t0.0\t0\t\t\t0.0\t1.38\t1\t\r\n",
      "Мукамбеков Бектур\tdap_econ_2022_361\tБЭК199\tbmukambekov@edu.hse.ru\t11\t\t\t\t2.8\t\t\t\t\t\t\t0.0\t10\t\t\t3.3\t2.71\t3\t\r\n",
      "Цветкова Алёна Алексеевна\tdap_econ_2022_353\tБЭК2011\taatsvetkova_3@edu.hse.ru\t11\t\t\t\t2.8\t10.0\t10.0\t\t\t\t\t3.3\t10\t\t\t3.3\t3.04\t3\t\r\n",
      "Артеменко Мария Игоревна\tdap_econ_2022_354\tБЭК2012\tmiartemenko@edu.hse.ru\t11\t\t\t\t2.8\t\t\t\t\t\t\t0.0\t\t\t\t0.0\t1.38\t1\t\r\n",
      "Котляренко Владислав Викторович\tdap_econ_2022_355\tБЭК2012\tvvkotlyarenko@edu.hse.ru\t10.3\t\t\t\t2.6\t8.0\t10.0\t\t\t\t\t3.0\t0\t\t\t0.0\t1.59\t2\t\r\n",
      "Хафизов Шохрух Обиджон угли\tdap_econ_2022_357\tБЭК209\tshokhafizov@edu.hse.ru\t0\t\t\t\t0.0\t\t\t\t\t\t\t0.0\t\t\t\t0.0\t0.00\t0\t"
     ]
    }
   ],
   "source": [
    "!cat table.tsv"
   ]
  },
  {
   "cell_type": "code",
   "execution_count": 92,
   "id": "6ce4234d",
   "metadata": {},
   "outputs": [
    {
     "data": {
      "text/html": [
       "<div>\n",
       "<style scoped>\n",
       "    .dataframe tbody tr th:only-of-type {\n",
       "        vertical-align: middle;\n",
       "    }\n",
       "\n",
       "    .dataframe tbody tr th {\n",
       "        vertical-align: top;\n",
       "    }\n",
       "\n",
       "    .dataframe thead th {\n",
       "        text-align: right;\n",
       "    }\n",
       "</style>\n",
       "<table border=\"1\" class=\"dataframe\">\n",
       "  <thead>\n",
       "    <tr style=\"text-align: right;\">\n",
       "      <th></th>\n",
       "      <th>fio</th>\n",
       "      <th>login</th>\n",
       "      <th>group</th>\n",
       "      <th>email</th>\n",
       "      <th>1</th>\n",
       "      <th>2</th>\n",
       "      <th>3</th>\n",
       "      <th>4</th>\n",
       "      <th>ДЗ итог</th>\n",
       "      <th>1.1</th>\n",
       "      <th>...</th>\n",
       "      <th>5</th>\n",
       "      <th>6</th>\n",
       "      <th>МСР итог</th>\n",
       "      <th>1.2</th>\n",
       "      <th>2.2</th>\n",
       "      <th>3.2</th>\n",
       "      <th>БСР итог</th>\n",
       "      <th>Итог</th>\n",
       "      <th>Итог округл</th>\n",
       "      <th>Проверяющий ассистент</th>\n",
       "    </tr>\n",
       "  </thead>\n",
       "  <tbody>\n",
       "    <tr>\n",
       "      <th>0</th>\n",
       "      <td>Новицкая Алина Дмитриевна</td>\n",
       "      <td>dap_econ_2022_358</td>\n",
       "      <td>БЭК196</td>\n",
       "      <td>adnovitskaya@edu.hse.ru</td>\n",
       "      <td>11.0</td>\n",
       "      <td>NaN</td>\n",
       "      <td>NaN</td>\n",
       "      <td>NaN</td>\n",
       "      <td>2.8</td>\n",
       "      <td>NaN</td>\n",
       "      <td>...</td>\n",
       "      <td>NaN</td>\n",
       "      <td>NaN</td>\n",
       "      <td>2.0</td>\n",
       "      <td>9.0</td>\n",
       "      <td>NaN</td>\n",
       "      <td>NaN</td>\n",
       "      <td>3.0</td>\n",
       "      <td>2.78</td>\n",
       "      <td>3</td>\n",
       "      <td>NaN</td>\n",
       "    </tr>\n",
       "    <tr>\n",
       "      <th>1</th>\n",
       "      <td>Мунхтур Эгшиглэн</td>\n",
       "      <td>dap_econ_2022_359</td>\n",
       "      <td>БЭК197</td>\n",
       "      <td>emunkhtur@edu.hse.ru</td>\n",
       "      <td>2.0</td>\n",
       "      <td>NaN</td>\n",
       "      <td>NaN</td>\n",
       "      <td>NaN</td>\n",
       "      <td>0.5</td>\n",
       "      <td>NaN</td>\n",
       "      <td>...</td>\n",
       "      <td>NaN</td>\n",
       "      <td>NaN</td>\n",
       "      <td>0.0</td>\n",
       "      <td>NaN</td>\n",
       "      <td>NaN</td>\n",
       "      <td>NaN</td>\n",
       "      <td>0.0</td>\n",
       "      <td>0.25</td>\n",
       "      <td>0</td>\n",
       "      <td>NaN</td>\n",
       "    </tr>\n",
       "    <tr>\n",
       "      <th>2</th>\n",
       "      <td>Майданов Бекнур</td>\n",
       "      <td>dap_econ_2022_360</td>\n",
       "      <td>БЭК198</td>\n",
       "      <td>bmaydanov@edu.hse.ru</td>\n",
       "      <td>11.0</td>\n",
       "      <td>NaN</td>\n",
       "      <td>NaN</td>\n",
       "      <td>NaN</td>\n",
       "      <td>2.8</td>\n",
       "      <td>NaN</td>\n",
       "      <td>...</td>\n",
       "      <td>NaN</td>\n",
       "      <td>NaN</td>\n",
       "      <td>0.0</td>\n",
       "      <td>0.0</td>\n",
       "      <td>NaN</td>\n",
       "      <td>NaN</td>\n",
       "      <td>0.0</td>\n",
       "      <td>1.38</td>\n",
       "      <td>1</td>\n",
       "      <td>NaN</td>\n",
       "    </tr>\n",
       "    <tr>\n",
       "      <th>3</th>\n",
       "      <td>Мукамбеков Бектур</td>\n",
       "      <td>dap_econ_2022_361</td>\n",
       "      <td>БЭК199</td>\n",
       "      <td>bmukambekov@edu.hse.ru</td>\n",
       "      <td>11.0</td>\n",
       "      <td>NaN</td>\n",
       "      <td>NaN</td>\n",
       "      <td>NaN</td>\n",
       "      <td>2.8</td>\n",
       "      <td>NaN</td>\n",
       "      <td>...</td>\n",
       "      <td>NaN</td>\n",
       "      <td>NaN</td>\n",
       "      <td>0.0</td>\n",
       "      <td>10.0</td>\n",
       "      <td>NaN</td>\n",
       "      <td>NaN</td>\n",
       "      <td>3.3</td>\n",
       "      <td>2.71</td>\n",
       "      <td>3</td>\n",
       "      <td>NaN</td>\n",
       "    </tr>\n",
       "    <tr>\n",
       "      <th>4</th>\n",
       "      <td>Цветкова Алёна Алексеевна</td>\n",
       "      <td>dap_econ_2022_353</td>\n",
       "      <td>БЭК2011</td>\n",
       "      <td>aatsvetkova_3@edu.hse.ru</td>\n",
       "      <td>11.0</td>\n",
       "      <td>NaN</td>\n",
       "      <td>NaN</td>\n",
       "      <td>NaN</td>\n",
       "      <td>2.8</td>\n",
       "      <td>10.0</td>\n",
       "      <td>...</td>\n",
       "      <td>NaN</td>\n",
       "      <td>NaN</td>\n",
       "      <td>3.3</td>\n",
       "      <td>10.0</td>\n",
       "      <td>NaN</td>\n",
       "      <td>NaN</td>\n",
       "      <td>3.3</td>\n",
       "      <td>3.04</td>\n",
       "      <td>3</td>\n",
       "      <td>NaN</td>\n",
       "    </tr>\n",
       "  </tbody>\n",
       "</table>\n",
       "<p>5 rows × 23 columns</p>\n",
       "</div>"
      ],
      "text/plain": [
       "                         fio              login    group  \\\n",
       "0  Новицкая Алина Дмитриевна  dap_econ_2022_358   БЭК196   \n",
       "1           Мунхтур Эгшиглэн  dap_econ_2022_359   БЭК197   \n",
       "2            Майданов Бекнур  dap_econ_2022_360   БЭК198   \n",
       "3          Мукамбеков Бектур  dap_econ_2022_361   БЭК199   \n",
       "4  Цветкова Алёна Алексеевна  dap_econ_2022_353  БЭК2011   \n",
       "\n",
       "                      email     1   2   3   4  ДЗ итог   1.1  ...   5   6  \\\n",
       "0   adnovitskaya@edu.hse.ru  11.0 NaN NaN NaN      2.8   NaN  ... NaN NaN   \n",
       "1      emunkhtur@edu.hse.ru   2.0 NaN NaN NaN      0.5   NaN  ... NaN NaN   \n",
       "2      bmaydanov@edu.hse.ru  11.0 NaN NaN NaN      2.8   NaN  ... NaN NaN   \n",
       "3    bmukambekov@edu.hse.ru  11.0 NaN NaN NaN      2.8   NaN  ... NaN NaN   \n",
       "4  aatsvetkova_3@edu.hse.ru  11.0 NaN NaN NaN      2.8  10.0  ... NaN NaN   \n",
       "\n",
       "   МСР итог   1.2  2.2  3.2  БСР итог  Итог  Итог округл  \\\n",
       "0       2.0   9.0  NaN  NaN       3.0  2.78            3   \n",
       "1       0.0   NaN  NaN  NaN       0.0  0.25            0   \n",
       "2       0.0   0.0  NaN  NaN       0.0  1.38            1   \n",
       "3       0.0  10.0  NaN  NaN       3.3  2.71            3   \n",
       "4       3.3  10.0  NaN  NaN       3.3  3.04            3   \n",
       "\n",
       "   Проверяющий ассистент  \n",
       "0                    NaN  \n",
       "1                    NaN  \n",
       "2                    NaN  \n",
       "3                    NaN  \n",
       "4                    NaN  \n",
       "\n",
       "[5 rows x 23 columns]"
      ]
     },
     "execution_count": 92,
     "metadata": {},
     "output_type": "execute_result"
    }
   ],
   "source": [
    "# это библиотека для работы с таблицами\n",
    "import pandas as pd\n",
    "df = pd.read_csv('table.tsv', sep='\\t')\n",
    "df.head()"
   ]
  },
  {
   "cell_type": "code",
   "execution_count": 95,
   "id": "a75066f7",
   "metadata": {
    "scrolled": true
   },
   "outputs": [
    {
     "data": {
      "text/plain": [
       "['Алина',\n",
       " 'Эгшиглэн',\n",
       " 'Бекнур',\n",
       " 'Бектур',\n",
       " 'Алёна',\n",
       " 'Мария',\n",
       " 'Владислав',\n",
       " 'Шохрух']"
      ]
     },
     "execution_count": 95,
     "metadata": {},
     "output_type": "execute_result"
    }
   ],
   "source": [
    "[item.split(' ')[1] for item in df['fio'].values]"
   ]
  },
  {
   "cell_type": "markdown",
   "id": "40de01bd",
   "metadata": {},
   "source": [
    "В этом семестре нам нельзя использовать пандас :(  Дурацкий независимый экзамен запрещеает нам это. Будь он тысячу раз проклят! "
   ]
  },
  {
   "cell_type": "markdown",
   "id": "bc8a9f37",
   "metadata": {},
   "source": [
    "__Упражнение:__ \n",
    "\n",
    "посчитать среднюю оценку за БСР "
   ]
  },
  {
   "cell_type": "code",
   "execution_count": 117,
   "id": "67b84e80",
   "metadata": {},
   "outputs": [
    {
     "data": {
      "text/plain": [
       "[3.0, 0.0, 0.0, 3.3, 3.3, 0.0, 0.0, 0.0]"
      ]
     },
     "execution_count": 117,
     "metadata": {},
     "output_type": "execute_result"
    }
   ],
   "source": [
    "ans = []\n",
    "\n",
    "with open('table.tsv', 'r') as f:\n",
    "    row = f.readline().split('\\t')\n",
    "    bsr_indx = row.index('БСР итог')\n",
    "    \n",
    "    while True:\n",
    "        row = f.readline()\n",
    "        if row == '':\n",
    "            break\n",
    "        ans.append(float(row.split('\\t')[bsr_indx]))\n",
    "ans"
   ]
  },
  {
   "cell_type": "code",
   "execution_count": 118,
   "id": "31312b4f",
   "metadata": {},
   "outputs": [
    {
     "data": {
      "text/plain": [
       "1.2"
      ]
     },
     "execution_count": 118,
     "metadata": {},
     "output_type": "execute_result"
    }
   ],
   "source": [
    "sum(ans)/len(ans)"
   ]
  },
  {
   "cell_type": "markdown",
   "id": "550dade9",
   "metadata": {},
   "source": [
    "## 2. Модуль sys"
   ]
  },
  {
   "cell_type": "code",
   "execution_count": 2,
   "id": "7ee36e0a",
   "metadata": {},
   "outputs": [],
   "source": [
    "import os"
   ]
  },
  {
   "cell_type": "code",
   "execution_count": 8,
   "id": "fe868c39",
   "metadata": {},
   "outputs": [],
   "source": [
    "# !mkdir sem07_218\n",
    "os.makedirs('sem07_218')"
   ]
  },
  {
   "cell_type": "code",
   "execution_count": 12,
   "id": "57d43129",
   "metadata": {},
   "outputs": [
    {
     "data": {
      "text/plain": [
       "['what_i_want_to_tell.ipynb',\n",
       " 'sem04_211.ipynb',\n",
       " 'dirty_ML',\n",
       " '.bash_history',\n",
       " '.config']"
      ]
     },
     "execution_count": 12,
     "metadata": {},
     "output_type": "execute_result"
    }
   ],
   "source": [
    "# !ls\n",
    "os.listdir()[:5]"
   ]
  },
  {
   "cell_type": "code",
   "execution_count": 13,
   "id": "f1c3bfcf",
   "metadata": {},
   "outputs": [
    {
     "data": {
      "text/plain": [
       "True"
      ]
     },
     "execution_count": 13,
     "metadata": {},
     "output_type": "execute_result"
    }
   ],
   "source": [
    "'sem07_218' in os.listdir()"
   ]
  },
  {
   "cell_type": "code",
   "execution_count": 11,
   "id": "5244053b",
   "metadata": {},
   "outputs": [
    {
     "name": "stdout",
     "output_type": "stream",
     "text": [
      "/home/randomwalk\r\n"
     ]
    },
    {
     "data": {
      "text/plain": [
       "'/home/randomwalk'"
      ]
     },
     "execution_count": 11,
     "metadata": {},
     "output_type": "execute_result"
    }
   ],
   "source": [
    "# !pwd\n",
    "os.getcwd()"
   ]
  },
  {
   "cell_type": "code",
   "execution_count": 14,
   "id": "fa6a5621",
   "metadata": {},
   "outputs": [
    {
     "data": {
      "text/plain": [
       "'/home/randomwalk/sem07_218'"
      ]
     },
     "execution_count": 14,
     "metadata": {},
     "output_type": "execute_result"
    }
   ],
   "source": [
    "# !cwd\n",
    "os.chdir('sem07_218')\n",
    "os.getcwd()"
   ]
  },
  {
   "cell_type": "code",
   "execution_count": 16,
   "id": "050c14c7",
   "metadata": {},
   "outputs": [
    {
     "data": {
      "text/plain": [
       "[]"
      ]
     },
     "execution_count": 16,
     "metadata": {},
     "output_type": "execute_result"
    }
   ],
   "source": [
    "os.listdir()"
   ]
  },
  {
   "cell_type": "code",
   "execution_count": 17,
   "id": "2de6d984",
   "metadata": {},
   "outputs": [],
   "source": [
    "# !mv\n",
    "os.rename(\"/home/randomwalk/file.txt\", \n",
    "          \"/home/randomwalk/sem07_218/file.txt\")"
   ]
  },
  {
   "cell_type": "code",
   "execution_count": 18,
   "id": "2ba8e99f",
   "metadata": {},
   "outputs": [
    {
     "data": {
      "text/plain": [
       "['file.txt']"
      ]
     },
     "execution_count": 18,
     "metadata": {},
     "output_type": "execute_result"
    }
   ],
   "source": [
    "os.listdir()"
   ]
  },
  {
   "cell_type": "code",
   "execution_count": null,
   "id": "1dbad634",
   "metadata": {},
   "outputs": [],
   "source": [
    "# Первый тип путей: абсолютные пути\n",
    "# Пишем весь путь целиком от корневой директории компа\n",
    "# /home/randomwalk/sem07_218/file.txt\n",
    "\n",
    "# Второй тип путей: относительные пути\n",
    "# Пишем путь от текущего места\n",
    "# ../file.txt - выйди в предыдущую папку и посмотри что лежит там\n",
    "# file.txt - ищи файл в текущей рабочей папке"
   ]
  },
  {
   "cell_type": "code",
   "execution_count": 20,
   "id": "68b3f469",
   "metadata": {},
   "outputs": [
    {
     "data": {
      "text/plain": [
       "'/home/randomwalk/sem07_218'"
      ]
     },
     "execution_count": 20,
     "metadata": {},
     "output_type": "execute_result"
    }
   ],
   "source": [
    "os.getcwd()"
   ]
  },
  {
   "cell_type": "code",
   "execution_count": 26,
   "id": "eb762f67",
   "metadata": {},
   "outputs": [
    {
     "data": {
      "text/plain": [
       "['what_i_want_to_tell.ipynb',\n",
       " 'sem04_211.ipynb',\n",
       " 'dirty_ML',\n",
       " '.bash_history',\n",
       " '.config']"
      ]
     },
     "execution_count": 26,
     "metadata": {},
     "output_type": "execute_result"
    }
   ],
   "source": [
    "os.listdir('../')[:5]"
   ]
  },
  {
   "cell_type": "markdown",
   "id": "760ecbd6",
   "metadata": {},
   "source": [
    " "
   ]
  }
 ],
 "metadata": {
  "kernelspec": {
   "display_name": "Python 3",
   "language": "python",
   "name": "python3"
  },
  "language_info": {
   "codemirror_mode": {
    "name": "ipython",
    "version": 3
   },
   "file_extension": ".py",
   "mimetype": "text/x-python",
   "name": "python",
   "nbconvert_exporter": "python",
   "pygments_lexer": "ipython3",
   "version": "3.6.9"
  }
 },
 "nbformat": 4,
 "nbformat_minor": 5
}
