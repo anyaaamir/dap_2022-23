{
 "cells": [
  {
   "cell_type": "markdown",
   "id": "b6160c4d",
   "metadata": {},
   "source": [
    "# Демоверсия НЭ"
   ]
  },
  {
   "cell_type": "markdown",
   "id": "72ffe5b6",
   "metadata": {},
   "source": [
    "## Код для некотоорых заданий по тесту"
   ]
  },
  {
   "cell_type": "code",
   "execution_count": 1,
   "id": "e696833b",
   "metadata": {},
   "outputs": [],
   "source": [
    "d = {\n",
    "    10: 'a', \n",
    "    20: 12, \n",
    "    30: (1, 2, 3)\n",
    "}\n"
   ]
  },
  {
   "cell_type": "code",
   "execution_count": 2,
   "id": "33cc9c65",
   "metadata": {},
   "outputs": [],
   "source": [
    "text = 'cat drinks milk and another cat plays'\n",
    "container = {}\n",
    "for var in text.split():\n",
    "    if var in container:\n",
    "        container[var] += 1\n",
    "    else:\n",
    "        container[var] = 1"
   ]
  },
  {
   "cell_type": "code",
   "execution_count": 3,
   "id": "b567e130",
   "metadata": {},
   "outputs": [
    {
     "data": {
      "text/plain": [
       "{'cat': 2, 'drinks': 1, 'milk': 1, 'and': 1, 'another': 1, 'plays': 1}"
      ]
     },
     "execution_count": 3,
     "metadata": {},
     "output_type": "execute_result"
    }
   ],
   "source": [
    "container"
   ]
  },
  {
   "cell_type": "code",
   "execution_count": 4,
   "id": "29860861",
   "metadata": {},
   "outputs": [
    {
     "name": "stdout",
     "output_type": "stream",
     "text": [
      "Незачет\n"
     ]
    }
   ],
   "source": [
    "def check_mark(mark):\n",
    "    if mark < 4:\n",
    "         return 'Незачет'\n",
    "    return 'Зачет'\n",
    "\n",
    "student_mark = 3\n",
    "\n",
    "result = check_mark(student_mark)\n",
    "print(result)\n",
    "\n"
   ]
  },
  {
   "cell_type": "markdown",
   "id": "b60418b1",
   "metadata": {},
   "source": [
    "## Часть Б"
   ]
  },
  {
   "cell_type": "markdown",
   "id": "8f991f3f",
   "metadata": {},
   "source": [
    "### 11"
   ]
  },
  {
   "cell_type": "code",
   "execution_count": 5,
   "id": "3a164e59",
   "metadata": {
    "scrolled": true
   },
   "outputs": [
    {
     "name": "stdout",
     "output_type": "stream",
     "text": [
      "1 2 3\n",
      "4 5 6\n",
      "1 любит 4\n",
      "2 любит 5\n",
      "3 любит 6\n"
     ]
    }
   ],
   "source": [
    "names = input().split()\n",
    "fruits = input().split()\n",
    "\n",
    "# ваш код ниже\n",
    "n = len(names)\n",
    "for i in range(n):\n",
    "    # print(f\"{names[i]} любит {fruits[i]}\")\n",
    "    print(names[i],'любит',fruits[i])"
   ]
  },
  {
   "cell_type": "markdown",
   "id": "2b139733",
   "metadata": {},
   "source": [
    "### 12"
   ]
  },
  {
   "cell_type": "code",
   "execution_count": 6,
   "id": "5dfd9761",
   "metadata": {},
   "outputs": [
    {
     "name": "stdout",
     "output_type": "stream",
     "text": [
      "1 2 3\n",
      "3 4 5\n"
     ]
    }
   ],
   "source": [
    "numbers_1 = list(map(int, input().split()))\n",
    "numbers_2 = list(map(int, input().split()))\n",
    "# ваш код ниже\n",
    "\n"
   ]
  },
  {
   "cell_type": "code",
   "execution_count": 7,
   "id": "2ec297cb",
   "metadata": {},
   "outputs": [
    {
     "name": "stdout",
     "output_type": "stream",
     "text": [
      "1 2 3 4 5\n"
     ]
    }
   ],
   "source": [
    "print(*sorted(set(numbers_1)|set(numbers_2)))"
   ]
  },
  {
   "cell_type": "markdown",
   "id": "b9a6ac95",
   "metadata": {},
   "source": [
    "## Часть C"
   ]
  },
  {
   "cell_type": "markdown",
   "id": "6d61fa14",
   "metadata": {},
   "source": [
    "## 16"
   ]
  },
  {
   "cell_type": "markdown",
   "id": "8a460a9f",
   "metadata": {},
   "source": [
    "### 16-1"
   ]
  },
  {
   "cell_type": "code",
   "execution_count": 8,
   "id": "cf70dbe9",
   "metadata": {},
   "outputs": [
    {
     "data": {
      "text/plain": [
       "['Ginny Weasley', 'Harry Potter', 'Hermione Granger']"
      ]
     },
     "execution_count": 8,
     "metadata": {},
     "output_type": "execute_result"
    }
   ],
   "source": [
    "d = {\n",
    "    'Harry Potter': [7, 6, 8, 6, 600],\n",
    "    'Hermione Granger': [10, 10, 9, 10, 10, 9, 9],\n",
    "    'Ron Weasley': [6, 5, 7, 4, 5],\n",
    "    'Ginny Weasley': [9, 7, 8]\n",
    "}\n",
    "\n",
    "def get_excellent(d):\n",
    "    ans = []\n",
    "    for name in d:\n",
    "        avg = sum(d[name])/len(d[name])\n",
    "        if avg>=8:\n",
    "            ans.append(name)\n",
    "    return sorted(ans)\n",
    "\n",
    "get_excellent(d)"
   ]
  },
  {
   "cell_type": "markdown",
   "id": "4b91adbe",
   "metadata": {},
   "source": [
    "### 16-2"
   ]
  },
  {
   "cell_type": "code",
   "execution_count": 9,
   "id": "50f35e17",
   "metadata": {},
   "outputs": [],
   "source": [
    "n, d = 3, {\n",
    "    'Harry Potter': [7, 6, 8, 9, 8],\n",
    "    'Draco Malfoy': [10, 10, 1, 4, 10],\n",
    "    'Hermione Granger': [10, 10, 9, 10, 10],\n",
    "    'Ron Weasley': [8, 5, 2, 9, 5],\n",
    "    'Ginny Weasley': [7, 7, 8, 2, 5],\n",
    "    'Neville Longbottom': [6, 10, 8, 7, 9],\n",
    "    'Loona Lovegood': [9, 10, 8, 8, 9]\n",
    "}"
   ]
  },
  {
   "cell_type": "code",
   "execution_count": 10,
   "id": "1c05f4f1",
   "metadata": {},
   "outputs": [
    {
     "data": {
      "text/plain": [
       "7.0"
      ]
     },
     "execution_count": 10,
     "metadata": {},
     "output_type": "execute_result"
    }
   ],
   "source": [
    "def get_average(subject_number, info):\n",
    "    sum_ = 0\n",
    "    k = 0\n",
    "    for name in info:\n",
    "        sum_ += info[name][subject_number]\n",
    "        k += 1\n",
    "    return sum_/k\n",
    "\n",
    "get_average(n,d)"
   ]
  },
  {
   "cell_type": "markdown",
   "id": "5d9dbdb1",
   "metadata": {},
   "source": [
    "### 16-3"
   ]
  },
  {
   "cell_type": "code",
   "execution_count": 11,
   "id": "9e284250",
   "metadata": {},
   "outputs": [],
   "source": [
    "input_language, word, dictionary = 'EN', 'кошка',{\n",
    "    'EN':{'яблоко':'apple', 'кошка':'cat', 'решение':'solution'}, \n",
    "    'DE':{'яблоко':'apfel', 'город':'stadt', 'кошка':'katze'}, \n",
    "    'FR':{'город':'ville', 'кошка':'chat', 'все':'tout'}}"
   ]
  },
  {
   "cell_type": "code",
   "execution_count": 12,
   "id": "c37ef2c7",
   "metadata": {},
   "outputs": [],
   "source": [
    "def translation(input_language, word, dictionary):\n",
    "    if word in dictionary[input_language]:\n",
    "        return f'{input_language}: {word} {dictionary[input_language][word]}'\n",
    "    else:\n",
    "        return 'Перевод отстутствует'"
   ]
  },
  {
   "cell_type": "markdown",
   "id": "0c659fdd",
   "metadata": {},
   "source": [
    "## 17"
   ]
  },
  {
   "cell_type": "markdown",
   "id": "00e1d06f",
   "metadata": {},
   "source": [
    "### 17-1"
   ]
  },
  {
   "cell_type": "raw",
   "id": "6f224520",
   "metadata": {},
   "source": [
    "Harry; 20\n",
    "Hermione; 15\n",
    "Ron; 12\n",
    "Harry; 21\n",
    "Ron; 8\n",
    "Hermione; 33\n",
    "Hermione; 11\n",
    "END\n",
    "15 21 11"
   ]
  },
  {
   "cell_type": "code",
   "execution_count": 13,
   "id": "34308600",
   "metadata": {},
   "outputs": [
    {
     "name": "stdout",
     "output_type": "stream",
     "text": [
      "Harry; 20\n",
      "Hermione; 15\n",
      "END\n"
     ]
    }
   ],
   "source": [
    "d = {}\n",
    "inp = input()\n",
    "while inp!='END':\n",
    "    name, ticket = inp.split('; ')\n",
    "    d[name] = d.get(name, []) + [ticket]\n",
    "    inp = input()"
   ]
  },
  {
   "cell_type": "code",
   "execution_count": 14,
   "id": "3a1844cd",
   "metadata": {},
   "outputs": [
    {
     "name": "stdout",
     "output_type": "stream",
     "text": [
      "20 10\n"
     ]
    }
   ],
   "source": [
    "win = input().split()"
   ]
  },
  {
   "cell_type": "code",
   "execution_count": 15,
   "id": "6489a18a",
   "metadata": {},
   "outputs": [
    {
     "name": "stdout",
     "output_type": "stream",
     "text": [
      "Harry\n"
     ]
    }
   ],
   "source": [
    "# способ 1\n",
    "winners = []\n",
    "for name in d:\n",
    "    if len(set(d[name])&set(win))>0:\n",
    "        winners.append(name)\n",
    "        \n",
    "print(*sorted(set(winners)))"
   ]
  },
  {
   "cell_type": "code",
   "execution_count": 16,
   "id": "170112fa",
   "metadata": {},
   "outputs": [
    {
     "name": "stdout",
     "output_type": "stream",
     "text": [
      "Harry\n"
     ]
    }
   ],
   "source": [
    "# способ 2\n",
    "winners = []\n",
    "for name in d:\n",
    "    for ticket in d[name]:\n",
    "        if ticket in win:\n",
    "            winners.append(name)\n",
    "print(*sorted(set(winners)))"
   ]
  },
  {
   "cell_type": "markdown",
   "id": "43343682",
   "metadata": {},
   "source": [
    "### 17-2"
   ]
  },
  {
   "cell_type": "raw",
   "id": "186cd468",
   "metadata": {},
   "source": [
    "Анна Иванова;Защита от темных искусств;Политология\n",
    "Олег Ли;Зельеваренье;МИРЭК\n",
    "Александр Романоский;Защита от темных искусств;Политология\n",
    "Аглафира Парфенова;Защита от темных искусств;Журналистика\n",
    "Юко Хонда;Зельеваренье;Компьютерные науки\n",
    "КОНЕЦ\n",
    "Защита от темных искусств"
   ]
  },
  {
   "cell_type": "code",
   "execution_count": 18,
   "id": "c9564de7",
   "metadata": {},
   "outputs": [
    {
     "name": "stdout",
     "output_type": "stream",
     "text": [
      "Анна Иванова;Защита от темных искусств;Политология\n",
      "Олег Ли;Зельеваренье;МИРЭК\n",
      "КОНЕЦ\n"
     ]
    }
   ],
   "source": [
    "s = input()\n",
    "d = {}\n",
    "while s!='КОНЕЦ':\n",
    "    name, section, program = s.split(';')\n",
    "    if section not in d:\n",
    "        d[section] = set()\n",
    "    d[section].add(program)\n",
    "    s = input()"
   ]
  },
  {
   "cell_type": "code",
   "execution_count": 19,
   "id": "dffd7690",
   "metadata": {},
   "outputs": [
    {
     "name": "stdout",
     "output_type": "stream",
     "text": [
      "Защита от темных искусств\n"
     ]
    }
   ],
   "source": [
    "program_interest = input()"
   ]
  },
  {
   "cell_type": "code",
   "execution_count": 20,
   "id": "762a12ea",
   "metadata": {},
   "outputs": [
    {
     "name": "stdout",
     "output_type": "stream",
     "text": [
      "Политология\n"
     ]
    }
   ],
   "source": [
    "print(*sorted(d[program_interest]))"
   ]
  },
  {
   "cell_type": "markdown",
   "id": "b153364d",
   "metadata": {},
   "source": [
    "### 17-3"
   ]
  },
  {
   "cell_type": "raw",
   "id": "09154ece",
   "metadata": {},
   "source": [
    "2 5325\n",
    "4 5325\n",
    "15 5235\n",
    "5 3252\n",
    "9 21155\n",
    "10 2421\n",
    "0\n",
    "5"
   ]
  },
  {
   "cell_type": "code",
   "execution_count": 23,
   "id": "900130e6",
   "metadata": {},
   "outputs": [
    {
     "name": "stdout",
     "output_type": "stream",
     "text": [
      "1 1\n",
      "2 2\n",
      "3 3\n",
      "0\n"
     ]
    }
   ],
   "source": [
    "d = {}\n",
    "s = input()\n",
    "while s!='0':\n",
    "    month, money = map(int, s.split())\n",
    "    d[month] = money\n",
    "    s = input()"
   ]
  },
  {
   "cell_type": "code",
   "execution_count": 24,
   "id": "11783d67",
   "metadata": {},
   "outputs": [
    {
     "name": "stdout",
     "output_type": "stream",
     "text": [
      "2\n"
     ]
    }
   ],
   "source": [
    "last_day = int(input())"
   ]
  },
  {
   "cell_type": "code",
   "execution_count": 25,
   "id": "53775486",
   "metadata": {},
   "outputs": [
    {
     "name": "stdout",
     "output_type": "stream",
     "text": [
      "3\n"
     ]
    }
   ],
   "source": [
    "total = 0\n",
    "for day in d:\n",
    "    if day<=last_day:\n",
    "        total += d[day]\n",
    "        \n",
    "print(total)"
   ]
  },
  {
   "cell_type": "code",
   "execution_count": null,
   "id": "ef2f728b",
   "metadata": {},
   "outputs": [],
   "source": []
  }
 ],
 "metadata": {
  "kernelspec": {
   "display_name": "Python 3 (ipykernel)",
   "language": "python",
   "name": "python3"
  },
  "language_info": {
   "codemirror_mode": {
    "name": "ipython",
    "version": 3
   },
   "file_extension": ".py",
   "mimetype": "text/x-python",
   "name": "python",
   "nbconvert_exporter": "python",
   "pygments_lexer": "ipython3",
   "version": "3.10.4"
  },
  "toc": {
   "base_numbering": 1,
   "nav_menu": {},
   "number_sections": false,
   "sideBar": true,
   "skip_h1_title": false,
   "title_cell": "Table of Contents",
   "title_sidebar": "Contents",
   "toc_cell": false,
   "toc_position": {
    "height": "calc(100% - 180px)",
    "left": "10px",
    "top": "150px",
    "width": "288px"
   },
   "toc_section_display": true,
   "toc_window_display": true
  }
 },
 "nbformat": 4,
 "nbformat_minor": 5
}
