{
 "cells": [
  {
   "cell_type": "markdown",
   "id": "whole-trash",
   "metadata": {},
   "source": [
    "## План\n",
    "\n",
    "1. Вспомним структуры данных\n",
    "2. Поговорим про сложности\n",
    "3. Решим задачку с литкода\n",
    "4. МСР (за 10 мин)"
   ]
  },
  {
   "cell_type": "markdown",
   "id": "fatty-reputation",
   "metadata": {},
   "source": [
    "## Структуры данных\n",
    "\n",
    "* Списки\n",
    "* Кортежи\n",
    "* Множества\n",
    "* Словари"
   ]
  },
  {
   "cell_type": "markdown",
   "id": "introductory-brook",
   "metadata": {},
   "source": [
    "## Сложности"
   ]
  },
  {
   "cell_type": "code",
   "execution_count": 33,
   "id": "divided-yeast",
   "metadata": {},
   "outputs": [
    {
     "data": {
      "text/plain": [
       "dict_keys([])"
      ]
     },
     "execution_count": 33,
     "metadata": {},
     "output_type": "execute_result"
    }
   ],
   "source": [
    "d = {}\n",
    "\n",
    "d.keys()"
   ]
  },
  {
   "cell_type": "code",
   "execution_count": 2,
   "id": "protecting-stomach",
   "metadata": {},
   "outputs": [
    {
     "data": {
      "text/plain": [
       "False"
      ]
     },
     "execution_count": 2,
     "metadata": {},
     "output_type": "execute_result"
    }
   ],
   "source": [
    "x = [1, 2, 3, 4]\n",
    "\n",
    "3 in x  # O(n)"
   ]
  },
  {
   "cell_type": "code",
   "execution_count": 6,
   "id": "nominated-kansas",
   "metadata": {},
   "outputs": [
    {
     "data": {
      "text/plain": [
       "True"
      ]
     },
     "execution_count": 6,
     "metadata": {},
     "output_type": "execute_result"
    }
   ],
   "source": [
    "x = [1, 2, 3, 4]\n",
    "\n",
    "x_set = set(x) # O(n)\n",
    "\n",
    "3 in x_set  # O(1)"
   ]
  },
  {
   "cell_type": "code",
   "execution_count": 7,
   "id": "durable-container",
   "metadata": {},
   "outputs": [
    {
     "data": {
      "text/plain": [
       "10"
      ]
     },
     "execution_count": 7,
     "metadata": {},
     "output_type": "execute_result"
    }
   ],
   "source": [
    "x = [1, 2, 3, 4]\n",
    "\n",
    "sum(x) # O(n)"
   ]
  },
  {
   "cell_type": "code",
   "execution_count": 8,
   "id": "closed-chain",
   "metadata": {},
   "outputs": [],
   "source": [
    "#def my_sum(x): # O(n)\n",
    "#    summa = 0\n",
    "#    for el in x: # O(n)\n",
    "#        summa += el\n",
    "#    return summa"
   ]
  },
  {
   "cell_type": "code",
   "execution_count": 9,
   "id": "lucky-staff",
   "metadata": {},
   "outputs": [
    {
     "data": {
      "text/plain": [
       "4"
      ]
     },
     "execution_count": 9,
     "metadata": {},
     "output_type": "execute_result"
    }
   ],
   "source": [
    "x = [1, 2, 3, 4]\n",
    "\n",
    "len(x) # O(1)"
   ]
  },
  {
   "cell_type": "markdown",
   "id": "sexual-error",
   "metadata": {},
   "source": [
    "## Задачка с литкода (2sum)"
   ]
  },
  {
   "cell_type": "code",
   "execution_count": 13,
   "id": "received-humor",
   "metadata": {},
   "outputs": [
    {
     "data": {
      "text/plain": [
       "(2, 7)"
      ]
     },
     "execution_count": 13,
     "metadata": {},
     "output_type": "execute_result"
    }
   ],
   "source": [
    "nums = [2, 7, 11, 15]\n",
    "target = 9\n",
    "\n",
    "def slow_2sum(x, target):\n",
    "    for i in range(len(x)): # O(n)\n",
    "        for j in range(i+1, len(x)): # O(n)\n",
    "            if x[i] + x[j] == target: # O(1)\n",
    "                return (x[i], x[j]) # O(1)\n",
    "\n",
    "\n",
    "# O(n^2)       \n",
    "slow_2sum(nums, target)"
   ]
  },
  {
   "cell_type": "code",
   "execution_count": 21,
   "id": "russian-affect",
   "metadata": {},
   "outputs": [
    {
     "data": {
      "text/plain": [
       "(2, 7)"
      ]
     },
     "execution_count": 21,
     "metadata": {},
     "output_type": "execute_result"
    }
   ],
   "source": [
    "nums = [2, 7, 11, 15]\n",
    "target = 9\n",
    "\n",
    "def slow_2sum(x, target):\n",
    "    for i in range(len(x)):  # O(n)\n",
    "        k = target - x[i]    # O(1)\n",
    "        if (k in x) and (x[i] != k): # O(n)\n",
    "            return (x[i], k) # O(1) \n",
    "        \n",
    "# O(n^2)\n",
    "slow_2sum(nums, target)"
   ]
  },
  {
   "cell_type": "code",
   "execution_count": null,
   "id": "accredited-tactics",
   "metadata": {},
   "outputs": [],
   "source": [
    "nums = [2, 7, 11, 15]\n",
    "target = 9\n",
    "\n",
    "def slow_2sum(x, target):\n",
    "    for i in range(len(x)):  # O(n)\n",
    "        k = target - x[i]    # O(1)\n",
    "        if (k in x) and (x[i] != k): # O(n)\n",
    "            return (x[i], k) # O(1) \n",
    "        \n",
    "# O(n^2)\n",
    "slow_2sum(nums, target)"
   ]
  },
  {
   "cell_type": "code",
   "execution_count": 25,
   "id": "center-society",
   "metadata": {},
   "outputs": [
    {
     "data": {
      "text/plain": [
       "(2, 7)"
      ]
     },
     "execution_count": 25,
     "metadata": {},
     "output_type": "execute_result"
    }
   ],
   "source": [
    "nums = [2, 7, 11, 15]\n",
    "target = 9\n",
    "\n",
    "def fast_2sum(x, target):\n",
    "    x_set = set(x) # O(n)\n",
    "    \n",
    "    for i in range(len(x)):  # O(n)\n",
    "        k = target - x[i]    # O(1)\n",
    "        if (k in x_set) and (x[i] != k): # O(1)\n",
    "            return (x[i], k) # O(1) \n",
    "        \n",
    "# O(n+n) = O(2n) = O(n)\n",
    "fast_2sum(nums, target)"
   ]
  },
  {
   "cell_type": "code",
   "execution_count": 32,
   "id": "computational-desktop",
   "metadata": {},
   "outputs": [
    {
     "data": {
      "text/plain": [
       "(0, 2)"
      ]
     },
     "execution_count": 32,
     "metadata": {},
     "output_type": "execute_result"
    }
   ],
   "source": [
    "nums = [2, 7, 2]\n",
    "target = 4\n",
    "\n",
    "def fast_2sum(x, target):\n",
    "    d = {}\n",
    "    for i in range(len(nums)):\n",
    "        k = target - x[i]\n",
    "        if k in d:\n",
    "            return (d[k], i)\n",
    "        d[x[i]] = i\n",
    "        \n",
    "# O(n)\n",
    "fast_2sum(nums, target)"
   ]
  },
  {
   "cell_type": "code",
   "execution_count": null,
   "id": "hearing-shadow",
   "metadata": {},
   "outputs": [],
   "source": []
  }
 ],
 "metadata": {
  "kernelspec": {
   "display_name": "Python 3",
   "language": "python",
   "name": "python3"
  },
  "language_info": {
   "codemirror_mode": {
    "name": "ipython",
    "version": 3
   },
   "file_extension": ".py",
   "mimetype": "text/x-python",
   "name": "python",
   "nbconvert_exporter": "python",
   "pygments_lexer": "ipython3",
   "version": "3.9.2"
  },
  "varInspector": {
   "cols": {
    "lenName": 16,
    "lenType": 16,
    "lenVar": 40
   },
   "kernels_config": {
    "python": {
     "delete_cmd_postfix": "",
     "delete_cmd_prefix": "del ",
     "library": "var_list.py",
     "varRefreshCmd": "print(var_dic_list())"
    },
    "r": {
     "delete_cmd_postfix": ") ",
     "delete_cmd_prefix": "rm(",
     "library": "var_list.r",
     "varRefreshCmd": "cat(var_dic_list()) "
    }
   },
   "types_to_exclude": [
    "module",
    "function",
    "builtin_function_or_method",
    "instance",
    "_Feature"
   ],
   "window_display": false
  }
 },
 "nbformat": 4,
 "nbformat_minor": 5
}
