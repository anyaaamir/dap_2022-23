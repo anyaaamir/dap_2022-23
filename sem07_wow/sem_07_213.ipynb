{
 "cells": [
  {
   "cell_type": "markdown",
   "id": "coated-linux",
   "metadata": {},
   "source": [
    "## План\n",
    "\n",
    "1. Поговорим про оценки\n",
    "2. Повторим конструкции (5-7 мин)\n",
    "3. Порешаем задачу с литкода \n",
    "4. Рассмотрим всякие приколы в питоне\n",
    "5. МСР"
   ]
  },
  {
   "cell_type": "markdown",
   "id": "crude-warehouse",
   "metadata": {},
   "source": [
    "## Структуры данных\n",
    "\n",
    "* Список\n",
    "* Кортеж\n",
    "* Множество\n",
    "* Словарь"
   ]
  },
  {
   "cell_type": "markdown",
   "id": "twelve-crazy",
   "metadata": {},
   "source": [
    "## Немного о сложностях"
   ]
  },
  {
   "cell_type": "code",
   "execution_count": 1,
   "id": "treated-harassment",
   "metadata": {},
   "outputs": [
    {
     "data": {
      "text/plain": [
       "True"
      ]
     },
     "execution_count": 1,
     "metadata": {},
     "output_type": "execute_result"
    }
   ],
   "source": [
    "x = [1, 2, 3, 4]\n",
    "\n",
    "3 in x # O(n)"
   ]
  },
  {
   "cell_type": "code",
   "execution_count": 5,
   "id": "processed-adjustment",
   "metadata": {},
   "outputs": [
    {
     "name": "stdout",
     "output_type": "stream",
     "text": [
      "{1, 2, 3, 4}\n"
     ]
    },
    {
     "data": {
      "text/plain": [
       "True"
      ]
     },
     "execution_count": 5,
     "metadata": {},
     "output_type": "execute_result"
    }
   ],
   "source": [
    "x = [1, 2, 3, 4, 4]\n",
    "\n",
    "x_set = set(x) # O(n)\n",
    "\n",
    "print(x_set)\n",
    "\n",
    "3 in x_set # O(1)"
   ]
  },
  {
   "cell_type": "code",
   "execution_count": 7,
   "id": "amazing-uganda",
   "metadata": {},
   "outputs": [
    {
     "data": {
      "text/plain": [
       "14"
      ]
     },
     "execution_count": 7,
     "metadata": {},
     "output_type": "execute_result"
    }
   ],
   "source": [
    "x = [1, 2, 3, 4, 4]\n",
    "\n",
    "sum(x) # O(n)\n",
    "\n",
    "\n",
    "#def my_sum(x):\n",
    "#    summa = 0\n",
    "#    for el in x:\n",
    "#        summa += el\n",
    "#    return summa"
   ]
  },
  {
   "cell_type": "code",
   "execution_count": 8,
   "id": "economic-annotation",
   "metadata": {},
   "outputs": [
    {
     "data": {
      "text/plain": [
       "5"
      ]
     },
     "execution_count": 8,
     "metadata": {},
     "output_type": "execute_result"
    }
   ],
   "source": [
    "x = [1, 2, 3, 4, 4]\n",
    "\n",
    "len(x) # O(1)"
   ]
  },
  {
   "cell_type": "markdown",
   "id": "comic-universal",
   "metadata": {},
   "source": [
    "## Задачку с литкода (2sum)"
   ]
  },
  {
   "cell_type": "code",
   "execution_count": 17,
   "id": "decimal-duncan",
   "metadata": {},
   "outputs": [
    {
     "data": {
      "text/plain": [
       "(3, 4)"
      ]
     },
     "execution_count": 17,
     "metadata": {},
     "output_type": "execute_result"
    }
   ],
   "source": [
    "x = [1, 100, 50, 40, 2] \n",
    "target = 42\n",
    "\n",
    "def slow_2sum(x, target):\n",
    "    for i in range(len(x)): # O(n)\n",
    "        for j in range(i+1, len(x)): # O(n)\n",
    "            if x[i] + x[j] == target: # O(1)\n",
    "                return (i, j)\n",
    "            \n",
    "\n",
    "slow_2sum(x, target)\n",
    "\n",
    "# O(n^2)"
   ]
  },
  {
   "cell_type": "code",
   "execution_count": 20,
   "id": "nutritional-plaza",
   "metadata": {},
   "outputs": [
    {
     "data": {
      "text/plain": [
       "(40, 2)"
      ]
     },
     "execution_count": 20,
     "metadata": {},
     "output_type": "execute_result"
    }
   ],
   "source": [
    "x = [1, 100, 50, 40, 2] \n",
    "target = 42\n",
    "\n",
    "def slow_2sum(x, target):\n",
    "    for i in range(len(x)): # O(n)\n",
    "        k = target - x[i] # O(1)\n",
    "        if k in x: # O(n)\n",
    "            return (x[i], k)\n",
    "        \n",
    "slow_2sum(x, target)\n",
    "\n",
    "# O(n^2)"
   ]
  },
  {
   "cell_type": "code",
   "execution_count": 22,
   "id": "civilian-buffalo",
   "metadata": {},
   "outputs": [
    {
     "data": {
      "text/plain": [
       "(40, 2)"
      ]
     },
     "execution_count": 22,
     "metadata": {},
     "output_type": "execute_result"
    }
   ],
   "source": [
    "x = [1, 100, 50, 40, 2, 2] \n",
    "target = 4\n",
    "\n",
    "def fast_2sum(x, target):\n",
    "    x_set = set(x)           # O(n)\n",
    "    \n",
    "    for i in range(len(x)): # O(n)\n",
    "        k = target - x[i]   # O(1)\n",
    "        if k in x_set:      # O(1)\n",
    "            return (x[i], k)\n",
    "        \n",
    "fast_2sum(x, target)\n",
    "\n",
    "# O(n + n) = O(2n) = O(n)\n",
    "\n"
   ]
  },
  {
   "cell_type": "code",
   "execution_count": null,
   "id": "presidential-rebound",
   "metadata": {},
   "outputs": [],
   "source": []
  }
 ],
 "metadata": {
  "kernelspec": {
   "display_name": "Python 3",
   "language": "python",
   "name": "python3"
  },
  "language_info": {
   "codemirror_mode": {
    "name": "ipython",
    "version": 3
   },
   "file_extension": ".py",
   "mimetype": "text/x-python",
   "name": "python",
   "nbconvert_exporter": "python",
   "pygments_lexer": "ipython3",
   "version": "3.9.2"
  },
  "varInspector": {
   "cols": {
    "lenName": 16,
    "lenType": 16,
    "lenVar": 40
   },
   "kernels_config": {
    "python": {
     "delete_cmd_postfix": "",
     "delete_cmd_prefix": "del ",
     "library": "var_list.py",
     "varRefreshCmd": "print(var_dic_list())"
    },
    "r": {
     "delete_cmd_postfix": ") ",
     "delete_cmd_prefix": "rm(",
     "library": "var_list.r",
     "varRefreshCmd": "cat(var_dic_list()) "
    }
   },
   "types_to_exclude": [
    "module",
    "function",
    "builtin_function_or_method",
    "instance",
    "_Feature"
   ],
   "window_display": false
  }
 },
 "nbformat": 4,
 "nbformat_minor": 5
}
