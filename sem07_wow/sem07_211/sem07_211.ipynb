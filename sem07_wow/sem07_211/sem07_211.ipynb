{
 "cells": [
  {
   "cell_type": "markdown",
   "id": "a48d5e87",
   "metadata": {},
   "source": [
    "# Семинар 7"
   ]
  },
  {
   "cell_type": "markdown",
   "id": "6fcce07d",
   "metadata": {},
   "source": [
    "### 1. Модуль os"
   ]
  },
  {
   "cell_type": "code",
   "execution_count": 1,
   "id": "6c5964f2",
   "metadata": {},
   "outputs": [],
   "source": [
    "import os"
   ]
  },
  {
   "cell_type": "code",
   "execution_count": 5,
   "id": "191c9332",
   "metadata": {},
   "outputs": [
    {
     "data": {
      "text/plain": [
       "['what_i_want_to_tell.ipynb',\n",
       " 'sem04_211.ipynb',\n",
       " 'dirty_ML',\n",
       " '.bash_history',\n",
       " '.config']"
      ]
     },
     "execution_count": 5,
     "metadata": {},
     "output_type": "execute_result"
    }
   ],
   "source": [
    "# !ls\n",
    "os.listdir()[:5]"
   ]
  },
  {
   "cell_type": "code",
   "execution_count": 8,
   "id": "1c92eb60",
   "metadata": {},
   "outputs": [
    {
     "data": {
      "text/plain": [
       "'/home/randomwalk'"
      ]
     },
     "execution_count": 8,
     "metadata": {},
     "output_type": "execute_result"
    }
   ],
   "source": [
    "# !pwd\n",
    "os.getcwd()"
   ]
  },
  {
   "cell_type": "code",
   "execution_count": 9,
   "id": "97b093db",
   "metadata": {},
   "outputs": [],
   "source": [
    "# os.mkdir('sem07_211')\n",
    "os.mkdir('/home/randomwalk/sem07_211')"
   ]
  },
  {
   "cell_type": "code",
   "execution_count": 10,
   "id": "18dc8172",
   "metadata": {},
   "outputs": [],
   "source": [
    "os.chdir('sem07_211')"
   ]
  },
  {
   "cell_type": "code",
   "execution_count": 11,
   "id": "1c6ceaa3",
   "metadata": {},
   "outputs": [
    {
     "data": {
      "text/plain": [
       "'/home/randomwalk/sem07_211'"
      ]
     },
     "execution_count": 11,
     "metadata": {},
     "output_type": "execute_result"
    }
   ],
   "source": [
    "os.getcwd()"
   ]
  },
  {
   "cell_type": "code",
   "execution_count": 12,
   "id": "d0b1e68f",
   "metadata": {},
   "outputs": [],
   "source": [
    "# !mv \n",
    "os.rename(\"/home/randomwalk/file_test.txt\", \n",
    "          \"/home/randomwalk/sem07_211/file.txt\")"
   ]
  },
  {
   "cell_type": "code",
   "execution_count": 13,
   "id": "fb300347",
   "metadata": {},
   "outputs": [
    {
     "data": {
      "text/plain": [
       "['file.txt']"
      ]
     },
     "execution_count": 13,
     "metadata": {},
     "output_type": "execute_result"
    }
   ],
   "source": [
    "os.listdir()"
   ]
  },
  {
   "cell_type": "code",
   "execution_count": 14,
   "id": "9fb5c2aa",
   "metadata": {},
   "outputs": [
    {
     "name": "stdout",
     "output_type": "stream",
     "text": [
      "ахаахах"
     ]
    }
   ],
   "source": [
    "!cat file.txt"
   ]
  },
  {
   "cell_type": "code",
   "execution_count": 17,
   "id": "f1be5898",
   "metadata": {},
   "outputs": [
    {
     "data": {
      "text/plain": [
       "['moder_quality_metrics_tragic.ipynb', 'ppilif_visual', 'ts_model.pickle']"
      ]
     },
     "execution_count": 17,
     "metadata": {},
     "output_type": "execute_result"
    }
   ],
   "source": [
    "os.listdir('../dirty_ML')[:3]"
   ]
  },
  {
   "cell_type": "code",
   "execution_count": 19,
   "id": "6b5018b7",
   "metadata": {},
   "outputs": [],
   "source": [
    "# !unzip cheating.zip"
   ]
  },
  {
   "cell_type": "markdown",
   "id": "a2ff0646",
   "metadata": {},
   "source": [
    "### 2. Текстовые файлы: .txt"
   ]
  },
  {
   "cell_type": "code",
   "execution_count": 24,
   "id": "d1bbf895",
   "metadata": {},
   "outputs": [],
   "source": [
    "# питон открывает файл\n",
    "f = open('file.txt')"
   ]
  },
  {
   "cell_type": "code",
   "execution_count": 25,
   "id": "c300a160",
   "metadata": {},
   "outputs": [
    {
     "data": {
      "text/plain": [
       "['ахаахах']"
      ]
     },
     "execution_count": 25,
     "metadata": {},
     "output_type": "execute_result"
    }
   ],
   "source": [
    "f.readlines()"
   ]
  },
  {
   "cell_type": "code",
   "execution_count": 26,
   "id": "19e4c89b",
   "metadata": {},
   "outputs": [
    {
     "data": {
      "text/plain": [
       "[]"
      ]
     },
     "execution_count": 26,
     "metadata": {},
     "output_type": "execute_result"
    }
   ],
   "source": [
    "f.readlines()"
   ]
  },
  {
   "cell_type": "code",
   "execution_count": 23,
   "id": "2440c8dc",
   "metadata": {},
   "outputs": [],
   "source": [
    "f.close()"
   ]
  },
  {
   "cell_type": "code",
   "execution_count": 27,
   "id": "0ccb70e6",
   "metadata": {},
   "outputs": [
    {
     "data": {
      "text/plain": [
       "['ахаахах']"
      ]
     },
     "execution_count": 27,
     "metadata": {},
     "output_type": "execute_result"
    }
   ],
   "source": [
    "with open('file.txt', 'r') as f:\n",
    "    a = f.readlines()\n",
    "a"
   ]
  },
  {
   "cell_type": "code",
   "execution_count": null,
   "id": "4b17595d",
   "metadata": {},
   "outputs": [],
   "source": [
    "# r - read \n",
    "# w - write\n",
    "# a - append "
   ]
  },
  {
   "cell_type": "code",
   "execution_count": 29,
   "id": "6683a41f",
   "metadata": {},
   "outputs": [
    {
     "name": "stdout",
     "output_type": "stream",
     "text": [
      "ахаха=азащзазащ"
     ]
    }
   ],
   "source": [
    "# w - перезапись файла\n",
    "with open('file.txt', 'w') as f:\n",
    "    f.write('ахаха=азащзазащ')\n",
    "\n",
    "!cat file.txt"
   ]
  },
  {
   "cell_type": "code",
   "execution_count": 33,
   "id": "64c2950c",
   "metadata": {},
   "outputs": [
    {
     "name": "stdout",
     "output_type": "stream",
     "text": [
      "ахаха=азащзазащахах\r\n",
      "ахах\r\n",
      "ахах\r\n",
      "ахах"
     ]
    }
   ],
   "source": [
    "with open('file.txt', 'a') as f:\n",
    "    f.write('\\nахах')\n",
    "\n",
    "!cat file.txt"
   ]
  },
  {
   "cell_type": "code",
   "execution_count": null,
   "id": "eeacdb8f",
   "metadata": {},
   "outputs": [],
   "source": [
    "# в контесте вход хранится в файле 'input.txt'\n",
    "# ответы можно записывать в фпйл 'output.txt'"
   ]
  },
  {
   "cell_type": "code",
   "execution_count": 34,
   "id": "07b6f3be",
   "metadata": {},
   "outputs": [
    {
     "name": "stdout",
     "output_type": "stream",
     "text": [
      "ахаха=азащзазащахах\r\n",
      "ахах\r\n",
      "ахах\r\n",
      "ахахlkwfjfwejfwel\r\n",
      "ахаха\r\n",
      "Я фанатею"
     ]
    }
   ],
   "source": [
    "x = ['lkwfjfwejfwel', 'ахаха', 'Я фанатею']\n",
    "\n",
    "with open('file.txt', 'a') as f:\n",
    "    f.writelines('\\n'.join(x))\n",
    "    \n",
    "!cat file.txt"
   ]
  },
  {
   "cell_type": "markdown",
   "id": "d2bbf1f6",
   "metadata": {},
   "source": [
    "Немного инфы про запись в файлы есть [в семинаре о функциях](https://github.com/hse-econ-data-science/dap_2021_spring/blob/main/sem03_functions/sem03_functions.ipynb)"
   ]
  },
  {
   "cell_type": "markdown",
   "id": "cf906b3a",
   "metadata": {},
   "source": [
    "__Упражнение 1:__ найдём тех кто скатал!"
   ]
  },
  {
   "cell_type": "code",
   "execution_count": 45,
   "id": "1b6bf071",
   "metadata": {},
   "outputs": [
    {
     "name": "stdout",
     "output_type": "stream",
     "text": [
      "31.py 23.py\n",
      "22.py 29.py\n",
      "9.py 10.py\n",
      "7.py 8.py\n",
      "4.py 5.py\n",
      "4.py 6.py\n",
      "5.py 6.py\n",
      "25.py 26.py\n",
      "1.py 2.py\n"
     ]
    }
   ],
   "source": [
    "files = [item for item in os.listdir(\"cheating/\") if item[0] != '.']\n",
    "\n",
    "def read_file(path):\n",
    "    f = open(path)\n",
    "    code = f.readlines()\n",
    "    f.close()\n",
    "    code = ''.join(code)\n",
    "    return code\n",
    "\n",
    "for i in range(len(files)):\n",
    "    code1 = read_file(\"cheating/\" + files[i])\n",
    "    for j in range(i + 1, len(files)):\n",
    "\n",
    "        code2 = read_file(\"cheating/\" + files[j])\n",
    "        \n",
    "        if code1 == code2:\n",
    "            print(files[i], files[j])\n",
    "        "
   ]
  },
  {
   "cell_type": "code",
   "execution_count": 48,
   "id": "4ae2a243",
   "metadata": {},
   "outputs": [
    {
     "name": "stdout",
     "output_type": "stream",
     "text": [
      "\r\n",
      "\r\n",
      "\r\n",
      "\r\n",
      "\r\n",
      "\r\n",
      "\r\n",
      "\r\n",
      "\r\n",
      "\r\n",
      "\r\n",
      "\r\n",
      "\r\n",
      "\r\n",
      "\r\n",
      "\r\n",
      "\r\n",
      "\r\n",
      "\r\n",
      "\r\n",
      "\r\n",
      "\r\n",
      "\r\n"
     ]
    }
   ],
   "source": [
    "!cat cheating/4.py"
   ]
  },
  {
   "cell_type": "code",
   "execution_count": 49,
   "id": "4d310780",
   "metadata": {
    "scrolled": false
   },
   "outputs": [
    {
     "name": "stdout",
     "output_type": "stream",
     "text": [
      "\r\n",
      "\r\n",
      "\r\n",
      "\r\n",
      "\r\n",
      "\r\n",
      "\r\n",
      "\r\n",
      "\r\n",
      "\r\n",
      "\r\n",
      "\r\n",
      "\r\n",
      "\r\n",
      "\r\n",
      "\r\n",
      "\r\n",
      "\r\n",
      "\r\n",
      "\r\n",
      "\r\n",
      "\r\n",
      "\r\n"
     ]
    }
   ],
   "source": [
    "!cat cheating/5.py"
   ]
  },
  {
   "cell_type": "markdown",
   "id": "404c48a6",
   "metadata": {},
   "source": [
    "## 3. JSON"
   ]
  },
  {
   "cell_type": "code",
   "execution_count": null,
   "id": "7c22c719",
   "metadata": {},
   "outputs": [],
   "source": [
    "# С точки зрения питона, json это обычный словарь\n",
    "# но на этот словарь накладывается немного ограничений\n",
    "\n",
    "# - кавычки могут быть только двойными\n",
    "# - какие-то приколы с пробелами\n",
    "# - какие-то приколы с запятыми"
   ]
  },
  {
   "cell_type": "code",
   "execution_count": 50,
   "id": "47977ae9",
   "metadata": {},
   "outputs": [],
   "source": [
    "data = {\n",
    "    \"firstName\": \"Jane\",\n",
    "    \"lastName\": \"Doe\",\n",
    "    \"hobbies\": [\"running\", \"sky diving\", \"singing\"],\n",
    "    \"age\": 35,\n",
    "    'children': [\n",
    "        {\n",
    "            \"firstName\": \"Alice\",\n",
    "            \"age\": 6,\n",
    "        },\n",
    "    ]\n",
    "}"
   ]
  },
  {
   "cell_type": "code",
   "execution_count": 53,
   "id": "d4f19a6a",
   "metadata": {},
   "outputs": [
    {
     "data": {
      "text/plain": [
       "'{\"firstName\": \"Jane\", \"lastName\": \"Doe\", \"hobbies\": [\"running\", \"sky diving\", \"singing\"], \"age\": 35, \"children\": [{\"firstName\": \"Alice\", \"age\": 6}]}'"
      ]
     },
     "execution_count": 53,
     "metadata": {},
     "output_type": "execute_result"
    }
   ],
   "source": [
    "import json\n",
    "s = json.dumps(data)\n",
    "s"
   ]
  },
  {
   "cell_type": "code",
   "execution_count": 54,
   "id": "9513fb22",
   "metadata": {},
   "outputs": [
    {
     "data": {
      "text/plain": [
       "{'firstName': 'Jane',\n",
       " 'lastName': 'Doe',\n",
       " 'hobbies': ['running', 'sky diving', 'singing'],\n",
       " 'age': 35,\n",
       " 'children': [{'firstName': 'Alice', 'age': 6}]}"
      ]
     },
     "execution_count": 54,
     "metadata": {},
     "output_type": "execute_result"
    }
   ],
   "source": [
    "json.loads(s)"
   ]
  },
  {
   "cell_type": "code",
   "execution_count": 55,
   "id": "db6364a2",
   "metadata": {},
   "outputs": [],
   "source": [
    "with open(\"markup.json\", \"r\") as f:\n",
    "    x = json.load(f)"
   ]
  },
  {
   "cell_type": "code",
   "execution_count": 58,
   "id": "b54512a3",
   "metadata": {},
   "outputs": [
    {
     "data": {
      "text/plain": [
       "3000"
      ]
     },
     "execution_count": 58,
     "metadata": {},
     "output_type": "execute_result"
    }
   ],
   "source": [
    "len(x)"
   ]
  },
  {
   "cell_type": "code",
   "execution_count": 59,
   "id": "276bb6ae",
   "metadata": {},
   "outputs": [
    {
     "data": {
      "text/plain": [
       "{'inputValues': {'id': 4, 'version': 1},\n",
       " 'workerId': 43,\n",
       " 'taskId': 1,\n",
       " 'outputValues': {'result': 'ok'}}"
      ]
     },
     "execution_count": 59,
     "metadata": {},
     "output_type": "execute_result"
    }
   ],
   "source": [
    "x[10]"
   ]
  },
  {
   "cell_type": "markdown",
   "id": "d8d9eec8",
   "metadata": {},
   "source": [
    "__Упражнение 2:__ посчитать сколько каких веридктов встречается в данных"
   ]
  },
  {
   "cell_type": "code",
   "execution_count": 62,
   "id": "296534f2",
   "metadata": {},
   "outputs": [
    {
     "data": {
      "text/plain": [
       "Counter({'ok': 1448, 'local': 543, 'violence': 508, 'federal': 501})"
      ]
     },
     "execution_count": 62,
     "metadata": {},
     "output_type": "execute_result"
    }
   ],
   "source": [
    "from collections import Counter\n",
    "verdicts = [item['outputValues']['result'] for item in x]\n",
    "cnt = Counter(verdicts)\n",
    "cnt"
   ]
  },
  {
   "cell_type": "code",
   "execution_count": 64,
   "id": "30cc5d6b",
   "metadata": {},
   "outputs": [
    {
     "data": {
      "text/plain": [
       "[('ok', 1448), ('local', 543), ('violence', 508), ('federal', 501)]"
      ]
     },
     "execution_count": 64,
     "metadata": {},
     "output_type": "execute_result"
    }
   ],
   "source": [
    "cnt.most_common()"
   ]
  },
  {
   "cell_type": "markdown",
   "id": "05fd6cbb",
   "metadata": {},
   "source": [
    "- [Введение в json](https://python-scripts.com/json)"
   ]
  },
  {
   "cell_type": "markdown",
   "id": "abd40054",
   "metadata": {},
   "source": [
    "## 4. Pickle"
   ]
  },
  {
   "cell_type": "markdown",
   "id": "966ae0bc",
   "metadata": {},
   "source": [
    "- [Пикл для чайников](https://pythonworld.ru/moduli/modul-pickle.html)"
   ]
  },
  {
   "cell_type": "code",
   "execution_count": 65,
   "id": "66bca287",
   "metadata": {},
   "outputs": [],
   "source": [
    "import pickle"
   ]
  },
  {
   "cell_type": "code",
   "execution_count": 66,
   "id": "c4d19881",
   "metadata": {},
   "outputs": [],
   "source": [
    "x = [1, 2, 3, 4, 5]\n",
    "\n",
    "with open(\"lst.pickle\", \"wb\") as f:\n",
    "    pickle.dump(x, f)"
   ]
  },
  {
   "cell_type": "code",
   "execution_count": 67,
   "id": "8f38153c",
   "metadata": {},
   "outputs": [
    {
     "name": "stdout",
     "output_type": "stream",
     "text": [
      "�\u0003]q\u0000(K\u0001K\u0002K\u0003K\u0004K\u0005e."
     ]
    }
   ],
   "source": [
    "!cat lst.pickle"
   ]
  },
  {
   "cell_type": "code",
   "execution_count": 68,
   "id": "72b8bff6",
   "metadata": {},
   "outputs": [
    {
     "data": {
      "text/plain": [
       "[1, 2, 3, 4, 5]"
      ]
     },
     "execution_count": 68,
     "metadata": {},
     "output_type": "execute_result"
    }
   ],
   "source": [
    "with open(\"lst.pickle\", \"rb\") as f:\n",
    "    a = pickle.load(f)\n",
    "a"
   ]
  },
  {
   "cell_type": "code",
   "execution_count": 69,
   "id": "0ba3df3b",
   "metadata": {},
   "outputs": [],
   "source": [
    "# Так лучше не делать \n",
    "\n",
    "def g(x):\n",
    "    return x**2\n",
    "\n",
    "with open(\"function_g.pickle\", \"wb\") as f:\n",
    "    pickle.dump(g, f)"
   ]
  },
  {
   "cell_type": "code",
   "execution_count": 71,
   "id": "d8097505",
   "metadata": {},
   "outputs": [],
   "source": [
    "with open(\"function_g.pickle\", \"rb\") as f:\n",
    "    h = pickle.load(f)"
   ]
  },
  {
   "cell_type": "code",
   "execution_count": 72,
   "id": "c6c05efe",
   "metadata": {},
   "outputs": [
    {
     "data": {
      "text/plain": [
       "9801"
      ]
     },
     "execution_count": 72,
     "metadata": {},
     "output_type": "execute_result"
    }
   ],
   "source": [
    "h(99)"
   ]
  },
  {
   "cell_type": "code",
   "execution_count": null,
   "id": "95d9cd04",
   "metadata": {},
   "outputs": [],
   "source": [
    "# Можно использовать pickle чтобы сохранять модели обученные в ML "
   ]
  },
  {
   "cell_type": "markdown",
   "id": "f631f381",
   "metadata": {},
   "source": [
    "## 5. Таблицы"
   ]
  },
  {
   "cell_type": "code",
   "execution_count": null,
   "id": "e6e8412d",
   "metadata": {},
   "outputs": [],
   "source": [
    "# .csv .tsv"
   ]
  },
  {
   "cell_type": "code",
   "execution_count": 74,
   "id": "15cb285d",
   "metadata": {},
   "outputs": [
    {
     "data": {
      "text/html": [
       "<div>\n",
       "<style scoped>\n",
       "    .dataframe tbody tr th:only-of-type {\n",
       "        vertical-align: middle;\n",
       "    }\n",
       "\n",
       "    .dataframe tbody tr th {\n",
       "        vertical-align: top;\n",
       "    }\n",
       "\n",
       "    .dataframe thead th {\n",
       "        text-align: right;\n",
       "    }\n",
       "</style>\n",
       "<table border=\"1\" class=\"dataframe\">\n",
       "  <thead>\n",
       "    <tr style=\"text-align: right;\">\n",
       "      <th></th>\n",
       "      <th>fio</th>\n",
       "      <th>login</th>\n",
       "      <th>group</th>\n",
       "      <th>email</th>\n",
       "      <th>1</th>\n",
       "      <th>2</th>\n",
       "      <th>3</th>\n",
       "      <th>4</th>\n",
       "      <th>ДЗ итог</th>\n",
       "      <th>1.1</th>\n",
       "      <th>...</th>\n",
       "      <th>5</th>\n",
       "      <th>6</th>\n",
       "      <th>МСР итог</th>\n",
       "      <th>1.2</th>\n",
       "      <th>2.2</th>\n",
       "      <th>3.2</th>\n",
       "      <th>БСР итог</th>\n",
       "      <th>Итог</th>\n",
       "      <th>Итог округл</th>\n",
       "      <th>Проверяющий ассистент</th>\n",
       "    </tr>\n",
       "  </thead>\n",
       "  <tbody>\n",
       "    <tr>\n",
       "      <th>0</th>\n",
       "      <td>Новицкая Алина Дмитриевна</td>\n",
       "      <td>dap_econ_2022_358</td>\n",
       "      <td>БЭК196</td>\n",
       "      <td>adnovitskaya@edu.hse.ru</td>\n",
       "      <td>11.0</td>\n",
       "      <td>NaN</td>\n",
       "      <td>NaN</td>\n",
       "      <td>NaN</td>\n",
       "      <td>2.8</td>\n",
       "      <td>NaN</td>\n",
       "      <td>...</td>\n",
       "      <td>NaN</td>\n",
       "      <td>NaN</td>\n",
       "      <td>2.0</td>\n",
       "      <td>9.0</td>\n",
       "      <td>NaN</td>\n",
       "      <td>NaN</td>\n",
       "      <td>3.0</td>\n",
       "      <td>2.78</td>\n",
       "      <td>3</td>\n",
       "      <td>NaN</td>\n",
       "    </tr>\n",
       "    <tr>\n",
       "      <th>1</th>\n",
       "      <td>Мунхтур Эгшиглэн</td>\n",
       "      <td>dap_econ_2022_359</td>\n",
       "      <td>БЭК197</td>\n",
       "      <td>emunkhtur@edu.hse.ru</td>\n",
       "      <td>2.0</td>\n",
       "      <td>NaN</td>\n",
       "      <td>NaN</td>\n",
       "      <td>NaN</td>\n",
       "      <td>0.5</td>\n",
       "      <td>NaN</td>\n",
       "      <td>...</td>\n",
       "      <td>NaN</td>\n",
       "      <td>NaN</td>\n",
       "      <td>0.0</td>\n",
       "      <td>NaN</td>\n",
       "      <td>NaN</td>\n",
       "      <td>NaN</td>\n",
       "      <td>0.0</td>\n",
       "      <td>0.25</td>\n",
       "      <td>0</td>\n",
       "      <td>NaN</td>\n",
       "    </tr>\n",
       "    <tr>\n",
       "      <th>2</th>\n",
       "      <td>Майданов Бекнур</td>\n",
       "      <td>dap_econ_2022_360</td>\n",
       "      <td>БЭК198</td>\n",
       "      <td>bmaydanov@edu.hse.ru</td>\n",
       "      <td>11.0</td>\n",
       "      <td>NaN</td>\n",
       "      <td>NaN</td>\n",
       "      <td>NaN</td>\n",
       "      <td>2.8</td>\n",
       "      <td>NaN</td>\n",
       "      <td>...</td>\n",
       "      <td>NaN</td>\n",
       "      <td>NaN</td>\n",
       "      <td>0.0</td>\n",
       "      <td>0.0</td>\n",
       "      <td>NaN</td>\n",
       "      <td>NaN</td>\n",
       "      <td>0.0</td>\n",
       "      <td>1.38</td>\n",
       "      <td>1</td>\n",
       "      <td>NaN</td>\n",
       "    </tr>\n",
       "    <tr>\n",
       "      <th>3</th>\n",
       "      <td>Мукамбеков Бектур</td>\n",
       "      <td>dap_econ_2022_361</td>\n",
       "      <td>БЭК199</td>\n",
       "      <td>bmukambekov@edu.hse.ru</td>\n",
       "      <td>11.0</td>\n",
       "      <td>NaN</td>\n",
       "      <td>NaN</td>\n",
       "      <td>NaN</td>\n",
       "      <td>2.8</td>\n",
       "      <td>NaN</td>\n",
       "      <td>...</td>\n",
       "      <td>NaN</td>\n",
       "      <td>NaN</td>\n",
       "      <td>0.0</td>\n",
       "      <td>10.0</td>\n",
       "      <td>NaN</td>\n",
       "      <td>NaN</td>\n",
       "      <td>3.3</td>\n",
       "      <td>2.71</td>\n",
       "      <td>3</td>\n",
       "      <td>NaN</td>\n",
       "    </tr>\n",
       "    <tr>\n",
       "      <th>4</th>\n",
       "      <td>Цветкова Алёна Алексеевна</td>\n",
       "      <td>dap_econ_2022_353</td>\n",
       "      <td>БЭК2011</td>\n",
       "      <td>aatsvetkova_3@edu.hse.ru</td>\n",
       "      <td>11.0</td>\n",
       "      <td>NaN</td>\n",
       "      <td>NaN</td>\n",
       "      <td>NaN</td>\n",
       "      <td>2.8</td>\n",
       "      <td>10.0</td>\n",
       "      <td>...</td>\n",
       "      <td>NaN</td>\n",
       "      <td>NaN</td>\n",
       "      <td>3.3</td>\n",
       "      <td>10.0</td>\n",
       "      <td>NaN</td>\n",
       "      <td>NaN</td>\n",
       "      <td>3.3</td>\n",
       "      <td>3.04</td>\n",
       "      <td>3</td>\n",
       "      <td>NaN</td>\n",
       "    </tr>\n",
       "  </tbody>\n",
       "</table>\n",
       "<p>5 rows × 23 columns</p>\n",
       "</div>"
      ],
      "text/plain": [
       "                         fio              login    group  \\\n",
       "0  Новицкая Алина Дмитриевна  dap_econ_2022_358   БЭК196   \n",
       "1           Мунхтур Эгшиглэн  dap_econ_2022_359   БЭК197   \n",
       "2            Майданов Бекнур  dap_econ_2022_360   БЭК198   \n",
       "3          Мукамбеков Бектур  dap_econ_2022_361   БЭК199   \n",
       "4  Цветкова Алёна Алексеевна  dap_econ_2022_353  БЭК2011   \n",
       "\n",
       "                      email     1   2   3   4  ДЗ итог   1.1  ...   5   6  \\\n",
       "0   adnovitskaya@edu.hse.ru  11.0 NaN NaN NaN      2.8   NaN  ... NaN NaN   \n",
       "1      emunkhtur@edu.hse.ru   2.0 NaN NaN NaN      0.5   NaN  ... NaN NaN   \n",
       "2      bmaydanov@edu.hse.ru  11.0 NaN NaN NaN      2.8   NaN  ... NaN NaN   \n",
       "3    bmukambekov@edu.hse.ru  11.0 NaN NaN NaN      2.8   NaN  ... NaN NaN   \n",
       "4  aatsvetkova_3@edu.hse.ru  11.0 NaN NaN NaN      2.8  10.0  ... NaN NaN   \n",
       "\n",
       "   МСР итог   1.2  2.2  3.2  БСР итог  Итог  Итог округл  \\\n",
       "0       2.0   9.0  NaN  NaN       3.0  2.78            3   \n",
       "1       0.0   NaN  NaN  NaN       0.0  0.25            0   \n",
       "2       0.0   0.0  NaN  NaN       0.0  1.38            1   \n",
       "3       0.0  10.0  NaN  NaN       3.3  2.71            3   \n",
       "4       3.3  10.0  NaN  NaN       3.3  3.04            3   \n",
       "\n",
       "   Проверяющий ассистент  \n",
       "0                    NaN  \n",
       "1                    NaN  \n",
       "2                    NaN  \n",
       "3                    NaN  \n",
       "4                    NaN  \n",
       "\n",
       "[5 rows x 23 columns]"
      ]
     },
     "execution_count": 74,
     "metadata": {},
     "output_type": "execute_result"
    }
   ],
   "source": [
    "import pandas as pd\n",
    "df = pd.read_csv('marks.tsv', sep='\\t')\n",
    "df.head()"
   ]
  },
  {
   "cell_type": "code",
   "execution_count": 76,
   "id": "b2b6a826",
   "metadata": {},
   "outputs": [
    {
     "data": {
      "text/plain": [
       "RangeIndex(start=0, stop=34, step=1)"
      ]
     },
     "execution_count": 76,
     "metadata": {},
     "output_type": "execute_result"
    }
   ],
   "source": [
    "df['fio'].index"
   ]
  },
  {
   "cell_type": "code",
   "execution_count": 78,
   "id": "5a4181bf",
   "metadata": {},
   "outputs": [
    {
     "data": {
      "text/plain": [
       "['Алина',\n",
       " 'Эгшиглэн',\n",
       " 'Бекнур',\n",
       " 'Бектур',\n",
       " 'Алёна',\n",
       " 'Мария',\n",
       " 'Владислав',\n",
       " 'Шохрух',\n",
       " 'Артём',\n",
       " 'Эрнест',\n",
       " 'Егор',\n",
       " 'Даниил',\n",
       " 'Максим',\n",
       " 'Тимур',\n",
       " 'Арсений',\n",
       " 'Игорь',\n",
       " 'Михаил',\n",
       " 'Екатерина',\n",
       " 'Тимур',\n",
       " 'Михаил',\n",
       " 'Ульяна',\n",
       " 'Карина',\n",
       " 'Серафима',\n",
       " 'Даниил',\n",
       " 'Андрей',\n",
       " 'Владимир',\n",
       " 'Оксана',\n",
       " 'Кирилл',\n",
       " 'Арман',\n",
       " 'Артём',\n",
       " 'Анастасия',\n",
       " 'Иван',\n",
       " 'Мария',\n",
       " 'Эльмира']"
      ]
     },
     "execution_count": 78,
     "metadata": {},
     "output_type": "execute_result"
    }
   ],
   "source": [
    "# можно найти все имена\n",
    "[item.split(' ')[1] for item in df['fio'].values]"
   ]
  },
  {
   "cell_type": "markdown",
   "id": "7e890a09",
   "metadata": {},
   "source": [
    "В этом семестре нам нельзя использовать пандас :(  Дурацкий независимый экзамен запрещеает нам это. Будь он тысячу раз проклят! "
   ]
  },
  {
   "cell_type": "markdown",
   "id": "609f2fd4",
   "metadata": {},
   "source": [
    "__Упражнение 3:__ \n",
    "\n",
    "Посчитать среднюю оценку по всем БСР которые прошли"
   ]
  },
  {
   "cell_type": "code",
   "execution_count": 87,
   "id": "1f833651",
   "metadata": {},
   "outputs": [
    {
     "data": {
      "text/plain": [
       "1.9588235294117646"
      ]
     },
     "execution_count": 87,
     "metadata": {},
     "output_type": "execute_result"
    }
   ],
   "source": [
    "ans = []\n",
    "\n",
    "with open('marks.tsv', 'r') as f:\n",
    "    s = f.readline()\n",
    "    indx = s.split('\\t').index('БСР итог')\n",
    "    while True:\n",
    "        s = f.readline()\n",
    "        if s == '':\n",
    "            break\n",
    "        row = s.split('\\t')[indx]\n",
    "        ans.append(float(row))\n",
    "        \n",
    "sum(ans)/len(ans)"
   ]
  },
  {
   "cell_type": "markdown",
   "id": "cd6f5b3b",
   "metadata": {},
   "source": [
    "## 6. Всякая фигня на которую осталось время"
   ]
  },
  {
   "cell_type": "code",
   "execution_count": 88,
   "id": "acf1d4f9",
   "metadata": {},
   "outputs": [
    {
     "ename": "ZeroDivisionError",
     "evalue": "division by zero",
     "output_type": "error",
     "traceback": [
      "\u001b[0;31m---------------------------------------------------------------------------\u001b[0m",
      "\u001b[0;31mZeroDivisionError\u001b[0m                         Traceback (most recent call last)",
      "\u001b[0;32m<ipython-input-88-c76f63422742>\u001b[0m in \u001b[0;36m<module>\u001b[0;34m\u001b[0m\n\u001b[1;32m      2\u001b[0m \u001b[0mb\u001b[0m \u001b[0;34m=\u001b[0m \u001b[0;36m0\u001b[0m\u001b[0;34m\u001b[0m\u001b[0;34m\u001b[0m\u001b[0m\n\u001b[1;32m      3\u001b[0m \u001b[0;34m\u001b[0m\u001b[0m\n\u001b[0;32m----> 4\u001b[0;31m \u001b[0ma\u001b[0m \u001b[0;34m/\u001b[0m \u001b[0mb\u001b[0m\u001b[0;34m\u001b[0m\u001b[0;34m\u001b[0m\u001b[0m\n\u001b[0m",
      "\u001b[0;31mZeroDivisionError\u001b[0m: division by zero"
     ]
    }
   ],
   "source": [
    "a = 5\n",
    "b = 0\n",
    "\n",
    "a / b"
   ]
  },
  {
   "cell_type": "code",
   "execution_count": 90,
   "id": "759c3207",
   "metadata": {},
   "outputs": [
    {
     "data": {
      "text/plain": [
       "type"
      ]
     },
     "execution_count": 90,
     "metadata": {},
     "output_type": "execute_result"
    }
   ],
   "source": [
    "type(ZeroDivisionError)"
   ]
  },
  {
   "cell_type": "code",
   "execution_count": 92,
   "id": "2cee101c",
   "metadata": {},
   "outputs": [
    {
     "name": "stdout",
     "output_type": "stream",
     "text": [
      "ты чё пёс, собрался на ноль делить?\n"
     ]
    }
   ],
   "source": [
    "a = 5\n",
    "b = 0\n",
    "\n",
    "try:\n",
    "    print(a / b)\n",
    "except:\n",
    "    print('ты чё пёс, собрался на ноль делить?')"
   ]
  },
  {
   "cell_type": "code",
   "execution_count": 95,
   "id": "427a0df3",
   "metadata": {},
   "outputs": [
    {
     "ename": "TypeError",
     "evalue": "unsupported operand type(s) for /: 'int' and 'str'",
     "output_type": "error",
     "traceback": [
      "\u001b[0;31m---------------------------------------------------------------------------\u001b[0m",
      "\u001b[0;31mTypeError\u001b[0m                                 Traceback (most recent call last)",
      "\u001b[0;32m<ipython-input-95-be63a9e135ef>\u001b[0m in \u001b[0;36m<module>\u001b[0;34m\u001b[0m\n\u001b[1;32m      3\u001b[0m \u001b[0;34m\u001b[0m\u001b[0m\n\u001b[1;32m      4\u001b[0m \u001b[0;32mtry\u001b[0m\u001b[0;34m:\u001b[0m\u001b[0;34m\u001b[0m\u001b[0;34m\u001b[0m\u001b[0m\n\u001b[0;32m----> 5\u001b[0;31m     \u001b[0mprint\u001b[0m\u001b[0;34m(\u001b[0m\u001b[0ma\u001b[0m \u001b[0;34m/\u001b[0m \u001b[0mb\u001b[0m\u001b[0;34m)\u001b[0m\u001b[0;34m\u001b[0m\u001b[0;34m\u001b[0m\u001b[0m\n\u001b[0m\u001b[1;32m      6\u001b[0m \u001b[0;32mexcept\u001b[0m \u001b[0mZeroDivisionError\u001b[0m\u001b[0;34m:\u001b[0m\u001b[0;34m\u001b[0m\u001b[0;34m\u001b[0m\u001b[0m\n\u001b[1;32m      7\u001b[0m     \u001b[0mprint\u001b[0m\u001b[0;34m(\u001b[0m\u001b[0;34m'ты чё пёс, собрался на ноль делить?'\u001b[0m\u001b[0;34m)\u001b[0m\u001b[0;34m\u001b[0m\u001b[0;34m\u001b[0m\u001b[0m\n",
      "\u001b[0;31mTypeError\u001b[0m: unsupported operand type(s) for /: 'int' and 'str'"
     ]
    }
   ],
   "source": [
    "a = 5\n",
    "b = '0'\n",
    "\n",
    "try:\n",
    "    print(a / b)\n",
    "except ZeroDivisionError:\n",
    "    print('ты чё пёс, собрался на ноль делить?')"
   ]
  },
  {
   "cell_type": "markdown",
   "id": "344761b7",
   "metadata": {},
   "source": [
    "Подробное описание какими бывают ошибки:\n",
    "\n",
    "- https://pythonru.com/osnovy/znachenija-iskljuchenij-i-oshibok-v-python"
   ]
  },
  {
   "cell_type": "code",
   "execution_count": 99,
   "id": "43d6fec7",
   "metadata": {},
   "outputs": [
    {
     "ename": "ValueError",
     "evalue": "При выполнении команды возникла ошибка",
     "output_type": "error",
     "traceback": [
      "\u001b[0;31m---------------------------------------------------------------------------\u001b[0m",
      "\u001b[0;31mValueError\u001b[0m                                Traceback (most recent call last)",
      "\u001b[0;32m<ipython-input-99-6748919637ec>\u001b[0m in \u001b[0;36m<module>\u001b[0;34m\u001b[0m\n\u001b[1;32m      1\u001b[0m \u001b[0mb\u001b[0m \u001b[0;34m=\u001b[0m \u001b[0;36m0\u001b[0m\u001b[0;34m\u001b[0m\u001b[0;34m\u001b[0m\u001b[0m\n\u001b[1;32m      2\u001b[0m \u001b[0;32mif\u001b[0m \u001b[0mb\u001b[0m \u001b[0;34m==\u001b[0m \u001b[0;36m0\u001b[0m\u001b[0;34m:\u001b[0m\u001b[0;34m\u001b[0m\u001b[0;34m\u001b[0m\u001b[0m\n\u001b[0;32m----> 3\u001b[0;31m     \u001b[0;32mraise\u001b[0m \u001b[0mValueError\u001b[0m\u001b[0;34m(\u001b[0m\u001b[0;34m\"При выполнении команды возникла ошибка\"\u001b[0m\u001b[0;34m)\u001b[0m\u001b[0;34m\u001b[0m\u001b[0;34m\u001b[0m\u001b[0m\n\u001b[0m",
      "\u001b[0;31mValueError\u001b[0m: При выполнении команды возникла ошибка"
     ]
    }
   ],
   "source": [
    "b = 0\n",
    "\n",
    "if b == 0:\n",
    "    raise ValueError(\"При выполнении команды возникла ошибка\")"
   ]
  }
 ],
 "metadata": {
  "kernelspec": {
   "display_name": "Python 3",
   "language": "python",
   "name": "python3"
  },
  "language_info": {
   "codemirror_mode": {
    "name": "ipython",
    "version": 3
   },
   "file_extension": ".py",
   "mimetype": "text/x-python",
   "name": "python",
   "nbconvert_exporter": "python",
   "pygments_lexer": "ipython3",
   "version": "3.6.9"
  }
 },
 "nbformat": 4,
 "nbformat_minor": 5
}
